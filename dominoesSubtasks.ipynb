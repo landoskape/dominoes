{
 "cells": [
  {
   "cell_type": "code",
   "execution_count": 2,
   "id": "cfc1fa0d-ae36-46df-aa4e-6c838e35dcc3",
   "metadata": {},
   "outputs": [],
   "source": [
    "# This notebook is used for developing networks for subtasks of the main one. "
   ]
  },
  {
   "cell_type": "code",
   "execution_count": 201,
   "id": "69ed9ab7-7d09-4a29-9dcb-c76b3d0dc4ba",
   "metadata": {},
   "outputs": [
    {
     "name": "stdout",
     "output_type": "stream",
     "text": [
      "Using device: cuda\n"
     ]
    }
   ],
   "source": [
    "%reload_ext autoreload\n",
    "%autoreload 2\n",
    "\n",
    "from copy import copy\n",
    "import random\n",
    "import numpy as np\n",
    "import matplotlib.pyplot as plt\n",
    "import dominoesGameplay as dg\n",
    "import dominoesAgents as da\n",
    "import dominoesNetworks as dn\n",
    "import dominoesFunctions as df\n",
    "from tqdm import tqdm\n",
    "import torch\n",
    "import torchvision.transforms as transforms\n",
    "import torch.nn as nn\n",
    "import torch.nn.functional as F\n",
    "\n",
    "device = \"cuda\" if torch.cuda.is_available() else \"cpu\"\n",
    "print(f\"Using device: {device}\")"
   ]
  },
  {
   "cell_type": "code",
   "execution_count": 3,
   "id": "d1f13a00-a5ce-4054-9ef0-5e706b3c17fb",
   "metadata": {},
   "outputs": [],
   "source": [
    "# Sub Task 1: Train a network to predict self-hand value and other hand value based on the tokens in the hand"
   ]
  },
  {
   "cell_type": "code",
   "execution_count": 320,
   "id": "bad68700-a282-4b97-9cdf-24d2342dcae2",
   "metadata": {},
   "outputs": [],
   "source": [
    "class handValueNetwork(nn.Module):\n",
    "    \"\"\"\n",
    "    Single layer model...\n",
    "    \"\"\"\n",
    "    def __init__(self,highestDominoe, actFunc=F.relu, withBias=True):\n",
    "        super().__init__()\n",
    "        self.highestDominoe = highestDominoe\n",
    "        self.dominoes = df.listDominoes(highestDominoe)\n",
    "        self.numDominoes = len(self.dominoes)\n",
    "        \n",
    "        self.inputDimension = 2*numDominoes\n",
    "        self.outputDimension = 2\n",
    "        \n",
    "        # create layers (all linear fully connected)\n",
    "        self.fc1 = nn.Linear(self.inputDimension, 2, bias=withBias)\n",
    "        # self.fc2 = nn.Linear(2,2)\n",
    "        \n",
    "        # create special layers\n",
    "        self.actFunc = actFunc\n",
    "        \n",
    "    def forward(self, x):\n",
    "        return self.actFunc(self.fc1(x))\n",
    "        # return self.actFunc(self.fc2(self.actFunc(self.fc1(x))))"
   ]
  },
  {
   "cell_type": "code",
   "execution_count": 321,
   "id": "edf2da77-59c6-4f40-b4da-d34ac1d17238",
   "metadata": {},
   "outputs": [
    {
     "name": "stderr",
     "output_type": "stream",
     "text": [
      "100%|████████████████████████████████████████████████████████████████████████████| 10000/10000 [16:40<00:00, 10.00it/s]\n"
     ]
    }
   ],
   "source": [
    "# batch generation function\n",
    "def generateBatch(numDominoes, dominoes, batchSize):    \n",
    "    numPlayed = np.random.randint(0,numDominoes+1,batchSize)\n",
    "    numInHand = np.random.randint(0,numDominoes+1-numPlayed,batchSize)\n",
    "    playedIdx = [np.random.choice(numDominoes,numplay,replace=False) for numplay in numPlayed]\n",
    "    inHandIdx = [np.random.choice(list(set(range(numDominoes)).difference(playidx)), numhand, replace=False)\n",
    "                 for (playidx,numhand) in zip(playedIdx, numInHand)]\n",
    "    played = torch.zeros((batchSize,numDominoes))\n",
    "    inHand = torch.zeros((batchSize,numDominoes))\n",
    "    for p,pi in zip(played, playedIdx): p[pi]=1\n",
    "    for h,hi in zip(inHand, inHandIdx): h[hi]=1\n",
    "    playedValue = torch.tensor([np.sum(dominoes[play==1]) for play in played])\n",
    "    inHandValue = torch.tensor([np.sum(dominoes[hand==1]) for hand in inHand])\n",
    "    outHandValue = np.sum(dominoes) - playedValue\n",
    "    return played, inHand, playedValue, inHandValue, outHandValue\n",
    "\n",
    "\n",
    "# meta parameters for dominoe setting\n",
    "highestDominoe = 12\n",
    "dominoes = df.listDominoes(highestDominoe)\n",
    "numDominoes = len(dominoes)\n",
    "\n",
    "# mode\n",
    "learnInHand = False\n",
    "\n",
    "# create network\n",
    "net = handValueNetwork(highestDominoe, actFunc=lambda x:x, withBias=True)\n",
    "net.to(device)\n",
    "net.fc1.bias.data[1] = np.sum(dominoes)\n",
    "\n",
    "# training parameters and preallocation\n",
    "batchSize = 1000\n",
    "numIterations = 10000\n",
    "trainingLoss = torch.zeros(numIterations)\n",
    "targets = torch.zeros((numIterations,batchSize,2))\n",
    "outputs = torch.zeros((numIterations,batchSize,2))\n",
    "lossFunction = nn.L1Loss()\n",
    "optimizer = torch.optim.Adadelta(net.parameters())\n",
    "\n",
    "for it in tqdm(range(numIterations)):\n",
    "    # start by zeroing the gradients prior to the batch\n",
    "    optimizer.zero_grad()\n",
    "    \n",
    "    # generate a batch input, process the values into inputs & targets\n",
    "    played, inHand, playedValue, inHandValue, outHandValue = generateBatch(numDominoes, dominoes, batchSize)\n",
    "    networkInput = torch.cat((played, inHand),dim=1).to(device)\n",
    "    if learnInHand:\n",
    "        networkTarget = torch.stack((playedValue, inHandValue),dim=1).to(device)\n",
    "    else:\n",
    "        networkTarget = torch.stack((playedValue, outHandValue),dim=1).to(device)\n",
    "        \n",
    "    # measure network output\n",
    "    networkOutput = net(networkInput)\n",
    "    \n",
    "    # measure loss and update netweork\n",
    "    loss = lossFunction(networkOutput, networkTarget)\n",
    "    loss.backward()\n",
    "    optimizer.step()\n",
    "    \n",
    "    # store loss\n",
    "    outputs[it] = networkOutput\n",
    "    targets[it] = networkTarget\n",
    "    trainingLoss[it] = loss.item()\n",
    "    \n",
    "\n",
    "# measure performance\n",
    "with torch.no_grad():\n",
    "    performanceBatch = 1000\n",
    "    played, inHand, playedValue, inHandValue, outHandValue = generateBatch(numDominoes, dominoes, performanceBatch)\n",
    "    networkInput = torch.cat((played, inHand), dim=1).to(device)\n",
    "    if learnInHand:\n",
    "        performanceTarget = torch.stack((playedValue, inHandValue), dim=1).to(device)\n",
    "    else:\n",
    "        performanceTarget = torch.stack((playedValue, outHandValue), dim=1).to(device)\n",
    "    performanceOutput = net(networkInput)\n",
    "    loss = lossFunction(performanceOutput, performanceTarget)\n",
    "    performanceLoss = loss.item()\n",
    "        "
   ]
  },
  {
   "cell_type": "code",
   "execution_count": 325,
   "id": "fe58d275-a85c-4c4b-85ff-f2e7852e1e83",
   "metadata": {},
   "outputs": [
    {
     "name": "stdout",
     "output_type": "stream",
     "text": [
      "tensor([2.5935e-03, 1.0920e+03], device='cuda:0')\n"
     ]
    },
    {
     "data": {
      "image/png": "[encoded data removed]",
      "text/plain": [
       "<Figure size 1600x400 with 5 Axes>"
      ]
     },
     "metadata": {},
     "output_type": "display_data"
    }
   ],
   "source": [
    "dominoeValue = np.sum(dominoes,axis=1)\n",
    "fig,ax = plt.subplots(1,5,figsize=(16,4))\n",
    "ax[0].plot(range(numIterations), trainingLoss)\n",
    "ax[1].scatter(dominoeValue, net.fc1.weight.data[0][:numDominoes].clone().cpu().numpy(), s=10)\n",
    "ax[2].scatter(dominoeValue, net.fc1.weight.data[1][:numDominoes].clone().cpu().numpy(), s=10)\n",
    "ax[3].scatter(performanceTarget[:,0].clone().cpu().numpy(), performanceOutput[:,0].clone().cpu().numpy())\n",
    "ax[4].scatter(performanceTarget[:,1].clone().cpu().numpy(), performanceOutput[:,1].clone().cpu().numpy())\n",
    "\n",
    "print(net.fc1.bias.data)"
   ]
  },
  {
   "cell_type": "code",
   "execution_count": 323,
   "id": "f3e2735f-abf5-4331-8766-6adec50ddadb",
   "metadata": {},
   "outputs": [
    {
     "data": {
      "text/plain": [
       "tensor([[509, 583],\n",
       "        [369, 723],\n",
       "        [734, 358],\n",
       "        [897, 195],\n",
       "        [867, 225]], device='cuda:0', dtype=torch.int32)"
      ]
     },
     "execution_count": 323,
     "metadata": {},
     "output_type": "execute_result"
    }
   ],
   "source": [
    "performanceTarget[:5,:]"
   ]
  },
  {
   "cell_type": "code",
   "execution_count": 324,
   "id": "b2b5007c-2032-427f-a2ef-85b48cd0cbf9",
   "metadata": {},
   "outputs": [
    {
     "data": {
      "text/plain": [
       "tensor([[508.2235, 582.3704],\n",
       "        [368.4686, 722.4390],\n",
       "        [732.9859, 357.0762],\n",
       "        [895.4476, 193.5808],\n",
       "        [865.5840, 223.7439]], device='cuda:0')"
      ]
     },
     "execution_count": 324,
     "metadata": {},
     "output_type": "execute_result"
    }
   ],
   "source": [
    "performanceOutput[:5,:]"
   ]
  },
  {
   "cell_type": "code",
   "execution_count": null,
   "id": "12db2617-cd62-4ad4-9c9a-f83224d9635d",
   "metadata": {},
   "outputs": [],
   "source": []
  },
  {
   "cell_type": "code",
   "execution_count": 333,
   "id": "ee21bc6b-15b5-4b0f-a830-b173ac30f21a",
   "metadata": {},
   "outputs": [],
   "source": [
    "class network(nn.Module):\n",
    "    def __init__(self):\n",
    "        super().__init__()\n",
    "        self.fc1 = nn.Linear(100,1)\n",
    "    def forward(self,x):\n",
    "        return nn.functional.relu(self.fc1(x))"
   ]
  },
  {
   "cell_type": "code",
   "execution_count": 337,
   "id": "2eff7466-2d21-474a-bef0-572ac1f8d7f0",
   "metadata": {},
   "outputs": [
    {
     "data": {
      "text/plain": [
       "torch.Size([1])"
      ]
     },
     "execution_count": 337,
     "metadata": {},
     "output_type": "execute_result"
    }
   ],
   "source": [
    "net = network()\n",
    "inp = torch.normal(0,1,(100,))\n",
    "out = net(inp)\n",
    "out.shape"
   ]
  },
  {
   "cell_type": "code",
   "execution_count": 338,
   "id": "e5addc45-f03d-4a5e-b481-c8150af3e55b",
   "metadata": {},
   "outputs": [
    {
     "name": "stdout",
     "output_type": "stream",
     "text": [
      "tensor(0., grad_fn=<UnbindBackward0>)\n"
     ]
    }
   ],
   "source": [
    "for o in out: print(o)"
   ]
  },
  {
   "cell_type": "code",
   "execution_count": null,
   "id": "503efa58-13d5-490a-8dff-e4b731fc7f3f",
   "metadata": {},
   "outputs": [],
   "source": []
  }
 ],
 "metadata": {
  "kernelspec": {
   "display_name": "Python 3 (ipykernel)",
   "language": "python",
   "name": "python3"
  },
  "language_info": {
   "codemirror_mode": {
    "name": "ipython",
    "version": 3
   },
   "file_extension": ".py",
   "mimetype": "text/x-python",
   "name": "python",
   "nbconvert_exporter": "python",
   "pygments_lexer": "ipython3",
   "version": "3.9.13"
  }
 },
 "nbformat": 4,
 "nbformat_minor": 5
}
