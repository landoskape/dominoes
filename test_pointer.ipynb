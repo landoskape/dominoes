{
 "cells": [
  {
   "cell_type": "code",
   "execution_count": 1,
   "id": "a1d032b7-ea08-4fdc-982b-3c01e270b406",
   "metadata": {},
   "outputs": [
    {
     "name": "stdout",
     "output_type": "stream",
     "text": [
      "Using device: cuda\n"
     ]
    }
   ],
   "source": [
    "%reload_ext autoreload\n",
    "%autoreload 2\n",
    "\n",
    "# import os\n",
    "# os.environ['CUDA_LAUNCH_BLOCKING'] = \"1\"\n",
    "# os.environ['TORCH_USE_CUDA_DSA'] = \"1\"\n",
    "\n",
    "import time\n",
    "from copy import copy\n",
    "import random\n",
    "import numpy as np\n",
    "import torch\n",
    "from tqdm import tqdm\n",
    "import matplotlib.pyplot as plt\n",
    "import matplotlib as mpl\n",
    "from dominoes import leagueManager as lm\n",
    "from dominoes import gameplay as dg\n",
    "from dominoes import agents as da\n",
    "from dominoes import functions as df\n",
    "from dominoes import fileManagement as fm\n",
    "from dominoes import transformers\n",
    "\n",
    "\n",
    "device = \"cuda\" if torch.cuda.is_available() else \"cpu\"\n",
    "print(f\"Using device: {device}\")"
   ]
  },
  {
   "cell_type": "code",
   "execution_count": 38,
   "id": "040bde55-5458-4c9e-99e0-77f0d8248adc",
   "metadata": {},
   "outputs": [],
   "source": [
    "# code for generating a hand\n",
    "\n",
    "def randomDominoeHand(numInHand, listDominoes, highestDominoe, batch_size=1, null_token=True, available_token=True):\n",
    "    \"\"\"method to produce an encoded random hand\"\"\"\n",
    "    numDominoes = len(listDominoes)\n",
    "    \n",
    "    # choose dominoes from the batch, and get their value (in points)\n",
    "    selection = np.stack([np.random.choice(numDominoes, numInHand, replace=False) for _ in range(batch_size)])\n",
    "    if available_token:\n",
    "        available = np.random.randint(0, highestDominoe+1, batch_size)\n",
    "    else:\n",
    "        available = [None]*batch_size\n",
    "    \n",
    "    # create tensor representations\n",
    "    input = torch.stack([df.twohotDominoe(sel, listDominoes, highestDominoe, available=ava,\n",
    "                                          available_token=available_token, null_token=null_token, with_batch=False) \n",
    "                         for sel,ava in zip(selection, available)])\n",
    "    return input, selection, available\n",
    "    \n",
    "def getBestLine(dominoes, selection, highestDominoe):\n",
    "    bestSequence = []\n",
    "    bestDirection = []\n",
    "    for sel in selection:\n",
    "        cBestSeq = []\n",
    "        cBestDir = []\n",
    "        cBestVal = []\n",
    "        for available in range(highestDominoe+1):\n",
    "            cseq, cdir = df.constructLineRecursive(dominoes, sel, available)\n",
    "            cval = [np.sum(dominoes[cs]) for cs in cseq]\n",
    "            cidx = max(enumerate(cval), key=lambda x: x[1])[0]\n",
    "            cBestSeq.append(cseq[cidx])\n",
    "            cBestDir.append(cdir[cidx])\n",
    "            cBestVal.append(cval[cidx])\n",
    "\n",
    "        cBestIdx = max(enumerate(cBestVal), key=lambda x: x[1])[0]\n",
    "        bestSequence.append(cBestSeq[cBestIdx])\n",
    "        bestDirection.append(cBestDir[cBestIdx])\n",
    "\n",
    "    return bestSequence, bestDirection\n",
    "\n",
    "def getBestLineFromAvailable(dominoes, selection, highestDominoe, available):\n",
    "    bestSequence = []\n",
    "    bestDirection = []\n",
    "    for sel, ava in zip(selection, available):\n",
    "        cseq, cdir = df.constructLineRecursive(dominoes, sel, ava)\n",
    "        cval = [np.sum(dominoes[cs]) for cs in cseq]\n",
    "        cidx = max(enumerate(cval), key=lambda x: x[1])[0]\n",
    "        bestSequence.append(cseq[cidx])\n",
    "        bestDirection.append(cdir[cidx])\n",
    "    return bestSequence, bestDirection\n",
    "    \n",
    "def convertToHandIndex(selection, bestSequence):\n",
    "    indices = []\n",
    "    for sel,seq in zip(selection, bestSequence):\n",
    "        # look up table for current selection\n",
    "        elementIdx = {element:idx for idx, element in enumerate(sel)}\n",
    "        indices.append([elementIdx[element] for element in seq])\n",
    "    return indices\n",
    "    \n",
    "def padBestLine(bestSequence, max_output, ignore_index=-1):\n",
    "    for bs in bestSequence:\n",
    "        bs += [ignore_index]*(max_output-len(bs))\n",
    "    return bestSequence\n",
    "\n",
    "def generateBatch(highestDominoe, dominoes, batch_size, numInHand, return_target=True,\n",
    "                  available_token=False, null_token=False, ignore_index=-1, return_full=False):\n",
    "    input, selection, available = randomDominoeHand(numInHand, dominoes, highestDominoe, batch_size=batch_size, null_token=null_token, available_token=available_token)\n",
    "\n",
    "    mask_tokens = numInHand + (1 if null_token else 0) + (1 if available_token else 0)\n",
    "    mask = torch.ones((batch_size, mask_tokens), dtype=torch.float)\n",
    "\n",
    "    if return_target:\n",
    "        # then measure best line and convert it to a \"target\" array\n",
    "        if available_token:\n",
    "            bestSequence, bestDirection = getBestLineFromAvailable(dominoes, selection, highestDominoe, available)\n",
    "        else:\n",
    "            bestSequence, bestDirection = getBestLine(dominoes, selection, highestDominoe)\n",
    "\n",
    "        # convert sequence to hand index\n",
    "        iseq = convertToHandIndex(selection, bestSequence)\n",
    "        # create target and append null_index for ignoring impossible plays\n",
    "        null_index = ignore_index if not(null_token) else numInHand\n",
    "        target = torch.tensor(np.stack(padBestLine(iseq, numInHand+(1 if null_token else 0), ignore_index=null_index)), dtype=torch.long)\n",
    "    else:\n",
    "        # otherwise set these to None so we can use the same return structure\n",
    "        target, bestSequence, bestDirection = None, None, None\n",
    "        \n",
    "    if return_full:\n",
    "        return input, target, mask, bestSequence, bestDirection, selection, available\n",
    "    return input, target, mask"
   ]
  },
  {
   "cell_type": "code",
   "execution_count": 39,
   "id": "59320606-3c76-4b6f-af10-6eca9d64a91c",
   "metadata": {},
   "outputs": [],
   "source": [
    "@torch.no_grad()\n",
    "def measureReward(available, hands, choices, normalize=True, return_direction=False, verbose=None):\n",
    "    assert choices.ndim==2, f\"choices should be a (batch_size, max_output) tensor of indices, it is: {choices.shape}\"\n",
    "    batch_size, max_output = choices.shape\n",
    "    num_in_hand = hands.shape[1]\n",
    "    device = transformers.get_device(choices)\n",
    "\n",
    "    # check verbose\n",
    "    if verbose is not None:\n",
    "        debug = True\n",
    "        assert 0 <= verbose < batch_size, \"verbose should be an index corresponding to one of the batch elements\"\n",
    "    else:\n",
    "        debug = False\n",
    "    \n",
    "    # initialize these tracker variables\n",
    "    next_available = torch.tensor(available, dtype=torch.float).to(device)\n",
    "    havent_played = torch.ones((batch_size, num_in_hand+1), dtype=torch.bool).to(device) # True until dominoe has been played (include null for easier coding b/c out_choices includes idx to null\n",
    "    hands = torch.tensor(hands, dtype=torch.float).to(device)\n",
    "    handsOriginal = torch.cat((hands, -torch.ones((hands.size(0),1,2)).to(device)), dim=1) # keep track of original values\n",
    "    handsUpdates = torch.cat((hands, -torch.ones((hands.size(0),1,2)).to(device)), dim=1) # Add null choice as [-1,-1]\n",
    "    \n",
    "    rewards = torch.zeros((batch_size, max_output), dtype=torch.float).to(device)\n",
    "    if return_direction: \n",
    "        direction = -torch.ones((batch_size, max_output), dtype=torch.float).to(device)\n",
    "\n",
    "    if debug:\n",
    "        print(\"Original hand:\\n\", hands[verbose])\n",
    "        \n",
    "    # then for each output:\n",
    "    for idx in range(max_output):\n",
    "        # idx of outputs that chose the null token\n",
    "        idx_null = choices[:,idx] == num_in_hand\n",
    "\n",
    "        if debug:\n",
    "            print('')\n",
    "            print(\"\\nNew loop in measure reward:\\n\")\n",
    "            print(\"next_available:\", next_available[verbose])\n",
    "            print(\"Choice: \", choices[verbose,idx])\n",
    "            print(\"IdxNull: \", idx_null[verbose])\n",
    "        \n",
    "        # idx of outputs that have not already been chosen\n",
    "        idx_not_played = torch.gather(havent_played, 1, choices[:, idx].view(-1,1)).squeeze(1)\n",
    "        havent_played.scatter_(1, choices[:,idx].view(-1,1), torch.zeros((batch_size,1), dtype=torch.bool).to(device))\n",
    "\n",
    "        # idx of play (not the null token and a dominoe that hasn't been played yet)\n",
    "        idx_play = ~idx_null & idx_not_played\n",
    "        \n",
    "        # the dominoe that is chosen (including the null token)\n",
    "        next_play = torch.gather(handsOriginal, 1, choices[:, idx].view(-1, 1, 1).expand(-1, 1, 2)).squeeze(1)\n",
    "\n",
    "        # figure out whether play was valid, whcih direction, and next available\n",
    "        valid_play = torch.any(next_play.T == next_available, 0) # figure out if available matches a value in each dominoe\n",
    "        next_value_idx = 1*(next_play[:,0]==next_available) # if true, then 1 is next value, if false then 0 is next value (for valid plays)\n",
    "        new_available = torch.gather(next_play, 1, next_value_idx.view(-1,1)).squeeze(1) # get next available value\n",
    "        next_available[valid_play] = new_available[valid_play] # update available for all valid plays\n",
    "\n",
    "        # after getting next play, set any dominoe that has been played to [-1, -1]\n",
    "        insert_values = -torch.ones((valid_play.sum(), 1, 2)).to(device)\n",
    "        handsUpdates[valid_play].scatter_(1, choices[valid_play,idx].view(-1,1,1).expand(-1,-1,2), insert_values)\n",
    "\n",
    "        if return_direction:\n",
    "            play_direction = 1.0*(next_value_idx==0)\n",
    "            direction[idx_play & valid_play, idx] = play_direction[idx_play & valid_play].float()\n",
    "            \n",
    "        # if dominoe that is a valid_play and hasn't been played yet is selected, add reward\n",
    "        idx_good_play = ~idx_null & idx_not_played & valid_play\n",
    "        rewards[idx_good_play, idx] += (torch.sum(next_play[idx_good_play], dim=1) + 1)\n",
    "    \n",
    "        # if a dominoe is chosen but is invalid, subtract points\n",
    "        idx_bad_play = ~idx_null & (~idx_not_played | ~valid_play)\n",
    "        rewards[idx_bad_play, idx] -= (torch.sum(next_play[idx_bad_play], dim=1) + 1)\n",
    "\n",
    "        # determine which hands still have playable dominoes\n",
    "        idx_still_playable = torch.any((handsUpdates == next_available.view(-1, 1, 1)).view(handsUpdates.size(0), -1), dim=1)\n",
    "\n",
    "        # if the null is chosen and no other dominoes are possible, give some reward, otherwise negative reward\n",
    "        rewards[idx_null & ~idx_still_playable, idx] += 1.0\n",
    "        rewards[idx_null & idx_still_playable, idx] -= 1.0\n",
    "\n",
    "        if debug:\n",
    "            print(\"Next play: \", next_play[verbose])\n",
    "            if return_direction:\n",
    "                print(\"play_direction:\", play_direction[verbose])\n",
    "            print(\"next available: \", next_available[verbose])\n",
    "            print(\"valid_play:\", valid_play[verbose])\n",
    "            print(\"idx_still_playable:\", idx_still_playable[verbose])\n",
    "            print(\"idx_play: \", idx_play[verbose])\n",
    "            print(\"Hands updated:\\n\", handsUpdates[verbose])\n",
    "            print(\"Rewards[verbose,idx]:\", rewards[verbose, idx])\n",
    "    \n",
    "    if normalize:\n",
    "        rewards /= (highestDominoe+1) \n",
    "        \n",
    "    if return_direction:\n",
    "        return rewards, direction\n",
    "    else:        \n",
    "        return rewards"
   ]
  },
  {
   "cell_type": "code",
   "execution_count": 57,
   "id": "992d903a-d22a-4790-9e69-b51c57382958",
   "metadata": {},
   "outputs": [],
   "source": [
    "def do_training(numEpochs, use_rl, net, optimizer, gamma_transform, \n",
    "                highestDominoe, dominoes, batch_size, numInHand, num_output, device, **batch_inputs):\n",
    "    \n",
    "    outcome = torch.zeros(numEpochs)\n",
    "    name = 'Reward' if use_rl else 'Loss'\n",
    "    for epoch in (pbar := tqdm(range(numEpochs))):\n",
    "        optimizer.zero_grad()\n",
    "    \n",
    "        # generate input batch\n",
    "        batch = generateBatch(highestDominoe, dominoes, batch_size, numInHand, **batch_inputs)\n",
    "    \n",
    "        # unpack batch tuple\n",
    "        input, target, _, _, _, selection, available = batch\n",
    "    \n",
    "        # move to correct device\n",
    "        input = input.to(device)\n",
    "        if batch_inputs['return_target']:\n",
    "            target = target.to(device)\n",
    "    \n",
    "        # convert input to main input and context input\n",
    "        x, context = input[:, :-1], input[:, [-1]]\n",
    "        input = (x, context)\n",
    "        \n",
    "        # propagate it through the network\n",
    "        out_scores, out_choices = net(input, max_output=num_output)\n",
    "\n",
    "        if use_rl:\n",
    "            # measure rewards for each sequence\n",
    "            rewards = measureReward(available, dominoes[selection], out_choices, normalize=False)\n",
    "            G = torch.bmm(rewards.unsqueeze(1), gamma_transform).squeeze(1)\n",
    "            logprob_policy = torch.gather(out_scores, 2, out_choices.unsqueeze(2)).squeeze(2) # log-probability for each chosen dominoe\n",
    "    \n",
    "            # do backward pass on J\n",
    "            j_sum_argument = logprob_policy * G\n",
    "            J = -torch.sum(j_sum_argument) # only include components where a valid choice was made\n",
    "            J.backward()\n",
    "\n",
    "            c_value = torch.mean(torch.sum(rewards, dim=1))\n",
    "\n",
    "        else:\n",
    "            \n",
    "            unrolled = out_scores.view(batch_size * num_output, -1)\n",
    "            loss = torch.nn.functional.nll_loss(unrolled, target.view(-1), ignore_index=batch_inputs['ignore_index'])\n",
    "            loss.backward()\n",
    "            c_value = loss.item()\n",
    "            \n",
    "        optimizer.step()\n",
    "        outcome[epoch] = c_value\n",
    "        pbar.set_description(f\"{name}={c_value:.2f}\")\n",
    "\n",
    "    return net, outcome\n",
    "\n",
    "@torch.no_grad()\n",
    "def do_testing(numEpochs, use_rl, net, optimizer, gamma_transform,\n",
    "               highestDominoe, dominoes, batch_size, numInHand, num_output, device, **batch_inputs):\n",
    "    \n",
    "    outcome = torch.zeros(numEpochs)\n",
    "    name = 'Reward' if use_rl else 'Loss'\n",
    "    for epoch in (pbar := tqdm(range(numEpochs))):\n",
    "        # generate input batch\n",
    "        batch = generateBatch(highestDominoe, dominoes, batch_size, numInHand, **batch_inputs)\n",
    "    \n",
    "        # unpack batch tuple\n",
    "        input, target, _, _, _, selection, available = batch\n",
    "    \n",
    "        # move to correct device\n",
    "        input = input.to(device)\n",
    "        if batch_inputs['return_target']:\n",
    "            target = target.to(device)\n",
    "    \n",
    "        # convert input to main input and context input\n",
    "        x, context = input[:, :-1], input[:, [-1]]\n",
    "        input = (x, context)\n",
    "        \n",
    "        # propagate it through the network\n",
    "        out_scores, out_choices = net(input, max_output=num_output)\n",
    "\n",
    "        if use_rl:\n",
    "            # measure rewards for each sequence\n",
    "            rewards = measureReward(available, dominoes[selection], out_choices, normalize=False)\n",
    "            c_value = torch.mean(torch.sum(rewards, dim=1))\n",
    "\n",
    "        else:\n",
    "            unrolled = out_scores.view(batch_size * num_output, -1)\n",
    "            loss = torch.nn.functional.nll_loss(unrolled, target.view(-1), ignore_index=batch_inputs['ignore_index'])\n",
    "            c_value = loss.item()\n",
    "            \n",
    "        outcome[epoch] = c_value\n",
    "        pbar.set_description(f\"{name}={c_value:.2f}\")\n",
    "\n",
    "    return net, outcome"
   ]
  },
  {
   "cell_type": "code",
   "execution_count": 63,
   "id": "12f33845-c996-47d5-8643-b2b1274ac691",
   "metadata": {},
   "outputs": [
    {
     "name": "stderr",
     "output_type": "stream",
     "text": [
      "Loss=1.47: 100%|███████████████████████████████████████████████████████████████████| 1000/1000 [05:01<00:00,  3.32it/s]\n"
     ]
    },
    {
     "name": "stdout",
     "output_type": "stream",
     "text": [
      "num output: 1\n"
     ]
    },
    {
     "name": "stderr",
     "output_type": "stream",
     "text": [
      "Reward=-2.46: 100%|████████████████████████████████████████████████████████████████| 1200/1200 [00:46<00:00, 25.98it/s]\n"
     ]
    },
    {
     "name": "stdout",
     "output_type": "stream",
     "text": [
      "num output: 2\n"
     ]
    },
    {
     "name": "stderr",
     "output_type": "stream",
     "text": [
      "Reward=-3.36: 100%|████████████████████████████████████████████████████████████████| 1200/1200 [00:52<00:00, 22.76it/s]\n"
     ]
    },
    {
     "name": "stdout",
     "output_type": "stream",
     "text": [
      "num output: 3\n"
     ]
    },
    {
     "name": "stderr",
     "output_type": "stream",
     "text": [
      "Reward=-5.94: 100%|████████████████████████████████████████████████████████████████| 1200/1200 [01:00<00:00, 19.84it/s]\n"
     ]
    },
    {
     "name": "stdout",
     "output_type": "stream",
     "text": [
      "num output: 4\n"
     ]
    },
    {
     "name": "stderr",
     "output_type": "stream",
     "text": [
      "Reward=-32.81: 100%|███████████████████████████████████████████████████████████████| 1200/1200 [01:07<00:00, 17.88it/s]\n"
     ]
    },
    {
     "name": "stdout",
     "output_type": "stream",
     "text": [
      "num output: 5\n"
     ]
    },
    {
     "name": "stderr",
     "output_type": "stream",
     "text": [
      "Reward=-14.74: 100%|███████████████████████████████████████████████████████████████| 1200/1200 [01:13<00:00, 16.29it/s]\n"
     ]
    },
    {
     "name": "stdout",
     "output_type": "stream",
     "text": [
      "num output: 6\n"
     ]
    },
    {
     "name": "stderr",
     "output_type": "stream",
     "text": [
      "Reward=-8.39: 100%|████████████████████████████████████████████████████████████████| 1200/1200 [01:21<00:00, 14.68it/s]\n"
     ]
    },
    {
     "name": "stdout",
     "output_type": "stream",
     "text": [
      "num output: 7\n"
     ]
    },
    {
     "name": "stderr",
     "output_type": "stream",
     "text": [
      "Reward=-9.62: 100%|████████████████████████████████████████████████████████████████| 1200/1200 [01:27<00:00, 13.64it/s]\n"
     ]
    },
    {
     "name": "stdout",
     "output_type": "stream",
     "text": [
      "num output: 8\n"
     ]
    },
    {
     "name": "stderr",
     "output_type": "stream",
     "text": [
      "Reward=-42.19: 100%|███████████████████████████████████████████████████████████████| 1200/1200 [01:35<00:00, 12.55it/s]\n"
     ]
    },
    {
     "name": "stdout",
     "output_type": "stream",
     "text": [
      "num output: 9\n"
     ]
    },
    {
     "name": "stderr",
     "output_type": "stream",
     "text": [
      "Reward=-22.26: 100%|███████████████████████████████████████████████████████████████| 1200/1200 [01:41<00:00, 11.78it/s]\n"
     ]
    },
    {
     "name": "stdout",
     "output_type": "stream",
     "text": [
      "num output: 10\n"
     ]
    },
    {
     "name": "stderr",
     "output_type": "stream",
     "text": [
      "Reward=-17.55: 100%|███████████████████████████████████████████████████████████████| 1200/1200 [01:48<00:00, 11.05it/s]\n"
     ]
    },
    {
     "name": "stdout",
     "output_type": "stream",
     "text": [
      "num output: 11\n"
     ]
    },
    {
     "name": "stderr",
     "output_type": "stream",
     "text": [
      "Reward=-22.89: 100%|███████████████████████████████████████████████████████████████| 1200/1200 [01:56<00:00, 10.31it/s]\n",
      "Reward=-21.22: 100%|█████████████████████████████████████████████████████████████████| 100/100 [00:07<00:00, 13.64it/s]\n"
     ]
    },
    {
     "data": {
      "image/png": "[encoded data removed]",
      "text/plain": [
       "<Figure size 1200x300 with 3 Axes>"
      ]
     },
     "metadata": {},
     "output_type": "display_data"
    }
   ],
   "source": [
    "# This section of code does curriculum training\n",
    "# - starting with supervised learning of dominoe sequences\n",
    "# - then ending with reinforcement learning\n",
    "\n",
    "# input parameters\n",
    "highestDominoe = 9\n",
    "dominoes = df.listDominoes(highestDominoe)\n",
    "\n",
    "batch_size = 96\n",
    "numInHand = 10\n",
    "null_token = True\n",
    "available_token = True\n",
    "input_dim = (3 if available_token else 2)*(highestDominoe+1) + (1 if null_token else 0)\n",
    "embedding_dim = 96\n",
    "num_output = numInHand + (1 if null_token else 0)\n",
    "ignore_index = -1\n",
    "alpha = 3e-4\n",
    "\n",
    "# get network from saved \n",
    "# net = torch.load('experiments/savedNetworks/pointerSequencer.pt')\n",
    "# net.temperature = 10\n",
    "\n",
    "net = transformers.PointerNetwork(input_dim, embedding_dim, contextual_encoder=True, \n",
    "                                  encoding_layers=2, heads=8, expansion=2, kqnorm=True, decode_with_gru=False, greedy=False)\n",
    "net.temperature = 10\n",
    "\n",
    "net.to(device)\n",
    "net.train()\n",
    "\n",
    "# prepare optimizer\n",
    "optimizer = torch.optim.Adam(net.parameters(), lr=alpha, weight_decay=alpha*1e-2)\n",
    "\n",
    "gamma = 0.3\n",
    "exponent = torch.arange(numInHand+1).view(-1,1) - torch.arange(numInHand+1).view(1,-1)\n",
    "gamma_transform = (gamma ** exponent * (exponent >= 0)).unsqueeze(0).expand(batch_size, -1, -1).to(device)\n",
    "\n",
    "# run round\n",
    "use_rl = True\n",
    "\n",
    "# do reinforcement learning\n",
    "batch_inputs = {'null_token':null_token, \n",
    "                'available_token':available_token, \n",
    "                'ignore_index':ignore_index, \n",
    "                'return_full':True,\n",
    "                'return_target':True,\n",
    "               }\n",
    "\n",
    "use_rl = False\n",
    "numEpochs = 1000\n",
    "net, sl_train = do_training(numEpochs, use_rl, net, optimizer, gamma_transform, \n",
    "                           highestDominoe, dominoes, batch_size, numInHand, num_output, device, **batch_inputs)\n",
    "\n",
    "rl_train = []\n",
    "batch_inputs['return_target']=False\n",
    "use_rl = True\n",
    "numEpochs = 1200\n",
    "for c_num_output in range(1, num_output+1):\n",
    "    print(f\"num output: {c_num_output}\")\n",
    "    c_exponent = torch.arange(c_num_output).view(-1, 1) - torch.arange(c_num_output).view(1, -1)\n",
    "    c_gamma_transform = (gamma ** c_exponent * (c_exponent >= 0)).unsqueeze(0).expand(batch_size, -1, -1).to(device)\n",
    "    net, c_rl_train = do_training(numEpochs, use_rl, net, optimizer, c_gamma_transform, \n",
    "                                highestDominoe, dominoes, batch_size, numInHand, c_num_output, device, **batch_inputs)\n",
    "    rl_train.append(c_rl_train)\n",
    "\n",
    "net.temperature = 1\n",
    "numEpochs = 100\n",
    "net, rl_test = do_testing(numEpochs, use_rl, net, optimizer, gamma_transform, \n",
    "                          highestDominoe, dominoes, batch_size, numInHand, num_output, device, **batch_inputs)\n",
    "\n",
    "\n",
    "plt.close('all')\n",
    "fig, ax = plt.subplots(1,3,figsize=(12,3))\n",
    "ax[0].plot(sl_train)\n",
    "c_start = 0\n",
    "for rlt in rl_train:\n",
    "    c_end = copy(c_start + len(rlt))\n",
    "    ax[1].plot(range(c_start, c_end), rlt)\n",
    "    c_start = copy(c_start + len(rlt))\n",
    "    \n",
    "ax[2].plot(rl_test)\n",
    "plt.show()\n",
    "\n"
   ]
  },
  {
   "cell_type": "code",
   "execution_count": null,
   "id": "fb7b533d-17d3-4f66-85e1-31e9f8006ad5",
   "metadata": {},
   "outputs": [],
   "source": []
  },
  {
   "cell_type": "code",
   "execution_count": null,
   "id": "b16029ba-cf06-44b9-9f30-e3bf11bf96a0",
   "metadata": {},
   "outputs": [],
   "source": []
  },
  {
   "cell_type": "code",
   "execution_count": null,
   "id": "ed75d816-8d77-4f45-9bcc-8c52efcdd884",
   "metadata": {},
   "outputs": [],
   "source": []
  },
  {
   "cell_type": "code",
   "execution_count": null,
   "id": "4c21e540-a906-4627-bac4-43b3fe1c3dbe",
   "metadata": {},
   "outputs": [],
   "source": []
  },
  {
   "cell_type": "code",
   "execution_count": null,
   "id": "08600fab-0e9d-4e0e-9b9d-2da9afe54f4e",
   "metadata": {},
   "outputs": [],
   "source": []
  },
  {
   "cell_type": "code",
   "execution_count": null,
   "id": "3d0c37d9-67ac-4818-9b9b-e28f9f814809",
   "metadata": {},
   "outputs": [],
   "source": []
  },
  {
   "cell_type": "code",
   "execution_count": null,
   "id": "de4bc21e-b257-4455-83c6-d508824c7b21",
   "metadata": {},
   "outputs": [],
   "source": []
  },
  {
   "cell_type": "code",
   "execution_count": null,
   "id": "b32472c1-d05a-4247-bd8e-fec62defdc1f",
   "metadata": {},
   "outputs": [],
   "source": []
  },
  {
   "cell_type": "code",
   "execution_count": null,
   "id": "90da39a2-f784-4a24-b411-be2d9661a612",
   "metadata": {},
   "outputs": [],
   "source": []
  },
  {
   "cell_type": "code",
   "execution_count": 15,
   "id": "98c16c7e-d5aa-4dca-8b37-571448bc2698",
   "metadata": {},
   "outputs": [
    {
     "name": "stdout",
     "output_type": "stream",
     "text": [
      "Training network...\n"
     ]
    },
    {
     "name": "stderr",
     "output_type": "stream",
     "text": [
      "100%|██████████████████████████████████████████████████████████████████████████████| 1000/1000 [01:20<00:00, 12.45it/s]\n"
     ]
    },
    {
     "name": "stdout",
     "output_type": "stream",
     "text": [
      "Testing network...\n"
     ]
    },
    {
     "name": "stderr",
     "output_type": "stream",
     "text": [
      "100%|████████████████████████████████████████████████████████████████████████████████| 100/100 [00:04<00:00, 20.73it/s]\n"
     ]
    },
    {
     "data": {
      "text/plain": [
       "Text(0.5, 1.0, 'Testing Loss')"
      ]
     },
     "execution_count": 15,
     "metadata": {},
     "output_type": "execute_result"
    },
    {
     "data": {
      "image/png": "[encoded data removed]",
      "text/plain": [
       "<Figure size 800x400 with 2 Axes>"
      ]
     },
     "metadata": {},
     "output_type": "display_data"
    }
   ],
   "source": [
    "ignoreIndex = -1\n",
    "\n",
    "# get values from the argument parser\n",
    "highestDominoe = 9\n",
    "listDominoes = df.listDominoes(highestDominoe)\n",
    "doubleDominoes = listDominoes[:,0] == listDominoes[:,1]\n",
    "nonDoubleReverse = listDominoes[~doubleDominoes][:,[1,0]] # represent each dominoe in both orders\n",
    "listDominoes = np.concatenate((listDominoes, nonDoubleReverse), axis=0)\n",
    "dominoeValue = np.sum(listDominoes, axis=1)\n",
    "\n",
    "# subset dominoes\n",
    "keepFraction = 0.66\n",
    "keepNumber = int(len(listDominoes)*keepFraction)\n",
    "keepIndex = np.sort(np.random.permutation(len(listDominoes))[:keepNumber])\n",
    "keepDominoes = listDominoes[keepIndex]\n",
    "keepValue = dominoeValue[keepIndex]\n",
    "\n",
    "minSeqLength = 4\n",
    "maxSeqLength = 12\n",
    "batchSize = 512\n",
    "\n",
    "input_dim = 2*(highestDominoe+1)\n",
    "embedding_dim = 48\n",
    "heads = 4\n",
    "encoding_layers = 1\n",
    "greedy = False\n",
    "trainEpochs = 1000\n",
    "testEpochs = 100\n",
    "\n",
    "# Create a pointer network\n",
    "pnet = transformers.PointerNetwork(input_dim, embedding_dim, encoding_layers=encoding_layers, heads=heads, kqnorm=True, decode_with_gru=False, greedy=greedy)\n",
    "pnet = pnet.to(device)\n",
    "pnet.train()\n",
    "\n",
    "# Create an optimizer, Adam with weight decay is pretty good\n",
    "optimizer = torch.optim.Adam(pnet.parameters(), lr=1e-3, weight_decay=1e-5)\n",
    "\n",
    "# Train network\n",
    "print(\"Training network...\")\n",
    "# trainSeqLength = torch.zeros(trainEpochs)\n",
    "trainLoss = torch.zeros(trainEpochs)\n",
    "# trainPositionError = [None]*trainEpochs\n",
    "for epoch in tqdm(range(trainEpochs)):\n",
    "    input, target, mask = df.dominoeUnevenBatch(batchSize, minSeqLength, maxSeqLength, keepDominoes, keepValue, highestDominoe, ignoreIndex=ignoreIndex)\n",
    "    input, target, mask = input.to(device), target.to(device), mask.to(device)\n",
    "\n",
    "    # zero gradients, get output of network\n",
    "    optimizer.zero_grad()\n",
    "    log_scores, choices = pnet(input)\n",
    "\n",
    "    # measure loss with negative log-likelihood\n",
    "    unrolled = log_scores.view(-1, log_scores.size(-1))\n",
    "    loss = torch.nn.functional.nll_loss(unrolled, target.view(-1), ignore_index=ignoreIndex)\n",
    "    assert not np.isnan(loss.item()), \"model diverged :(\"\n",
    "\n",
    "    # update network\n",
    "    loss.backward()\n",
    "    optimizer.step()\n",
    "\n",
    "    # save training data\n",
    "    trainLoss[epoch] = loss.item()\n",
    "    \n",
    "    # trainSeqLength[epoch] = cSeqLength\n",
    "\n",
    "# Test network - same thing as in testing but without updates to model\n",
    "with torch.no_grad():\n",
    "    print(\"Testing network...\")\n",
    "    pnet.eval()\n",
    "    \n",
    "    testLoss = torch.zeros(testEpochs)\n",
    "    # testPositionError = [None]*testEpochs\n",
    "    for epoch in tqdm(range(testEpochs)):\n",
    "        input, target, mask = df.dominoeUnevenBatch(batchSize, minSeqLength, maxSeqLength, listDominoes, dominoeValue, highestDominoe, ignoreIndex=ignoreIndex)\n",
    "        input, target, mask = input.to(device), target.to(device), mask.to(device)\n",
    "\n",
    "        log_scores, choices = pnet(input)\n",
    "        \n",
    "        unrolled = log_scores.view(-1, log_scores.size(-1))\n",
    "        loss = torch.nn.functional.nll_loss(unrolled, target.view(-1), ignore_index=ignoreIndex)\n",
    "        \n",
    "        # t = torch.gather(unrolled, dim=1, index=target.view(-1).unsqueeze(-1)).cpu().detach().view(batchSize, cSeqLength)\n",
    "        # m = torch.max(unrolled, dim=1)[0].cpu().detach().view(batchSize, cSeqLength)\n",
    "        # testPositionError[epoch] = torch.mean(m-t,dim=0)\n",
    "        testLoss[epoch] = loss.item()\n",
    "        # testSeqLength[epoch] = cSeqLength\n",
    "\n",
    "fig, ax = plt.subplots(1,2,figsize=(8,4))\n",
    "ax[0].plot(range(trainEpochs), trainLoss, color='k', lw=1)\n",
    "ax[0].set_xlabel('Epoch')\n",
    "ax[0].set_ylabel('Loss')\n",
    "ax[0].set_ylim(0)\n",
    "ax[0].set_title('Training Loss')\n",
    "yMin, yMax = ax[0].get_ylim()\n",
    "\n",
    "ax[1].plot(range(testEpochs), testLoss, color='b', lw=1)\n",
    "ax[1].set_xlabel('Epoch')\n",
    "ax[1].set_ylabel('Loss')\n",
    "ax[1].set_ylim(yMin, yMax)\n",
    "ax[1].set_title('Testing Loss')"
   ]
  },
  {
   "cell_type": "code",
   "execution_count": null,
   "id": "9b256b30-e8dd-4c6d-9986-e9f8645e530a",
   "metadata": {},
   "outputs": [],
   "source": []
  },
  {
   "cell_type": "code",
   "execution_count": null,
   "id": "357d08ae-9f9b-4baf-8883-56122668800c",
   "metadata": {},
   "outputs": [],
   "source": []
  },
  {
   "cell_type": "code",
   "execution_count": null,
   "id": "3a8bd936-80d2-4787-aa23-06804a4c2a33",
   "metadata": {},
   "outputs": [],
   "source": []
  },
  {
   "cell_type": "code",
   "execution_count": null,
   "id": "a69acac9-3303-40e8-af48-ac67261c80cf",
   "metadata": {},
   "outputs": [],
   "source": []
  },
  {
   "cell_type": "code",
   "execution_count": null,
   "id": "2e275364-28e4-45ed-9065-bc5c2962706f",
   "metadata": {},
   "outputs": [],
   "source": []
  },
  {
   "cell_type": "code",
   "execution_count": null,
   "id": "3ad68868-c4e1-405e-b124-5f81f4e09120",
   "metadata": {},
   "outputs": [],
   "source": []
  },
  {
   "cell_type": "code",
   "execution_count": null,
   "id": "7a2d211e-ea42-4276-87f0-aaddd3c22992",
   "metadata": {},
   "outputs": [],
   "source": []
  }
 ],
 "metadata": {
  "kernelspec": {
   "display_name": "Python 3 (ipykernel)",
   "language": "python",
   "name": "python3"
  },
  "language_info": {
   "codemirror_mode": {
    "name": "ipython",
    "version": 3
   },
   "file_extension": ".py",
   "mimetype": "text/x-python",
   "name": "python",
   "nbconvert_exporter": "python",
   "pygments_lexer": "ipython3",
   "version": "3.11.6"
  }
 },
 "nbformat": 4,
 "nbformat_minor": 5
}
