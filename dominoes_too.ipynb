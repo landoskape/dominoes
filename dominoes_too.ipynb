{
 "cells": [
  {
   "cell_type": "code",
   "execution_count": 1,
   "id": "870c83c6-739a-4555-8581-6a97d54600ea",
   "metadata": {},
   "outputs": [
    {
     "name": "stdout",
     "output_type": "stream",
     "text": [
      "Using device: cuda\n"
     ]
    }
   ],
   "source": [
    "%reload_ext autoreload\n",
    "%autoreload 2\n",
    "\n",
    "import time\n",
    "from copy import copy\n",
    "import random\n",
    "import numpy as np\n",
    "import torch\n",
    "from tqdm import tqdm\n",
    "import matplotlib.pyplot as plt\n",
    "import matplotlib as mpl\n",
    "from dominoes import leagueManager as lm\n",
    "from dominoes import gameplay as dg\n",
    "from dominoes import agents as da\n",
    "from dominoes import functions as df\n",
    "from dominoes import fileManagement as fm\n",
    "from dominoes import transformers\n",
    "\n",
    "\n",
    "device = \"cuda\" if torch.cuda.is_available() else \"cpu\"\n",
    "print(f\"Using device: {device}\")"
   ]
  },
  {
   "cell_type": "code",
   "execution_count": null,
   "id": "f755670e-3dcb-4898-adeb-b7e5e3d73340",
   "metadata": {},
   "outputs": [
    {
     "name": "stderr",
     "output_type": "stream",
     "text": [
      " 23%|█████████████████▌                                                           | 6865/30000 [13:04<43:18,  8.90it/s]"
     ]
    }
   ],
   "source": [
    "def randomDominoeHand(numInHand, listDominoes, highestDominoe, batch_size=1, null_token=True, available_token=True):\n",
    "    \"\"\"method to produce an encoded random hand\"\"\"\n",
    "    numDominoes = len(listDominoes)\n",
    "    \n",
    "    # choose dominoes from the batch, and get their value (in points)\n",
    "    selection = np.stack([np.random.choice(numDominoes, numInHand, replace=False) for _ in range(batch_size)])\n",
    "    if available_token:\n",
    "        available = np.random.randint(0, highestDominoe+1, batch_size)\n",
    "    else:\n",
    "        available = [None]*batch_size\n",
    "    \n",
    "    # create tensor representations\n",
    "    input = torch.stack([df.twohotDominoe(sel, listDominoes, highestDominoe, available=ava,\n",
    "                                          available_token=available_token, null_token=null_token, with_batch=False) \n",
    "                         for sel,ava in zip(selection, available)])\n",
    "    return input, selection, available\n",
    "    \n",
    "def getBestLine(dominoes, selection, highestDominoe):\n",
    "    bestSequence = []\n",
    "    bestDirection = []\n",
    "    for sel in selection:\n",
    "        cBestSeq = []\n",
    "        cBestDir = []\n",
    "        cBestVal = []\n",
    "        for available in range(highestDominoe+1):\n",
    "            cseq, cdir = df.constructLineRecursive(dominoes, sel, available)\n",
    "            cval = [np.sum(dominoes[cs]) for cs in cseq]\n",
    "            cidx = max(enumerate(cval), key=lambda x: x[1])[0]\n",
    "            cBestSeq.append(cseq[cidx])\n",
    "            cBestDir.append(cdir[cidx])\n",
    "            cBestVal.append(cval[cidx])\n",
    "\n",
    "        cBestIdx = max(enumerate(cBestVal), key=lambda x: x[1])[0]\n",
    "        bestSequence.append(cBestSeq[cBestIdx])\n",
    "        bestDirection.append(cBestDir[cBestIdx])\n",
    "\n",
    "    return bestSequence, bestDirection\n",
    "\n",
    "def getBestLineFromAvailable(dominoes, selection, highestDominoe, available):\n",
    "    bestSequence = []\n",
    "    bestDirection = []\n",
    "    for sel, ava in zip(selection, available):\n",
    "        cseq, cdir = df.constructLineRecursive(dominoes, sel, ava)\n",
    "        cval = [np.sum(dominoes[cs]) for cs in cseq]\n",
    "        cidx = max(enumerate(cval), key=lambda x: x[1])[0]\n",
    "        bestSequence.append(cseq[cidx])\n",
    "        bestDirection.append(cdir[cidx])\n",
    "    return bestSequence, bestDirection\n",
    "    \n",
    "def convertToHandIndex(selection, bestSequence):\n",
    "    indices = []\n",
    "    for sel,seq in zip(selection, bestSequence):\n",
    "        # look up table for current selection\n",
    "        elementIdx = {element:idx for idx, element in enumerate(sel)}\n",
    "        indices.append([elementIdx[element] for element in seq])\n",
    "    return indices\n",
    "    \n",
    "def padBestLine(bestSequence, max_output, ignore_index=-1):\n",
    "    for bs in bestSequence:\n",
    "        bs += [ignore_index]*(max_output-len(bs))\n",
    "    return bestSequence\n",
    "\n",
    "def generateBatch(highestDominoe, dominoes, batch_size, numInHand, available_token=False, null_token=False, ignore_index=-1, return_full=False):\n",
    "    input, selection, available = randomDominoeHand(numInHand, dominoes, highestDominoe, batch_size=batch_size, null_token=null_token, available_token=available_token)\n",
    "    if available_token:\n",
    "        bestSequence, bestDirection = getBestLineFromAvailable(dominoes, selection, highestDominoe, available)\n",
    "        mask = torch.ones((batch_size, numInHand+1), dtype=torch.float)\n",
    "        mask[:,-1]=0\n",
    "    else:\n",
    "        bestSequence, bestDirection = getBestLine(dominoes, selection, highestDominoe)\n",
    "        mask = torch.ones((batch_size, numInHand+1))\n",
    "    iseq = convertToHandIndex(selection, bestSequence)\n",
    "    null_index = ignore_index if not(null_token) else numInHand\n",
    "    target = torch.tensor(np.stack(padBestLine(iseq, numInHand+(1 if null_token else 0), ignore_index=null_index)), dtype=torch.long)\n",
    "    if return_full:\n",
    "        return input, target, mask, bestSequence, bestDirection, selection, available\n",
    "    return input, target, mask\n",
    "    \n",
    "\n",
    "# input parameters\n",
    "highestDominoe = 9\n",
    "dominoes = df.listDominoes(highestDominoe)\n",
    "\n",
    "batch_size = 96\n",
    "numInHand = 10\n",
    "null_token = True\n",
    "available_token = True\n",
    "num_output = numInHand + (1 if null_token else 0)\n",
    "ignore_index = -1\n",
    "\n",
    "# network parameters\n",
    "input_dim = (2 if not(available_token) else 3)*(highestDominoe+1) + (1 if null_token else 0)\n",
    "embedding_dim = 96\n",
    "heads = 8\n",
    "expansion = 1 \n",
    "kqnorm = True #false \n",
    "encoding_layers = 1 #2\n",
    "bias = False\n",
    "decode_with_gru = False\n",
    "greedy = True #false\n",
    "temperature = 1\n",
    "alpha = 1e-3\n",
    "\n",
    "# create network and optimizer\n",
    "net = transformers.PointerNetwork(input_dim, embedding_dim, heads=heads, expansion=expansion, kqnorm=kqnorm, encoding_layers=encoding_layers, \n",
    "                                  bias=bias, decode_with_gru=decode_with_gru, greedy=greedy, temperature=temperature)\n",
    "net.to(device)\n",
    "optimizer = torch.optim.Adam(net.parameters(), lr=alpha)\n",
    "\n",
    "# do training\n",
    "net.train()\n",
    "trainEpochs = 30000\n",
    "trainLoss = torch.zeros(trainEpochs)\n",
    "for epoch in tqdm(range(trainEpochs)):\n",
    "    # zero gradients\n",
    "    optimizer.zero_grad()\n",
    "\n",
    "    # generate input batch\n",
    "    input, target, mask = generateBatch(highestDominoe, dominoes, batch_size, numInHand, null_token=null_token, available_token=available_token, ignore_index=ignore_index)\n",
    "    input, target, mask = input.to(device), target.to(device), mask.to(device)\n",
    "\n",
    "    # propagate it through the network\n",
    "    out_scores, out_choices = net(input, max_output=num_output)\n",
    "    \n",
    "    # measure loss and do backward pass\n",
    "    unrolled = out_scores.view(batch_size * num_output, -1)\n",
    "    loss = torch.nn.functional.nll_loss(unrolled, target.view(-1), ignore_index=ignore_index)\n",
    "    loss.backward()\n",
    "\n",
    "    # update network\n",
    "    optimizer.step()\n",
    "\n",
    "    trainLoss[epoch] = loss.item()\n",
    "    \n",
    "plt.close('all')\n",
    "plt.plot(range(trainEpochs), trainLoss)\n",
    "plt.show()"
   ]
  },
  {
   "cell_type": "code",
   "execution_count": 84,
   "id": "ccbc7b03-20d5-4dd3-9241-4d8e49266a68",
   "metadata": {},
   "outputs": [],
   "source": [
    "input, target, mask, bseq, bdir, selection, available = generateBatch(\n",
    "    highestDominoe, dominoes, batch_size, numInHand, available_token=available_token, ignore_index=ignore_index, return_full=True)\n",
    "\n",
    "input, target, mask = input.to(device), target.to(device), mask.to(device)\n",
    "\n",
    "# propagate it through the network\n",
    "out_scores, out_choices = net(input, max_output=num_output)\n"
   ]
  },
  {
   "cell_type": "code",
   "execution_count": 105,
   "id": "1a42bd2d-b86a-4c37-b51b-81d449c5e020",
   "metadata": {},
   "outputs": [
    {
     "name": "stdout",
     "output_type": "stream",
     "text": [
      "6\n"
     ]
    },
    {
     "data": {
      "text/plain": [
       "array([[5, 7],\n",
       "       [3, 3],\n",
       "       [3, 5],\n",
       "       [0, 4],\n",
       "       [6, 8],\n",
       "       [7, 8],\n",
       "       [2, 7],\n",
       "       [6, 6],\n",
       "       [0, 8],\n",
       "       [0, 6]])"
      ]
     },
     "execution_count": 105,
     "metadata": {},
     "output_type": "execute_result"
    }
   ],
   "source": [
    "outidx = 2\n",
    "print(available[outidx])\n",
    "dominoes[selection[outidx]]"
   ]
  },
  {
   "cell_type": "code",
   "execution_count": 106,
   "id": "cdf95221-025f-41fc-a735-e1d05c54853d",
   "metadata": {},
   "outputs": [
    {
     "data": {
      "text/plain": [
       "tensor([4, 8, 1, 1, 8, 2, 2, 2, 7, 2], device='cuda:0')"
      ]
     },
     "execution_count": 106,
     "metadata": {},
     "output_type": "execute_result"
    }
   ],
   "source": [
    "out_choices[outidx]"
   ]
  },
  {
   "cell_type": "code",
   "execution_count": 107,
   "id": "06c63efa-45b8-47eb-ae1b-f7974ff1c3a6",
   "metadata": {},
   "outputs": [
    {
     "data": {
      "text/plain": [
       "tensor([ 7,  4,  5,  0,  2,  1, 10, 10, 10, 10, 10])"
      ]
     },
     "execution_count": 107,
     "metadata": {},
     "output_type": "execute_result"
    }
   ],
   "source": [
    "target[outidx]"
   ]
  },
  {
   "cell_type": "code",
   "execution_count": null,
   "id": "f5c1aaab-213c-4967-b475-a60d7a90e7cc",
   "metadata": {},
   "outputs": [],
   "source": []
  }
 ],
 "metadata": {
  "kernelspec": {
   "display_name": "Python 3 (ipykernel)",
   "language": "python",
   "name": "python3"
  },
  "language_info": {
   "codemirror_mode": {
    "name": "ipython",
    "version": 3
   },
   "file_extension": ".py",
   "mimetype": "text/x-python",
   "name": "python",
   "nbconvert_exporter": "python",
   "pygments_lexer": "ipython3",
   "version": "3.9.17"
  }
 },
 "nbformat": 4,
 "nbformat_minor": 5
}
