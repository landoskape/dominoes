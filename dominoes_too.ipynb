{
 "cells": [
  {
   "cell_type": "code",
   "execution_count": 1,
   "id": "870c83c6-739a-4555-8581-6a97d54600ea",
   "metadata": {},
   "outputs": [
    {
     "name": "stdout",
     "output_type": "stream",
     "text": [
      "Using device: cuda\n"
     ]
    }
   ],
   "source": [
    "%reload_ext autoreload\n",
    "%autoreload 2\n",
    "\n",
    "import time\n",
    "from copy import copy\n",
    "import random\n",
    "import numpy as np\n",
    "import torch\n",
    "from tqdm import tqdm\n",
    "import matplotlib.pyplot as plt\n",
    "import matplotlib as mpl\n",
    "from dominoes import leagueManager as lm\n",
    "from dominoes import gameplay as dg\n",
    "from dominoes import agents as da\n",
    "from dominoes import functions as df\n",
    "from dominoes import fileManagement as fm\n",
    "from dominoes import transformers\n",
    "\n",
    "\n",
    "device = \"cuda\" if torch.cuda.is_available() else \"cpu\"\n",
    "print(f\"Using device: {device}\")"
   ]
  },
  {
   "cell_type": "code",
   "execution_count": 109,
   "id": "f755670e-3dcb-4898-adeb-b7e5e3d73340",
   "metadata": {},
   "outputs": [
    {
     "name": "stderr",
     "output_type": "stream",
     "text": [
      " 47%|███████████████████████████████████▊                                        | 14156/30000 [27:00<30:13,  8.73it/s]\n"
     ]
    },
    {
     "ename": "KeyboardInterrupt",
     "evalue": "",
     "output_type": "error",
     "traceback": [
      "\u001b[1;31m---------------------------------------------------------------------------\u001b[0m",
      "\u001b[1;31mKeyboardInterrupt\u001b[0m                         Traceback (most recent call last)",
      "Cell \u001b[1;32mIn[109], line 119\u001b[0m\n\u001b[0;32m    116\u001b[0m optimizer\u001b[38;5;241m.\u001b[39mzero_grad()\n\u001b[0;32m    118\u001b[0m \u001b[38;5;66;03m# generate input batch\u001b[39;00m\n\u001b[1;32m--> 119\u001b[0m \u001b[38;5;28minput\u001b[39m, target, mask \u001b[38;5;241m=\u001b[39m \u001b[43mgenerateBatch\u001b[49m\u001b[43m(\u001b[49m\u001b[43mhighestDominoe\u001b[49m\u001b[43m,\u001b[49m\u001b[43m \u001b[49m\u001b[43mdominoes\u001b[49m\u001b[43m,\u001b[49m\u001b[43m \u001b[49m\u001b[43mbatch_size\u001b[49m\u001b[43m,\u001b[49m\u001b[43m \u001b[49m\u001b[43mnumInHand\u001b[49m\u001b[43m,\u001b[49m\u001b[43m \u001b[49m\u001b[43mnull_token\u001b[49m\u001b[38;5;241;43m=\u001b[39;49m\u001b[43mnull_token\u001b[49m\u001b[43m,\u001b[49m\u001b[43m \u001b[49m\u001b[43mavailable_token\u001b[49m\u001b[38;5;241;43m=\u001b[39;49m\u001b[43mavailable_token\u001b[49m\u001b[43m,\u001b[49m\u001b[43m \u001b[49m\u001b[43mignore_index\u001b[49m\u001b[38;5;241;43m=\u001b[39;49m\u001b[43mignore_index\u001b[49m\u001b[43m)\u001b[49m\n\u001b[0;32m    120\u001b[0m \u001b[38;5;28minput\u001b[39m, target, mask \u001b[38;5;241m=\u001b[39m \u001b[38;5;28minput\u001b[39m\u001b[38;5;241m.\u001b[39mto(device), target\u001b[38;5;241m.\u001b[39mto(device), mask\u001b[38;5;241m.\u001b[39mto(device)\n\u001b[0;32m    122\u001b[0m \u001b[38;5;66;03m# propagate it through the network\u001b[39;00m\n",
      "Cell \u001b[1;32mIn[109], line 66\u001b[0m, in \u001b[0;36mgenerateBatch\u001b[1;34m(highestDominoe, dominoes, batch_size, numInHand, available_token, null_token, ignore_index, return_full)\u001b[0m\n\u001b[0;32m     64\u001b[0m \u001b[38;5;28minput\u001b[39m, selection, available \u001b[38;5;241m=\u001b[39m randomDominoeHand(numInHand, dominoes, highestDominoe, batch_size\u001b[38;5;241m=\u001b[39mbatch_size, null_token\u001b[38;5;241m=\u001b[39mnull_token, available_token\u001b[38;5;241m=\u001b[39mavailable_token)\n\u001b[0;32m     65\u001b[0m \u001b[38;5;28;01mif\u001b[39;00m available_token:\n\u001b[1;32m---> 66\u001b[0m     bestSequence, bestDirection \u001b[38;5;241m=\u001b[39m \u001b[43mgetBestLineFromAvailable\u001b[49m\u001b[43m(\u001b[49m\u001b[43mdominoes\u001b[49m\u001b[43m,\u001b[49m\u001b[43m \u001b[49m\u001b[43mselection\u001b[49m\u001b[43m,\u001b[49m\u001b[43m \u001b[49m\u001b[43mhighestDominoe\u001b[49m\u001b[43m,\u001b[49m\u001b[43m \u001b[49m\u001b[43mavailable\u001b[49m\u001b[43m)\u001b[49m\n\u001b[0;32m     67\u001b[0m     mask \u001b[38;5;241m=\u001b[39m torch\u001b[38;5;241m.\u001b[39mones((batch_size, numInHand\u001b[38;5;241m+\u001b[39m\u001b[38;5;241m1\u001b[39m), dtype\u001b[38;5;241m=\u001b[39mtorch\u001b[38;5;241m.\u001b[39mfloat)\n\u001b[0;32m     68\u001b[0m     mask[:,\u001b[38;5;241m-\u001b[39m\u001b[38;5;241m1\u001b[39m]\u001b[38;5;241m=\u001b[39m\u001b[38;5;241m0\u001b[39m\n",
      "Cell \u001b[1;32mIn[109], line 43\u001b[0m, in \u001b[0;36mgetBestLineFromAvailable\u001b[1;34m(dominoes, selection, highestDominoe, available)\u001b[0m\n\u001b[0;32m     41\u001b[0m bestDirection \u001b[38;5;241m=\u001b[39m []\n\u001b[0;32m     42\u001b[0m \u001b[38;5;28;01mfor\u001b[39;00m sel, ava \u001b[38;5;129;01min\u001b[39;00m \u001b[38;5;28mzip\u001b[39m(selection, available):\n\u001b[1;32m---> 43\u001b[0m     cseq, cdir \u001b[38;5;241m=\u001b[39m \u001b[43mdf\u001b[49m\u001b[38;5;241;43m.\u001b[39;49m\u001b[43mconstructLineRecursive\u001b[49m\u001b[43m(\u001b[49m\u001b[43mdominoes\u001b[49m\u001b[43m,\u001b[49m\u001b[43m \u001b[49m\u001b[43msel\u001b[49m\u001b[43m,\u001b[49m\u001b[43m \u001b[49m\u001b[43mava\u001b[49m\u001b[43m)\u001b[49m\n\u001b[0;32m     44\u001b[0m     cval \u001b[38;5;241m=\u001b[39m [np\u001b[38;5;241m.\u001b[39msum(dominoes[cs]) \u001b[38;5;28;01mfor\u001b[39;00m cs \u001b[38;5;129;01min\u001b[39;00m cseq]\n\u001b[0;32m     45\u001b[0m     cidx \u001b[38;5;241m=\u001b[39m \u001b[38;5;28mmax\u001b[39m(\u001b[38;5;28menumerate\u001b[39m(cval), key\u001b[38;5;241m=\u001b[39m\u001b[38;5;28;01mlambda\u001b[39;00m x: x[\u001b[38;5;241m1\u001b[39m])[\u001b[38;5;241m0\u001b[39m]\n",
      "File \u001b[1;32m~\\Documents\\GitHub\\dominoes\\dominoes\\functions.py:193\u001b[0m, in \u001b[0;36mconstructLineRecursive\u001b[1;34m(dominoes, myHand, available, previousSequence, previousDirection, maxLineLength)\u001b[0m\n\u001b[0;32m    191\u001b[0m cdir \u001b[38;5;241m=\u001b[39m copy(previousDirection)\n\u001b[0;32m    192\u001b[0m cdir\u001b[38;5;241m.\u001b[39mappend(\u001b[38;5;241m1\u001b[39m)\n\u001b[1;32m--> 193\u001b[0m cSequence, cDirection \u001b[38;5;241m=\u001b[39m \u001b[43mconstructLineRecursive\u001b[49m\u001b[43m(\u001b[49m\u001b[43mdominoes\u001b[49m\u001b[43m,\u001b[49m\u001b[43m \u001b[49m\u001b[43mmyHand\u001b[49m\u001b[43m,\u001b[49m\u001b[43m \u001b[49m\u001b[43mhand\u001b[49m\u001b[43m[\u001b[49m\u001b[43midxPlay\u001b[49m\u001b[43m]\u001b[49m\u001b[43m[\u001b[49m\u001b[38;5;241;43m0\u001b[39;49m\u001b[43m]\u001b[49m\u001b[43m,\u001b[49m\u001b[43m \u001b[49m\u001b[43mpreviousSequence\u001b[49m\u001b[38;5;241;43m=\u001b[39;49m\u001b[43mcseq\u001b[49m\u001b[43m,\u001b[49m\u001b[43m \u001b[49m\u001b[43mpreviousDirection\u001b[49m\u001b[38;5;241;43m=\u001b[39;49m\u001b[43mcdir\u001b[49m\u001b[43m,\u001b[49m\u001b[43m \u001b[49m\u001b[43mmaxLineLength\u001b[49m\u001b[38;5;241;43m=\u001b[39;49m\u001b[43mmaxLineLength\u001b[49m\u001b[43m)\u001b[49m\n\u001b[0;32m    194\u001b[0m \u001b[38;5;28;01mfor\u001b[39;00m cns,cnd \u001b[38;5;129;01min\u001b[39;00m \u001b[38;5;28mzip\u001b[39m(cSequence, cDirection):\n\u001b[0;32m    195\u001b[0m     sequence\u001b[38;5;241m.\u001b[39mappend(cns)\n",
      "File \u001b[1;32m~\\Documents\\GitHub\\dominoes\\dominoes\\functions.py:193\u001b[0m, in \u001b[0;36mconstructLineRecursive\u001b[1;34m(dominoes, myHand, available, previousSequence, previousDirection, maxLineLength)\u001b[0m\n\u001b[0;32m    191\u001b[0m cdir \u001b[38;5;241m=\u001b[39m copy(previousDirection)\n\u001b[0;32m    192\u001b[0m cdir\u001b[38;5;241m.\u001b[39mappend(\u001b[38;5;241m1\u001b[39m)\n\u001b[1;32m--> 193\u001b[0m cSequence, cDirection \u001b[38;5;241m=\u001b[39m \u001b[43mconstructLineRecursive\u001b[49m\u001b[43m(\u001b[49m\u001b[43mdominoes\u001b[49m\u001b[43m,\u001b[49m\u001b[43m \u001b[49m\u001b[43mmyHand\u001b[49m\u001b[43m,\u001b[49m\u001b[43m \u001b[49m\u001b[43mhand\u001b[49m\u001b[43m[\u001b[49m\u001b[43midxPlay\u001b[49m\u001b[43m]\u001b[49m\u001b[43m[\u001b[49m\u001b[38;5;241;43m0\u001b[39;49m\u001b[43m]\u001b[49m\u001b[43m,\u001b[49m\u001b[43m \u001b[49m\u001b[43mpreviousSequence\u001b[49m\u001b[38;5;241;43m=\u001b[39;49m\u001b[43mcseq\u001b[49m\u001b[43m,\u001b[49m\u001b[43m \u001b[49m\u001b[43mpreviousDirection\u001b[49m\u001b[38;5;241;43m=\u001b[39;49m\u001b[43mcdir\u001b[49m\u001b[43m,\u001b[49m\u001b[43m \u001b[49m\u001b[43mmaxLineLength\u001b[49m\u001b[38;5;241;43m=\u001b[39;49m\u001b[43mmaxLineLength\u001b[49m\u001b[43m)\u001b[49m\n\u001b[0;32m    194\u001b[0m \u001b[38;5;28;01mfor\u001b[39;00m cns,cnd \u001b[38;5;129;01min\u001b[39;00m \u001b[38;5;28mzip\u001b[39m(cSequence, cDirection):\n\u001b[0;32m    195\u001b[0m     sequence\u001b[38;5;241m.\u001b[39mappend(cns)\n",
      "File \u001b[1;32m~\\Documents\\GitHub\\dominoes\\dominoes\\functions.py:181\u001b[0m, in \u001b[0;36mconstructLineRecursive\u001b[1;34m(dominoes, myHand, available, previousSequence, previousDirection, maxLineLength)\u001b[0m\n\u001b[0;32m    179\u001b[0m cdir\u001b[38;5;241m.\u001b[39mappend(\u001b[38;5;241m0\u001b[39m)\n\u001b[0;32m    180\u001b[0m \u001b[38;5;66;03m# then recursively construct line from this standpoint\u001b[39;00m\n\u001b[1;32m--> 181\u001b[0m cSequence, cDirection \u001b[38;5;241m=\u001b[39m \u001b[43mconstructLineRecursive\u001b[49m\u001b[43m(\u001b[49m\u001b[43mdominoes\u001b[49m\u001b[43m,\u001b[49m\u001b[43m \u001b[49m\u001b[43mmyHand\u001b[49m\u001b[43m,\u001b[49m\u001b[43m \u001b[49m\u001b[43mhand\u001b[49m\u001b[43m[\u001b[49m\u001b[43midxPlay\u001b[49m\u001b[43m]\u001b[49m\u001b[43m[\u001b[49m\u001b[38;5;241;43m1\u001b[39;49m\u001b[43m]\u001b[49m\u001b[43m,\u001b[49m\u001b[43m \u001b[49m\u001b[43mpreviousSequence\u001b[49m\u001b[38;5;241;43m=\u001b[39;49m\u001b[43mcseq\u001b[49m\u001b[43m,\u001b[49m\u001b[43m \u001b[49m\u001b[43mpreviousDirection\u001b[49m\u001b[38;5;241;43m=\u001b[39;49m\u001b[43mcdir\u001b[49m\u001b[43m,\u001b[49m\u001b[43m \u001b[49m\u001b[43mmaxLineLength\u001b[49m\u001b[38;5;241;43m=\u001b[39;49m\u001b[43mmaxLineLength\u001b[49m\u001b[43m)\u001b[49m\n\u001b[0;32m    182\u001b[0m \u001b[38;5;66;03m# once lines are constructed, add them all to \"sequence\" and \"direction\", which will be a list of lists of all possible sequences\u001b[39;00m\n\u001b[0;32m    183\u001b[0m \u001b[38;5;28;01mfor\u001b[39;00m cns,cnd \u001b[38;5;129;01min\u001b[39;00m \u001b[38;5;28mzip\u001b[39m(cSequence, cDirection):\n",
      "File \u001b[1;32m~\\Documents\\GitHub\\dominoes\\dominoes\\functions.py:181\u001b[0m, in \u001b[0;36mconstructLineRecursive\u001b[1;34m(dominoes, myHand, available, previousSequence, previousDirection, maxLineLength)\u001b[0m\n\u001b[0;32m    179\u001b[0m cdir\u001b[38;5;241m.\u001b[39mappend(\u001b[38;5;241m0\u001b[39m)\n\u001b[0;32m    180\u001b[0m \u001b[38;5;66;03m# then recursively construct line from this standpoint\u001b[39;00m\n\u001b[1;32m--> 181\u001b[0m cSequence, cDirection \u001b[38;5;241m=\u001b[39m \u001b[43mconstructLineRecursive\u001b[49m\u001b[43m(\u001b[49m\u001b[43mdominoes\u001b[49m\u001b[43m,\u001b[49m\u001b[43m \u001b[49m\u001b[43mmyHand\u001b[49m\u001b[43m,\u001b[49m\u001b[43m \u001b[49m\u001b[43mhand\u001b[49m\u001b[43m[\u001b[49m\u001b[43midxPlay\u001b[49m\u001b[43m]\u001b[49m\u001b[43m[\u001b[49m\u001b[38;5;241;43m1\u001b[39;49m\u001b[43m]\u001b[49m\u001b[43m,\u001b[49m\u001b[43m \u001b[49m\u001b[43mpreviousSequence\u001b[49m\u001b[38;5;241;43m=\u001b[39;49m\u001b[43mcseq\u001b[49m\u001b[43m,\u001b[49m\u001b[43m \u001b[49m\u001b[43mpreviousDirection\u001b[49m\u001b[38;5;241;43m=\u001b[39;49m\u001b[43mcdir\u001b[49m\u001b[43m,\u001b[49m\u001b[43m \u001b[49m\u001b[43mmaxLineLength\u001b[49m\u001b[38;5;241;43m=\u001b[39;49m\u001b[43mmaxLineLength\u001b[49m\u001b[43m)\u001b[49m\n\u001b[0;32m    182\u001b[0m \u001b[38;5;66;03m# once lines are constructed, add them all to \"sequence\" and \"direction\", which will be a list of lists of all possible sequences\u001b[39;00m\n\u001b[0;32m    183\u001b[0m \u001b[38;5;28;01mfor\u001b[39;00m cns,cnd \u001b[38;5;129;01min\u001b[39;00m \u001b[38;5;28mzip\u001b[39m(cSequence, cDirection):\n",
      "File \u001b[1;32m~\\Documents\\GitHub\\dominoes\\dominoes\\functions.py:163\u001b[0m, in \u001b[0;36mconstructLineRecursive\u001b[1;34m(dominoes, myHand, available, previousSequence, previousDirection, maxLineLength)\u001b[0m\n\u001b[0;32m    160\u001b[0m     \u001b[38;5;28;01massert\u001b[39;00m dominoes[previousSequence[\u001b[38;5;241m-\u001b[39m\u001b[38;5;241m1\u001b[39m]][\u001b[38;5;241m0\u001b[39m \u001b[38;5;28;01mif\u001b[39;00m previousDirection[\u001b[38;5;241m-\u001b[39m\u001b[38;5;241m1\u001b[39m]\u001b[38;5;241m==\u001b[39m\u001b[38;5;241m1\u001b[39m \u001b[38;5;28;01melse\u001b[39;00m \u001b[38;5;241m1\u001b[39m]\u001b[38;5;241m==\u001b[39mavailable, \u001b[38;5;124m\"\u001b[39m\u001b[38;5;124mthe end of the last sequence doesn\u001b[39m\u001b[38;5;124m'\u001b[39m\u001b[38;5;124mt match what is defined as available!\u001b[39m\u001b[38;5;124m\"\u001b[39m\n\u001b[0;32m    162\u001b[0m \u001b[38;5;66;03m# recursively constructs all possible lines given a hand (value pairs in list), an available value to play on, and the previous played/direction dominoe index sequences\u001b[39;00m\n\u001b[1;32m--> 163\u001b[0m hand \u001b[38;5;241m=\u001b[39m \u001b[43mdominoes\u001b[49m\u001b[43m[\u001b[49m\u001b[43mmyHand\u001b[49m\u001b[43m]\u001b[49m\n\u001b[0;32m    164\u001b[0m possiblePlays \u001b[38;5;241m=\u001b[39m np\u001b[38;5;241m.\u001b[39mwhere(np\u001b[38;5;241m.\u001b[39many(hand\u001b[38;5;241m==\u001b[39mavailable,axis\u001b[38;5;241m=\u001b[39m\u001b[38;5;241m1\u001b[39m) \u001b[38;5;241m&\u001b[39m \u001b[38;5;241m~\u001b[39mnp\u001b[38;5;241m.\u001b[39misin(myHand, previousSequence))[\u001b[38;5;241m0\u001b[39m]\n\u001b[0;32m    166\u001b[0m \u001b[38;5;66;03m# if there are no possible plays, the return the finished sequence\u001b[39;00m\n",
      "\u001b[1;31mKeyboardInterrupt\u001b[0m: "
     ]
    }
   ],
   "source": [
    "def randomDominoeHand(numInHand, listDominoes, highestDominoe, batch_size=1, null_token=True, available_token=True):\n",
    "    \"\"\"method to produce an encoded random hand\"\"\"\n",
    "    numDominoes = len(listDominoes)\n",
    "    \n",
    "    # choose dominoes from the batch, and get their value (in points)\n",
    "    selection = np.stack([np.random.choice(numDominoes, numInHand, replace=False) for _ in range(batch_size)])\n",
    "    if available_token:\n",
    "        available = np.random.randint(0, highestDominoe+1, batch_size)\n",
    "    else:\n",
    "        available = [None]*batch_size\n",
    "    \n",
    "    # create tensor representations\n",
    "    input = torch.stack([df.twohotDominoe(sel, listDominoes, highestDominoe, available=ava,\n",
    "                                          available_token=available_token, null_token=null_token, with_batch=False) \n",
    "                         for sel,ava in zip(selection, available)])\n",
    "    return input, selection, available\n",
    "    \n",
    "def getBestLine(dominoes, selection, highestDominoe):\n",
    "    bestSequence = []\n",
    "    bestDirection = []\n",
    "    for sel in selection:\n",
    "        cBestSeq = []\n",
    "        cBestDir = []\n",
    "        cBestVal = []\n",
    "        for available in range(highestDominoe+1):\n",
    "            cseq, cdir = df.constructLineRecursive(dominoes, sel, available)\n",
    "            cval = [np.sum(dominoes[cs]) for cs in cseq]\n",
    "            cidx = max(enumerate(cval), key=lambda x: x[1])[0]\n",
    "            cBestSeq.append(cseq[cidx])\n",
    "            cBestDir.append(cdir[cidx])\n",
    "            cBestVal.append(cval[cidx])\n",
    "\n",
    "        cBestIdx = max(enumerate(cBestVal), key=lambda x: x[1])[0]\n",
    "        bestSequence.append(cBestSeq[cBestIdx])\n",
    "        bestDirection.append(cBestDir[cBestIdx])\n",
    "\n",
    "    return bestSequence, bestDirection\n",
    "\n",
    "def getBestLineFromAvailable(dominoes, selection, highestDominoe, available):\n",
    "    bestSequence = []\n",
    "    bestDirection = []\n",
    "    for sel, ava in zip(selection, available):\n",
    "        cseq, cdir = df.constructLineRecursive(dominoes, sel, ava)\n",
    "        cval = [np.sum(dominoes[cs]) for cs in cseq]\n",
    "        cidx = max(enumerate(cval), key=lambda x: x[1])[0]\n",
    "        bestSequence.append(cseq[cidx])\n",
    "        bestDirection.append(cdir[cidx])\n",
    "    return bestSequence, bestDirection\n",
    "    \n",
    "def convertToHandIndex(selection, bestSequence):\n",
    "    indices = []\n",
    "    for sel,seq in zip(selection, bestSequence):\n",
    "        # look up table for current selection\n",
    "        elementIdx = {element:idx for idx, element in enumerate(sel)}\n",
    "        indices.append([elementIdx[element] for element in seq])\n",
    "    return indices\n",
    "    \n",
    "def padBestLine(bestSequence, max_output, ignore_index=-1):\n",
    "    for bs in bestSequence:\n",
    "        bs += [ignore_index]*(max_output-len(bs))\n",
    "    return bestSequence\n",
    "\n",
    "def generateBatch(highestDominoe, dominoes, batch_size, numInHand, available_token=False, null_token=False, ignore_index=-1, return_full=False):\n",
    "    input, selection, available = randomDominoeHand(numInHand, dominoes, highestDominoe, batch_size=batch_size, null_token=null_token, available_token=available_token)\n",
    "    if available_token:\n",
    "        bestSequence, bestDirection = getBestLineFromAvailable(dominoes, selection, highestDominoe, available)\n",
    "        mask = torch.ones((batch_size, numInHand+1), dtype=torch.float)\n",
    "        mask[:,-1]=0\n",
    "    else:\n",
    "        bestSequence, bestDirection = getBestLine(dominoes, selection, highestDominoe)\n",
    "        mask = torch.ones((batch_size, numInHand+1))\n",
    "    iseq = convertToHandIndex(selection, bestSequence)\n",
    "    null_index = ignore_index if not(null_token) else numInHand\n",
    "    target = torch.tensor(np.stack(padBestLine(iseq, numInHand+(1 if null_token else 0), ignore_index=null_index)), dtype=torch.long)\n",
    "    if return_full:\n",
    "        return input, target, mask, bestSequence, bestDirection, selection, available\n",
    "    return input, target, mask\n",
    "    \n",
    "\n",
    "# input parameters\n",
    "highestDominoe = 9\n",
    "dominoes = df.listDominoes(highestDominoe)\n",
    "\n",
    "batch_size = 96\n",
    "numInHand = 10\n",
    "null_token = True\n",
    "available_token = True\n",
    "num_output = numInHand + (1 if null_token else 0)\n",
    "ignore_index = -1\n",
    "\n",
    "# network parameters\n",
    "input_dim = (2 if not(available_token) else 3)*(highestDominoe+1) + (1 if null_token else 0)\n",
    "embedding_dim = 96\n",
    "heads = 8\n",
    "expansion = 1 \n",
    "kqnorm = True #false \n",
    "encoding_layers = 1 #2\n",
    "bias = False\n",
    "decode_with_gru = False\n",
    "greedy = True #false\n",
    "temperature = 1\n",
    "alpha = 1e-3\n",
    "\n",
    "# create network and optimizer\n",
    "net = transformers.PointerNetwork(input_dim, embedding_dim, heads=heads, expansion=expansion, kqnorm=kqnorm, encoding_layers=encoding_layers, \n",
    "                                  bias=bias, decode_with_gru=decode_with_gru, greedy=greedy, temperature=temperature)\n",
    "net.to(device)\n",
    "optimizer = torch.optim.Adam(net.parameters(), lr=alpha)\n",
    "\n",
    "# do training\n",
    "net.train()\n",
    "trainEpochs = 30000\n",
    "trainLoss = torch.zeros(trainEpochs)\n",
    "for epoch in tqdm(range(trainEpochs)):\n",
    "    # zero gradients\n",
    "    optimizer.zero_grad()\n",
    "\n",
    "    # generate input batch\n",
    "    input, target, mask = generateBatch(highestDominoe, dominoes, batch_size, numInHand, null_token=null_token, available_token=available_token, ignore_index=ignore_index)\n",
    "    input, target, mask = input.to(device), target.to(device), mask.to(device)\n",
    "\n",
    "    # propagate it through the network\n",
    "    out_scores, out_choices = net(input, max_output=num_output)\n",
    "    \n",
    "    # measure loss and do backward pass\n",
    "    unrolled = out_scores.view(batch_size * num_output, -1)\n",
    "    loss = torch.nn.functional.nll_loss(unrolled, target.view(-1), ignore_index=ignore_index)\n",
    "    loss.backward()\n",
    "\n",
    "    # update network\n",
    "    optimizer.step()\n",
    "\n",
    "    trainLoss[epoch] = loss.item()\n",
    "    \n",
    "plt.close('all')\n",
    "plt.plot(range(trainEpochs), trainLoss)\n",
    "plt.show()"
   ]
  },
  {
   "cell_type": "code",
   "execution_count": 84,
   "id": "ccbc7b03-20d5-4dd3-9241-4d8e49266a68",
   "metadata": {},
   "outputs": [],
   "source": [
    "input, target, mask, bseq, bdir, selection, available = generateBatch(\n",
    "    highestDominoe, dominoes, batch_size, numInHand, available_token=available_token, ignore_index=ignore_index, return_full=True)\n",
    "\n",
    "input, target, mask = input.to(device), target.to(device), mask.to(device)\n",
    "\n",
    "# propagate it through the network\n",
    "out_scores, out_choices = net(input, max_output=num_output)\n"
   ]
  },
  {
   "cell_type": "code",
   "execution_count": 105,
   "id": "1a42bd2d-b86a-4c37-b51b-81d449c5e020",
   "metadata": {},
   "outputs": [
    {
     "name": "stdout",
     "output_type": "stream",
     "text": [
      "6\n"
     ]
    },
    {
     "data": {
      "text/plain": [
       "array([[5, 7],\n",
       "       [3, 3],\n",
       "       [3, 5],\n",
       "       [0, 4],\n",
       "       [6, 8],\n",
       "       [7, 8],\n",
       "       [2, 7],\n",
       "       [6, 6],\n",
       "       [0, 8],\n",
       "       [0, 6]])"
      ]
     },
     "execution_count": 105,
     "metadata": {},
     "output_type": "execute_result"
    }
   ],
   "source": [
    "outidx = 2\n",
    "print(available[outidx])\n",
    "dominoes[selection[outidx]]"
   ]
  },
  {
   "cell_type": "code",
   "execution_count": 106,
   "id": "cdf95221-025f-41fc-a735-e1d05c54853d",
   "metadata": {},
   "outputs": [
    {
     "data": {
      "text/plain": [
       "tensor([4, 8, 1, 1, 8, 2, 2, 2, 7, 2], device='cuda:0')"
      ]
     },
     "execution_count": 106,
     "metadata": {},
     "output_type": "execute_result"
    }
   ],
   "source": [
    "out_choices[outidx]"
   ]
  },
  {
   "cell_type": "code",
   "execution_count": 107,
   "id": "06c63efa-45b8-47eb-ae1b-f7974ff1c3a6",
   "metadata": {},
   "outputs": [
    {
     "data": {
      "text/plain": [
       "tensor([ 7,  4,  5,  0,  2,  1, 10, 10, 10, 10, 10])"
      ]
     },
     "execution_count": 107,
     "metadata": {},
     "output_type": "execute_result"
    }
   ],
   "source": [
    "target[outidx]"
   ]
  },
  {
   "cell_type": "code",
   "execution_count": null,
   "id": "f5c1aaab-213c-4967-b475-a60d7a90e7cc",
   "metadata": {},
   "outputs": [],
   "source": []
  }
 ],
 "metadata": {
  "kernelspec": {
   "display_name": "Python 3 (ipykernel)",
   "language": "python",
   "name": "python3"
  },
  "language_info": {
   "codemirror_mode": {
    "name": "ipython",
    "version": 3
   },
   "file_extension": ".py",
   "mimetype": "text/x-python",
   "name": "python",
   "nbconvert_exporter": "python",
   "pygments_lexer": "ipython3",
   "version": "3.11.6"
  }
 },
 "nbformat": 4,
 "nbformat_minor": 5
}
