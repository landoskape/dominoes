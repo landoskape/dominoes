{
 "cells": [
  {
   "cell_type": "code",
   "execution_count": 15,
   "id": "6d4d84df-c50a-4eb1-88b3-3ba6b1ef7887",
   "metadata": {},
   "outputs": [],
   "source": [
    "# create simple system to operate a dominoes game\n",
    "\n",
    "# -- top level \"API\" for game --\n",
    "# inputs:\n",
    "# 1. number of players\n",
    "# 2. maximum number of dominoes\n",
    "# 3. rule for creating player agent, or preset list of agents\n",
    "# operation:\n",
    "# 1. distribute dominoes to each player randomly\n",
    "# 2. create turn list\n",
    "# 3. query players for their play (evaluate whether the play is valid and accept or reject it)\n",
    "# 4. identify winner, track score, initiate new round until 0/0 is finished\n",
    "\n",
    "# -- agent --\n",
    "# 1. one-hot of dominoes in hand\n",
    "# 2. one-hot of dominoes already played\n",
    "# 3. multi-length vector, one input for each other player, containing: 1) how many dominoes in their hand, 2) whether they have a penny up, 3) how many turns until they play\n",
    "# 4. number of turns until the agent plays\n",
    "# 5. one-hot of dominoes available to play on \n",
    "# 6. dominoe played on last turn? \n",
    "\n",
    "# -- simple agents --\n",
    "# 1. play random dominoe\n",
    "# 2. play highest dominoe\n",
    "# 3. play double-pair dominoe\n",
    "# 4. RL agent...\n",
    "\n",
    "# -- observation agents --\n",
    "# 1. I can train an independent RL model to predict the points at the end of each game from the current game state and run that independently. \n",
    "#    This would work by feeding in the full game state, then having the network predict the value on the next turn, and then learn from the last turn moving backwards (with uncertainty etc.)\n",
    "#    Then, I can teach this observer using games from crystallized agents, and update one agent to see how much better it performs than change. \n",
    "#    Additionally, this agent could maybe be integrated into the gameplay agents? \n",
    "# 2. Could train an RL model to predict what dominoes are in other agents hands based on what has been played, their line, and what is available...\n",
    "\n",
    "# -- ideas for flexibility in terms of number of players --\n",
    "# 1. the agent could process \"own line\", \"opponent line\", \"dummy line\" in an LSTM network in 3+ steps, where an additional one-hot input determines whose line is being valued. \n",
    "#    in this way, the LSTM network would learn to process opponent lines generally, and then just receive additional processing steps for valuation of each line "
   ]
  },
  {
   "cell_type": "code",
   "execution_count": null,
   "id": "7ed4ea59-2675-47a1-b1df-e14d325aec60",
   "metadata": {},
   "outputs": [],
   "source": [
    "# to-do list\n",
    "# 230628 -- I've completed the basic mechanics of the game, it works, and I can run games and develop agents now.\n",
    "#\n",
    "# Next: - read & think about how to train an agent to be smarter...\n",
    "#       - I think I need an actor-critic model, where the critic is learning to predict outcomes based on game-state and action, and the actor is making decisions\n",
    "#       - This is gonna be a bit hard and I'll need to read some papers to implement it intelligently.\n",
    "#       - but...\n",
    "#       - The simplest way is to: build one single network\n",
    "#                                 \"remember\" the states and actions chosen throughout an entire hand\n",
    "#                                 then use the final score as a teaching signal that propagates down to every action\n",
    "\n",
    "# -- setup infinite gameplay so an agent can be initialized in a game once, and then learn for a very very long time... --"
   ]
  },
  {
   "cell_type": "code",
   "execution_count": 162,
   "id": "a3d3d05f-41b1-4604-87a0-6b93fa2d1f9b",
   "metadata": {},
   "outputs": [],
   "source": [
    "# Training Ideas:\n",
    "# 1. Teach line-formation by penalizing actions based on whether there's another play available (can be within or across lines...)\n",
    "# 2. Teach score estimation by training network to predict points in each other hand, using the uncertain naive estimate of (pointsLeft/numberOfPlayers*dominoesPerHand)? \n",
    "\n",
    "# Overall Ideas: \n",
    "# - The network has to take in the gamestate information as input and output a value function of each dominoe/location pairing (which is essentially the state-action table, or Q)\n",
    "# - The network can estimate a value from the gamestate information independently. The value should be the expected score at the end of the game. \n",
    "# - Each time the network has to play, it can compare it's expected score at the beginning of it's turn with the expected score at the beginning of it's last turn as the TD error. \n",
    "# - Presumably, the network will get better and better at predicting the final score as it learns from the end-game scenarios...\n",
    "# - Maybe I can pretrain it by using TrainingIdea#2 above, and it can learn how much to use it's own value estimation and the naive estimate? \n",
    "\n",
    "# -- Initial Push --\n",
    "# Build an LSTM network that learns to predict the value of dominoes in each players hand based on the gamestate information (it steps each players turn)\n",
    "# It is trained from omniscient information (the error function is the difference between the prediction and the true hand value)\n",
    "# Idea: once this LSTM network is pretrained, it will be used as an input to the agent network for temporal difference learning."
   ]
  },
  {
   "cell_type": "code",
   "execution_count": 7,
   "id": "d743f019-bcc5-4c13-8aef-98e737e0747e",
   "metadata": {},
   "outputs": [
    {
     "name": "stdout",
     "output_type": "stream",
     "text": [
      "Using device: cuda\n"
     ]
    }
   ],
   "source": [
    "%reload_ext autoreload\n",
    "%autoreload 2\n",
    "\n",
    "import random\n",
    "import numpy as np\n",
    "import matplotlib.pyplot as plt\n",
    "import dominoesGameplay as dg\n",
    "import dominoesAgents as da\n",
    "import dominoesFunctions as df\n",
    "from tqdm import tqdm\n",
    "\n",
    "import torch\n",
    "import torchvision.transforms as transforms\n",
    "import torch.nn as nn\n",
    "import torch.nn.functional as F\n",
    "\n",
    "DEVICE = \"cuda\" if torch.cuda.is_available() else \"cpu\"\n",
    "print(f\"Using device: {DEVICE}\")"
   ]
  },
  {
   "cell_type": "code",
   "execution_count": 93,
   "id": "f0dafaf7-668f-4632-85dc-8a0dc48a685c",
   "metadata": {},
   "outputs": [],
   "source": [
    "numPlayers = 4\n",
    "highestDominoe = 9\n",
    "numRounds = 1000\n",
    "game = dg.dominoeGame(highestDominoe, numPlayers=numPlayers, defaultAgent=da.valueAgent0)\n",
    "# game.playGame(rounds=numRounds)\n",
    "game.initializeHand()"
   ]
  },
  {
   "cell_type": "code",
   "execution_count": 95,
   "id": "fe4def6c-a3e9-4b8c-ab51-fa659ba01fc8",
   "metadata": {},
   "outputs": [
    {
     "name": "stdout",
     "output_type": "stream",
     "text": [
      "177\n",
      "(177,)\n"
     ]
    }
   ],
   "source": [
    "game.doTurn()"
   ]
  },
  {
   "cell_type": "code",
   "execution_count": null,
   "id": "9b3f97b3-0adb-4800-92d3-398de7f22754",
   "metadata": {},
   "outputs": [],
   "source": []
  },
  {
   "cell_type": "code",
   "execution_count": 52,
   "id": "9ff59263-055d-4ef2-a7ca-3b2c95db4bd7",
   "metadata": {},
   "outputs": [
    {
     "name": "stdout",
     "output_type": "stream",
     "text": [
      "tensor([[-0.1442,  0.5174,  0.9445,  0.5152, -0.3614,  1.5177,  1.4829, -0.5971,\n",
      "         -0.6747,  1.2603],\n",
      "        [-0.1442,  0.5174,  0.9445,  0.5152, -0.3614,  1.5177,  1.4829, -0.5971,\n",
      "         -0.6747,  1.2603],\n",
      "        [-0.1442,  0.5174,  0.9445,  0.5152, -0.3614,  1.5177,  1.4829, -0.5971,\n",
      "         -0.6747,  1.2603]], dtype=torch.float64)\n",
      "tensor([[-0.1442,  0.5174,  0.9445,  0.5152, -0.3614,  1.5177,  1.4829, -0.5971,\n",
      "         -0.6747,  1.2603],\n",
      "        [-0.1442,  0.5174,  0.9445,  0.5152, -0.3614,  1.5177,  1.4829, -0.5971,\n",
      "         -0.6747,  1.2603],\n",
      "        [-0.1442,  0.5174,  0.9445,  0.5152, -0.3614,  1.5177,  1.4829, -0.5971,\n",
      "         -0.6747,  1.2603]], dtype=torch.float64)\n",
      "tensor([-0.1442,  0.5174,  0.9445,  0.5152, -0.3614,  1.5177,  1.4829, -0.5971,\n",
      "        -0.6747,  1.2603], dtype=torch.float64, requires_grad=True)\n"
     ]
    }
   ],
   "source": [
    "N = 10\n",
    "O = 3\n",
    "x = torch.randn(N,dtype=float,requires_grad=False)\n",
    "w = torch.randn((O,N),dtype=float,requires_grad=True)\n",
    "\n",
    "t = torch.sum(w @ x)\n",
    "t.backward()\n",
    "storeGrad = w.grad.clone()\n",
    "print(storeGrad)\n",
    "\n",
    "w.grad[:] = 0\n",
    "# w.zero_grad()\n",
    "t0 = w[0]@x\n",
    "t1 = w[1]@x\n",
    "t2 = w[2]@x\n",
    "t0.backward()\n",
    "t1.backward()\n",
    "t2.backward()\n",
    "indGrad = w.grad.clone()\n",
    "print(indGrad)\n",
    "print(x)\n",
    "\n",
    "w.grad[:]=0\n",
    "v = w @ x"
   ]
  },
  {
   "cell_type": "code",
   "execution_count": 44,
   "id": "d646cbc1-c5d4-4ba6-bb94-a5e6296fd439",
   "metadata": {},
   "outputs": [
    {
     "data": {
      "text/plain": [
       "tensor([ 2.1847,  0.6296, -2.4194, -0.0563,  1.0610,  1.6216,  1.0254,  1.5902,\n",
       "         2.1774,  1.3959], dtype=torch.float64, requires_grad=True)"
      ]
     },
     "execution_count": 44,
     "metadata": {},
     "output_type": "execute_result"
    }
   ],
   "source": [
    "x"
   ]
  },
  {
   "cell_type": "code",
   "execution_count": 31,
   "id": "326d8f89-03f4-44b7-bd1e-8f50027fd5a1",
   "metadata": {},
   "outputs": [
    {
     "name": "stdout",
     "output_type": "stream",
     "text": [
      "tensor([0., 1., 2., 3., 4.], dtype=torch.float64, requires_grad=True)\n",
      "tensor([-0.0230, -0.4393, -0.6665,  0.4186,  0.1668], dtype=torch.float64,\n",
      "       requires_grad=True)\n",
      "tensor([-0.0225, -0.2463, -0.2223,  0.5938,  0.1947], dtype=torch.float64,\n",
      "       grad_fn=<AddBackward0>)\n",
      "tensor([-0.0225, -0.2463, -0.2223,  0.5938,  0.1947], dtype=torch.float64)\n",
      "tensor([ 0.0000,  0.1213, -0.6659,  5.5116,  5.3347], dtype=torch.float64,\n",
      "       grad_fn=<AddBackward0>)\n",
      "tensor([ 0.0000,  0.1213, -0.6659,  5.5116,  5.3347], dtype=torch.float64)\n"
     ]
    }
   ],
   "source": [
    "x = torch.arange(5,dtype=float,requires_grad=True)\n",
    "w = torch.randn(5,dtype=float,requires_grad=True)\n",
    "print(x)\n",
    "print(w)\n",
    "y = w**2@x + w@x\n",
    "y.backward()\n",
    "print(w**2 + w)\n",
    "print(x.grad)\n",
    "print(2*w*x + x)\n",
    "print(w.grad)"
   ]
  },
  {
   "cell_type": "code",
   "execution_count": 13,
   "id": "4873f65a-de4a-4e37-bc79-b14ef23879b2",
   "metadata": {},
   "outputs": [
    {
     "data": {
      "text/plain": [
       "tensor(13.)"
      ]
     },
     "execution_count": 13,
     "metadata": {},
     "output_type": "execute_result"
    }
   ],
   "source": [
    "x.grad"
   ]
  },
  {
   "cell_type": "code",
   "execution_count": 19,
   "id": "104591a4-34bc-4664-86cb-6f926228b290",
   "metadata": {},
   "outputs": [
    {
     "name": "stdout",
     "output_type": "stream",
     "text": [
      "[ 7.122 10.692 17.718 24.476]\n"
     ]
    }
   ],
   "source": [
    "numPlayers = 4\n",
    "highestDominoe = 9\n",
    "numRounds = 1000\n",
    "game = dg.dominoeGame(highestDominoe, agents=(da.doubleAgent, da.greedyAgent, None, da.stupidAgent))\n",
    "game.playGame(rounds=numRounds)\n",
    "print(np.sum(game.score,axis=0)/numRounds)"
   ]
  },
  {
   "cell_type": "code",
   "execution_count": 92,
   "id": "541c580c-f2cd-4160-90eb-f41ac05ef26e",
   "metadata": {},
   "outputs": [
    {
     "name": "stdout",
     "output_type": "stream",
     "text": [
      "0.0\n",
      "5.336737632751465e-05\n",
      "1.302783411681236e-05\n",
      "3.3613891042093196e-05\n",
      "1.0002245380520331e-05\n"
     ]
    }
   ],
   "source": [
    "# self.prepareScoreTime = [0, 0]\n",
    "# self.initHandTime = [0, 0]\n",
    "# self.presentGameStateTime = [0, 0]\n",
    "# self.agentPlayTime = [0, 0]\n",
    "# self.processPlayTime = [0, 0]\n",
    "\n",
    "print(game.prepareScoreTime[0]/game.prepareScoreTime[1])\n",
    "print(game.initHandTime[0]/game.initHandTime[1])\n",
    "print(game.presentGameStateTime[0]/game.presentGameStateTime[1])\n",
    "print(game.agentPlayTime[0]/game.agentPlayTime[1])\n",
    "print(game.processPlayTime[0]/game.processPlayTime[1])"
   ]
  },
  {
   "cell_type": "code",
   "execution_count": 17,
   "id": "044c49b6-7403-4de1-aac7-cea8eb0c3082",
   "metadata": {},
   "outputs": [
    {
     "name": "stdout",
     "output_type": "stream",
     "text": [
      "[0 1 2 3 4]\n",
      "[2 3 4 0 1]\n"
     ]
    }
   ],
   "source": [
    "x = np.arange(5)\n",
    "agentIndex = 2\n",
    "egoShiftIdx = np.mod(np.arange(5)+2,5)\n",
    "print(x)\n",
    "print(x[egoShiftIdx])"
   ]
  },
  {
   "cell_type": "code",
   "execution_count": null,
   "id": "ec1d5e5c-ab44-40f1-a372-305b21a7a2fa",
   "metadata": {},
   "outputs": [],
   "source": []
  },
  {
   "cell_type": "code",
   "execution_count": 59,
   "id": "384ed7ea-575a-4dcf-9912-a4fa59d20976",
   "metadata": {},
   "outputs": [
    {
     "data": {
      "text/plain": [
       "[[44, 43, 47, 36, 37, 7, 1, 12, 29, 22, 23],\n",
       " [39, 35, 14, 17, 32, 30, 6, 5],\n",
       " [33, 20, 25, 50, 49, 24, 19, 26, 51, 42, 40],\n",
       " [18, 10, 15, 41]]"
      ]
     },
     "execution_count": 59,
     "metadata": {},
     "output_type": "execute_result"
    }
   ],
   "source": [
    "game.lineSequence"
   ]
  },
  {
   "cell_type": "code",
   "execution_count": 60,
   "id": "7004a37e-647b-4593-8dce-7a022956353a",
   "metadata": {},
   "outputs": [
    {
     "data": {
      "text/plain": [
       "[9, 3, 31, 46, 45, 48, 53, 52, 38, 34, 28, 27]"
      ]
     },
     "execution_count": 60,
     "metadata": {},
     "output_type": "execute_result"
    }
   ],
   "source": [
    "game.dummySequence"
   ]
  },
  {
   "cell_type": "code",
   "execution_count": 61,
   "id": "4e1e1edf-f8f8-4fba-b84e-5d10b80ba5ad",
   "metadata": {},
   "outputs": [
    {
     "name": "stdout",
     "output_type": "stream",
     "text": [
      "[' 9|5 ', ' 5|8 ', ' 8|6 ', ' 6|4 ', ' 4|7 ', ' 7|0 ', ' 0|1 ', ' 1|3 ', ' 3|5 ', ' 5|2 ', ' 2|6 ']\n",
      "[' 9|4 ', ' 4|5 ', ' 5|1 ', ' 1|8 ', ' 8|3 ', ' 3|6 ', ' 6|0 ', ' 0|5 ']\n",
      "[' 9|3 ', ' 3|2 ', ' 2|8 ', ' 8|7 ', ' 7|7 ', ' 7|2 ', ' 2|2 ', ' 2|9 ', ' 9|7 ', ' 7|5 ', ' 5|5 ']\n",
      "[' 9|1 ', ' 1|1 ', ' 1|6 ', ' 6|5 ']\n",
      "[' 9|0 ', ' 0|3 ', ' 3|7 ', ' 7|6 ', ' 6|6 ', ' 6|9 ', ' 9|8 ', ' 8|8 ', ' 8|4 ', ' 4|4 ', ' 4|3 ', ' 3|3 ']\n"
     ]
    }
   ],
   "source": [
    "df.gameSequenceToString(game.dominoes, game.lineSequence, game.linePlayDirection, player=None, playNumber=None) #player=game.linePlayer, playNumber=game.linePlayNumber)\n",
    "df.gameSequenceToString(game.dominoes, game.dummySequence, game.dummyPlayDirection, player=None, playNumber=None) #player=game.linePlayer, playNumber=game.linePlayNumber)"
   ]
  },
  {
   "cell_type": "code",
   "execution_count": 62,
   "id": "2dc3ca7e-816f-4286-b9a0-82547e64fecf",
   "metadata": {},
   "outputs": [
    {
     "data": {
      "text/plain": [
       "False"
      ]
     },
     "execution_count": 62,
     "metadata": {},
     "output_type": "execute_result"
    }
   ],
   "source": [
    "game.handActive"
   ]
  },
  {
   "cell_type": "code",
   "execution_count": 63,
   "id": "0807bc9d-5f5f-46c3-800e-efec3d0903ec",
   "metadata": {},
   "outputs": [
    {
     "name": "stdout",
     "output_type": "stream",
     "text": [
      "[[1 2]\n",
      " [2 4]]\n",
      "[[0 2]\n",
      " [0 4]]\n",
      "[[0 0]\n",
      " [1 4]]\n",
      "[[0 8]\n",
      " [1 7]]\n"
     ]
    }
   ],
   "source": [
    "for agent in game.agents: \n",
    "    print(agent.handValues)"
   ]
  },
  {
   "cell_type": "code",
   "execution_count": null,
   "id": "2af6be45-0e53-45e6-a777-e5d4e533e130",
   "metadata": {},
   "outputs": [],
   "source": []
  },
  {
   "cell_type": "code",
   "execution_count": 231,
   "id": "fd66cc39-d291-4490-a65d-9ed4744b7b4b",
   "metadata": {},
   "outputs": [
    {
     "data": {
      "text/plain": [
       "55"
      ]
     },
     "execution_count": 231,
     "metadata": {},
     "output_type": "execute_result"
    }
   ],
   "source": [
    "len(game.dominoes)"
   ]
  },
  {
   "cell_type": "code",
   "execution_count": 232,
   "id": "19ebb403-9bd5-461a-9c4a-73e0f92a6722",
   "metadata": {},
   "outputs": [
    {
     "data": {
      "text/plain": [
       "29"
      ]
     },
     "execution_count": 232,
     "metadata": {},
     "output_type": "execute_result"
    }
   ],
   "source": [
    "sum([len(line) for line in game.lineSequence]) "
   ]
  },
  {
   "cell_type": "code",
   "execution_count": 234,
   "id": "6d732ed2-423c-46c9-8a57-ab97d30f3f83",
   "metadata": {},
   "outputs": [
    {
     "data": {
      "text/plain": [
       "array([ True,  True,  True,  True])"
      ]
     },
     "execution_count": 234,
     "metadata": {},
     "output_type": "execute_result"
    }
   ],
   "source": [
    "game.cantplay"
   ]
  },
  {
   "cell_type": "code",
   "execution_count": 236,
   "id": "78933470-b231-4c09-a3ae-6cd07ee42862",
   "metadata": {},
   "outputs": [],
   "source": [
    "game.nextPlayer=1"
   ]
  },
  {
   "cell_type": "code",
   "execution_count": null,
   "id": "0acd03aa-1aef-43cc-9773-6332b852210d",
   "metadata": {},
   "outputs": [],
   "source": []
  },
  {
   "cell_type": "code",
   "execution_count": 238,
   "id": "a5b83ca1-351b-4497-8d0e-1b7ee1a03f6d",
   "metadata": {},
   "outputs": [
    {
     "name": "stdout",
     "output_type": "stream",
     "text": [
      "1\n",
      "1\n"
     ]
    }
   ],
   "source": [
    "game.agents[game.nextPlayer].gameState(game.played, game.available, game.handsize, game.cantplay, game.turncounter, game.dummyAvailable, game.dummyPlayable)\n",
    "dominoe, location = game.agents[game.nextPlayer].selectPlay()\n",
    "print(dominoe)\n",
    "print(location)"
   ]
  },
  {
   "cell_type": "code",
   "execution_count": null,
   "id": "53e51acf-050b-40ca-933c-f3501d62d463",
   "metadata": {},
   "outputs": [],
   "source": []
  },
  {
   "cell_type": "code",
   "execution_count": null,
   "id": "2df8bed6-c877-46a1-a1fc-919648ef1b73",
   "metadata": {},
   "outputs": [],
   "source": []
  },
  {
   "cell_type": "code",
   "execution_count": 28,
   "id": "0d04b401-2624-419d-9fda-4e6fa82828e0",
   "metadata": {},
   "outputs": [
    {
     "name": "stdout",
     "output_type": "stream",
     "text": [
      "349 ns ± 4.27 ns per loop (mean ± std. dev. of 7 runs, 1,000,000 loops each)\n",
      "205 ns ± 4.39 ns per loop (mean ± std. dev. of 7 runs, 1,000,000 loops each)\n"
     ]
    }
   ],
   "source": [
    "x = np.random.randint(100,None,(5,5))\n",
    "%timeit y = x*0\n",
    "\n",
    "y = np.random.randint(100,None,(5,5))\n",
    "%timeit y[:]=0"
   ]
  },
  {
   "cell_type": "code",
   "execution_count": null,
   "id": "42096e97-217a-4c2c-84c6-6873dd025f80",
   "metadata": {},
   "outputs": [],
   "source": []
  },
  {
   "cell_type": "code",
   "execution_count": 32,
   "id": "fc775b24-bc2a-4517-b518-4a0718a32428",
   "metadata": {},
   "outputs": [
    {
     "name": "stdout",
     "output_type": "stream",
     "text": [
      "[[ 0  5 10 15 20]\n",
      " [ 1  6 11 16 21]\n",
      " [ 2  7 12 17 22]\n",
      " [ 3  8 13 18 23]\n",
      " [ 4  9 14 19 24]]\n"
     ]
    },
    {
     "data": {
      "text/plain": [
       "array([ 0,  5, 10, 15, 20,  1,  6, 11, 16, 21,  2,  7, 12, 17, 22,  3,  8,\n",
       "       13, 18, 23,  4,  9, 14, 19, 24])"
      ]
     },
     "execution_count": 32,
     "metadata": {},
     "output_type": "execute_result"
    }
   ],
   "source": [
    "x = np.arange(5).reshape(-1,1) + 5*np.arange(5).reshape(1,-1)\n",
    "print(x)\n",
    "x.flatten()"
   ]
  },
  {
   "cell_type": "code",
   "execution_count": null,
   "id": "47a673e6-7f82-470c-aa1d-1d0534b7f402",
   "metadata": {},
   "outputs": [],
   "source": []
  },
  {
   "cell_type": "code",
   "execution_count": null,
   "id": "c9d1c58c-fec0-4da5-85bd-c782d7363c43",
   "metadata": {},
   "outputs": [],
   "source": []
  },
  {
   "cell_type": "code",
   "execution_count": null,
   "id": "d1dfcbf7-ef10-4254-a31d-e9d82eeb62ed",
   "metadata": {},
   "outputs": [],
   "source": []
  },
  {
   "cell_type": "code",
   "execution_count": null,
   "id": "b6c05474-de04-44da-b64d-25f2ead02ed5",
   "metadata": {},
   "outputs": [],
   "source": []
  },
  {
   "cell_type": "code",
   "execution_count": null,
   "id": "76ea6089-01fc-43f8-8ca6-a58285390be2",
   "metadata": {},
   "outputs": [],
   "source": []
  },
  {
   "cell_type": "code",
   "execution_count": null,
   "id": "113c6782-1de5-44bc-b9ef-187ba9eedc0e",
   "metadata": {},
   "outputs": [],
   "source": []
  },
  {
   "cell_type": "code",
   "execution_count": null,
   "id": "b62849fb-452a-4961-913e-d18460c613db",
   "metadata": {},
   "outputs": [],
   "source": []
  },
  {
   "cell_type": "code",
   "execution_count": null,
   "id": "4be2d7e3-67db-43e5-9dad-f2479ec485fc",
   "metadata": {},
   "outputs": [],
   "source": []
  },
  {
   "cell_type": "code",
   "execution_count": null,
   "id": "e9f96572-bba5-486a-b677-3204e117b941",
   "metadata": {},
   "outputs": [],
   "source": []
  },
  {
   "cell_type": "code",
   "execution_count": 77,
   "id": "06a8e42f-29d5-4a18-830b-550e311a48e0",
   "metadata": {},
   "outputs": [
    {
     "name": "stderr",
     "output_type": "stream",
     "text": [
      "100%|████████████████████████████████████████████████████████████████████████████████| 300/300 [00:11<00:00, 25.52it/s]"
     ]
    },
    {
     "name": "stdout",
     "output_type": "stream",
     "text": [
      "[216.  74.   9.   1.]\n",
      "[ 7.36962963 10.34148148 17.77111111 24.62037037]\n"
     ]
    },
    {
     "name": "stderr",
     "output_type": "stream",
     "text": [
      "\n"
     ]
    }
   ],
   "source": [
    "numPlayers = 4\n",
    "highestDominoe = 9\n",
    "winnerCount = np.zeros(numPlayers)\n",
    "scoreTally = np.zeros(numPlayers)\n",
    "numGames = 300\n",
    "numRounds = 9\n",
    "game = dg.dominoeGame(highestDominoe, agents=(da.doubleAgent, da.greedyAgent, None, da.stupidAgent))\n",
    "for _ in tqdm(range(numGames)):\n",
    "    game.playGame(rounds=numRounds)\n",
    "    # game.printResults()\n",
    "    winnerCount[game.currentWinner]+=1\n",
    "    scoreTally += game.currentScore\n",
    "print(winnerCount)\n",
    "print(scoreTally / numGames / numRounds)"
   ]
  },
  {
   "cell_type": "code",
   "execution_count": null,
   "id": "1cfca2fc-5bd1-463a-ade8-df46ce91c895",
   "metadata": {},
   "outputs": [
    {
     "name": "stdout",
     "output_type": "stream",
     "text": [
      "Game has already finished\n",
      "[[ 31  17  20   0]\n",
      " [ 98 155  98 128]\n",
      " [106 124 121 130]\n",
      " [127 139 108 109]\n",
      " [102 112 143 128]\n",
      " [123 103 147 114]\n",
      " [114 127 124 124]\n",
      " [130 123 110 128]\n",
      " [132 124 117 120]\n",
      " [137 125 136  97]]\n",
      "[1100 1149 1124 1078]\n",
      "The winner is agent: 3 with a score of 1078!\n"
     ]
    }
   ],
   "source": [
    "game.playHand()\n",
    "game.printResults()"
   ]
  },
  {
   "cell_type": "code",
   "execution_count": null,
   "id": "35ed6b45-bad6-47c4-8ffd-4a748685a3b2",
   "metadata": {},
   "outputs": [],
   "source": []
  },
  {
   "cell_type": "code",
   "execution_count": null,
   "id": "370c60d6-23ba-405a-838b-9d7287e12ce1",
   "metadata": {},
   "outputs": [],
   "source": []
  },
  {
   "cell_type": "code",
   "execution_count": null,
   "id": "32e90e0c-49df-4744-9674-db3576c1b491",
   "metadata": {},
   "outputs": [],
   "source": []
  },
  {
   "cell_type": "code",
   "execution_count": null,
   "id": "9d95802d-1e4a-4ee1-9317-ad76b49bbf1e",
   "metadata": {},
   "outputs": [],
   "source": []
  },
  {
   "cell_type": "code",
   "execution_count": 170,
   "id": "1e48a147-ff43-48d0-bf99-f8478de1d2bb",
   "metadata": {},
   "outputs": [
    {
     "name": "stdout",
     "output_type": "stream",
     "text": [
      "[[0. 0. 0. 0. 0.]]\n",
      "[[0. 0. 0. 0. 0.]\n",
      " [0. 0. 0. 0. 0.]]\n",
      "[[0. 0. 0. 0. 0.]\n",
      " [0. 0. 0. 0. 0.]\n",
      " [0. 0. 0. 0. 0.]]\n",
      "[[0. 0. 0. 0. 0.]\n",
      " [0. 0. 0. 0. 0.]\n",
      " [0. 0. 0. 0. 0.]\n",
      " [0. 0. 0. 0. 0.]]\n"
     ]
    }
   ],
   "source": [
    "x = np.zeros((1,5))\n",
    "print(x)\n",
    "x = np.vstack((x, np.zeros((1,5))))\n",
    "print(x)\n",
    "x = np.vstack((x, np.zeros((1,5))))\n",
    "print(x)\n",
    "x = np.vstack((x, np.zeros((1,5))))\n",
    "print(x)"
   ]
  },
  {
   "cell_type": "code",
   "execution_count": null,
   "id": "90842e4f-da9a-4db1-ba2d-79dbe9ee6a35",
   "metadata": {},
   "outputs": [],
   "source": []
  },
  {
   "cell_type": "code",
   "execution_count": null,
   "id": "d55d06e5-c109-4313-9ad3-aebffbef7b43",
   "metadata": {},
   "outputs": [],
   "source": []
  },
  {
   "cell_type": "code",
   "execution_count": null,
   "id": "db5e1c23-13bb-43d2-96f4-d9b8d7cd91b9",
   "metadata": {},
   "outputs": [],
   "source": []
  },
  {
   "cell_type": "code",
   "execution_count": null,
   "id": "455d5185-14e4-4dfc-88ef-0d7b3525d099",
   "metadata": {},
   "outputs": [],
   "source": []
  },
  {
   "cell_type": "code",
   "execution_count": null,
   "id": "d33216c5-ea67-4dc0-b7bd-1d4f54f0a109",
   "metadata": {},
   "outputs": [],
   "source": []
  },
  {
   "cell_type": "code",
   "execution_count": null,
   "id": "a34394ca-afce-4130-86d8-518de762430d",
   "metadata": {},
   "outputs": [],
   "source": []
  },
  {
   "cell_type": "code",
   "execution_count": null,
   "id": "1cf91de7-6d74-4ea7-bd4c-5957126a02f9",
   "metadata": {},
   "outputs": [],
   "source": []
  },
  {
   "cell_type": "markdown",
   "id": "8ffb2790-9c12-4ed3-a650-a0163e9a3526",
   "metadata": {},
   "source": [
    "## Below this point I'm including some code blocks that make inspection of the gameplay and agent status easy... "
   ]
  },
  {
   "cell_type": "code",
   "execution_count": 159,
   "id": "ff4c26a2-a5a8-410d-9795-b88680257fd7",
   "metadata": {},
   "outputs": [
    {
     "name": "stdout",
     "output_type": "stream",
     "text": [
      "[[  0  25  57  20]\n",
      " [130  97 129 123]\n",
      " [136 104 106 135]\n",
      " [118 118 140 107]\n",
      " [ 83 136 124 142]\n",
      " [127 127 113 120]\n",
      " [133 114 120 122]\n",
      " [119 151 134  87]\n",
      " [122 132 116 123]\n",
      " [119 110 133 133]]\n",
      "[1087 1114 1172 1112]\n",
      "The winner is agent: 0 with a score of 1087!\n"
     ]
    }
   ],
   "source": [
    "numPlayers = 4\n",
    "highestDominoe = 9\n",
    "game = dg.dominoeGame(highestDominoe, agents=(da.doubleAgent, da.greedyAgent, None, da.stupidAgent))\n",
    "game.playGame()\n",
    "game.printResults()"
   ]
  },
  {
   "cell_type": "code",
   "execution_count": 153,
   "id": "6f8fa238-52ca-4b98-b287-1a9d283e1c51",
   "metadata": {},
   "outputs": [
    {
     "name": "stdout",
     "output_type": "stream",
     "text": [
      "[' 9|7 ', ' 7|7 ', ' 7|5 ', ' 5|5 ', ' 5|4 ', ' 4|0 ', ' 0|0 ']\n",
      "[' 9|5 ', ' 5|6 ', ' 6|7 ', ' 7|8 ', ' 8|4 ', ' 4|7 ', ' 7|3 ', ' 3|8 ', ' 8|2 ', ' 2|4 ']\n",
      "[' 9|8 ', ' 8|0 ', ' 0|7 ', ' 7|1 ', ' 1|1 ', ' 1|5 ', ' 5|3 ', ' 3|2 ']\n",
      "[' 9|2 ', ' 2|6 ', ' 6|3 ', ' 3|0 ', ' 0|5 ', ' 5|8 ', ' 8|1 ']\n",
      "[' 9|6 ', ' 6|0 ', ' 0|9 ', ' 9|3 ', ' 3|3 ', ' 3|4 ', ' 4|4 ', ' 4|6 ', ' 6|6 ', ' 6|1 ', ' 1|4 ', ' 4|9 ', ' 9|1 ']\n"
     ]
    }
   ],
   "source": [
    "numPlayers = 4\n",
    "highestDominoe = 9\n",
    "game = dg.dominoeGame(highestDominoe, agents=(da.doubleAgent, da.greedyAgent, None, da.stupidAgent))\n",
    "game.playHand()\n",
    "df.gameSequenceToString(game.dominoes, game.lineSequence, game.linePlayDirection, player=None, playNumber=None) #player=game.linePlayer, playNumber=game.linePlayNumber)\n",
    "df.gameSequenceToString(game.dominoes, game.dummySequence, game.dummyPlayDirection, player=None, playNumber=None) #player=game.linePlayer, playNumber=game.linePlayNumber)"
   ]
  },
  {
   "cell_type": "code",
   "execution_count": 449,
   "id": "1d0ae873-32f9-4a21-9724-741e666c36b7",
   "metadata": {},
   "outputs": [
    {
     "name": "stdout",
     "output_type": "stream",
     "text": [
      "line 0: []\n",
      "line 1: []\n",
      "line 2: []\n",
      "line 3: []\n",
      "dummy: []\n",
      "Dominoe: None, Location: None\n"
     ]
    }
   ],
   "source": [
    "# Example of options list for current game (requires game.initializeHand() and game.presentGameState() to be run)\n",
    "lineOptions, dummyOptions = game.agents[0].playOptions()\n",
    "df.printDominoeList(lineOptions, game.agents[0].dominoes, name='line')\n",
    "df.printDominoeList(dummyOptions, game.agents[0].dominoes, name='dummy:')\n",
    "dominoe, location = game.agents[0].selectPlay()\n",
    "print(f\"Dominoe: {dominoe}, Location: {location}\")"
   ]
  },
  {
   "cell_type": "code",
   "execution_count": 207,
   "id": "81fa6014-2a23-40f7-9955-d7f4ee1dc486",
   "metadata": {},
   "outputs": [
    {
     "data": {
      "text/plain": [
       "[[], [], [1], []]"
      ]
     },
     "execution_count": 207,
     "metadata": {},
     "output_type": "execute_result"
    }
   ],
   "source": [
    "# game details\n",
    "game.lineSequence"
   ]
  },
  {
   "cell_type": "code",
   "execution_count": null,
   "id": "969bb5b6-46c8-4c45-acfd-d4dd83f1c3cd",
   "metadata": {},
   "outputs": [],
   "source": []
  },
  {
   "cell_type": "code",
   "execution_count": null,
   "id": "94e4ed9f-c61e-4e19-9235-6e2ec58a5b57",
   "metadata": {},
   "outputs": [],
   "source": []
  },
  {
   "cell_type": "code",
   "execution_count": null,
   "id": "80913481-af53-4d8a-92b8-7916242d3f39",
   "metadata": {},
   "outputs": [],
   "source": []
  }
 ],
 "metadata": {
  "kernelspec": {
   "display_name": "Python 3 (ipykernel)",
   "language": "python",
   "name": "python3"
  },
  "language_info": {
   "codemirror_mode": {
    "name": "ipython",
    "version": 3
   },
   "file_extension": ".py",
   "mimetype": "text/x-python",
   "name": "python",
   "nbconvert_exporter": "python",
   "pygments_lexer": "ipython3",
   "version": "3.9.13"
  }
 },
 "nbformat": 4,
 "nbformat_minor": 5
}
