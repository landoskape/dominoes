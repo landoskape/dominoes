{
 "cells": [
  {
   "cell_type": "code",
   "execution_count": 15,
   "id": "6d4d84df-c50a-4eb1-88b3-3ba6b1ef7887",
   "metadata": {},
   "outputs": [],
   "source": [
    "# create simple system to operate a dominoes game\n",
    "\n",
    "# -- top level \"API\" for game --\n",
    "# inputs:\n",
    "# 1. number of players\n",
    "# 2. maximum number of dominoes\n",
    "# 3. rule for creating player agent, or preset list of agents\n",
    "# operation:\n",
    "# 1. distribute dominoes to each player randomly\n",
    "# 2. create turn list\n",
    "# 3. query players for their play (evaluate whether the play is valid and accept or reject it)\n",
    "# 4. identify winner, track score, initiate new round until 0/0 is finished\n",
    "\n",
    "# -- agent --\n",
    "# 1. one-hot of dominoes in hand\n",
    "# 2. one-hot of dominoes already played\n",
    "# 3. multi-length vector, one input for each other player, containing: 1) how many dominoes in their hand, 2) whether they have a penny up, 3) how many turns until they play\n",
    "# 4. number of turns until the agent plays\n",
    "# 5. one-hot of dominoes available to play on\n",
    "# 6. dominoe played on last turn? \n",
    "\n",
    "# -- simple agents --\n",
    "# 1. play random dominoe\n",
    "# 2. play highest dominoe\n",
    "# 3. play double-pair dominoe\n",
    "# 4. RL agent...\n",
    "\n",
    "# -- observation agents --\n",
    "# 1. I can train an independent RL model to predict the points at the end of each game from the current game state and run that independently. \n",
    "#    This would work by feeding in the full game state, then having the network predict the value on the next turn, and then learn from the last turn moving backwards (with uncertainty etc.)\n",
    "#    Then, I can teach this observer using games from crystallized agents, and update one agent to see how much better it performs than change. \n",
    "#    Additionally, this agent could maybe be integrated into the gameplay agents? \n",
    "# 2. Could train an RL model to predict what dominoes are in other agents hands based on what has been played, their line, and what is available..."
   ]
  },
  {
   "cell_type": "code",
   "execution_count": 433,
   "id": "d743f019-bcc5-4c13-8aef-98e737e0747e",
   "metadata": {},
   "outputs": [],
   "source": [
    "%reload_ext autoreload\n",
    "%autoreload 2\n",
    "\n",
    "import random\n",
    "import numpy as np\n",
    "import matplotlib.pyplot as plt\n",
    "import dominoesGameplay as dg\n",
    "import dominoesAgents as da\n",
    "import dominoesFunctions as df"
   ]
  },
  {
   "cell_type": "code",
   "execution_count": 450,
   "id": "06a8e42f-29d5-4a18-830b-550e311a48e0",
   "metadata": {},
   "outputs": [],
   "source": [
    "numPlayers = 4\n",
    "highestDominoe = 9\n",
    "game = dg.dominoeGame(numPlayers, highestDominoe)\n",
    "game.initializeHand()\n",
    "game.presentGameState()"
   ]
  },
  {
   "cell_type": "code",
   "execution_count": 451,
   "id": "8d1b9a60-5850-4350-b499-c07bb5195581",
   "metadata": {},
   "outputs": [],
   "source": [
    "game.playHand()"
   ]
  },
  {
   "cell_type": "code",
   "execution_count": null,
   "id": "b412f89a-27d0-4531-b607-cffca81bd932",
   "metadata": {},
   "outputs": [],
   "source": []
  },
  {
   "cell_type": "code",
   "execution_count": null,
   "id": "13c7e794-913d-4462-9335-6c3bd2a7103a",
   "metadata": {},
   "outputs": [],
   "source": []
  },
  {
   "cell_type": "code",
   "execution_count": null,
   "id": "0ce13972-0844-4580-9940-5fe3ceb3701d",
   "metadata": {},
   "outputs": [],
   "source": []
  },
  {
   "cell_type": "code",
   "execution_count": null,
   "id": "25e9fd97-f950-4eea-972b-b604fc3134ed",
   "metadata": {},
   "outputs": [],
   "source": []
  },
  {
   "cell_type": "code",
   "execution_count": null,
   "id": "29b3b34d-aec0-4325-be76-9bb91c37656c",
   "metadata": {},
   "outputs": [],
   "source": []
  },
  {
   "cell_type": "code",
   "execution_count": null,
   "id": "b9e59e69-53bd-4c31-9200-3a121157b628",
   "metadata": {},
   "outputs": [],
   "source": []
  },
  {
   "cell_type": "code",
   "execution_count": null,
   "id": "9429a3aa-9514-4f82-8f1b-0e2c88ea5786",
   "metadata": {},
   "outputs": [],
   "source": []
  },
  {
   "cell_type": "code",
   "execution_count": null,
   "id": "d325d80d-094f-45ad-b43d-8fb90176bee7",
   "metadata": {},
   "outputs": [],
   "source": []
  },
  {
   "cell_type": "code",
   "execution_count": null,
   "id": "5aa8aa3a-c55f-4333-b8a1-04baf52983e3",
   "metadata": {},
   "outputs": [],
   "source": []
  },
  {
   "cell_type": "code",
   "execution_count": null,
   "id": "8b2030f0-784f-460b-a7ca-e7d12146ff6c",
   "metadata": {},
   "outputs": [],
   "source": []
  },
  {
   "cell_type": "code",
   "execution_count": null,
   "id": "afba847b-7d01-49e3-a890-38a5c57a70c3",
   "metadata": {},
   "outputs": [],
   "source": []
  },
  {
   "cell_type": "code",
   "execution_count": null,
   "id": "1e48a147-ff43-48d0-bf99-f8478de1d2bb",
   "metadata": {},
   "outputs": [],
   "source": []
  },
  {
   "cell_type": "code",
   "execution_count": null,
   "id": "90842e4f-da9a-4db1-ba2d-79dbe9ee6a35",
   "metadata": {},
   "outputs": [],
   "source": []
  },
  {
   "cell_type": "code",
   "execution_count": null,
   "id": "d55d06e5-c109-4313-9ad3-aebffbef7b43",
   "metadata": {},
   "outputs": [],
   "source": []
  },
  {
   "cell_type": "code",
   "execution_count": null,
   "id": "db5e1c23-13bb-43d2-96f4-d9b8d7cd91b9",
   "metadata": {},
   "outputs": [],
   "source": []
  },
  {
   "cell_type": "code",
   "execution_count": null,
   "id": "455d5185-14e4-4dfc-88ef-0d7b3525d099",
   "metadata": {},
   "outputs": [],
   "source": []
  },
  {
   "cell_type": "code",
   "execution_count": null,
   "id": "d33216c5-ea67-4dc0-b7bd-1d4f54f0a109",
   "metadata": {},
   "outputs": [],
   "source": []
  },
  {
   "cell_type": "code",
   "execution_count": null,
   "id": "a34394ca-afce-4130-86d8-518de762430d",
   "metadata": {},
   "outputs": [],
   "source": []
  },
  {
   "cell_type": "code",
   "execution_count": null,
   "id": "1cf91de7-6d74-4ea7-bd4c-5957126a02f9",
   "metadata": {},
   "outputs": [],
   "source": []
  },
  {
   "cell_type": "markdown",
   "id": "8ffb2790-9c12-4ed3-a650-a0163e9a3526",
   "metadata": {},
   "source": [
    "## Below this point I'm including some code blocks that make inspection of the gameplay and agent status easy... "
   ]
  },
  {
   "cell_type": "code",
   "execution_count": 449,
   "id": "1d0ae873-32f9-4a21-9724-741e666c36b7",
   "metadata": {},
   "outputs": [
    {
     "name": "stdout",
     "output_type": "stream",
     "text": [
      "line 0: []\n",
      "line 1: []\n",
      "line 2: []\n",
      "line 3: []\n",
      "dummy: []\n",
      "Dominoe: None, Location: None\n"
     ]
    }
   ],
   "source": [
    "# Example of options list for current game (requires game.initializeHand() and game.presentGameState() to be run)\n",
    "lineOptions, dummyOptions = game.agents[0].playOptions()\n",
    "df.printDominoeList(lineOptions, game.agents[0].dominoes, name='line')\n",
    "df.printDominoeList(dummyOptions, game.agents[0].dominoes, name='dummy:')\n",
    "dominoe, location = game.agents[0].selectPlay()\n",
    "print(f\"Dominoe: {dominoe}, Location: {location}\")"
   ]
  },
  {
   "cell_type": "code",
   "execution_count": null,
   "id": "81fa6014-2a23-40f7-9955-d7f4ee1dc486",
   "metadata": {},
   "outputs": [],
   "source": []
  },
  {
   "cell_type": "code",
   "execution_count": null,
   "id": "969bb5b6-46c8-4c45-acfd-d4dd83f1c3cd",
   "metadata": {},
   "outputs": [],
   "source": []
  },
  {
   "cell_type": "code",
   "execution_count": null,
   "id": "94e4ed9f-c61e-4e19-9235-6e2ec58a5b57",
   "metadata": {},
   "outputs": [],
   "source": []
  },
  {
   "cell_type": "code",
   "execution_count": null,
   "id": "80913481-af53-4d8a-92b8-7916242d3f39",
   "metadata": {},
   "outputs": [],
   "source": []
  }
 ],
 "metadata": {
  "kernelspec": {
   "display_name": "Python 3 (ipykernel)",
   "language": "python",
   "name": "python3"
  },
  "language_info": {
   "codemirror_mode": {
    "name": "ipython",
    "version": 3
   },
   "file_extension": ".py",
   "mimetype": "text/x-python",
   "name": "python",
   "nbconvert_exporter": "python",
   "pygments_lexer": "ipython3",
   "version": "3.9.13"
  }
 },
 "nbformat": 4,
 "nbformat_minor": 5
}
