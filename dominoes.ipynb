{
 "cells": [
  {
   "cell_type": "code",
   "execution_count": 1,
   "id": "d743f019-bcc5-4c13-8aef-98e737e0747e",
   "metadata": {
    "tags": []
   },
   "outputs": [
    {
     "name": "stdout",
     "output_type": "stream",
     "text": [
      "Using device: cuda\n"
     ]
    }
   ],
   "source": [
    "%reload_ext autoreload\n",
    "%autoreload 2\n",
    "\n",
    "# import os\n",
    "# os.environ['CUDA_LAUNCH_BLOCKING'] = \"1\"\n",
    "# os.environ['TORCH_USE_CUDA_DSA'] = \"1\"\n",
    "\n",
    "import time\n",
    "from copy import copy\n",
    "import random\n",
    "import numpy as np\n",
    "import torch\n",
    "from tqdm import tqdm\n",
    "import matplotlib.pyplot as plt\n",
    "import matplotlib as mpl\n",
    "from dominoes import leagueManager as lm\n",
    "from dominoes import gameplay as dg\n",
    "from dominoes import agents as da\n",
    "from dominoes import functions as df\n",
    "from dominoes import fileManagement as fm\n",
    "from dominoes import transformers\n",
    "from dominoes import datasets\n",
    "from dominoes import training\n",
    "\n",
    "device = \"cuda\" if torch.cuda.is_available() else \"cpu\"\n",
    "print(f\"Using device: {device}\")"
   ]
  },
  {
   "cell_type": "code",
   "execution_count": 4,
   "id": "48c901ba-4294-4ff4-8d74-ae540752816a",
   "metadata": {},
   "outputs": [],
   "source": [
    "# To-Do List\n",
    "# 0. Plot valueAgentELO results effectively and document it!\n",
    "# 1. Train a library of lineValueAgents on a server\n",
    "# 3. Build a policy-only agent!\n",
    "#    - It will learn with a network approximation of the value function in the same way the other ones do\n",
    "#    - But it'll process the hand and game state to generate a context embedding -----\n",
    "#    - Then use a pointer network to choose which option to play based on the option encoding and the context\n",
    "#    - The policy can then be updated with the temporal-difference of the value function, which will get more efficient over time\n",
    "\n",
    "# Experiments: \n",
    "# 1. Show that the order of the agents matter (i.e. going after a good agent makes it harder!)\n",
    "# 2. Compare lineValueNetwork trained on only it's turn vs. all turns vs. just it's turn and the next turn\n",
    "# 4. Compare value agents trained with hand-continuity of eligibility traces or resets...\n",
    "\n",
    "# Analysis Goals: \n",
    "# 1. look at Linear layer of cnnLayer, find out how similar it is across dominoes\n",
    "# 2. Same for first linear layer of ffLayer\n",
    "# 3. Initialize the game many times, look at correlation between average lineValueFeatures and final score output\n",
    "# 4. Analyze why the abrupt increases in loss happen during pointer demonstration\n",
    "#    - add the analysis of seqLength vs. loss and position-dependent error to analyze the spikes in the loss\n",
    "\n",
    "# restructure experiments so they save key data points and divide the data generation and the analysis \n",
    "# so I can run it in \"analysis\" mode where it just loads data from a prespecified filename...\n",
    "# ---- keeping the above here because I don't think it's done for all of them yet ------\n"
   ]
  },
  {
   "cell_type": "code",
   "execution_count": 266,
   "id": "d2e766be-47db-4828-a6da-9abeca5ac1ea",
   "metadata": {},
   "outputs": [],
   "source": [
    "# Immediate to-do\n",
    "# 1. Finish up transition to REINFORCE algorithm for pointer sequencing\n",
    "#    - also do this for the pointer demonstration\n",
    "# 2. Then use a separate value network to force the encoding to learn how to predict the value of the pointer output.\n",
    "# 3. Switch it to generate an output based on a randomized turn schedule (e.g. possibly be cutoff from generating output and accruing value)\n",
    "#    - Predict this with a value function too. \n",
    "# 4. Divide pointer network into \"encoder\" and \"decoder\" blocks to reuse the encoder (and append value)\n",
    "# 5. Try new versions of pointer attention:\n",
    "#    - simple attention (not a transformer layer) then single (N -> 1) FF layer\n",
    "#    - dot product between decoder_context and encoded_representations then softmax over that\n",
    "# --\n",
    "# also\n",
    "# --\n",
    "# 1. Test simpler TD agents on a probability of winning based value, rather than score!\n",
    "\n",
    "\n",
    "# Good Coding Practice:\n",
    "# 1. Convert measure reward to class\n",
    "# 2. Make a class for all these methods going to the experiments (batch, pad, etc.)\n",
    "\n",
    "# Representations:\n",
    "# 1. Make clean and nicely stored system for representing outputs in hand sequencing"
   ]
  },
  {
   "cell_type": "code",
   "execution_count": null,
   "id": "c586ede8-520b-48b2-ae03-6b2850459af7",
   "metadata": {},
   "outputs": [],
   "source": []
  },
  {
   "cell_type": "code",
   "execution_count": null,
   "id": "27eddee9-9614-45b2-aff5-73337ef80155",
   "metadata": {},
   "outputs": [],
   "source": []
  },
  {
   "cell_type": "code",
   "execution_count": null,
   "id": "74ad33c6-8219-4044-b7ad-c6b6f9dfef63",
   "metadata": {},
   "outputs": [
    {
     "name": "stdout",
     "output_type": "stream",
     "text": [
      "Training network...\n"
     ]
    },
    {
     "name": "stderr",
     "output_type": "stream",
     "text": [
      " 83%|█████████████████████████████████████████████████████████████████             | 1251/1500 [02:51<00:33,  7.37it/s]"
     ]
    }
   ],
   "source": [
    "#### set up toy experiment with a simple problem and pointer network to test the REINFORCE algorithm\n",
    "# start with 'pointerDemonstration' code and reward dominoes in order of highest value, not rewarding already played dominoes, and discounting future dominoes...\n",
    "\n",
    "# get values from the argument parser\n",
    "highestDominoe = 9\n",
    "listDominoes = df.listDominoes(highestDominoe)\n",
    "dominoeValue = np.sum(listDominoes, axis=1)\n",
    "\n",
    "\n",
    "# do subselection for training\n",
    "doubleDominoes = listDominoes[:,0] == listDominoes[:,1]\n",
    "nonDoubleReverse = listDominoes[~doubleDominoes][:,[1,0]] # represent each dominoe in both orders\n",
    "\n",
    "# list of full set of dominoe representations and value of each\n",
    "listDominoes = np.concatenate((listDominoes, nonDoubleReverse), axis=0)\n",
    "dominoeValue = np.sum(listDominoes, axis=1)\n",
    "\n",
    "# subset dominoes\n",
    "keepFraction = 0.8\n",
    "keepNumber = int(len(listDominoes)*keepFraction)\n",
    "keepIndex = np.sort(np.random.permutation(len(listDominoes))[:keepNumber]) # keep random fraction (but sort in same way)\n",
    "keepDominoes = listDominoes[keepIndex]\n",
    "keepValue = dominoeValue[keepIndex]\n",
    "\n",
    "\n",
    "ignoreIndex = -1\n",
    "handSize = 8\n",
    "batchSize = 512\n",
    "\n",
    "input_dim = 2*(highestDominoe+1)\n",
    "embedding_dim = 48\n",
    "heads = 4\n",
    "encoding_layers = 1\n",
    "greedy = True\n",
    "temperature = 5.0\n",
    "thompson = True\n",
    "maxOutput = handSize\n",
    "\n",
    "trainEpochs = 1500\n",
    "testEpochs = 100\n",
    "\n",
    "gamma = 1.0\n",
    "exponent = torch.arange(maxOutput).view(-1,1) - torch.arange(maxOutput).view(1,-1)\n",
    "gamma_transform = (gamma ** exponent * (exponent >= 0)).unsqueeze(0).expand(batchSize, -1, -1).to(device)\n",
    "\n",
    "\n",
    "# do reinforcement learning\n",
    "batch_inputs = {'null_token':False, \n",
    "                'available_token':False, \n",
    "                'ignore_index':ignoreIndex, \n",
    "                'return_full':True,\n",
    "                'return_target':False,\n",
    "               }\n",
    "\n",
    "pointer_methods = ['PointerStandard', 'PointerDot', 'PointerAttention', 'PointerTransformer']\n",
    "nets = [transformers.PointerNetwork(input_dim, embedding_dim, temperature=temperature, pointer_method=pointer_method, thompson=thompson,\n",
    "                                    encoding_layers=encoding_layers, heads=heads, kqnorm=True, decoder_method='transformer', \n",
    "                                    greedy=greedy)\n",
    "         for pointer_method in pointer_methods]\n",
    "nets = [net.to(device) for net in nets]\n",
    "for net in nets: net.train()\n",
    "\n",
    "# Create an optimizer, Adam with weight decay is pretty good\n",
    "optimizers = [torch.optim.Adam(net.parameters(), lr=1e-3, weight_decay=1e-5) for net in nets]\n",
    "\n",
    "numNets = len(nets)\n",
    "\n",
    "# Train network\n",
    "print(\"Training network...\")\n",
    "trainLoss = torch.zeros((trainEpochs, numNets))\n",
    "trainReward = torch.zeros((trainEpochs, maxOutput, numNets))\n",
    "trainConfidence = torch.zeros((trainEpochs, maxOutput, numNets))\n",
    "for epoch in tqdm(range(trainEpochs)):\n",
    "    batch = datasets.generateBatch(highestDominoe, keepDominoes, batchSize, handSize, **batch_inputs)\n",
    "\n",
    "    # unpack batch tuple\n",
    "    input, _, _, _, _, selection, available = batch\n",
    "\n",
    "    # move to correct device\n",
    "    input = input.to(device)\n",
    "    \n",
    "    # zero gradients, get output of network\n",
    "    for opt in optimizers: opt.zero_grad()\n",
    "    log_scores, choices = map(list, zip(*[net(input, max_output=maxOutput) for net in nets]))\n",
    "\n",
    "    # log-probability for each chosen dominoe\n",
    "    logprob_policy = [torch.gather(score, 2, choice.unsqueeze(2)).squeeze(2) for score, choice in zip(log_scores, choices)]\n",
    "    \n",
    "    # measure reward\n",
    "    rewards = [training.measureReward_sortDescend(keepDominoes[selection], choice) for choice in choices]\n",
    "    G = [torch.bmm(reward.unsqueeze(1), gamma_transform).squeeze(1) for reward in rewards]\n",
    "\n",
    "    # measure J\n",
    "    J = [-torch.sum(logpol * g) for logpol, g in zip(logprob_policy, G)]\n",
    "    for j in J: j.backward()\n",
    "    \n",
    "    for opt in optimizers: opt.step()\n",
    "    \n",
    "    # save training data\n",
    "    for i in range(numNets):\n",
    "        trainLoss[epoch, i] = torch.mean(torch.sum(rewards[i], dim=1))\n",
    "        trainReward[epoch, :, i] = torch.mean(rewards[i], dim=0)\n",
    "        trainConfidence[epoch, :, i] = torch.mean(logprob_policy[i], dim=0)\n",
    "\n",
    "with torch.no_grad():\n",
    "    for net in nets: \n",
    "        net.setTemperature(1.0)\n",
    "        net.setThompson(False)\n",
    "        \n",
    "    print('Testing network...')\n",
    "    testLoss = torch.zeros((testEpochs, numNets))\n",
    "    for epoch in tqdm(range(testEpochs)):\n",
    "        batch = datasets.generateBatch(highestDominoe, listDominoes, batchSize, handSize, **batch_inputs)\n",
    "\n",
    "        # unpack batch tuple\n",
    "        input, _, _, _, _, selection, available = batch\n",
    "    \n",
    "        # move to correct device\n",
    "        input = input.to(device)\n",
    "        \n",
    "        # get output of network\n",
    "        log_scores, choices = map(list, zip(*[net(input, max_output=maxOutput) for net in nets]))\n",
    "    \n",
    "        # log-probability for each chosen dominoe\n",
    "        logprob_policy = [torch.gather(score, 2, choice.unsqueeze(2)).squeeze(2) for score, choice in zip(log_scores, choices)]\n",
    "        \n",
    "        # measure reward\n",
    "        rewards = [training.measureReward_sortDescend(listDominoes[selection], choice) for choice in choices]\n",
    "        \n",
    "        # save training data\n",
    "        for i in range(numNets):\n",
    "            testLoss[epoch, i] = torch.mean(torch.sum(rewards[i], dim=1))\n",
    "\n",
    "plt.close('all')\n",
    "fig, ax = plt.subplots(1,2,figsize=(8,3))\n",
    "for inet in range(numNets):\n",
    "    name = f\"{pointer_methods[inet]}\"\n",
    "    ax[0].plot(range(trainEpochs), trainLoss[:,inet].detach().cpu().numpy(), label=name)\n",
    "    ax[1].plot(range(testEpochs), testLoss[:,inet].detach().cpu().numpy(), label=name)\n",
    "\n",
    "ylims = ax[0].get_ylim()\n",
    "ax[1].set_ylim(ylims)\n",
    "ax[1].legend(loc='lower right')\n",
    "plt.show()\n"
   ]
  },
  {
   "cell_type": "code",
   "execution_count": null,
   "id": "a56f440c-0c3d-42da-afda-14f3754e5768",
   "metadata": {},
   "outputs": [],
   "source": []
  },
  {
   "cell_type": "code",
   "execution_count": null,
   "id": "6cadbbd1-16cb-4b30-9081-ebbbd1ab5941",
   "metadata": {},
   "outputs": [],
   "source": []
  },
  {
   "cell_type": "code",
   "execution_count": null,
   "id": "7a7f5725-0a41-47c4-a1ff-9b1b7dd2eca9",
   "metadata": {},
   "outputs": [],
   "source": []
  },
  {
   "cell_type": "code",
   "execution_count": null,
   "id": "b8e7bc1b-ded3-4e3d-bc33-3058ca8f66ad",
   "metadata": {},
   "outputs": [],
   "source": []
  },
  {
   "cell_type": "code",
   "execution_count": null,
   "id": "97bd2d3e-c04e-4f36-87a2-76ca7b04c000",
   "metadata": {},
   "outputs": [],
   "source": []
  },
  {
   "cell_type": "code",
   "execution_count": null,
   "id": "e91e6034-59e6-4776-94ee-87747e063bd1",
   "metadata": {},
   "outputs": [],
   "source": []
  },
  {
   "cell_type": "code",
   "execution_count": null,
   "id": "8049b188-91e1-43e1-bf1a-045921b443f9",
   "metadata": {},
   "outputs": [],
   "source": []
  },
  {
   "cell_type": "code",
   "execution_count": null,
   "id": "5bceb225-a881-4557-b6d4-fd8d3aa3a9c9",
   "metadata": {},
   "outputs": [],
   "source": []
  },
  {
   "cell_type": "code",
   "execution_count": null,
   "id": "8ac0c6af-58f9-4e41-be9d-deb6e122c95b",
   "metadata": {},
   "outputs": [],
   "source": []
  },
  {
   "cell_type": "code",
   "execution_count": null,
   "id": "e1b30ff2-343a-4fce-982b-9ef99faeee04",
   "metadata": {},
   "outputs": [],
   "source": []
  },
  {
   "cell_type": "code",
   "execution_count": null,
   "id": "18610ea9-5503-44af-b3f9-a5b9ad667bbf",
   "metadata": {},
   "outputs": [],
   "source": []
  },
  {
   "cell_type": "code",
   "execution_count": null,
   "id": "fdd044db-b049-4d8d-a0ff-f898f416967f",
   "metadata": {},
   "outputs": [],
   "source": []
  },
  {
   "cell_type": "code",
   "execution_count": null,
   "id": "e801b87c-929e-4f38-b9f5-d90558959007",
   "metadata": {},
   "outputs": [],
   "source": []
  },
  {
   "cell_type": "code",
   "execution_count": 1,
   "id": "ba19df7f-6041-45be-bd05-c84838a6e6c6",
   "metadata": {},
   "outputs": [],
   "source": [
    "# order of operations:\n",
    "# 4. write documentation file explaining the experiment\n",
    "# 5. develop these analyses, focus on pointer layer because that's where the new architectures are|"
   ]
  },
  {
   "cell_type": "code",
   "execution_count": 9,
   "id": "a41e8631-16b8-450c-b8ca-10419337b67d",
   "metadata": {},
   "outputs": [],
   "source": [
    "from pathlib import Path\n",
    "train_method = 'with_thompson'\n",
    "pointer_methods = ['PointerStandard', 'PointerDot']\n",
    "\n",
    "resPath = Path('experiments') / 'savedResults'\n",
    "savePath = Path('.') / 'experiments' / 'savedNetworks'\n",
    "results = np.load(resPath / 'pointerArchitectureComparison.npy', allow_pickle=True).item()\n",
    "nets = []\n",
    "for pointer_method in pointer_methods:\n",
    "    name = f\"pointerArchitectureComparison_{pointer_method}_{train_method}.pt\"\n",
    "    nets.append(torch.load(savePath / name))\n",
    "nets = [net.to(device) for net in nets]"
   ]
  },
  {
   "cell_type": "code",
   "execution_count": 93,
   "id": "03568a8e-dafa-446e-833f-201d13c12383",
   "metadata": {},
   "outputs": [],
   "source": [
    "# prepare inputs for network inspection\n",
    "def pointerModule(net, encoded, decoder_input, decoder_context, max_output, mask):\n",
    "    pointer_log_scores = []\n",
    "    pointer_choices = []\n",
    "    pointer_outs = []\n",
    "    for i in range(max_output):\n",
    "        # update context representation\n",
    "        decoder_context = net.pointer.decode(encoded, decoder_input, decoder_context, mask)\n",
    "        \n",
    "        # use pointer attention to evaluate scores of each possible input given the context\n",
    "        decoder_state = net.pointer.get_decoder_state(decoder_input, decoder_context)\n",
    "        outs = pointerLayer(net, encoded, decoder_state, mask=mask)\n",
    "        score = outs[0]\n",
    "        intermediate = outs[1:]\n",
    "        \n",
    "        # standard loss function (nll_loss) requires log-probabilities\n",
    "        log_score = score if net.greedy else torch.log(score)\n",
    "\n",
    "        # choose token for this sample\n",
    "        if net.pointer.thompson:\n",
    "            # choose probabilistically\n",
    "            choice = torch.multinomial(torch.exp(log_score), 1)\n",
    "        else:\n",
    "            # choose based on maximum score\n",
    "            choice = torch.argmax(log_score, dim=1, keepdim=True)\n",
    "\n",
    "        if net.greedy:\n",
    "            # next decoder_input is whatever token had the highest probability\n",
    "            index_tensor = choice.unsqueeze(-1).expand(batch_size, 1, net.embedding_dim)\n",
    "            decoder_input = torch.gather(encoded, dim=1, index=index_tensor).squeeze(1)\n",
    "        else:\n",
    "            # next decoder_input is the dot product of token encodings and their probabilities\n",
    "            decoder_input = torch.bmm(score.unsqueeze(1), encoded).squeeze(1)\n",
    "            \n",
    "        # Save output of each decoding round\n",
    "        pointer_log_scores.append(log_score)\n",
    "        pointer_choices.append(choice)\n",
    "        pointer_outs.append(intermediate)\n",
    "        \n",
    "    log_scores = torch.stack(pointer_log_scores, 1)\n",
    "    choices = torch.stack(pointer_choices, 1).squeeze(2)\n",
    "\n",
    "    return log_scores, choices, pointer_outs\n",
    "    \n",
    "def pointerLayer(net, encoded, decoder_state, mask=None):\n",
    "    if net.pointer_method == 'PointerStandard':\n",
    "        tEncoded = net.pointer.pointer.W1(encoded)\n",
    "        tDecoded = net.pointer.pointer.W2(decoder_state)\n",
    "        u = net.pointer.pointer.vt(torch.tanh(tEncoded + tDecoded.unsqueeze(1))).squeeze(2)\n",
    "        \n",
    "    elif net.pointer_method == 'PointerDot':\n",
    "        tEncoded = net.pointer.pointer.eln(net.pointer.pointer.W1(encoded))\n",
    "        tDecoded = net.pointer.pointer.dln(net.pointer.pointer.W2(decoder_state))\n",
    "        u = torch.bmm(tEncoded, tDecoded.unsqueeze(2)).squeeze(2)\n",
    "\n",
    "    elif net.pointer_method == 'PointerDotNoLN':\n",
    "        tEncoded = net.pointer.pointer.W1(encoded)\n",
    "        tDecoded = net.pointer.pointer.W2(decoder_state)\n",
    "        u = torch.bmm(tEncoded, tDecoded.unsqueeze(2)).squeeze(2)\n",
    "\n",
    "    elif net.pointer_method == 'PointerDotLean':\n",
    "        tEncoded = net.pointer.pointer.eln(encoded)\n",
    "        tDecoded = net.pointer.pointer.dln(decoder_state)\n",
    "        u = torch.bmm(tEncoded, tDecoded.unsqueeze(2)).squeeze(2)\n",
    "        \n",
    "    else:\n",
    "        raise ValueError(\"did not recognize pointer method\")\n",
    "\n",
    "    # mask and compute softmax\n",
    "    if mask is not None:\n",
    "        u.masked_fill_(mask==0, -200) # only use valid tokens\n",
    "\n",
    "    if net.pointer.pointer.log_softmax:\n",
    "        # convert to log scores\n",
    "        score = torch.nn.functional.log_softmax(u/net.pointer.temperature, dim=-1)\n",
    "    else:\n",
    "        # convert to probabilities\n",
    "        score = torch.nn.functional.softmax(u/net.pointer.temperature, dim=-1)\n",
    "\n",
    "    return score, tEncoded, tDecoded, u\n",
    "\n",
    "# get a \"normal\" batch\n",
    "highestDominoe = 9\n",
    "listDominoes = df.listDominoes(highestDominoe)\n",
    "\n",
    "# do subselection for training\n",
    "doubleDominoes = listDominoes[:,0] == listDominoes[:,1]\n",
    "nonDoubleReverse = listDominoes[~doubleDominoes][:,[1,0]] # represent each dominoe in both orders\n",
    "\n",
    "# list of full set of dominoe representations and value of each\n",
    "listDominoes = np.concatenate((listDominoes, nonDoubleReverse), axis=0)\n",
    "dominoeValue = np.sum(listDominoes, axis=1)\n",
    "\n",
    "# training inputs\n",
    "numDominoes = len(listDominoes)\n",
    "dominoeValue = np.sum(listDominoes, axis=1)\n",
    "batchSize = 512\n",
    "handSize = 8\n",
    "batch_inputs = {'null_token':False, \n",
    "                'available_token':False, \n",
    "                'ignore_index':-1, \n",
    "                'return_full':True,\n",
    "                'return_target':False,\n",
    "               }\n",
    "\n",
    "selection = np.array([])\n",
    "while len(np.unique(selection))!=numDominoes:\n",
    "    batch = datasets.generateBatch(highestDominoe, listDominoes, batchSize, handSize, **batch_inputs)\n",
    "    \n",
    "    # unpack batch tuple\n",
    "    input, _, _, _, _, selection, available = batch\n",
    "    input = input.to(device)\n",
    "\n",
    "# pre-forward\n",
    "batch_size, tokens, _ = input.size()\n",
    "mask = torch.ones((batch_size, tokens), dtype=input.dtype).to(device)\n",
    "\n",
    "# encoding\n",
    "embedded = [net.embedding(input) for net in nets]\n",
    "encoded = [net.encoding(embed) for net, embed in zip(nets, embedded)]\n",
    "\n",
    "numerator= [torch.sum(enc*mask.unsqueeze(2), dim=1) for enc in encoded]\n",
    "denominator = [torch.sum(mask, dim=1, keepdim=True) for _ in nets]\n",
    "decoder_context = [num/den for num, den in zip(numerator, denominator)]\n",
    "decoder_input = [torch.zeros((batch_size, net.embedding_dim)).to(device) for net in nets]\n",
    "\n",
    "# this will work for all, but as of now I just am studying the PointerDot\n",
    "idx_inspect = 2\n",
    "scores, choices, outs = pointerModule(nets[idx_inspect], \n",
    "                                      encoded[idx_inspect], \n",
    "                                      decoder_input[idx_inspect], \n",
    "                                      decoder_context[idx_inspect], \n",
    "                                      8, \n",
    "                                      mask)\n",
    "\n",
    "ptr_encoded, ptr_decoded, ptr_u = map(list, zip(*outs)) # unpack for PointerDor\n",
    "ptr_encoded = ptr_encoded[0].to('cpu') # they're all the same, only need the first. this is bad code at the moment!\n",
    "ptr_decoded = torch.stack(ptr_decoded, dim=2).to('cpu') # only a single array, so stack across output sequence\n",
    "ptr_u = torch.stack(ptr_u, dim=2).to('cpu') # only a single array, so stack across output sequence\n",
    "choices = choices.to('cpu')"
   ]
  },
  {
   "cell_type": "code",
   "execution_count": 94,
   "id": "bec93465-ccfb-49b2-b65c-71cfb497c20b",
   "metadata": {},
   "outputs": [],
   "source": [
    "# make dominoe x embedding array to figure out sort index for units\n",
    "emb_dim = ptr_encoded.size(2)\n",
    "scatter_index = torch.tensor(selection, dtype=torch.long).view(-1,1)\n",
    "dom_rep_encoded = torch.zeros((numDominoes, emb_dim), dtype=torch.float)\n",
    "dom_rep_counts = torch.zeros((numDominoes, 1), dtype=torch.long)\n",
    "dom_rep_encoded.scatter_add_(0, scatter_index.expand(-1, emb_dim), ptr_encoded.view(-1, emb_dim))\n",
    "dom_rep_counts.scatter_add_(0, scatter_index, torch.ones_like(scatter_index, dtype=torch.long))\n",
    "dom_rep_encoded /= dom_rep_counts # average encoding of each dominoe"
   ]
  },
  {
   "cell_type": "code",
   "execution_count": 95,
   "id": "1294b267-df13-4129-8f54-3079122d45ca",
   "metadata": {},
   "outputs": [],
   "source": [
    "# sort encoding and decodings\n",
    "proj_value = torch.tensor(dominoeValue, dtype=torch.float) @ dom_rep_encoded\n",
    "idx_dom_sort = np.argsort(dominoeValue)\n",
    "idx_enc_sort = torch.argsort(-proj_value)"
   ]
  },
  {
   "cell_type": "code",
   "execution_count": 99,
   "id": "5d451076-e9f7-4232-b35a-3b4039fa0360",
   "metadata": {},
   "outputs": [
    {
     "name": "stdout",
     "output_type": "stream",
     "text": [
      "(48, 1)\n"
     ]
    },
    {
     "data": {
      "image/png": "[encoded data removed]",
      "text/plain": [
       "<Figure size 1200x300 with 4 Axes>"
      ]
     },
     "metadata": {},
     "output_type": "display_data"
    }
   ],
   "source": [
    "# pick batch index and show data\n",
    "bidx = 2\n",
    "batch_dominoes = listDominoes[selection[bidx]]\n",
    "batch_value = np.sum(batch_dominoes, axis=1)\n",
    "\n",
    "combined = ptr_encoded[bidx] + ptr_decoded[bidx][:,0]\n",
    "ctrans = np.tanh(combined.T[idx_enc_sort][:,choices[bidx]].detach().numpy())\n",
    "vtrans = nets[0].pointer.pointer.vt.weight.detach().cpu().numpy()[0, idx_enc_sort].reshape(-1,1)\n",
    "print(vtrans.shape)\n",
    "\n",
    "plt.close('all')\n",
    "fig, ax = plt.subplots(1,4,figsize=(12,3))\n",
    "ax[0].imshow(ptr_encoded[bidx].T[idx_enc_sort][:,choices[bidx]].detach().numpy(), aspect='auto')\n",
    "ax[1].imshow(ptr_decoded[bidx][idx_enc_sort].detach().numpy(), aspect='auto')\n",
    "ax[2].imshow(np.hstack((vtrans, ctrans)), aspect='auto')\n",
    "ax[3].plot(range(len(batch_value)), batch_value[choices[bidx]], color='k', label='dominoe value')\n",
    "plt.show()"
   ]
  },
  {
   "cell_type": "code",
   "execution_count": 73,
   "id": "c8e75659-f507-4a08-9365-75c3d88174be",
   "metadata": {},
   "outputs": [],
   "source": [
    "# the above is the right idea. need to write good code to:\n",
    "# -- process and store intermediate activations of different pointer networks\n",
    "# -- take a full batch of data (ensuring that each dominoe is represented) and sort activations \n",
    "#             - using rastermap, PCA, basic sort projection method\n",
    "# -- show the encoding of different batches with the decoder dot representation\n",
    "# -- show the decoder update rules (study the decoder transformer) NOTE THAT THIS IS COMPLICATED!!!\n",
    "# -- show how encoding of the same dominoe changes depending on what other dominoes are present"
   ]
  },
  {
   "cell_type": "code",
   "execution_count": 87,
   "id": "9bdbb8fc-a28b-48e7-9668-34a84c69eda9",
   "metadata": {},
   "outputs": [],
   "source": [
    "# also, gotta quickly!!! move all the above code to an \"analysis\" module\n",
    "# preferably in a new directory on the same level as dominoes and experiments..."
   ]
  },
  {
   "cell_type": "code",
   "execution_count": null,
   "id": "1d41fa61-de6b-4fa1-8127-884e8e601e40",
   "metadata": {},
   "outputs": [],
   "source": [
    "# also need some basic analyses of pointerArchitectureComparison, specifically the confidence measure!"
   ]
  },
  {
   "cell_type": "code",
   "execution_count": null,
   "id": "00c81977-01a9-46b7-b8a0-b43872537fb2",
   "metadata": {},
   "outputs": [],
   "source": [
    "# and need to update above code to include breakdown of all the pointer_method layers"
   ]
  },
  {
   "cell_type": "code",
   "execution_count": null,
   "id": "30db4484-295f-412e-8694-ee32451a1eb4",
   "metadata": {},
   "outputs": [],
   "source": [
    "# measure eigenspectrum of activations in the pointer layer (either before or after W1...)"
   ]
  },
  {
   "cell_type": "code",
   "execution_count": null,
   "id": "28a133f3-b256-4f51-b005-dd79cb89e71a",
   "metadata": {},
   "outputs": [],
   "source": []
  },
  {
   "cell_type": "code",
   "execution_count": null,
   "id": "9aaa467d-be56-4e8b-87fc-d28a378461fc",
   "metadata": {},
   "outputs": [],
   "source": []
  },
  {
   "cell_type": "code",
   "execution_count": null,
   "id": "69f0c926-e24b-4882-a843-168e91ee452a",
   "metadata": {},
   "outputs": [],
   "source": []
  },
  {
   "cell_type": "code",
   "execution_count": null,
   "id": "d467b4d4-8a8c-45a1-adf9-e20af611844a",
   "metadata": {},
   "outputs": [],
   "source": []
  },
  {
   "cell_type": "code",
   "execution_count": null,
   "id": "6ef59b1a-16ab-423f-a73b-8897015bb337",
   "metadata": {},
   "outputs": [],
   "source": []
  },
  {
   "cell_type": "code",
   "execution_count": null,
   "id": "59f91b20-4053-4b8e-8c29-cf6a83b74817",
   "metadata": {},
   "outputs": [],
   "source": []
  },
  {
   "cell_type": "code",
   "execution_count": 101,
   "id": "dfed1be5-4ed4-48c6-8278-b690ab6a2adf",
   "metadata": {},
   "outputs": [],
   "source": [
    "cc = (torch.zeros((1,2,3)), torch.zeros((4,5,6)), torch.zeros((7,8,9)))\n",
    "c0,c1,c2 = map(list, zip(*[c.size() for c in cc]))"
   ]
  },
  {
   "cell_type": "code",
   "execution_count": 104,
   "id": "57ccfa21-03d7-4c6c-8db6-3ea961bad786",
   "metadata": {},
   "outputs": [
    {
     "name": "stdout",
     "output_type": "stream",
     "text": [
      "[1, 4, 7]\n",
      "[2, 5, 8]\n",
      "[3, 6, 9]\n"
     ]
    }
   ],
   "source": [
    "print(c0)\n",
    "print(c1)\n",
    "print(c2)"
   ]
  },
  {
   "cell_type": "code",
   "execution_count": 113,
   "id": "decaa47b-8cf0-4206-834f-97c457ddb01f",
   "metadata": {},
   "outputs": [
    {
     "data": {
      "text/plain": [
       "torch.Size([10, 19, 48])"
      ]
     },
     "execution_count": 113,
     "metadata": {},
     "output_type": "execute_result"
    }
   ],
   "source": [
    "B, T, E = 10, 3, 48\n",
    "CT = [1, 7, 8]\n",
    "\n",
    "x = torch.zeros((B,T,E))\n",
    "c = [torch.zeros((B, ct, E)) for ct in CT]\n",
    "\n",
    "f = torch.cat((x, torch.cat(c, dim=1)), dim=1)\n",
    "f.shape"
   ]
  },
  {
   "cell_type": "code",
   "execution_count": 126,
   "id": "0b487a7c-88b1-4eb8-8988-ef3ab370c891",
   "metadata": {},
   "outputs": [],
   "source": [
    "ctn = transformers.ContextualAttentionN(48, num_context=3, heads=4, kqnorm=False)"
   ]
  },
  {
   "cell_type": "code",
   "execution_count": 127,
   "id": "a8f8e735-f4e6-4f9c-85c8-ac1f19e70ea3",
   "metadata": {},
   "outputs": [],
   "source": [
    "out = ctn(x, c)"
   ]
  },
  {
   "cell_type": "code",
   "execution_count": 128,
   "id": "fb941643-f677-4dd6-ae5c-b42968df1a2d",
   "metadata": {},
   "outputs": [
    {
     "data": {
      "text/plain": [
       "torch.Size([10, 3, 48])"
      ]
     },
     "execution_count": 128,
     "metadata": {},
     "output_type": "execute_result"
    }
   ],
   "source": [
    "out.shape"
   ]
  },
  {
   "cell_type": "code",
   "execution_count": null,
   "id": "66e6b04f-a8db-4fb8-8244-daf259c7adf7",
   "metadata": {},
   "outputs": [],
   "source": []
  },
  {
   "cell_type": "code",
   "execution_count": null,
   "id": "2bcc7120-8dd1-4e4c-9426-5d256c5101cb",
   "metadata": {},
   "outputs": [],
   "source": []
  },
  {
   "cell_type": "code",
   "execution_count": null,
   "id": "1427b2a9-81a8-4d34-8bdf-716b3b86c3c0",
   "metadata": {},
   "outputs": [],
   "source": []
  },
  {
   "cell_type": "code",
   "execution_count": null,
   "id": "685bcedf-841f-4b36-a0e6-ab0dc87e8cdc",
   "metadata": {},
   "outputs": [],
   "source": []
  },
  {
   "cell_type": "code",
   "execution_count": null,
   "id": "45261719-d2dc-413e-9dbc-b3a81848980f",
   "metadata": {},
   "outputs": [],
   "source": []
  },
  {
   "cell_type": "code",
   "execution_count": null,
   "id": "ca1fbf68-6ad8-4af5-afa2-c6306aed40d3",
   "metadata": {},
   "outputs": [],
   "source": []
  },
  {
   "cell_type": "code",
   "execution_count": null,
   "id": "b940550c-ffcc-465f-baba-bba8f45139b3",
   "metadata": {},
   "outputs": [],
   "source": []
  },
  {
   "cell_type": "code",
   "execution_count": null,
   "id": "47e35543-4db2-49f0-96fc-d36859b5ffc9",
   "metadata": {},
   "outputs": [],
   "source": []
  },
  {
   "cell_type": "code",
   "execution_count": null,
   "id": "6d15ffd9-eed0-4f39-bb1d-a710d0019cc7",
   "metadata": {},
   "outputs": [],
   "source": []
  },
  {
   "cell_type": "code",
   "execution_count": null,
   "id": "5448cd0a-e7e7-440a-8aad-79033249be9e",
   "metadata": {},
   "outputs": [],
   "source": []
  },
  {
   "cell_type": "code",
   "execution_count": null,
   "id": "919df8bb-2db7-49fc-b740-578146182059",
   "metadata": {},
   "outputs": [],
   "source": []
  },
  {
   "cell_type": "code",
   "execution_count": null,
   "id": "d055259c-d643-4be2-aaee-c768c75e3e56",
   "metadata": {},
   "outputs": [],
   "source": []
  },
  {
   "cell_type": "code",
   "execution_count": null,
   "id": "ab299726-8d74-4c3d-80fc-fe1f23b71121",
   "metadata": {},
   "outputs": [],
   "source": []
  },
  {
   "cell_type": "code",
   "execution_count": null,
   "id": "ec629c8c-8757-4e44-beac-377f8535214a",
   "metadata": {},
   "outputs": [],
   "source": []
  },
  {
   "cell_type": "code",
   "execution_count": null,
   "id": "24f67250-5053-44f1-878a-2800904070d0",
   "metadata": {},
   "outputs": [],
   "source": []
  }
 ],
 "metadata": {
  "kernelspec": {
   "display_name": "Python 3 (ipykernel)",
   "language": "python",
   "name": "python3"
  },
  "language_info": {
   "codemirror_mode": {
    "name": "ipython",
    "version": 3
   },
   "file_extension": ".py",
   "mimetype": "text/x-python",
   "name": "python",
   "nbconvert_exporter": "python",
   "pygments_lexer": "ipython3",
   "version": "3.11.6"
  }
 },
 "nbformat": 4,
 "nbformat_minor": 5
}
