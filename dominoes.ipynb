{
 "cells": [
  {
   "cell_type": "code",
   "execution_count": 1,
   "id": "d743f019-bcc5-4c13-8aef-98e737e0747e",
   "metadata": {
    "tags": []
   },
   "outputs": [
    {
     "name": "stdout",
     "output_type": "stream",
     "text": [
      "Using device: cuda\n"
     ]
    }
   ],
   "source": [
    "%reload_ext autoreload\n",
    "%autoreload 2\n",
    "\n",
    "import os\n",
    "os.environ['CUDA_LAUNCH_BLOCKING'] = \"1\"\n",
    "os.environ['TORCH_USE_CUDA_DSA'] = \"1\"\n",
    "\n",
    "import time\n",
    "from copy import copy\n",
    "import random\n",
    "import numpy as np\n",
    "import torch\n",
    "from tqdm import tqdm\n",
    "import matplotlib.pyplot as plt\n",
    "import matplotlib as mpl\n",
    "from dominoes import leagueManager as lm\n",
    "from dominoes import gameplay as dg\n",
    "from dominoes import agents as da\n",
    "from dominoes import functions as df\n",
    "from dominoes import fileManagement as fm\n",
    "from dominoes import transformers\n",
    "\n",
    "\n",
    "device = \"cuda\" if torch.cuda.is_available() else \"cpu\"\n",
    "print(f\"Using device: {device}\")"
   ]
  },
  {
   "cell_type": "code",
   "execution_count": 4,
   "id": "48c901ba-4294-4ff4-8d74-ae540752816a",
   "metadata": {},
   "outputs": [],
   "source": [
    "# To-Do List\n",
    "# 0. Plot valueAgentELO results effectively and document it!\n",
    "# 1. Train a library of lineValueAgents on a server\n",
    "# 2. Build a transformer based value agent!!!\n",
    "# 3. Build a policy-only agent!\n",
    "#    - It will learn with a network approximation of the value function in the same way the other ones do\n",
    "#    - But it'll process the hand and game state to generate a context embedding -----\n",
    "#    - Then use a pointer network to choose which option to play based on the option encoding and the context\n",
    "#    - The policy can then be updated with the temporal-difference of the value function, which will get more efficient over time\n",
    "\n",
    "# Experiments: \n",
    "# 1. Show that the order of the agents matter (i.e. going after a good agent makes it harder!)\n",
    "# 2. Compare lineValueNetwork trained on only it's turn vs. all turns vs. just it's turn and the next turn\n",
    "# 4. Compare value agents trained with hand-continuity of eligibility traces or resets...\n",
    "\n",
    "# Analysis Goals: \n",
    "# 1. look at Linear layer of cnnLayer, find out how similar it is across dominoes\n",
    "# 2. Same for first linear layer of ffLayer\n",
    "# 3. Initialize the game many times, look at correlation between average lineValueFeatures and final score output\n",
    "\n",
    "# restructure experiments so they save key data points and divide the data generation and the analysis \n",
    "# so I can run it in \"analysis\" mode where it just loads data from a prespecified filename...\n",
    "# ---- keeping the above here because I don't think it's done for all of them yet ------"
   ]
  },
  {
   "cell_type": "code",
   "execution_count": null,
   "id": "52d77e10-ded6-420d-b1ce-95fa3977915d",
   "metadata": {},
   "outputs": [],
   "source": []
  },
  {
   "cell_type": "code",
   "execution_count": 5,
   "id": "8cc2cba7-0eb9-4219-8e37-405fad0407ea",
   "metadata": {},
   "outputs": [],
   "source": [
    "# TO DO:\n",
    "# - then maybe see how a straight up transformer agent does? (No pointer pre-training)\n",
    "# - also, see if there's an explanation for why the big spikes in loss happen.\n",
    "# - add the analysis of seqLength vs. loss and position-dependent error to analyze the spikes in the pointerDemonstration code"
   ]
  },
  {
   "cell_type": "code",
   "execution_count": null,
   "id": "433076a3-2c70-4916-a61d-d81f25b8db7f",
   "metadata": {},
   "outputs": [],
   "source": []
  },
  {
   "cell_type": "code",
   "execution_count": 646,
   "id": "d2e766be-47db-4828-a6da-9abeca5ac1ea",
   "metadata": {},
   "outputs": [],
   "source": [
    "# Immediate to-do\n",
    "# 1. Convert pointer hand sequencing code to an experiment\n",
    "#    - Start with just output of a sequence given the best possible line and a random \"available\"\n",
    "#    - Might be interesting to do a bit of analysis to see what prevents the loss from reaching zero.\n",
    "# 2. Then use a separate value network to force the encoding to learn how to predict the value of the pointer output.\n",
    "# 3. Switch the model to be in a reinforcement learning framework\n",
    "# 4. Switch it to generate an output based on a randomized turn schedule (e.g. possibly be cutoff from generating output and accruing value)\n",
    "# 5. Predict this with a value function too. "
   ]
  },
  {
   "cell_type": "code",
   "execution_count": 647,
   "id": "d35e35f6-56f8-4c48-8175-ed1f5b0afc31",
   "metadata": {},
   "outputs": [],
   "source": []
  },
  {
   "cell_type": "code",
   "execution_count": null,
   "id": "c975986e-0abd-47d2-b280-da7d3e7c2a96",
   "metadata": {},
   "outputs": [],
   "source": []
  },
  {
   "cell_type": "code",
   "execution_count": 2,
   "id": "4701bdd1-8124-4b64-970d-3a2a53f22ebf",
   "metadata": {},
   "outputs": [],
   "source": [
    "# code for generating a hand\n",
    "\n",
    "def randomDominoeHand(numInHand, listDominoes, highestDominoe, batch_size=1, null_token=True, available_token=True):\n",
    "    \"\"\"method to produce an encoded random hand\"\"\"\n",
    "    numDominoes = len(listDominoes)\n",
    "    \n",
    "    # choose dominoes from the batch, and get their value (in points)\n",
    "    selection = np.stack([np.random.choice(numDominoes, numInHand, replace=False) for _ in range(batch_size)])\n",
    "    if available_token:\n",
    "        available = np.random.randint(0, highestDominoe+1, batch_size)\n",
    "    else:\n",
    "        available = [None]*batch_size\n",
    "    \n",
    "    # create tensor representations\n",
    "    input = torch.stack([df.twohotDominoe(sel, listDominoes, highestDominoe, available=ava,\n",
    "                                          available_token=available_token, null_token=null_token, with_batch=False) \n",
    "                         for sel,ava in zip(selection, available)])\n",
    "    return input, selection, available\n",
    "    \n",
    "def getBestLine(dominoes, selection, highestDominoe):\n",
    "    bestSequence = []\n",
    "    bestDirection = []\n",
    "    for sel in selection:\n",
    "        cBestSeq = []\n",
    "        cBestDir = []\n",
    "        cBestVal = []\n",
    "        for available in range(highestDominoe+1):\n",
    "            cseq, cdir = df.constructLineRecursive(dominoes, sel, available)\n",
    "            cval = [np.sum(dominoes[cs]) for cs in cseq]\n",
    "            cidx = max(enumerate(cval), key=lambda x: x[1])[0]\n",
    "            cBestSeq.append(cseq[cidx])\n",
    "            cBestDir.append(cdir[cidx])\n",
    "            cBestVal.append(cval[cidx])\n",
    "\n",
    "        cBestIdx = max(enumerate(cBestVal), key=lambda x: x[1])[0]\n",
    "        bestSequence.append(cBestSeq[cBestIdx])\n",
    "        bestDirection.append(cBestDir[cBestIdx])\n",
    "\n",
    "    return bestSequence, bestDirection\n",
    "\n",
    "def getBestLineFromAvailable(dominoes, selection, highestDominoe, available):\n",
    "    bestSequence = []\n",
    "    bestDirection = []\n",
    "    for sel, ava in zip(selection, available):\n",
    "        cseq, cdir = df.constructLineRecursive(dominoes, sel, ava)\n",
    "        cval = [np.sum(dominoes[cs]) for cs in cseq]\n",
    "        cidx = max(enumerate(cval), key=lambda x: x[1])[0]\n",
    "        bestSequence.append(cseq[cidx])\n",
    "        bestDirection.append(cdir[cidx])\n",
    "    return bestSequence, bestDirection\n",
    "    \n",
    "def convertToHandIndex(selection, bestSequence):\n",
    "    indices = []\n",
    "    for sel,seq in zip(selection, bestSequence):\n",
    "        # look up table for current selection\n",
    "        elementIdx = {element:idx for idx, element in enumerate(sel)}\n",
    "        indices.append([elementIdx[element] for element in seq])\n",
    "    return indices\n",
    "    \n",
    "def padBestLine(bestSequence, max_output, ignore_index=-1):\n",
    "    for bs in bestSequence:\n",
    "        bs += [ignore_index]*(max_output-len(bs))\n",
    "    return bestSequence\n",
    "\n",
    "def generateBatch(highestDominoe, dominoes, batch_size, numInHand, available_token=False, null_token=False, ignore_index=-1, return_full=False):\n",
    "    input, selection, available = randomDominoeHand(numInHand, dominoes, highestDominoe, batch_size=batch_size, null_token=null_token, available_token=available_token)\n",
    "    if available_token:\n",
    "        bestSequence, bestDirection = getBestLineFromAvailable(dominoes, selection, highestDominoe, available)\n",
    "        mask = torch.ones((batch_size, numInHand+1), dtype=torch.float)\n",
    "        mask[:,-1]=0\n",
    "    else:\n",
    "        bestSequence, bestDirection = getBestLine(dominoes, selection, highestDominoe)\n",
    "        mask = torch.ones((batch_size, numInHand+1))\n",
    "    iseq = convertToHandIndex(selection, bestSequence)\n",
    "    null_index = ignore_index if not(null_token) else numInHand\n",
    "    target = torch.tensor(np.stack(padBestLine(iseq, numInHand+(1 if null_token else 0), ignore_index=null_index)), dtype=torch.long)\n",
    "    if return_full:\n",
    "        return input, target, mask, bestSequence, bestDirection, selection, available\n",
    "    return input, target, mask"
   ]
  },
  {
   "cell_type": "code",
   "execution_count": 5,
   "id": "76588615-5b16-4d1b-acea-afe499d5c7e9",
   "metadata": {},
   "outputs": [],
   "source": [
    "# these methods track sequential plays and measure rewards\n",
    "def updateAvailableTorch(dominoe, available, return_direction=False):\n",
    "    \"\"\"\n",
    "    get next value available and return boolean of whether dominoe is valid\n",
    "    permits batched inputs\n",
    "    \"\"\"\n",
    "    assert dominoe.ndim==2 and dominoe.shape[1]==2, \"dominoe should be a 2-dimension array with dim=2 for the second axis\"\n",
    "    assert available.shape[0]==dominoe.shape[0], \"dominoe and available should have same batch_size\"\n",
    "    valid_play = torch.any(dominoe.T==available, 0) # figure out if available matches a value in each dominoe\n",
    "    next_value_idx = 1*(dominoe[:,0]==available) # if true, then 1 is next value, if false then 0 is next value (for valid plays)\n",
    "    next_available = torch.gather(dominoe, 1, next_value_idx.view(-1,1)).squeeze() # get next available value\n",
    "    next_available[~valid_play]=-1\n",
    "    if return_direction:\n",
    "        play_direction = 1*(next_value_idx==0)\n",
    "        return next_available, valid_play, play_direction\n",
    "    else:\n",
    "        return next_available, valid_play\n",
    "\n",
    "def measureReward(available, hands, choices, return_direction=False):\n",
    "    assert choices.ndim==2, \"choices should be a (batch_size, max_output) tensor of indices\"\n",
    "    batch_size, max_output = choices.shape\n",
    "    num_in_hand = hands.shape[1]\n",
    "    device = transformers.get_device(choices)\n",
    "    \n",
    "    # initialize these tracker variables\n",
    "    next_available = torch.tensor(available).to(device)\n",
    "    still_playing = torch.ones((batch_size,), dtype=torch.bool).to(device) # valid until the agent plays null or plays an invalid dominoe\n",
    "    havent_played = torch.ones((batch_size, num_in_hand+1), dtype=torch.bool).to(device) # True until dominoe has been played (include null for easier coding b/c out_choices includes idx to null\n",
    "    hands = torch.tensor(hands, dtype=torch.float).to(device)\n",
    "    next_play = torch.zeros((batch_size, 2), dtype=torch.float).to(device) # reinitialize this each time\n",
    "    \n",
    "    rewards = torch.zeros((batch_size, max_output), dtype=torch.float).to(device)\n",
    "    if return_direction: direction = torch.zeros((batch_size, max_output), dtype=torch.float).to(device)\n",
    "    \n",
    "    # then for each output:\n",
    "    for idx in range(max_output):\n",
    "        # idx of outputs that are not the null token (and of batches that are still in play)\n",
    "        idx_not_null = out_choices[:,idx] < numInHand \n",
    "\n",
    "        # idx of outputs that have not already been chosen\n",
    "        idx_not_played = torch.gather(havent_played, 1, out_choices[:, idx].view(-1,1)).squeeze(1)\n",
    "        havent_played.scatter_(1, out_choices[:,idx].view(-1,1), torch.zeros((batch_size,1), dtype=torch.bool).to(device))\n",
    "        \n",
    "        # idx of batch elements that still have valid plays\n",
    "        idx_still_playing = idx_not_null & idx_not_played & still_playing \n",
    "        \n",
    "        # the dominoe that is chosen if not the null token\n",
    "        next_play[idx_still_playing] = torch.gather(hands[idx_still_playing], 1, out_choices[idx_still_playing, idx].view(-1,1,1).expand(-1,1,2)).squeeze(1)\n",
    "        \n",
    "        # get next available and whether play is valid\n",
    "        if return_direction:\n",
    "            next_available, valid_play, play_direction = updateAvailableTorch(next_play, next_available, return_direction=return_direction)\n",
    "            direction[idx_still_playing, idx] = play_direction[idx_still_playing].float()\n",
    "        else:\n",
    "            next_available, valid_play = updateAvailableTorch(next_play, next_available)\n",
    "        \n",
    "        # if valid, reward is points on dominoe. if invalid, reward is negative points on dominoe. \n",
    "        rewards[idx_still_playing, idx] += (torch.sum(next_play[idx_still_playing],dim=1)+1)*valid_play[idx_still_playing]\n",
    "        rewards[idx_still_playing, idx] -= (torch.sum(next_play[idx_still_playing],dim=1)+1)*(~valid_play[idx_still_playing])\n",
    "\n",
    "        # agent is only \"still_playing\" if they haven't chosen the null token and if they haven't played an incorrect dominoe\n",
    "        still_playing &= idx_still_playing\n",
    "        still_playing &= valid_play\n",
    "\n",
    "    if return_direction:\n",
    "        return rewards, direction\n",
    "    else:        \n",
    "        return rewards"
   ]
  },
  {
   "cell_type": "code",
   "execution_count": 9,
   "id": "a13a365c-020a-4213-b27a-c5a63abbeea6",
   "metadata": {},
   "outputs": [],
   "source": [
    "highestDominoe = 9\n",
    "dominoes = df.listDominoes(highestDominoe)\n",
    "batch_size = 96\n",
    "numInHand = 10\n",
    "null_token = True\n",
    "available_token = True\n",
    "num_output = numInHand + (1 if null_token else 0)\n",
    "ignore_index = -1\n",
    "rl_batch_inputs = {'null_token':null_token, 'available_token':available_token, 'ignore_index':ignore_index, 'return_full':True}\n",
    "\n",
    "input, target, mask, bestSequence, bestDirection, selection, available = generateBatch(highestDominoe, dominoes, batch_size, numInHand, **rl_batch_inputs)\n",
    "input, target, mask = input.to(device), target.to(device), mask.to(device)\n",
    "\n",
    "# propagate it through the network\n",
    "net = torch.load('experiments/savedNetworks/pointerSequencer.pt')\n",
    "net.to(device)\n",
    "\n",
    "out_scores, out_choices = net(input, max_output=num_output)\n",
    "\n",
    "# measure rewards for each sequence\n",
    "rewards = measureReward(available, dominoes[selection], out_choices)\n"
   ]
  },
  {
   "cell_type": "code",
   "execution_count": null,
   "id": "9a1c2cfb-3f1b-4ed8-b0e0-3db15e3394d2",
   "metadata": {},
   "outputs": [],
   "source": []
  },
  {
   "cell_type": "code",
   "execution_count": null,
   "id": "6c06a6ec-87f5-448d-9985-8b8fc1fc2039",
   "metadata": {},
   "outputs": [],
   "source": []
  },
  {
   "cell_type": "code",
   "execution_count": null,
   "id": "e20d8e98-b8f1-4752-880a-39402d6b9f59",
   "metadata": {},
   "outputs": [],
   "source": []
  },
  {
   "cell_type": "code",
   "execution_count": null,
   "id": "e4d21685-62f8-4f9b-a060-9863c9ce19ab",
   "metadata": {},
   "outputs": [
    {
     "name": "stderr",
     "output_type": "stream",
     "text": [
      " 40%|███████████████████████████████▋                                               | 401/1000 [01:08<01:42,  5.86it/s]"
     ]
    }
   ],
   "source": [
    "# This section of code does curriculum training\n",
    "# - starting with supervised learning of dominoe sequences\n",
    "# - then ending with reinforcement learning\n",
    "\n",
    "device = 'cpu'\n",
    "\n",
    "\n",
    "# input parameters\n",
    "highestDominoe = 9\n",
    "dominoes = df.listDominoes(highestDominoe)\n",
    "\n",
    "batch_size = 96\n",
    "numInHand = 10\n",
    "null_token = True\n",
    "available_token = True\n",
    "num_output = numInHand + (1 if null_token else 0)\n",
    "ignore_index = -1\n",
    "alpha = 1e-3\n",
    "decode_mask = torch.ones((batch_size, numInHand+(1 if null_token else 0)+(1 if available_token else 0)), dtype=torch.bool).to(device)\n",
    "if available_token:\n",
    "    decode_mask[:,-1]=0\n",
    "\n",
    "# get network from saved \n",
    "net = torch.load('experiments/savedNetworks/pointerSequencer.pt')\n",
    "net.to(device)\n",
    "optimizer = torch.optim.Adam(net.parameters(), lr=alpha)\n",
    "\n",
    "# do reinforcement learning\n",
    "rl_batch_inputs = {'null_token':null_token, 'available_token':available_token, 'ignore_index':ignore_index, 'return_full':True}\n",
    "\n",
    "# run round\n",
    "rlEpochs = 1000\n",
    "rlReward = torch.zeros((rlEpochs,))\n",
    "for epoch in tqdm(range(rlEpochs)):\n",
    "    \n",
    "    optimizer.zero_grad()\n",
    "\n",
    "     # generate input batch\n",
    "    input, target, mask, bestSequence, bestDirection, selection, available = generateBatch(highestDominoe, dominoes, batch_size, numInHand, **rl_batch_inputs)\n",
    "    input, target, mask = input.to(device), target.to(device), mask.to(device)\n",
    "    \n",
    "    # propagate it through the network\n",
    "    out_scores, out_choices = net(input, max_output=num_output, decode_mask=decode_mask)\n",
    "    \n",
    "    # measure rewards for each sequence\n",
    "    rewards = measureReward(available, dominoes[selection], out_choices)\n",
    "    \n",
    "    # Convert rewards to J \n",
    "    G = torch.cumsum(rewards, dim=1) # cumulative reward\n",
    "    logprob_policy = torch.gather(out_scores, 2, out_choices.unsqueeze(2)).squeeze(2) # log-probability for each chosen dominoe\n",
    "    J = -torch.mean(logprob_policy * G)\n",
    "    J.backward()\n",
    "    \n",
    "    optimizer.step()\n",
    "    rlReward[epoch] = torch.mean(G)\n",
    "\n",
    "\n",
    "plt.close('all')\n",
    "plt.plot(range(rlEpochs), rlReward)\n",
    "plt.show()"
   ]
  },
  {
   "cell_type": "code",
   "execution_count": null,
   "id": "5e298237-656f-48cd-bc79-66e9e856db71",
   "metadata": {},
   "outputs": [],
   "source": []
  },
  {
   "cell_type": "code",
   "execution_count": null,
   "id": "26999821-fb39-43b5-b3f7-94c59853c703",
   "metadata": {},
   "outputs": [],
   "source": []
  },
  {
   "cell_type": "code",
   "execution_count": null,
   "id": "8ee9fcae-7eb4-4ec5-9628-46fec849f6fb",
   "metadata": {},
   "outputs": [],
   "source": []
  },
  {
   "cell_type": "code",
   "execution_count": null,
   "id": "5c6a1f9e-fc02-4506-83e8-3570ac9de796",
   "metadata": {},
   "outputs": [],
   "source": []
  },
  {
   "cell_type": "code",
   "execution_count": null,
   "id": "68811fad-b8db-4d09-bc34-60f04bd85146",
   "metadata": {},
   "outputs": [],
   "source": []
  },
  {
   "cell_type": "code",
   "execution_count": null,
   "id": "72abfa01-b482-448c-9926-05c319ecdd17",
   "metadata": {},
   "outputs": [],
   "source": []
  },
  {
   "cell_type": "code",
   "execution_count": null,
   "id": "e76929cb-d1e7-4b77-a99e-48a4f71ccf28",
   "metadata": {},
   "outputs": [],
   "source": []
  },
  {
   "cell_type": "code",
   "execution_count": null,
   "id": "e00e0683-6791-4d6b-afce-efda05e287be",
   "metadata": {},
   "outputs": [],
   "source": []
  },
  {
   "cell_type": "code",
   "execution_count": null,
   "id": "e2285478-3f8e-40f1-ba64-c34a6897098a",
   "metadata": {},
   "outputs": [],
   "source": []
  },
  {
   "cell_type": "code",
   "execution_count": null,
   "id": "4d2da73d-2916-4798-91bd-68ec25c85db8",
   "metadata": {},
   "outputs": [],
   "source": []
  },
  {
   "cell_type": "code",
   "execution_count": null,
   "id": "a08f66c5-9407-4c9f-8023-4b41369f3bef",
   "metadata": {},
   "outputs": [],
   "source": []
  },
  {
   "cell_type": "code",
   "execution_count": null,
   "id": "e8234fa9-a1f0-4b2e-8e06-daea5a9656d5",
   "metadata": {},
   "outputs": [],
   "source": []
  },
  {
   "cell_type": "code",
   "execution_count": null,
   "id": "8e906d0b-74f0-450a-83f3-0469ced2bac3",
   "metadata": {},
   "outputs": [],
   "source": []
  },
  {
   "cell_type": "code",
   "execution_count": null,
   "id": "57ccfa21-03d7-4c6c-8db6-3ea961bad786",
   "metadata": {},
   "outputs": [],
   "source": []
  },
  {
   "cell_type": "code",
   "execution_count": null,
   "id": "decaa47b-8cf0-4206-834f-97c457ddb01f",
   "metadata": {},
   "outputs": [],
   "source": []
  },
  {
   "cell_type": "code",
   "execution_count": null,
   "id": "0b487a7c-88b1-4eb8-8988-ef3ab370c891",
   "metadata": {},
   "outputs": [],
   "source": []
  },
  {
   "cell_type": "code",
   "execution_count": null,
   "id": "a8f8e735-f4e6-4f9c-85c8-ac1f19e70ea3",
   "metadata": {},
   "outputs": [],
   "source": []
  },
  {
   "cell_type": "code",
   "execution_count": null,
   "id": "36cd7074-9ed3-4e0b-bcdd-45f562fc25f1",
   "metadata": {},
   "outputs": [],
   "source": []
  },
  {
   "cell_type": "code",
   "execution_count": null,
   "id": "fb941643-f677-4dd6-ae5c-b42968df1a2d",
   "metadata": {},
   "outputs": [],
   "source": []
  },
  {
   "cell_type": "code",
   "execution_count": null,
   "id": "66e6b04f-a8db-4fb8-8244-daf259c7adf7",
   "metadata": {},
   "outputs": [],
   "source": []
  },
  {
   "cell_type": "code",
   "execution_count": 450,
   "id": "5237ef76-9e66-4d8c-9744-229d7f6d7414",
   "metadata": {},
   "outputs": [
    {
     "name": "stderr",
     "output_type": "stream",
     "text": [
      "100%|██████████████████████████████████████████████████████████████████████████████| 1000/1000 [06:20<00:00,  2.63it/s]\n",
      "100%|████████████████████████████████████████████████████████████████████████████████| 100/100 [00:03<00:00, 31.20it/s]\n"
     ]
    }
   ],
   "source": [
    "# This code block is implementing the reinforce algorithm!\n",
    "from torch import nn        \n",
    "\n",
    "def randomDominoeHand(numInHand, listDominoes, highestDominoe, batch_size=1, null_token=True):\n",
    "    \"\"\"method to produce an encoded random hand\"\"\"\n",
    "    numDominoes = len(listDominoes)\n",
    "    \n",
    "    # choose dominoes from the batch, and get their value (in points)\n",
    "    selection = np.stack([np.random.choice(numDominoes, numInHand, replace=False) for _ in range(batch_size)])\n",
    "    #selection = np.random.choice(numDominoes, (batch_size, numInHand), replace=False)\n",
    "    input = torch.stack([df.twohotDominoe(sel, listDominoes, highestDominoe, null_token=null_token, with_batch=False) for sel in selection])\n",
    "\n",
    "    return input, selection\n",
    "\n",
    "def measureReward(scores, choices, dominoeValues=None, normalize=True, value_offset=1.):\n",
    "    assert (dominoeValues is not None) and dominoeValues.ndim==3, \"dominoeValues must be a (batch_size, num_non_null_options, 2) array\"\n",
    "    assert scores.ndim==3, \"scores must have shape (batch_size, num_outputs, num_tokens)\"\n",
    "    batch_size, num_outputs, num_tokens = scores.shape\n",
    "    device = transformers.get_device(scores)\n",
    "    assert choices.size(0)==batch_size and choices.size(1)==num_outputs, \"choices must have same batch_size and num_outputs as scores\"\n",
    "    dominoeValues = torch.tensor(dominoeValues, dtype=torch.float) # make torch tensor...\n",
    "    assert dominoeValues.size(0)==batch_size and dominoeValues.size(1)==(num_tokens-1), \"dominoeValues must have same batch_size as scores and one less token than scores (because there's a null option)\"\n",
    "    states = torch.zeros((batch_size, num_tokens), dtype=torch.bool).to(device)\n",
    "    rewards = torch.zeros((batch_size, num_outputs, num_tokens), dtype=torch.float).to(device)\n",
    "    update_state_src = torch.ones((batch_size,1), dtype=torch.bool).to(device)\n",
    "    \n",
    "    tokenValues = torch.sum(dominoeValues,dim=2).to(device)+value_offset # value of each dominoe (e.g. token)\n",
    "    \n",
    "    for idx in range(num_outputs):\n",
    "        # if null hasn't been chosen, assign dominoeValue to each choice if it hasn't been chosen\n",
    "        rewards[:, idx, :-1] += tokenValues * ~states[:, :-1] # add token value to rewards if it hasn't been chosen yet\n",
    "        rewards[:, idx, :-1] -= tokenValues * states[:, :-1] # subtract token value to rewards if it has already been chosen\n",
    "        \n",
    "        # value of null_token depends on whether all other tokens have been chosen already\n",
    "        idx_all_chosen = torch.all(states[:,:-1],dim=1) # index of batches where all dominoes except the null_token have been chosen\n",
    "        \n",
    "        valueNotChosen = torch.sum(tokenValues * ~states[:, :-1], dim=1) \n",
    "        rewards[~idx_all_chosen, idx, -1] = -valueNotChosen[~idx_all_chosen] # reward of null token is negative sum of dominoe not yet chosen\n",
    "        rewards[idx_all_chosen, idx, -1] = torch.sum(tokenValues[idx_all_chosen], dim=1) # reward of null token is sum of all dominoes if they've all been chosen\n",
    "        \n",
    "        # if null has been chosen, then all rewards are the total value of not chosen dominoes\n",
    "        rewards[states[:,-1], idx] = -valueNotChosen[states[:,-1]].unsqueeze(1) \n",
    "        \n",
    "        # update state array and still_choosing array\n",
    "        states.scatter_(1, choices[:,idx].unsqueeze(1), update_state_src)\n",
    "    \n",
    "    # if requested normalize rewards to total token value \n",
    "    if normalize:\n",
    "        rewards /= torch.sum(tokenValues,1).view(-1,1,1)\n",
    "    \n",
    "    return rewards, states\n",
    "\n",
    "\n",
    "# --------------- the code to run the problem ----------------------\n",
    "highestDominoe = 9\n",
    "dominoes = df.listDominoes(highestDominoe)\n",
    "\n",
    "batch_size = 100\n",
    "numInHand = 4\n",
    "null_token = True\n",
    "\n",
    "input_dim = 2*(highestDominoe+1) + (1 if null_token else 0)\n",
    "embedding_dim = 48\n",
    "heads = 4\n",
    "expansion = 1\n",
    "kqnorm = False\n",
    "encoding_layers = 1\n",
    "bias = False\n",
    "decode_with_gru = False\n",
    "greedy = True\n",
    "temperature = 5\n",
    "alpha = 1e-3\n",
    "\n",
    "\n",
    "net = transformers.PointerNetwork(input_dim, embedding_dim, heads=heads, expansion=expansion, kqnorm=kqnorm, encoding_layers=encoding_layers, \n",
    "                                  bias=bias, decode_with_gru=decode_with_gru, greedy=greedy, temperature=temperature)\n",
    "net.to(device)\n",
    "optimizer = torch.optim.Adam(net.parameters(), lr=1e-3)\n",
    "\n",
    "max_output = numInHand + (1 if null_token else 0)\n",
    "\n",
    "off_policy = False\n",
    "\n",
    "# run round\n",
    "trainEpochs = 1000\n",
    "train_reward = torch.zeros((trainEpochs,max_output))\n",
    "net.train()\n",
    "for epoch in tqdm(range(trainEpochs)):\n",
    "    \n",
    "    optimizer.zero_grad()\n",
    "    \n",
    "    # generate input batch\n",
    "    input, selection = randomDominoeHand(numInHand, dominoes, highestDominoe, batch_size=batch_size, null_token=null_token)\n",
    "    input = input.to(device)\n",
    "    \n",
    "    # generate state engine\n",
    "    out_scores, out_choices = net(input, max_output=max_output)\n",
    "    rewards = measureReward(out_scores, out_choices, dominoeValues=dominoes[selection], normalize=True, value_offset=1.)[0]\n",
    "    chosen_rewards = torch.gather(rewards, 2, out_choices.unsqueeze(2)).squeeze(2)\n",
    "    G = torch.cumsum(chosen_rewards, dim=1) # cumulative reward\n",
    "\n",
    "    if off_policy:\n",
    "        J = -torch.mean(out_scores * rewards)\n",
    "    else:\n",
    "        logprob_policy = torch.gather(out_scores, 2, out_choices.unsqueeze(2)).squeeze(2)\n",
    "        J = -torch.mean(logprob_policy * G)\n",
    "        \n",
    "    J.backward()\n",
    "    \n",
    "    optimizer.step()\n",
    "    train_reward[epoch] = torch.mean(G,dim=0)\n",
    "    \n",
    "\n",
    "testEpochs = 100\n",
    "test_reward = torch.zeros((testEpochs, max_output))\n",
    "net.temperature = 1\n",
    "net.eval()\n",
    "with torch.no_grad():\n",
    "    for epoch in tqdm(range(testEpochs)):\n",
    "        input, selection = randomDominoeHand(numInHand, dominoes, highestDominoe, batch_size=batch_size, null_token=null_token)\n",
    "        input = input.to(device)\n",
    "        \n",
    "        # generate state engine\n",
    "        out_scores, out_choices = net(input, max_output=max_output)\n",
    "        rewards = measureReward(out_scores, out_choices, dominoeValues=dominoes[selection], normalize=True, value_offset=1.)[0]\n",
    "        chosen_rewards = torch.gather(rewards, 2, out_choices.unsqueeze(2)).squeeze(2)\n",
    "        G = torch.cumsum(chosen_rewards, dim=1) # cumulative reward\n",
    "        test_reward[epoch] = torch.mean(G, dim=0)\n",
    "        \n"
   ]
  },
  {
   "cell_type": "code",
   "execution_count": 451,
   "id": "cde61627-b9b3-40e5-96fc-c7403e06c65b",
   "metadata": {},
   "outputs": [
    {
     "data": {
      "image/png": "[encoded data removed]",
      "text/plain": [
       "<Figure size 1200x400 with 2 Axes>"
      ]
     },
     "metadata": {},
     "output_type": "display_data"
    }
   ],
   "source": [
    "from scipy.signal import savgol_filter\n",
    "filter = lambda x : savgol_filter(x, 2, 1)\n",
    "\n",
    "plt.close('all')\n",
    "fig, ax = plt.subplots(1,2,figsize=(12,4))\n",
    "for output in range(max_output):\n",
    "    ax[0].plot(range(trainEpochs), filter(train_reward[:,output]), lw=0.5, label=f\"choice:{output}\")\n",
    "    ax[1].plot(range(testEpochs), filter(test_reward[:,output]), lw=0.5, label=f\"choice:{output}\")\n",
    "\n",
    "ax[0].plot(range(trainEpochs), filter(torch.mean(train_reward, dim=1)), c='k', lw=1.5)\n",
    "ax[1].plot(range(testEpochs), filter(torch.mean(test_reward, dim=1)), c='k', lw=1.5)\n",
    "ax[0].legend(loc='lower right')\n",
    "ax[1].legend(loc='lower right')\n",
    "\n",
    "plt.show()"
   ]
  },
  {
   "cell_type": "code",
   "execution_count": null,
   "id": "de4e950d-079a-46b5-9702-134d5f2ca07b",
   "metadata": {},
   "outputs": [],
   "source": []
  },
  {
   "cell_type": "code",
   "execution_count": null,
   "id": "44bf3f36-7cf6-4f07-a2fe-a29cd968d350",
   "metadata": {},
   "outputs": [],
   "source": []
  },
  {
   "cell_type": "code",
   "execution_count": null,
   "id": "f6d613e6-3e5a-4a05-940f-c5ade50ebe92",
   "metadata": {},
   "outputs": [],
   "source": []
  },
  {
   "cell_type": "code",
   "execution_count": null,
   "id": "2bcc7120-8dd1-4e4c-9426-5d256c5101cb",
   "metadata": {},
   "outputs": [],
   "source": []
  },
  {
   "cell_type": "code",
   "execution_count": null,
   "id": "1427b2a9-81a8-4d34-8bdf-716b3b86c3c0",
   "metadata": {},
   "outputs": [],
   "source": []
  },
  {
   "cell_type": "code",
   "execution_count": null,
   "id": "685bcedf-841f-4b36-a0e6-ab0dc87e8cdc",
   "metadata": {},
   "outputs": [],
   "source": []
  },
  {
   "cell_type": "code",
   "execution_count": null,
   "id": "45261719-d2dc-413e-9dbc-b3a81848980f",
   "metadata": {},
   "outputs": [],
   "source": []
  },
  {
   "cell_type": "code",
   "execution_count": null,
   "id": "ca1fbf68-6ad8-4af5-afa2-c6306aed40d3",
   "metadata": {},
   "outputs": [],
   "source": []
  },
  {
   "cell_type": "code",
   "execution_count": null,
   "id": "b940550c-ffcc-465f-baba-bba8f45139b3",
   "metadata": {},
   "outputs": [],
   "source": []
  },
  {
   "cell_type": "code",
   "execution_count": null,
   "id": "47e35543-4db2-49f0-96fc-d36859b5ffc9",
   "metadata": {},
   "outputs": [],
   "source": []
  },
  {
   "cell_type": "code",
   "execution_count": null,
   "id": "6d15ffd9-eed0-4f39-bb1d-a710d0019cc7",
   "metadata": {},
   "outputs": [],
   "source": []
  },
  {
   "cell_type": "code",
   "execution_count": null,
   "id": "5448cd0a-e7e7-440a-8aad-79033249be9e",
   "metadata": {},
   "outputs": [],
   "source": []
  },
  {
   "cell_type": "code",
   "execution_count": null,
   "id": "919df8bb-2db7-49fc-b740-578146182059",
   "metadata": {},
   "outputs": [],
   "source": []
  },
  {
   "cell_type": "code",
   "execution_count": null,
   "id": "d055259c-d643-4be2-aaee-c768c75e3e56",
   "metadata": {},
   "outputs": [],
   "source": []
  },
  {
   "cell_type": "code",
   "execution_count": null,
   "id": "ab299726-8d74-4c3d-80fc-fe1f23b71121",
   "metadata": {},
   "outputs": [],
   "source": []
  },
  {
   "cell_type": "code",
   "execution_count": null,
   "id": "ec629c8c-8757-4e44-beac-377f8535214a",
   "metadata": {},
   "outputs": [],
   "source": []
  },
  {
   "cell_type": "code",
   "execution_count": null,
   "id": "24f67250-5053-44f1-878a-2800904070d0",
   "metadata": {},
   "outputs": [],
   "source": []
  },
  {
   "cell_type": "markdown",
   "id": "8ffb2790-9c12-4ed3-a650-a0163e9a3526",
   "metadata": {},
   "source": [
    "## Below this point I'm including some code blocks that make inspection of the gameplay and agent status easy... "
   ]
  },
  {
   "cell_type": "code",
   "execution_count": 217,
   "id": "ff4c26a2-a5a8-410d-9795-b88680257fd7",
   "metadata": {},
   "outputs": [
    {
     "name": "stdout",
     "output_type": "stream",
     "text": [
      "[[ 5  0 13  7]\n",
      " [ 5 11  0  6]\n",
      " [ 6  0 49 18]\n",
      " [ 7 39 29  0]\n",
      " [11 33 20  0]\n",
      " [ 6  2 26  0]\n",
      " [19 23 17  0]\n",
      " [ 0  3 24  7]\n",
      " [23 19  0  6]\n",
      " [ 7 24 40  0]]\n",
      "[ 89 154 218  44]\n",
      "The current winner is agent: 3 with a score of 44!\n"
     ]
    }
   ],
   "source": [
    "numPlayers = 4\n",
    "highestDominoe = 9\n",
    "game = dg.dominoeGame(highestDominoe, agents=(da.doubleAgent, da.greedyAgent, da.dominoeAgent, da.bestLineAgent))\n",
    "game.playGame()\n",
    "game.printResults()"
   ]
  },
  {
   "cell_type": "code",
   "execution_count": 213,
   "id": "6927abd1-4d39-4ad4-9a40-c33a000f8692",
   "metadata": {},
   "outputs": [
    {
     "name": "stdout",
     "output_type": "stream",
     "text": [
      "player 0:  [' 0|8 ', ' 8|4 ', ' 4|5 ', ' 5|9 ', ' 9|9 ', ' 9|4 ', ' 4|6 ', ' 6|5 ', ' 5|3 ', ' 3|4 ', ' 4|2 ']\n",
      "player 1:  [' 0|5 ', ' 5|7 ', ' 7|3 ', ' 3|3 ', ' 3|6 ', ' 6|0 ', ' 0|3 ', ' 3|2 ']\n",
      "player 2:  [' 0|9 ', ' 9|8 ', ' 8|3 ', ' 3|9 ', ' 9|7 ', ' 7|2 ', ' 2|5 ', ' 5|1 ', ' 1|0 ', ' 0|2 ', ' 2|8 ']\n",
      "player 3:  [' 0|7 ', ' 7|7 ', ' 7|8 ', ' 8|8 ', ' 8|5 ', ' 5|5 ']\n",
      "dummy:  [' 0|4 ', ' 4|4 ', ' 4|7 ', ' 7|6 ', ' 6|9 ', ' 9|2 ', ' 2|1 ', ' 1|1 ', ' 1|8 ', ' 8|6 ', ' 6|1 ', ' 1|9 ']\n"
     ]
    }
   ],
   "source": [
    "df.gameSequenceToString(game.dominoes, game.lineSequence, game.linePlayDirection, player=None, playNumber=None, labelLines=True) #player=game.linePlayer, playNumber=game.linePlayNumber)\n",
    "df.gameSequenceToString(game.dominoes, game.dummySequence, game.dummyPlayDirection, player=None, playNumber=None, labelLines=True) #player=game.linePlayer, playNumber=game.linePlayNumber)"
   ]
  },
  {
   "cell_type": "code",
   "execution_count": null,
   "id": "88659a32-48a5-4798-8fb3-ab6c7af776ef",
   "metadata": {},
   "outputs": [],
   "source": []
  },
  {
   "cell_type": "code",
   "execution_count": null,
   "id": "a967fd80-e15f-4872-bdea-365417cb5a3e",
   "metadata": {},
   "outputs": [],
   "source": []
  },
  {
   "cell_type": "code",
   "execution_count": null,
   "id": "0b1e9dce-10a7-4ba4-970e-51adf826e08f",
   "metadata": {},
   "outputs": [],
   "source": []
  },
  {
   "cell_type": "code",
   "execution_count": 195,
   "id": "6f8fa238-52ca-4b98-b287-1a9d283e1c51",
   "metadata": {},
   "outputs": [
    {
     "name": "stdout",
     "output_type": "stream",
     "text": [
      "[' 9|7 ', ' 7|8 ', ' 8|5 ', ' 5|5 ']\n",
      "[' 9|3 ', ' 3|3 ', ' 3|5 ', ' 5|7 ']\n",
      "[' 9|8 ', ' 8|0 ', ' 0|1 ', ' 1|7 ', ' 7|4 ', ' 4|6 ', ' 6|9 ', ' 9|1 ', ' 1|5 ', ' 5|4 ', ' 4|2 ', ' 2|7 ', ' 7|6 ', ' 6|8 ']\n",
      "[' 9|5 ', ' 5|6 ', ' 6|6 ', ' 6|0 ', ' 0|0 ', ' 0|9 ', ' 9|4 ', ' 4|8 ', ' 8|1 ']\n",
      "[' 9|2 ', ' 2|2 ', ' 2|0 ', ' 0|5 ', ' 5|2 ', ' 2|3 ', ' 3|8 ', ' 8|2 ', ' 2|6 ', ' 6|3 ', ' 3|4 ', ' 4|0 ', ' 0|3 ', ' 3|7 ', ' 7|7 ', ' 7|0 ']\n"
     ]
    }
   ],
   "source": [
    "numPlayers = 4\n",
    "highestDominoe = 9\n",
    "game = dg.dominoeGame(highestDominoe, agents=(da.doubleAgent, da.greedyAgent, None, da.stupidAgent))\n",
    "game.playHand()\n",
    "df.gameSequenceToString(game.dominoes, game.lineSequence, game.linePlayDirection, player=None, playNumber=None) #player=game.linePlayer, playNumber=game.linePlayNumber)\n",
    "df.gameSequenceToString(game.dominoes, game.dummySequence, game.dummyPlayDirection, player=None, playNumber=None) #player=game.linePlayer, playNumber=game.linePlayNumber)"
   ]
  },
  {
   "cell_type": "code",
   "execution_count": 449,
   "id": "1d0ae873-32f9-4a21-9724-741e666c36b7",
   "metadata": {},
   "outputs": [
    {
     "name": "stdout",
     "output_type": "stream",
     "text": [
      "line 0: []\n",
      "line 1: []\n",
      "line 2: []\n",
      "line 3: []\n",
      "dummy: []\n",
      "Dominoe: None, Location: None\n"
     ]
    }
   ],
   "source": [
    "# Example of options list for current game (requires game.initializeHand() and game.presentGameState() to be run)\n",
    "lineOptions, dummyOptions = game.agents[0].playOptions()\n",
    "df.printDominoeList(lineOptions, game.agents[0].dominoes, name='line')\n",
    "df.printDominoeList(dummyOptions, game.agents[0].dominoes, name='dummy:')\n",
    "dominoe, location = game.agents[0].selectPlay()\n",
    "print(f\"Dominoe: {dominoe}, Location: {location}\")"
   ]
  },
  {
   "cell_type": "code",
   "execution_count": 207,
   "id": "81fa6014-2a23-40f7-9955-d7f4ee1dc486",
   "metadata": {},
   "outputs": [
    {
     "data": {
      "text/plain": [
       "[[], [], [1], []]"
      ]
     },
     "execution_count": 207,
     "metadata": {},
     "output_type": "execute_result"
    }
   ],
   "source": [
    "# game details\n",
    "game.lineSequence"
   ]
  },
  {
   "cell_type": "code",
   "execution_count": 159,
   "id": "969bb5b6-46c8-4c45-acfd-d4dd83f1c3cd",
   "metadata": {},
   "outputs": [
    {
     "name": "stderr",
     "output_type": "stream",
     "text": [
      "100%|███████████████████████████████████████████████████████████████████████| 1000000/1000000 [24:04<00:00, 692.50it/s]\n"
     ]
    },
    {
     "name": "stdout",
     "output_type": "stream",
     "text": [
      "1.4527309322357178\n"
     ]
    },
    {
     "data": {
      "text/plain": [
       "[<matplotlib.lines.Line2D at 0x200c936a130>]"
      ]
     },
     "execution_count": 159,
     "metadata": {},
     "output_type": "execute_result"
    },
    {
     "data": {
      "image/png": "[encoded data removed]",
      "text/plain": [
       "<Figure size 700x300 with 2 Axes>"
      ]
     },
     "metadata": {},
     "output_type": "display_data"
    }
   ],
   "source": [
    "# create random game states and then train a network to predict current hand score...\n",
    "def generateRandomHand(dominoes, numDominoes, numPlayers, verboseOutput=False):\n",
    "    numInHands = np.random.randint(numDominoes+1)\n",
    "    idxInHands = np.random.choice(numDominoes,numInHands,replace=False)\n",
    "    handIdx = np.random.randint(0, numPlayers, numInHands)\n",
    "    played = np.full(numDominoes, True)\n",
    "    myHand = np.full(numDominoes, False)\n",
    "    otherHands = np.full(numDominoes, False)\n",
    "    played[idxInHands]=False\n",
    "    myHand[idxInHands[handIdx==0]] = True\n",
    "    otherHands[idxInHands[handIdx>0]] = True\n",
    "    myHandValue = np.sum(dominoes[myHand])\n",
    "    otherHandValue = np.sum(dominoes[otherHands])\n",
    "    if verboseOutput:\n",
    "        return played, myHand, otherHands, myHandValue, otherHandValue\n",
    "    networkInput = (np.concatenate((played, myHand))*1)\n",
    "    networkOutput = np.array([myHandValue, otherHandValue])\n",
    "    # networkInput = np.concatenate((np.sum(dominoes.T * played, axis=0), np.sum(dominoes.T * myHand, axis=0)))\n",
    "    return networkInput, networkOutput\n",
    "\n",
    "# played, myHand, otherHands, myHandValue, otherHandValue = generateRandomHand(dominoes, numDominoes, numPlayers, verboseOutput=True)\n",
    "networkInput, networkOutput = generateRandomHand(dominoes, numDominoes, numPlayers)\n",
    "\n",
    "numPlayers = 3\n",
    "highestDominoe = 9\n",
    "numDominoes = df.numberDominoes(highestDominoe)\n",
    "dominoes = df.listDominoes(highestDominoe)\n",
    "\n",
    "handValueNetwork = dn.handValueNetwork(numPlayers,numDominoes,highestDominoe)\n",
    "handValueNetwork.to(device)\n",
    "\n",
    "numIterations = 1000000\n",
    "target = np.zeros((numIterations, 2))\n",
    "pred = np.zeros((numIterations, 2))\n",
    "storeLoss = np.zeros(numIterations)\n",
    "\n",
    "lossFunction = nn.L1Loss()\n",
    "# optimizer = torch.optim.SGD(handValueNetwork.parameters(), lr=1e-2, momentum=0.5)\n",
    "optimizer = torch.optim.Adadelta(handValueNetwork.parameters())\n",
    "\n",
    "for ii in tqdm(range(numIterations)):\n",
    "    networkInput, networkOutput = generateRandomHand(dominoes, numDominoes, numPlayers)\n",
    "    target[ii] = np.copy(networkOutput)\n",
    "    \n",
    "    networkInput = torch.tensor(networkInput).to(device).float()\n",
    "    networkOutput = torch.tensor(networkOutput).to(device).float()\n",
    "    \n",
    "    output = handValueNetwork(networkInput)\n",
    "    \n",
    "    loss = lossFunction(output, networkOutput)\n",
    "    loss.backward()\n",
    "    optimizer.step()\n",
    "    optimizer.zero_grad()\n",
    "    \n",
    "    storeLoss[ii] = loss.item()\n",
    "    pred[ii] = output.detach().cpu().numpy()\n",
    "    \n",
    "print(np.mean(storeLoss[-100:]))\n",
    "fig,ax = plt.subplots(1,2,figsize=(7,3))\n",
    "ax[0].plot(range(numIterations), storeLoss, linewidth=0.5)\n",
    "ax[1].plot(range(numIterations), pred[:,0]-target[:,0])"
   ]
  },
  {
   "cell_type": "code",
   "execution_count": null,
   "id": "94e4ed9f-c61e-4e19-9235-6e2ec58a5b57",
   "metadata": {},
   "outputs": [],
   "source": [
    "# Example of options list for current game (requires game.initializeHand() and game.presentGameState() to be run)\n",
    "print(f\"Line available: {game.available}, dummy available: {game.dummyAvailable}\")\n",
    "print(f\"Penny-up: {game.cantPlay}, dummy playable: {game.dummyPlayable}\")\n",
    "print(f\"Hand-size: {game.handSize}, manualHandSize: {[len(agent.myHand) for agent in game.agents]}\")\n",
    "print(\"\")\n",
    "game.agents[game.nextPlayer].gameState(game.played, game.available, game.handSize, game.cantPlay, game.didntPlay, game.turnCounter, game.dummyAvailable, game.dummyPlayable)\n",
    "lineOptions, dummyOptions = game.agents[game.nextPlayer].playOptions()\n",
    "df.printDominoeList(lineOptions, game.agents[game.nextPlayer].dominoes, name='line')\n",
    "df.printDominoeList(dummyOptions, game.agents[game.nextPlayer].dominoes, name='dummy:')\n",
    "dominoe, location = game.agents[game.nextPlayer].selectPlay()\n",
    "if dominoe is not None:\n",
    "    print(f\"~{game.agents[game.nextPlayer].agentName}~ agent played dominoe: {dominoe}: {df.dominoesString(game.dominoes[dominoe])} on location: {location}.\")\n",
    "else:\n",
    "    print(f\"~{game.agents[game.nextPlayer].agentName}~ agent could not play!\")\n",
    "game.doTurn()"
   ]
  },
  {
   "cell_type": "code",
   "execution_count": null,
   "id": "80913481-af53-4d8a-92b8-7916242d3f39",
   "metadata": {},
   "outputs": [],
   "source": []
  },
  {
   "cell_type": "code",
   "execution_count": 206,
   "id": "c947dee2-46c9-44cb-9c78-70672a46614d",
   "metadata": {},
   "outputs": [
    {
     "name": "stdout",
     "output_type": "stream",
     "text": [
      "hello\n"
     ]
    }
   ],
   "source": [
    "print(\"hello\")"
   ]
  },
  {
   "cell_type": "code",
   "execution_count": null,
   "id": "045c0d34-f13e-4694-9890-40e6b5c54b5d",
   "metadata": {},
   "outputs": [],
   "source": []
  }
 ],
 "metadata": {
  "kernelspec": {
   "display_name": "Python 3 (ipykernel)",
   "language": "python",
   "name": "python3"
  },
  "language_info": {
   "codemirror_mode": {
    "name": "ipython",
    "version": 3
   },
   "file_extension": ".py",
   "mimetype": "text/x-python",
   "name": "python",
   "nbconvert_exporter": "python",
   "pygments_lexer": "ipython3",
   "version": "3.9.17"
  }
 },
 "nbformat": 4,
 "nbformat_minor": 5
}
