{
 "cells": [
  {
   "cell_type": "code",
   "execution_count": 1,
   "id": "d743f019-bcc5-4c13-8aef-98e737e0747e",
   "metadata": {
    "tags": []
   },
   "outputs": [
    {
     "name": "stdout",
     "output_type": "stream",
     "text": [
      "Using device: cuda\n"
     ]
    }
   ],
   "source": [
    "%reload_ext autoreload\n",
    "%autoreload 2\n",
    "\n",
    "# import os\n",
    "# os.environ['CUDA_LAUNCH_BLOCKING'] = \"1\"\n",
    "# os.environ['TORCH_USE_CUDA_DSA'] = \"1\"\n",
    "\n",
    "import time\n",
    "from copy import copy\n",
    "import random\n",
    "import numpy as np\n",
    "import torch\n",
    "from tqdm import tqdm\n",
    "import matplotlib.pyplot as plt\n",
    "import matplotlib as mpl\n",
    "from dominoes import leagueManager as lm\n",
    "from dominoes import gameplay as dg\n",
    "from dominoes import agents as da\n",
    "from dominoes import functions as df\n",
    "from dominoes import fileManagement as fm\n",
    "from dominoes import transformers\n",
    "\n",
    "\n",
    "device = \"cuda\" if torch.cuda.is_available() else \"cpu\"\n",
    "print(f\"Using device: {device}\")"
   ]
  },
  {
   "cell_type": "code",
   "execution_count": 4,
   "id": "48c901ba-4294-4ff4-8d74-ae540752816a",
   "metadata": {},
   "outputs": [],
   "source": [
    "# To-Do List\n",
    "# 0. Plot valueAgentELO results effectively and document it!\n",
    "# 1. Train a library of lineValueAgents on a server\n",
    "# 3. Build a policy-only agent!\n",
    "#    - It will learn with a network approximation of the value function in the same way the other ones do\n",
    "#    - But it'll process the hand and game state to generate a context embedding -----\n",
    "#    - Then use a pointer network to choose which option to play based on the option encoding and the context\n",
    "#    - The policy can then be updated with the temporal-difference of the value function, which will get more efficient over time\n",
    "\n",
    "# Experiments: \n",
    "# 1. Show that the order of the agents matter (i.e. going after a good agent makes it harder!)\n",
    "# 2. Compare lineValueNetwork trained on only it's turn vs. all turns vs. just it's turn and the next turn\n",
    "# 4. Compare value agents trained with hand-continuity of eligibility traces or resets...\n",
    "\n",
    "# Analysis Goals: \n",
    "# 1. look at Linear layer of cnnLayer, find out how similar it is across dominoes\n",
    "# 2. Same for first linear layer of ffLayer\n",
    "# 3. Initialize the game many times, look at correlation between average lineValueFeatures and final score output\n",
    "# 4. Analyze why the abrupt increases in loss happen during pointer demonstration\n",
    "#    - add the analysis of seqLength vs. loss and position-dependent error to analyze the spikes in the loss\n",
    "\n",
    "# restructure experiments so they save key data points and divide the data generation and the analysis \n",
    "# so I can run it in \"analysis\" mode where it just loads data from a prespecified filename...\n",
    "# ---- keeping the above here because I don't think it's done for all of them yet ------\n"
   ]
  },
  {
   "cell_type": "code",
   "execution_count": null,
   "id": "52d77e10-ded6-420d-b1ce-95fa3977915d",
   "metadata": {},
   "outputs": [],
   "source": []
  },
  {
   "cell_type": "code",
   "execution_count": 266,
   "id": "d2e766be-47db-4828-a6da-9abeca5ac1ea",
   "metadata": {},
   "outputs": [],
   "source": [
    "# Immediate to-do\n",
    "# 1. Finish up transition to REINFORCE algorithm for pointer sequencing\n",
    "#    - also do this for the pointer demonstration\n",
    "# 2. Then use a separate value network to force the encoding to learn how to predict the value of the pointer output.\n",
    "# 3. Switch it to generate an output based on a randomized turn schedule (e.g. possibly be cutoff from generating output and accruing value)\n",
    "#    - Predict this with a value function too. \n",
    "# 4. Divide pointer network into \"encoder\" and \"decoder\" blocks to reuse the encoder (and append value)\n",
    "# 5. Try new versions of pointer attention:\n",
    "#    - simple attention (not a transformer layer) then single (N -> 1) FF layer\n",
    "#    - dot product between decoder_context and encoded_representations then softmax over that\n",
    "# --\n",
    "# also\n",
    "# --\n",
    "# 1. Test simpler TD agents on a probability of winning based value, rather than score!\n",
    "\n",
    "\n",
    "# Code practice:\n",
    "# 1. Convert measure reward to class\n",
    "# 2. Make a class for all these methods going to the experiments (batch, pad, etc.)\n",
    "\n",
    "# Representations:\n",
    "# 1. Make clean and nicely stored system for representing outputs in hand sequencing"
   ]
  },
  {
   "cell_type": "code",
   "execution_count": 647,
   "id": "d35e35f6-56f8-4c48-8175-ed1f5b0afc31",
   "metadata": {},
   "outputs": [],
   "source": []
  },
  {
   "cell_type": "code",
   "execution_count": null,
   "id": "c975986e-0abd-47d2-b280-da7d3e7c2a96",
   "metadata": {},
   "outputs": [],
   "source": []
  },
  {
   "cell_type": "code",
   "execution_count": 278,
   "id": "4701bdd1-8124-4b64-970d-3a2a53f22ebf",
   "metadata": {},
   "outputs": [],
   "source": [
    "# code for generating a hand\n",
    "\n",
    "def randomDominoeHand(numInHand, listDominoes, highestDominoe, batch_size=1, null_token=True, available_token=True):\n",
    "    \"\"\"method to produce an encoded random hand\"\"\"\n",
    "    numDominoes = len(listDominoes)\n",
    "    \n",
    "    # choose dominoes from the batch, and get their value (in points)\n",
    "    selection = np.stack([np.random.choice(numDominoes, numInHand, replace=False) for _ in range(batch_size)])\n",
    "    if available_token:\n",
    "        available = np.random.randint(0, highestDominoe+1, batch_size)\n",
    "    else:\n",
    "        available = [None]*batch_size\n",
    "    \n",
    "    # create tensor representations\n",
    "    input = torch.stack([df.twohotDominoe(sel, listDominoes, highestDominoe, available=ava,\n",
    "                                          available_token=available_token, null_token=null_token, with_batch=False) \n",
    "                         for sel,ava in zip(selection, available)])\n",
    "    return input, selection, available\n",
    "    \n",
    "def getBestLine(dominoes, selection, highestDominoe):\n",
    "    bestSequence = []\n",
    "    bestDirection = []\n",
    "    for sel in selection:\n",
    "        cBestSeq = []\n",
    "        cBestDir = []\n",
    "        cBestVal = []\n",
    "        for available in range(highestDominoe+1):\n",
    "            cseq, cdir = df.constructLineRecursive(dominoes, sel, available)\n",
    "            cval = [np.sum(dominoes[cs]) for cs in cseq]\n",
    "            cidx = max(enumerate(cval), key=lambda x: x[1])[0]\n",
    "            cBestSeq.append(cseq[cidx])\n",
    "            cBestDir.append(cdir[cidx])\n",
    "            cBestVal.append(cval[cidx])\n",
    "\n",
    "        cBestIdx = max(enumerate(cBestVal), key=lambda x: x[1])[0]\n",
    "        bestSequence.append(cBestSeq[cBestIdx])\n",
    "        bestDirection.append(cBestDir[cBestIdx])\n",
    "\n",
    "    return bestSequence, bestDirection\n",
    "\n",
    "def getBestLineFromAvailable(dominoes, selection, highestDominoe, available):\n",
    "    bestSequence = []\n",
    "    bestDirection = []\n",
    "    for sel, ava in zip(selection, available):\n",
    "        cseq, cdir = df.constructLineRecursive(dominoes, sel, ava)\n",
    "        cval = [np.sum(dominoes[cs]) for cs in cseq]\n",
    "        cidx = max(enumerate(cval), key=lambda x: x[1])[0]\n",
    "        bestSequence.append(cseq[cidx])\n",
    "        bestDirection.append(cdir[cidx])\n",
    "    return bestSequence, bestDirection\n",
    "    \n",
    "def convertToHandIndex(selection, bestSequence):\n",
    "    indices = []\n",
    "    for sel,seq in zip(selection, bestSequence):\n",
    "        # look up table for current selection\n",
    "        elementIdx = {element:idx for idx, element in enumerate(sel)}\n",
    "        indices.append([elementIdx[element] for element in seq])\n",
    "    return indices\n",
    "    \n",
    "def padBestLine(bestSequence, max_output, ignore_index=-1):\n",
    "    for bs in bestSequence:\n",
    "        bs += [ignore_index]*(max_output-len(bs))\n",
    "    return bestSequence\n",
    "\n",
    "def generateBatch(highestDominoe, dominoes, batch_size, numInHand, return_target=True,\n",
    "                  available_token=False, null_token=False, ignore_index=-1, return_full=False):\n",
    "    input, selection, available = randomDominoeHand(numInHand, dominoes, highestDominoe, batch_size=batch_size, null_token=null_token, available_token=available_token)\n",
    "\n",
    "    mask_tokens = numInHand + (1 if null_token else 0) + (1 if available_token else 0)\n",
    "    mask = torch.ones((batch_size, mask_tokens), dtype=torch.float)\n",
    "\n",
    "    if return_target:\n",
    "        # then measure best line and convert it to a \"target\" array\n",
    "        if available_token:\n",
    "            bestSequence, bestDirection = getBestLineFromAvailable(dominoes, selection, highestDominoe, available)\n",
    "        else:\n",
    "            bestSequence, bestDirection = getBestLine(dominoes, selection, highestDominoe)\n",
    "\n",
    "        # convert sequence to hand index\n",
    "        iseq = convertToHandIndex(selection, bestSequence)\n",
    "        # create target and append null_index for ignoring impossible plays\n",
    "        null_index = ignore_index if not(null_token) else numInHand\n",
    "        target = torch.tensor(np.stack(padBestLine(iseq, numInHand+(1 if null_token else 0), ignore_index=null_index)), dtype=torch.long)\n",
    "    else:\n",
    "        # otherwise set these to None so we can use the same return structure\n",
    "        target, bestSequence, bestDirection = None, None, None\n",
    "        \n",
    "    if return_full:\n",
    "        return input, target, mask, bestSequence, bestDirection, selection, available\n",
    "    return input, target, mask"
   ]
  },
  {
   "cell_type": "code",
   "execution_count": 240,
   "id": "76588615-5b16-4d1b-acea-afe499d5c7e9",
   "metadata": {},
   "outputs": [],
   "source": [
    "@torch.no_grad()\n",
    "def measureReward(available, hands, choices, normalize=True, return_direction=False, verbose=None):\n",
    "    assert choices.ndim==2, f\"choices should be a (batch_size, max_output) tensor of indices, it is: {choices.shape}\"\n",
    "    batch_size, max_output = choices.shape\n",
    "    num_in_hand = hands.shape[1]\n",
    "    device = transformers.get_device(choices)\n",
    "\n",
    "    # check verbose\n",
    "    if verbose is not None:\n",
    "        debug = True\n",
    "        assert 0 <= verbose < batch_size, \"verbose should be an index corresponding to one of the batch elements\"\n",
    "    else:\n",
    "        debug = False\n",
    "    \n",
    "    # initialize these tracker variables\n",
    "    next_available = torch.tensor(available, dtype=torch.float).to(device)\n",
    "    havent_played = torch.ones((batch_size, num_in_hand+1), dtype=torch.bool).to(device) # True until dominoe has been played (include null for easier coding b/c out_choices includes idx to null\n",
    "    hands = torch.tensor(hands, dtype=torch.float).to(device)\n",
    "    handsOriginal = torch.cat((hands, -torch.ones((hands.size(0),1,2)).to(device)), dim=1) # keep track of original values\n",
    "    handsUpdates = torch.cat((hands, -torch.ones((hands.size(0),1,2)).to(device)), dim=1) # Add null choice as [-1,-1]\n",
    "    \n",
    "    rewards = torch.zeros((batch_size, max_output), dtype=torch.float).to(device)\n",
    "    if return_direction: \n",
    "        direction = -torch.ones((batch_size, max_output), dtype=torch.float).to(device)\n",
    "\n",
    "    if debug:\n",
    "        print(\"Original hand:\\n\", hands[verbose])\n",
    "        \n",
    "    # then for each output:\n",
    "    for idx in range(max_output):\n",
    "        # idx of outputs that chose the null token\n",
    "        idx_null = choices[:,idx] == num_in_hand\n",
    "\n",
    "        if debug:\n",
    "            print('')\n",
    "            print(\"\\nNew loop in measure reward:\\n\")\n",
    "            print(\"next_available:\", next_available[verbose])\n",
    "            print(\"Choice: \", choices[verbose,idx])\n",
    "            print(\"IdxNull: \", idx_null[verbose])\n",
    "        \n",
    "        # idx of outputs that have not already been chosen\n",
    "        idx_not_played = torch.gather(havent_played, 1, choices[:, idx].view(-1,1)).squeeze(1)\n",
    "        havent_played.scatter_(1, choices[:,idx].view(-1,1), torch.zeros((batch_size,1), dtype=torch.bool).to(device))\n",
    "\n",
    "        # idx of play (not the null token and a dominoe that hasn't been played yet)\n",
    "        idx_play = ~idx_null & idx_not_played\n",
    "        \n",
    "        # the dominoe that is chosen (including the null token)\n",
    "        next_play = torch.gather(handsOriginal, 1, choices[:, idx].view(-1, 1, 1).expand(-1, 1, 2)).squeeze(1)\n",
    "\n",
    "        # figure out whether play was valid, whcih direction, and next available\n",
    "        valid_play = torch.any(next_play.T == next_available, 0) # figure out if available matches a value in each dominoe\n",
    "        next_value_idx = 1*(next_play[:,0]==next_available) # if true, then 1 is next value, if false then 0 is next value (for valid plays)\n",
    "        new_available = torch.gather(next_play, 1, next_value_idx.view(-1,1)).squeeze(1) # get next available value\n",
    "        next_available[valid_play] = new_available[valid_play] # update available for all valid plays\n",
    "\n",
    "        # after getting next play, set any dominoe that has been played to [-1, -1]\n",
    "        insert_values = next_play.clone()\n",
    "        insert_values[valid_play] = -1\n",
    "        handsUpdates.scatter_(1, choices[:, idx].view(-1,1,1).expand(-1,-1,2), insert_values.unsqueeze(1))\n",
    "\n",
    "        if return_direction:\n",
    "            play_direction = 1.0*(next_value_idx==0)\n",
    "            direction[idx_play & valid_play, idx] = play_direction[idx_play & valid_play].float()\n",
    "            \n",
    "        # if dominoe that is a valid_play and hasn't been played yet is selected, add reward\n",
    "        idx_good_play = ~idx_null & idx_not_played & valid_play\n",
    "        rewards[idx_good_play, idx] += (torch.sum(next_play[idx_good_play], dim=1) + 1)\n",
    "    \n",
    "        # if a dominoe is chosen but is invalid, subtract points\n",
    "        idx_bad_play = ~idx_null & (~idx_not_played | ~valid_play)\n",
    "        rewards[idx_bad_play, idx] -= (torch.sum(next_play[idx_bad_play], dim=1) + 1)\n",
    "\n",
    "        # determine which hands still have playable dominoes\n",
    "        idx_still_playable = torch.any((handsUpdates == next_available.view(-1, 1, 1)).view(handsUpdates.size(0), -1), dim=1)\n",
    "\n",
    "        # if the null is chosen and no other dominoes are possible, give some reward, otherwise negative reward\n",
    "        rewards[idx_null & ~idx_still_playable, idx] += 1.0\n",
    "        rewards[idx_null & idx_still_playable, idx] -= 1.0\n",
    "\n",
    "        if debug:\n",
    "            print(\"Next play: \", next_play[verbose])\n",
    "            if return_direction:\n",
    "                print(\"play_direction:\", play_direction[verbose])\n",
    "            print(\"next available: \", next_available[verbose])\n",
    "            print(\"valid_play:\", valid_play[verbose])\n",
    "            print(\"idx_still_playable:\", idx_still_playable[verbose])\n",
    "            print(\"idx_play: \", idx_play[verbose])\n",
    "            print(\"Hands updated:\\n\", handsUpdates[verbose])\n",
    "            print(\"Rewards[verbose,idx]:\", rewards[verbose, idx])\n",
    "    \n",
    "    if normalize:\n",
    "        rewards /= (highestDominoe+1) \n",
    "        \n",
    "    if return_direction:\n",
    "        return rewards, direction\n",
    "    else:        \n",
    "        return rewards"
   ]
  },
  {
   "cell_type": "code",
   "execution_count": 274,
   "id": "e4d21685-62f8-4f9b-a060-9863c9ce19ab",
   "metadata": {},
   "outputs": [
    {
     "name": "stderr",
     "output_type": "stream",
     "text": [
      "R=27.39, G=32.70: 100%|████████████████████████████████████████████████████████████| 4000/4000 [13:51<00:00,  4.81it/s]\n"
     ]
    },
    {
     "data": {
      "image/png": "[encoded data removed]",
      "text/plain": [
       "<Figure size 800x400 with 2 Axes>"
      ]
     },
     "metadata": {},
     "output_type": "display_data"
    }
   ],
   "source": [
    "# This section of code does curriculum training\n",
    "# - starting with supervised learning of dominoe sequences\n",
    "# - then ending with reinforcement learning\n",
    "\n",
    "# input parameters\n",
    "highestDominoe = 9\n",
    "dominoes = df.listDominoes(highestDominoe)\n",
    "\n",
    "batch_size = 96\n",
    "numInHand = 10\n",
    "null_token = True\n",
    "available_token = True\n",
    "input_dim = (3 if available_token else 2)*(highestDominoe+1) + (1 if null_token else 0)\n",
    "embedding_dim = 96\n",
    "num_output = numInHand + (1 if null_token else 0)\n",
    "ignore_index = -1\n",
    "alpha = 1e-4\n",
    "\n",
    "# get network from saved \n",
    "net = torch.load('experiments/savedNetworks/pointerSequencer.pt')\n",
    "net.temperature = 10\n",
    "\n",
    "# net = transformers.PointerNetwork(input_dim, embedding_dim, encoding_layers=2, heads=8, expansion=2, kqnorm=True, decode_with_gru=False, greedy=False)\n",
    "\n",
    "net.to(device)\n",
    "net.train()\n",
    "\n",
    "# prepare optimizer\n",
    "optimizer = torch.optim.Adam(net.parameters(), lr=alpha, weight_decay=alpha*1e-2)\n",
    "\n",
    "gamma = 0.3\n",
    "exponent = torch.arange(numInHand+1).view(-1,1) - torch.arange(numInHand+1).view(1,-1)\n",
    "gamma_transform = (gamma ** exponent * (exponent >= 0)).unsqueeze(0).expand(batch_size, -1, -1).to(device)\n",
    "\n",
    "# run round\n",
    "use_rl = True\n",
    "if_rl_measure_loss = False\n",
    "return_target = not(use_rl) or if_rl_measure_loss\n",
    "\n",
    "# do reinforcement learning\n",
    "rl_batch_inputs = {'null_token':null_token, \n",
    "                   'available_token':available_token, \n",
    "                   'ignore_index':ignore_index, \n",
    "                   'return_full':True,\n",
    "                   'return_target':return_target\n",
    "                  }\n",
    "\n",
    "numEpochs = 4000\n",
    "rlReward = torch.zeros((numEpochs,))\n",
    "slLoss = torch.zeros((numEpochs,))\n",
    "for epoch in (pbar := tqdm(range(numEpochs))):\n",
    "    \n",
    "    if epoch == int(numEpochs*0.9):\n",
    "        net.temperature=1\n",
    "    \n",
    "    optimizer.zero_grad()\n",
    "\n",
    "    # generate input batch\n",
    "    batch = generateBatch(highestDominoe, dominoes, batch_size, numInHand, **rl_batch_inputs)\n",
    "\n",
    "    # unpack batch tuple\n",
    "    input, target, _, _, _, selection, available = batch\n",
    "\n",
    "    # move to correct device\n",
    "    input = input.to(device)\n",
    "    if return_target:\n",
    "        target = target.to(device)\n",
    "\n",
    "    # convert input to main input and context input\n",
    "    x, context = input[:, :-1], input[:, [-1]]\n",
    "    input = (x, context)\n",
    "    \n",
    "    # propagate it through the network\n",
    "    out_scores, out_choices = net(input, max_output=num_output)\n",
    "\n",
    "    # measure rewards for each sequence\n",
    "    rewards = measureReward(available, dominoes[selection], out_choices, normalize=False)\n",
    "    G = torch.bmm(rewards.unsqueeze(1), gamma_transform).squeeze(1)\n",
    "    \n",
    "    # measure loss and do backward pass\n",
    "    if return_target:\n",
    "        unrolled = out_scores.view(batch_size * num_output, -1)\n",
    "        loss = torch.nn.functional.nll_loss(unrolled, target.view(-1), ignore_index=ignore_index)\n",
    "        c_loss = loss.item()\n",
    "    else:\n",
    "        c_loss = 0\n",
    "        \n",
    "    if use_rl:\n",
    "        # figure out which choices were the null\n",
    "        idx_null = out_choices == numInHand\n",
    "    \n",
    "        # idx=True where a choice happened in which null was already selected\n",
    "        idx_had_null = torch.cumsum(idx_null, dim=1) > 0\n",
    "        \n",
    "        # Convert rewards to J \n",
    "        logprob_policy = torch.gather(out_scores, 2, out_choices.unsqueeze(2)).squeeze(2) # log-probability for each chosen dominoe\n",
    "\n",
    "        # do backward pass on J\n",
    "        j_sum_argument = logprob_policy * G\n",
    "        J = -torch.sum(j_sum_argument) # only include components where a valid choice was made\n",
    "        J.backward()\n",
    "    else:\n",
    "        # if not doing RL, then do backward pass from supervised loss\n",
    "        loss.backward()\n",
    "        \n",
    "    optimizer.step()\n",
    "    rlReward[epoch] = torch.mean(torch.sum(G, dim=1))\n",
    "    slLoss[epoch] = c_loss\n",
    "    pbar.set_description(f\"R={torch.mean(torch.sum(rewards, dim=1)):.2f}, G={rlReward[epoch]:.2f}\")\n",
    "\n",
    "\n",
    "plt.close('all')\n",
    "fig, ax = plt.subplots(1,2,figsize=(8,4))\n",
    "ax[0].plot(range(numEpochs), rlReward)\n",
    "ax[1].plot(range(numEpochs), slLoss)\n",
    "plt.show()"
   ]
  },
  {
   "cell_type": "code",
   "execution_count": null,
   "id": "aefe930f-6997-4edc-90bb-49a605b49c00",
   "metadata": {},
   "outputs": [],
   "source": []
  },
  {
   "cell_type": "code",
   "execution_count": null,
   "id": "c9e6a514-0532-401d-98bc-5ce708f5a5ce",
   "metadata": {},
   "outputs": [],
   "source": []
  },
  {
   "cell_type": "code",
   "execution_count": null,
   "id": "aeb96eb5-b03a-4fbe-bcd9-f6ca03f1b09b",
   "metadata": {},
   "outputs": [],
   "source": []
  },
  {
   "cell_type": "code",
   "execution_count": null,
   "id": "a9499241-19ad-46b1-be4f-b04eb4fcafeb",
   "metadata": {},
   "outputs": [],
   "source": []
  },
  {
   "cell_type": "code",
   "execution_count": null,
   "id": "0bc5d9c0-cf9d-430e-88ff-ff6e2b43a0aa",
   "metadata": {},
   "outputs": [],
   "source": []
  },
  {
   "cell_type": "code",
   "execution_count": null,
   "id": "ae444301-bca7-45da-813f-c04209218cd2",
   "metadata": {},
   "outputs": [],
   "source": []
  },
  {
   "cell_type": "code",
   "execution_count": null,
   "id": "24ac5dc2-74ad-4048-9cde-515c17f80851",
   "metadata": {},
   "outputs": [],
   "source": []
  },
  {
   "cell_type": "code",
   "execution_count": null,
   "id": "c535b2de-09e3-4f3a-8606-158b856723f0",
   "metadata": {},
   "outputs": [],
   "source": []
  },
  {
   "cell_type": "code",
   "execution_count": null,
   "id": "cdebec65-22cd-4744-83ee-eb91f94fe916",
   "metadata": {},
   "outputs": [],
   "source": []
  },
  {
   "cell_type": "code",
   "execution_count": null,
   "id": "85e078db-15d8-41f8-a78b-52f823e3783b",
   "metadata": {},
   "outputs": [],
   "source": []
  },
  {
   "cell_type": "code",
   "execution_count": null,
   "id": "69477117-1cde-4e6e-b691-a5875a045b30",
   "metadata": {},
   "outputs": [],
   "source": []
  },
  {
   "cell_type": "code",
   "execution_count": null,
   "id": "8ae66356-3cde-4c10-a476-e38d41cbf2dd",
   "metadata": {},
   "outputs": [],
   "source": []
  },
  {
   "cell_type": "code",
   "execution_count": 277,
   "id": "10561bcb-b304-44fb-b36c-5a5bf5ddf4f2",
   "metadata": {},
   "outputs": [
    {
     "name": "stdout",
     "output_type": "stream",
     "text": [
      "Hand: \n",
      " tensor([[6, 9],\n",
      "        [2, 5],\n",
      "        [3, 7],\n",
      "        [4, 7],\n",
      "        [1, 5],\n",
      "        [0, 1],\n",
      "        [7, 9],\n",
      "        [4, 8],\n",
      "        [1, 6],\n",
      "        [2, 4]], device='cuda:0', dtype=torch.int32)\n",
      "Choices: \n",
      " tensor([2, 6, 0, 8, 4, 4, 7, 1, 1, 1, 1], device='cuda:0')\n",
      "Available: \n",
      " 3\n",
      "Dom Output: \n",
      " tensor([[3., 7.],\n",
      "        [7., 9.],\n",
      "        [6., 9.],\n",
      "        [1., 6.],\n",
      "        [1., 5.],\n",
      "        [1., 5.],\n",
      "        [4., 8.],\n",
      "        [2., 5.],\n",
      "        [2., 5.],\n",
      "        [2., 5.],\n",
      "        [2., 5.]], device='cuda:0')\n",
      "Rewards: \n",
      " tensor([ 11.,  17.,  16.,   8.,   7.,  -7., -13.,  -8.,  -8.,  -8.,  -8.],\n",
      "       device='cuda:0')\n"
     ]
    }
   ],
   "source": [
    "hands = torch.tensor(dominoes[selection]).to(device)\n",
    "handsPrint = torch.cat((hands, -torch.ones((hands.shape[0], 1, 2)).to(device)), dim=1)\n",
    "choices = out_choices\n",
    "\n",
    "ii = 1\n",
    "print(\"Hand: \\n\", hands[ii])\n",
    "print(\"Choices: \\n\", choices[ii])\n",
    "if return_target:\n",
    "    print(\"Target: \\n\", target[ii])\n",
    "print(\"Available: \\n\", available[ii])\n",
    "print(\"Dom Output: \\n\", handsPrint[ii][choices[ii]])\n",
    "print(\"Rewards: \\n\", rewards[ii])"
   ]
  },
  {
   "cell_type": "code",
   "execution_count": 263,
   "id": "0745f529-9144-4447-826b-212b7cee8ea1",
   "metadata": {},
   "outputs": [],
   "source": [
    "# _ = measureReward(available, dominoes[selection], out_choices, normalize=False, return_direction=True, verbose=0)"
   ]
  },
  {
   "cell_type": "code",
   "execution_count": null,
   "id": "3bf61955-c70b-4649-b528-7210438f171b",
   "metadata": {},
   "outputs": [],
   "source": []
  },
  {
   "cell_type": "code",
   "execution_count": null,
   "id": "0568ef1d-0144-4942-a6f0-611a8cd8ffd4",
   "metadata": {},
   "outputs": [],
   "source": []
  },
  {
   "cell_type": "code",
   "execution_count": null,
   "id": "1736c7e2-15f0-48bc-b570-9af252d34243",
   "metadata": {},
   "outputs": [],
   "source": []
  },
  {
   "cell_type": "code",
   "execution_count": null,
   "id": "d9218367-e455-4264-988d-21cc9e0ecdac",
   "metadata": {},
   "outputs": [],
   "source": []
  },
  {
   "cell_type": "code",
   "execution_count": null,
   "id": "70fcd21b-eff0-41b9-a20d-ed710a1152e3",
   "metadata": {},
   "outputs": [],
   "source": []
  },
  {
   "cell_type": "code",
   "execution_count": null,
   "id": "5eafc853-51d9-44ef-a3b2-adf7b075dc32",
   "metadata": {},
   "outputs": [],
   "source": []
  },
  {
   "cell_type": "code",
   "execution_count": null,
   "id": "a66fb96d-5a70-4867-ae59-74959b5a8c14",
   "metadata": {},
   "outputs": [],
   "source": []
  },
  {
   "cell_type": "code",
   "execution_count": null,
   "id": "74ad33c6-8219-4044-b7ad-c6b6f9dfef63",
   "metadata": {},
   "outputs": [
    {
     "name": "stdout",
     "output_type": "stream",
     "text": [
      "Training network...\n"
     ]
    },
    {
     "name": "stderr",
     "output_type": "stream",
     "text": [
      " 54%|█████████████████████████████████████████▉                                    | 1615/3000 [54:51<50:02,  2.17s/it]"
     ]
    }
   ],
   "source": [
    "#### set up toy experiment with a simple problem and pointer network to test the REINFORCE algorithm\n",
    "# start with 'pointerDemonstration' code and reward dominoes in order of highest value, not rewarding already played dominoes, and discounting future dominoes...\n",
    "\n",
    "@torch.no_grad()\n",
    "def measureReward(hands, choices, normalize=True):\n",
    "    assert choices.ndim==2, \"choices should be a (batch_size, max_output) tensor of indices\"\n",
    "    batch_size, max_output = choices.shape\n",
    "    num_in_hand = hands.shape[1]\n",
    "    device = transformers.get_device(choices)\n",
    "    \n",
    "    # initialize these tracker variables\n",
    "    havent_played = torch.ones((batch_size, num_in_hand), dtype=torch.bool).to(device) # True until dominoe has been played (include null for easier coding b/c out_choices includes idx to null\n",
    "    hands = torch.tensor(hands, dtype=torch.float).to(device)\n",
    "    \n",
    "    rewards = torch.zeros((batch_size, max_output), dtype=torch.float).to(device)\n",
    "    \n",
    "    # then for each output:\n",
    "    for idx in range(max_output):\n",
    "        # for next choice, get bool of whether choice has already been played\n",
    "        idx_not_played = torch.gather(havent_played, 1, choices[:, idx].view(-1,1)).squeeze(1)\n",
    "\n",
    "        # update which dominoes have been played\n",
    "        havent_played.scatter_(1, choices[:,idx].view(-1,1), torch.zeros((batch_size,1), dtype=torch.bool).to(device))\n",
    "\n",
    "        # for dominoes that haven't been played, add their value to rewards\n",
    "        next_play = torch.gather(hands, 1, choices[:, idx].view(-1,1,1).expand(-1,1,2)).squeeze(1)\n",
    "        \n",
    "        rewards[idx_not_played, idx] += (torch.sum(next_play[idx_not_played], dim=1) + 1)\n",
    "        rewards[~idx_not_played, idx] -= (torch.sum(next_play[~idx_not_played], dim=1) + 1)\n",
    "\n",
    "    if normalize:\n",
    "        rewards /= torch.max(hands)\n",
    "\n",
    "    return rewards\n",
    "\n",
    "# get values from the argument parser\n",
    "highestDominoe = 9\n",
    "listDominoes = df.listDominoes(highestDominoe)\n",
    "dominoeValue = np.sum(listDominoes, axis=1)\n",
    "\n",
    "ignoreIndex = -1\n",
    "handSize = 8\n",
    "batchSize = 512\n",
    "\n",
    "input_dim = 2*(highestDominoe+1)\n",
    "embedding_dim = 48\n",
    "heads = 4\n",
    "encoding_layers = 1\n",
    "greedy = True\n",
    "\n",
    "\n",
    "trainEpochs = 3000\n",
    "testEpochs = 100\n",
    "\n",
    "gamma = 0.5\n",
    "exponent = torch.arange(handSize).view(-1,1) - torch.arange(handSize).view(1,-1)\n",
    "gamma_transform = (gamma ** exponent * (exponent >= 0)).unsqueeze(0).expand(batchSize, -1, -1).to(device)\n",
    "\n",
    "\n",
    "# do reinforcement learning\n",
    "batch_inputs = {'null_token':False, \n",
    "                'available_token':False, \n",
    "                'ignore_index':ignore_index, \n",
    "                'return_full':True,\n",
    "                'return_target':False,\n",
    "               }\n",
    "\n",
    "pointer_methods = ['PointerStandard', 'PointerAttention', 'PointerTransformer']\n",
    "pnets = [transformers.PointerNetwork(input_dim, embedding_dim, temperature=5, pointer_method=pointer_method,\n",
    "                                     encoding_layers=encoding_layers, heads=heads, kqnorm=True, decode_with_gru=False, greedy=greedy)\n",
    "         for pointer_method in pointer_methods]\n",
    "pnets = [pnet.to(device) for pnet in pnets]\n",
    "for pnet in pnets: pnet.train()\n",
    "\n",
    "# Create an optimizer, Adam with weight decay is pretty good\n",
    "optimizers = [torch.optim.Adam(pnet.parameters(), lr=1e-3, weight_decay=1e-5) for pnet in pnets]\n",
    "\n",
    "numNets = len(pnets)\n",
    "\n",
    "# Train network\n",
    "print(\"Training network...\")\n",
    "trainLoss = torch.zeros((trainEpochs, numNets))\n",
    "for epoch in tqdm(range(trainEpochs)):\n",
    "    batch = generateBatch(highestDominoe, listDominoes, batchSize, handSize, **batch_inputs)\n",
    "\n",
    "    # unpack batch tuple\n",
    "    input, _, _, _, _, selection, available = batch\n",
    "\n",
    "    # move to correct device\n",
    "    input = input.to(device)\n",
    "    if batch_inputs['return_target']:\n",
    "        target = target.to(device)\n",
    "\n",
    "    if batch_inputs['available_token']:\n",
    "        # convert input to main input and context input\n",
    "        x, context = input[:, :-1], input[:, [-1]]\n",
    "        input = (x, context)\n",
    "\n",
    "    # zero gradients, get output of network\n",
    "    for opt in optimizers: opt.zero_grad()\n",
    "    log_scores, choices = map(list, zip(*[pnet(input) for pnet in pnets]))\n",
    "\n",
    "    # log-probability for each chosen dominoe\n",
    "    logprob_policy = [torch.gather(score, 2, choice.unsqueeze(2)).squeeze(2) for score, choice in zip(log_scores, choices)]\n",
    "    \n",
    "    # measure reward\n",
    "    rewards = [measureReward(listDominoes[selection], choice, normalize=False) for choice in choices]\n",
    "    G = [torch.bmm(reward.unsqueeze(1), gamma_transform).squeeze(1) for reward in rewards]\n",
    "\n",
    "    # measure J\n",
    "    J = [-torch.sum(logpol * g) for logpol, g in zip(logprob_policy, G)]\n",
    "    for j in J: j.backward()\n",
    "    \n",
    "    for opt in optimizers: opt.step()\n",
    "    \n",
    "    # save training data\n",
    "    for i in range(numNets):\n",
    "        trainLoss[epoch, i] = torch.mean(torch.sum(rewards[i], dim=1))\n",
    "\n",
    "with torch.no_grad():\n",
    "    net.temperature = 1\n",
    "    print('Testing network...')\n",
    "    testLoss = torch.zeros((testEpochs, numNets))\n",
    "    for epoch in tqdm(range(testEpochs)):\n",
    "        batch = generateBatch(highestDominoe, listDominoes, batchSize, handSize, **batch_inputs)\n",
    "\n",
    "        # unpack batch tuple\n",
    "        input, _, _, _, _, selection, available = batch\n",
    "    \n",
    "        # move to correct device\n",
    "        input = input.to(device)\n",
    "        if batch_inputs['return_target']:\n",
    "            target = target.to(device)\n",
    "    \n",
    "        if batch_inputs['available_token']:\n",
    "            # convert input to main input and context input\n",
    "            x, context = input[:, :-1], input[:, [-1]]\n",
    "            input = (x, context)\n",
    "    \n",
    "        log_scores, choices = map(list, zip(*[pnet(input) for pnet in pnets]))\n",
    "    \n",
    "        # log-probability for each chosen dominoe\n",
    "        logprob_policy = [torch.gather(score, 2, choice.unsqueeze(2)).squeeze(2) for score, choice in zip(log_scores, choices)]\n",
    "        \n",
    "        # measure reward\n",
    "        rewards = [measureReward(listDominoes[selection], choice, normalize=False) for choice in choices]\n",
    "        \n",
    "        # save training data\n",
    "        for i in range(numNets):\n",
    "            testLoss[epoch, i] = torch.mean(torch.sum(rewards[i], dim=1))\n",
    "\n",
    "plt.close('all')\n",
    "fig, ax = plt.subplots(1,2,figsize=(8,3))\n",
    "for inet in range(numNets):\n",
    "    ax[0].plot(range(trainEpochs), trainLoss[:,inet].detach().cpu().numpy(), label=pointer_methods[inet])\n",
    "    ax[1].plot(range(testEpochs), testLoss[:,inet].detach().cpu().numpy(), label=pointer_methods[inet])\n",
    "\n",
    "ylims = ax[0].get_ylim()\n",
    "ax[1].set_ylim(ylims)\n",
    "ax[1].legend(loc='lower right')\n",
    "plt.show()\n"
   ]
  },
  {
   "cell_type": "code",
   "execution_count": null,
   "id": "88dc1304-aa2f-44fe-887a-1b69620a4695",
   "metadata": {},
   "outputs": [],
   "source": []
  },
  {
   "cell_type": "code",
   "execution_count": null,
   "id": "3da80be5-ea57-4917-b9ad-5b37156babca",
   "metadata": {},
   "outputs": [],
   "source": []
  },
  {
   "cell_type": "code",
   "execution_count": null,
   "id": "a6be551b-7dc1-45d3-94f9-9460b3596eab",
   "metadata": {},
   "outputs": [],
   "source": []
  },
  {
   "cell_type": "code",
   "execution_count": 319,
   "id": "9afc6594-e746-42df-9b49-08e0593d1d33",
   "metadata": {},
   "outputs": [
    {
     "data": {
      "image/png": "[encoded data removed]",
      "text/plain": [
       "<Figure size 800x300 with 2 Axes>"
      ]
     },
     "metadata": {},
     "output_type": "display_data"
    }
   ],
   "source": [
    "plt.close('all')\n",
    "fig, ax = plt.subplots(1,2,figsize=(8,3))\n",
    "for inet in range(numNets):\n",
    "    ax[0].plot(range(trainEpochs), trainLoss[:,inet].detach().cpu().numpy(), label=pointer_methods[inet])\n",
    "    ax[1].plot(range(testEpochs), testLoss[:,inet].detach().cpu().numpy())\n",
    "\n",
    "ylims = ax[0].get_ylim()\n",
    "ax[1].set_ylim(ylims)\n",
    "ax[0].legend(loc='upper left')\n",
    "plt.show()"
   ]
  },
  {
   "cell_type": "code",
   "execution_count": 302,
   "id": "8a0f456e-5a26-4241-96bb-0014a814d334",
   "metadata": {},
   "outputs": [
    {
     "name": "stdout",
     "output_type": "stream",
     "text": [
      "tensor([1, 4, 6, 3, 0, 2, 2, 0], device='cuda:0')\n",
      "[[8 9]\n",
      " [9 9]\n",
      " [5 7]\n",
      " [0 7]\n",
      " [1 7]\n",
      " [4 4]\n",
      " [4 4]\n",
      " [1 7]]\n",
      "tensor([ 2.0000,  2.1111,  1.4444,  0.8889,  1.0000,  1.0000, -1.0000, -1.0000],\n",
      "       device='cuda:0')\n"
     ]
    }
   ],
   "source": [
    "netii = 0\n",
    "ii = 0\n",
    "\n",
    "print(choices[netii][ii])\n",
    "print(listDominoes[selection[ii]][choices[netii][ii].cpu()])\n",
    "print(rewards[netii][ii])"
   ]
  },
  {
   "cell_type": "code",
   "execution_count": 286,
   "id": "5f006a1e-8f19-4216-8641-0ce89220d579",
   "metadata": {},
   "outputs": [
    {
     "data": {
      "text/plain": [
       "torch.Size([512, 8])"
      ]
     },
     "execution_count": 286,
     "metadata": {},
     "output_type": "execute_result"
    }
   ],
   "source": [
    "choices.shape"
   ]
  },
  {
   "cell_type": "code",
   "execution_count": 297,
   "id": "ec3e69fb-dfb4-4fe1-95f1-4afab9b81694",
   "metadata": {},
   "outputs": [
    {
     "data": {
      "text/plain": [
       "tensor([ 0.4606,  0.3454,  0.2969,  0.1998,  0.1572,  0.0417,  0.0530, -0.1061],\n",
       "       device='cuda:0')"
      ]
     },
     "execution_count": 297,
     "metadata": {},
     "output_type": "execute_result"
    }
   ],
   "source": [
    "G[ii]"
   ]
  },
  {
   "cell_type": "code",
   "execution_count": null,
   "id": "06a9cb19-d09c-4a3e-8d43-ccb18de218a5",
   "metadata": {},
   "outputs": [],
   "source": []
  },
  {
   "cell_type": "code",
   "execution_count": null,
   "id": "b4af1eff-16b4-4c83-bc42-68f51fc05ae6",
   "metadata": {},
   "outputs": [],
   "source": []
  },
  {
   "cell_type": "code",
   "execution_count": null,
   "id": "19184032-a612-413c-bfc6-7695bdc5485f",
   "metadata": {},
   "outputs": [],
   "source": [
    "\n",
    "# Zygosity constants\n",
    "# ------------------------------------------------------------------------------------------------\n",
    "\n",
    "ZYGOSITY_TYPES = (\n",
    "    (0, 'Absent'),\n",
    "    (1, 'Heterozygous'),\n",
    "    (2, 'Homozygous'),\n",
    "    (3, 'Present'),\n",
    ")\n",
    "\n",
    "ZYGOSITY_SYMBOLS = ('-/-', '+/-', '+/+', '+')\n",
    "\n",
    "TEST_RESULTS = (\n",
    "    (0, 'Absent'),\n",
    "    (1, 'Present'),\n",
    ")"
   ]
  },
  {
   "cell_type": "code",
   "execution_count": null,
   "id": "7b8e2583-c53d-496c-a93a-4645176173ab",
   "metadata": {},
   "outputs": [],
   "source": []
  },
  {
   "cell_type": "code",
   "execution_count": null,
   "id": "18dbbaeb-8866-45f1-812d-674d867c25ef",
   "metadata": {},
   "outputs": [],
   "source": []
  },
  {
   "cell_type": "code",
   "execution_count": null,
   "id": "575078c8-0577-44e6-8db2-f5760b3302d8",
   "metadata": {},
   "outputs": [],
   "source": []
  },
  {
   "cell_type": "code",
   "execution_count": null,
   "id": "9aaa467d-be56-4e8b-87fc-d28a378461fc",
   "metadata": {},
   "outputs": [],
   "source": []
  },
  {
   "cell_type": "code",
   "execution_count": null,
   "id": "69f0c926-e24b-4882-a843-168e91ee452a",
   "metadata": {},
   "outputs": [],
   "source": []
  },
  {
   "cell_type": "code",
   "execution_count": 118,
   "id": "9855a6c9-6801-4eb4-86b9-8d09565fc942",
   "metadata": {},
   "outputs": [
    {
     "name": "stdout",
     "output_type": "stream",
     "text": [
      "Training network...\n"
     ]
    },
    {
     "name": "stderr",
     "output_type": "stream",
     "text": [
      "100%|████████████████████████████████████████████████████████████████████████████████| 500/500 [00:34<00:00, 14.32it/s]\n"
     ]
    },
    {
     "data": {
      "image/png": "[encoded data removed]",
      "text/plain": [
       "<Figure size 640x480 with 1 Axes>"
      ]
     },
     "metadata": {},
     "output_type": "display_data"
    }
   ],
   "source": [
    "#### set up toy experiment with a simple problem and pointer network to test the REINFORCE algorithm\n",
    "# start with 'pointerDemonstration' code and reward dominoes in order of highest value, not rewarding already played dominoes, and discounting future dominoes...\n",
    "\n",
    "@torch.no_grad()\n",
    "def measureReward(hands, choices, normalize=True):\n",
    "    assert choices.ndim==2, \"choices should be a (batch_size, max_output) tensor of indices\"\n",
    "    batch_size, max_output = choices.shape\n",
    "    num_in_hand = hands.shape[1]\n",
    "    device = transformers.get_device(choices)\n",
    "    \n",
    "    # initialize these tracker variables\n",
    "    havent_played = torch.ones((batch_size, num_in_hand), dtype=torch.bool).to(device) # True until dominoe has been played (include null for easier coding b/c out_choices includes idx to null\n",
    "    hands = torch.tensor(hands, dtype=torch.float).to(device)\n",
    "    \n",
    "    if normalize:\n",
    "        hand_total = torch.sum(hands, dim=(1,2)) # total number of points per hand\n",
    "    \n",
    "    rewards = torch.zeros((batch_size, max_output), dtype=torch.float).to(device)\n",
    "    \n",
    "    # then for each output:\n",
    "    for idx in range(max_output):\n",
    "        # for next choice, get bool of whether choice has already been played\n",
    "        idx_not_played = torch.gather(havent_played, 1, choices[:, idx].view(-1,1)).squeeze(1)\n",
    "\n",
    "        # update which dominoes have been played\n",
    "        havent_played.scatter_(1, choices[:,idx].view(-1,1), torch.zeros((batch_size,1), dtype=torch.bool).to(device))\n",
    "\n",
    "        # for dominoes that haven't been played, add their value to rewards\n",
    "        next_play = torch.gather(hands, 1, choices[:, idx].view(-1,1,1).expand(-1,1,2)).squeeze(1)\n",
    "        \n",
    "        rewards[idx_not_played, idx] += (torch.sum(next_play[idx_not_played], dim=1) + 1)\n",
    "        rewards[~idx_not_played, idx] -= (torch.sum(next_play[~idx_not_played], dim=1) + 1)\n",
    "\n",
    "    if normalize:\n",
    "        rewards /= hand_total.view(-1,1)\n",
    "\n",
    "    return rewards\n",
    "\n",
    "# get values from the argument parser\n",
    "highestDominoe = 9\n",
    "listDominoes = df.listDominoes(highestDominoe)\n",
    "dominoeValue = np.sum(listDominoes, axis=1)\n",
    "\n",
    "ignoreIndex = -1\n",
    "handSize = 8\n",
    "batchSize = 512\n",
    "\n",
    "input_dim = 2*(highestDominoe+1)\n",
    "embedding_dim = 48\n",
    "heads = 4\n",
    "encoding_layers = 1\n",
    "greedy = True\n",
    "trainEpochs = 500\n",
    "testEpochs = 1\n",
    "\n",
    "gamma = 0.5\n",
    "exponent = torch.arange(handSize).view(-1,1) - torch.arange(handSize).view(1,-1)\n",
    "gamma_transform = (gamma ** exponent * (exponent >= 0)).unsqueeze(0).expand(batchSize, -1, -1).to(device)\n",
    "\n",
    "# Create a pointer network\n",
    "# pnet = torch.load('experiments/savedNetworks/pointerSequencer.pt')\n",
    "# pnet.to(device)\n",
    "# optimizer = torch.optim.Adam(pnet.parameters(), lr=alpha)\n",
    "\n",
    "pnet = transformers.PointerNetwork(input_dim, embedding_dim, encoding_layers=encoding_layers, heads=heads, kqnorm=True, decode_with_gru=False, greedy=greedy)\n",
    "pnet = pnet.to(device)\n",
    "pnet.train()\n",
    "\n",
    "# Create an optimizer, Adam with weight decay is pretty good\n",
    "optimizer = torch.optim.Adam(pnet.parameters(), lr=1e-3, weight_decay=1e-5)\n",
    "\n",
    "# Train network\n",
    "print(\"Training network...\")\n",
    "trainLoss = torch.zeros(trainEpochs)\n",
    "for epoch in tqdm(range(trainEpochs)):\n",
    "    input, target, mask, selection = df.dominoeUnevenBatch(batchSize, handSize, handSize, listDominoes, dominoeValue, highestDominoe, \n",
    "                                                ignoreIndex=ignoreIndex, return_full=True)\n",
    "    input, target, mask = input.to(device), target.to(device), mask.to(device)\n",
    "\n",
    "    # zero gradients, get output of network\n",
    "    optimizer.zero_grad()\n",
    "    log_scores, choices = pnet(input)\n",
    "\n",
    "    logprob_policy = torch.gather(log_scores, 2, choices.unsqueeze(2)).squeeze(2) # log-probability for each chosen dominoe\n",
    "    \n",
    "    # measure reward\n",
    "    rewards = measureReward(listDominoes[selection], choices, normalize=True)\n",
    "    G = torch.bmm(rewards.unsqueeze(1), gamma_transform).squeeze(1)\n",
    "\n",
    "    # measure J\n",
    "    J = -torch.sum(logprob_policy * G)\n",
    "    J.backward()\n",
    "    \n",
    "    optimizer.step()\n",
    "    \n",
    "    # save training data\n",
    "    trainLoss[epoch] = torch.sum(G)\n",
    "\n",
    "plt.close('all')\n",
    "plt.plot(range(trainEpochs), trainLoss.detach().cpu().numpy())\n",
    "plt.show()\n"
   ]
  },
  {
   "cell_type": "code",
   "execution_count": null,
   "id": "4a5a5fce-7f0b-4fc9-a295-ed20f3e530f2",
   "metadata": {},
   "outputs": [],
   "source": []
  },
  {
   "cell_type": "code",
   "execution_count": null,
   "id": "d467b4d4-8a8c-45a1-adf9-e20af611844a",
   "metadata": {},
   "outputs": [],
   "source": []
  },
  {
   "cell_type": "code",
   "execution_count": null,
   "id": "6ef59b1a-16ab-423f-a73b-8897015bb337",
   "metadata": {},
   "outputs": [],
   "source": []
  },
  {
   "cell_type": "code",
   "execution_count": null,
   "id": "59f91b20-4053-4b8e-8c29-cf6a83b74817",
   "metadata": {},
   "outputs": [],
   "source": []
  },
  {
   "cell_type": "code",
   "execution_count": null,
   "id": "dfed1be5-4ed4-48c6-8278-b690ab6a2adf",
   "metadata": {},
   "outputs": [],
   "source": []
  },
  {
   "cell_type": "code",
   "execution_count": null,
   "id": "57ccfa21-03d7-4c6c-8db6-3ea961bad786",
   "metadata": {},
   "outputs": [],
   "source": []
  },
  {
   "cell_type": "code",
   "execution_count": null,
   "id": "decaa47b-8cf0-4206-834f-97c457ddb01f",
   "metadata": {},
   "outputs": [],
   "source": []
  },
  {
   "cell_type": "code",
   "execution_count": null,
   "id": "0b487a7c-88b1-4eb8-8988-ef3ab370c891",
   "metadata": {},
   "outputs": [],
   "source": []
  },
  {
   "cell_type": "code",
   "execution_count": null,
   "id": "a8f8e735-f4e6-4f9c-85c8-ac1f19e70ea3",
   "metadata": {},
   "outputs": [],
   "source": []
  },
  {
   "cell_type": "code",
   "execution_count": null,
   "id": "36cd7074-9ed3-4e0b-bcdd-45f562fc25f1",
   "metadata": {},
   "outputs": [],
   "source": []
  },
  {
   "cell_type": "code",
   "execution_count": null,
   "id": "fb941643-f677-4dd6-ae5c-b42968df1a2d",
   "metadata": {},
   "outputs": [],
   "source": []
  },
  {
   "cell_type": "code",
   "execution_count": null,
   "id": "66e6b04f-a8db-4fb8-8244-daf259c7adf7",
   "metadata": {},
   "outputs": [],
   "source": []
  },
  {
   "cell_type": "code",
   "execution_count": null,
   "id": "2bcc7120-8dd1-4e4c-9426-5d256c5101cb",
   "metadata": {},
   "outputs": [],
   "source": []
  },
  {
   "cell_type": "code",
   "execution_count": null,
   "id": "1427b2a9-81a8-4d34-8bdf-716b3b86c3c0",
   "metadata": {},
   "outputs": [],
   "source": []
  },
  {
   "cell_type": "code",
   "execution_count": null,
   "id": "685bcedf-841f-4b36-a0e6-ab0dc87e8cdc",
   "metadata": {},
   "outputs": [],
   "source": []
  },
  {
   "cell_type": "code",
   "execution_count": null,
   "id": "45261719-d2dc-413e-9dbc-b3a81848980f",
   "metadata": {},
   "outputs": [],
   "source": []
  },
  {
   "cell_type": "code",
   "execution_count": null,
   "id": "ca1fbf68-6ad8-4af5-afa2-c6306aed40d3",
   "metadata": {},
   "outputs": [],
   "source": []
  },
  {
   "cell_type": "code",
   "execution_count": null,
   "id": "b940550c-ffcc-465f-baba-bba8f45139b3",
   "metadata": {},
   "outputs": [],
   "source": []
  },
  {
   "cell_type": "code",
   "execution_count": null,
   "id": "47e35543-4db2-49f0-96fc-d36859b5ffc9",
   "metadata": {},
   "outputs": [],
   "source": []
  },
  {
   "cell_type": "code",
   "execution_count": null,
   "id": "6d15ffd9-eed0-4f39-bb1d-a710d0019cc7",
   "metadata": {},
   "outputs": [],
   "source": []
  },
  {
   "cell_type": "code",
   "execution_count": null,
   "id": "5448cd0a-e7e7-440a-8aad-79033249be9e",
   "metadata": {},
   "outputs": [],
   "source": []
  },
  {
   "cell_type": "code",
   "execution_count": null,
   "id": "919df8bb-2db7-49fc-b740-578146182059",
   "metadata": {},
   "outputs": [],
   "source": []
  },
  {
   "cell_type": "code",
   "execution_count": null,
   "id": "d055259c-d643-4be2-aaee-c768c75e3e56",
   "metadata": {},
   "outputs": [],
   "source": []
  },
  {
   "cell_type": "code",
   "execution_count": null,
   "id": "ab299726-8d74-4c3d-80fc-fe1f23b71121",
   "metadata": {},
   "outputs": [],
   "source": []
  },
  {
   "cell_type": "code",
   "execution_count": null,
   "id": "ec629c8c-8757-4e44-beac-377f8535214a",
   "metadata": {},
   "outputs": [],
   "source": []
  },
  {
   "cell_type": "code",
   "execution_count": null,
   "id": "24f67250-5053-44f1-878a-2800904070d0",
   "metadata": {},
   "outputs": [],
   "source": []
  },
  {
   "cell_type": "markdown",
   "id": "8ffb2790-9c12-4ed3-a650-a0163e9a3526",
   "metadata": {},
   "source": [
    "## Below this point I'm including some code blocks that make inspection of the gameplay and agent status easy... "
   ]
  },
  {
   "cell_type": "code",
   "execution_count": 217,
   "id": "ff4c26a2-a5a8-410d-9795-b88680257fd7",
   "metadata": {},
   "outputs": [
    {
     "name": "stdout",
     "output_type": "stream",
     "text": [
      "[[ 5  0 13  7]\n",
      " [ 5 11  0  6]\n",
      " [ 6  0 49 18]\n",
      " [ 7 39 29  0]\n",
      " [11 33 20  0]\n",
      " [ 6  2 26  0]\n",
      " [19 23 17  0]\n",
      " [ 0  3 24  7]\n",
      " [23 19  0  6]\n",
      " [ 7 24 40  0]]\n",
      "[ 89 154 218  44]\n",
      "The current winner is agent: 3 with a score of 44!\n"
     ]
    }
   ],
   "source": [
    "numPlayers = 4\n",
    "highestDominoe = 9\n",
    "game = dg.dominoeGame(highestDominoe, agents=(da.doubleAgent, da.greedyAgent, da.dominoeAgent, da.bestLineAgent))\n",
    "game.playGame()\n",
    "game.printResults()"
   ]
  },
  {
   "cell_type": "code",
   "execution_count": 213,
   "id": "6927abd1-4d39-4ad4-9a40-c33a000f8692",
   "metadata": {},
   "outputs": [
    {
     "name": "stdout",
     "output_type": "stream",
     "text": [
      "player 0:  [' 0|8 ', ' 8|4 ', ' 4|5 ', ' 5|9 ', ' 9|9 ', ' 9|4 ', ' 4|6 ', ' 6|5 ', ' 5|3 ', ' 3|4 ', ' 4|2 ']\n",
      "player 1:  [' 0|5 ', ' 5|7 ', ' 7|3 ', ' 3|3 ', ' 3|6 ', ' 6|0 ', ' 0|3 ', ' 3|2 ']\n",
      "player 2:  [' 0|9 ', ' 9|8 ', ' 8|3 ', ' 3|9 ', ' 9|7 ', ' 7|2 ', ' 2|5 ', ' 5|1 ', ' 1|0 ', ' 0|2 ', ' 2|8 ']\n",
      "player 3:  [' 0|7 ', ' 7|7 ', ' 7|8 ', ' 8|8 ', ' 8|5 ', ' 5|5 ']\n",
      "dummy:  [' 0|4 ', ' 4|4 ', ' 4|7 ', ' 7|6 ', ' 6|9 ', ' 9|2 ', ' 2|1 ', ' 1|1 ', ' 1|8 ', ' 8|6 ', ' 6|1 ', ' 1|9 ']\n"
     ]
    }
   ],
   "source": [
    "df.gameSequenceToString(game.dominoes, game.lineSequence, game.linePlayDirection, player=None, playNumber=None, labelLines=True) #player=game.linePlayer, playNumber=game.linePlayNumber)\n",
    "df.gameSequenceToString(game.dominoes, game.dummySequence, game.dummyPlayDirection, player=None, playNumber=None, labelLines=True) #player=game.linePlayer, playNumber=game.linePlayNumber)"
   ]
  },
  {
   "cell_type": "code",
   "execution_count": null,
   "id": "88659a32-48a5-4798-8fb3-ab6c7af776ef",
   "metadata": {},
   "outputs": [],
   "source": []
  },
  {
   "cell_type": "code",
   "execution_count": null,
   "id": "a967fd80-e15f-4872-bdea-365417cb5a3e",
   "metadata": {},
   "outputs": [],
   "source": []
  },
  {
   "cell_type": "code",
   "execution_count": null,
   "id": "0b1e9dce-10a7-4ba4-970e-51adf826e08f",
   "metadata": {},
   "outputs": [],
   "source": []
  },
  {
   "cell_type": "code",
   "execution_count": 195,
   "id": "6f8fa238-52ca-4b98-b287-1a9d283e1c51",
   "metadata": {},
   "outputs": [
    {
     "name": "stdout",
     "output_type": "stream",
     "text": [
      "[' 9|7 ', ' 7|8 ', ' 8|5 ', ' 5|5 ']\n",
      "[' 9|3 ', ' 3|3 ', ' 3|5 ', ' 5|7 ']\n",
      "[' 9|8 ', ' 8|0 ', ' 0|1 ', ' 1|7 ', ' 7|4 ', ' 4|6 ', ' 6|9 ', ' 9|1 ', ' 1|5 ', ' 5|4 ', ' 4|2 ', ' 2|7 ', ' 7|6 ', ' 6|8 ']\n",
      "[' 9|5 ', ' 5|6 ', ' 6|6 ', ' 6|0 ', ' 0|0 ', ' 0|9 ', ' 9|4 ', ' 4|8 ', ' 8|1 ']\n",
      "[' 9|2 ', ' 2|2 ', ' 2|0 ', ' 0|5 ', ' 5|2 ', ' 2|3 ', ' 3|8 ', ' 8|2 ', ' 2|6 ', ' 6|3 ', ' 3|4 ', ' 4|0 ', ' 0|3 ', ' 3|7 ', ' 7|7 ', ' 7|0 ']\n"
     ]
    }
   ],
   "source": [
    "numPlayers = 4\n",
    "highestDominoe = 9\n",
    "game = dg.dominoeGame(highestDominoe, agents=(da.doubleAgent, da.greedyAgent, None, da.stupidAgent))\n",
    "game.playHand()\n",
    "df.gameSequenceToString(game.dominoes, game.lineSequence, game.linePlayDirection, player=None, playNumber=None) #player=game.linePlayer, playNumber=game.linePlayNumber)\n",
    "df.gameSequenceToString(game.dominoes, game.dummySequence, game.dummyPlayDirection, player=None, playNumber=None) #player=game.linePlayer, playNumber=game.linePlayNumber)"
   ]
  },
  {
   "cell_type": "code",
   "execution_count": 449,
   "id": "1d0ae873-32f9-4a21-9724-741e666c36b7",
   "metadata": {},
   "outputs": [
    {
     "name": "stdout",
     "output_type": "stream",
     "text": [
      "line 0: []\n",
      "line 1: []\n",
      "line 2: []\n",
      "line 3: []\n",
      "dummy: []\n",
      "Dominoe: None, Location: None\n"
     ]
    }
   ],
   "source": [
    "# Example of options list for current game (requires game.initializeHand() and game.presentGameState() to be run)\n",
    "lineOptions, dummyOptions = game.agents[0].playOptions()\n",
    "df.printDominoeList(lineOptions, game.agents[0].dominoes, name='line')\n",
    "df.printDominoeList(dummyOptions, game.agents[0].dominoes, name='dummy:')\n",
    "dominoe, location = game.agents[0].selectPlay()\n",
    "print(f\"Dominoe: {dominoe}, Location: {location}\")"
   ]
  },
  {
   "cell_type": "code",
   "execution_count": 207,
   "id": "81fa6014-2a23-40f7-9955-d7f4ee1dc486",
   "metadata": {},
   "outputs": [
    {
     "data": {
      "text/plain": [
       "[[], [], [1], []]"
      ]
     },
     "execution_count": 207,
     "metadata": {},
     "output_type": "execute_result"
    }
   ],
   "source": [
    "# game details\n",
    "game.lineSequence"
   ]
  },
  {
   "cell_type": "code",
   "execution_count": 159,
   "id": "969bb5b6-46c8-4c45-acfd-d4dd83f1c3cd",
   "metadata": {},
   "outputs": [
    {
     "name": "stderr",
     "output_type": "stream",
     "text": [
      "100%|███████████████████████████████████████████████████████████████████████| 1000000/1000000 [24:04<00:00, 692.50it/s]\n"
     ]
    },
    {
     "name": "stdout",
     "output_type": "stream",
     "text": [
      "1.4527309322357178\n"
     ]
    },
    {
     "data": {
      "text/plain": [
       "[<matplotlib.lines.Line2D at 0x200c936a130>]"
      ]
     },
     "execution_count": 159,
     "metadata": {},
     "output_type": "execute_result"
    },
    {
     "data": {
      "image/png": "[encoded data removed]",
      "text/plain": [
       "<Figure size 700x300 with 2 Axes>"
      ]
     },
     "metadata": {},
     "output_type": "display_data"
    }
   ],
   "source": [
    "# create random game states and then train a network to predict current hand score...\n",
    "def generateRandomHand(dominoes, numDominoes, numPlayers, verboseOutput=False):\n",
    "    numInHands = np.random.randint(numDominoes+1)\n",
    "    idxInHands = np.random.choice(numDominoes,numInHands,replace=False)\n",
    "    handIdx = np.random.randint(0, numPlayers, numInHands)\n",
    "    played = np.full(numDominoes, True)\n",
    "    myHand = np.full(numDominoes, False)\n",
    "    otherHands = np.full(numDominoes, False)\n",
    "    played[idxInHands]=False\n",
    "    myHand[idxInHands[handIdx==0]] = True\n",
    "    otherHands[idxInHands[handIdx>0]] = True\n",
    "    myHandValue = np.sum(dominoes[myHand])\n",
    "    otherHandValue = np.sum(dominoes[otherHands])\n",
    "    if verboseOutput:\n",
    "        return played, myHand, otherHands, myHandValue, otherHandValue\n",
    "    networkInput = (np.concatenate((played, myHand))*1)\n",
    "    networkOutput = np.array([myHandValue, otherHandValue])\n",
    "    # networkInput = np.concatenate((np.sum(dominoes.T * played, axis=0), np.sum(dominoes.T * myHand, axis=0)))\n",
    "    return networkInput, networkOutput\n",
    "\n",
    "# played, myHand, otherHands, myHandValue, otherHandValue = generateRandomHand(dominoes, numDominoes, numPlayers, verboseOutput=True)\n",
    "networkInput, networkOutput = generateRandomHand(dominoes, numDominoes, numPlayers)\n",
    "\n",
    "numPlayers = 3\n",
    "highestDominoe = 9\n",
    "numDominoes = df.numberDominoes(highestDominoe)\n",
    "dominoes = df.listDominoes(highestDominoe)\n",
    "\n",
    "handValueNetwork = dn.handValueNetwork(numPlayers,numDominoes,highestDominoe)\n",
    "handValueNetwork.to(device)\n",
    "\n",
    "numIterations = 1000000\n",
    "target = np.zeros((numIterations, 2))\n",
    "pred = np.zeros((numIterations, 2))\n",
    "storeLoss = np.zeros(numIterations)\n",
    "\n",
    "lossFunction = nn.L1Loss()\n",
    "# optimizer = torch.optim.SGD(handValueNetwork.parameters(), lr=1e-2, momentum=0.5)\n",
    "optimizer = torch.optim.Adadelta(handValueNetwork.parameters())\n",
    "\n",
    "for ii in tqdm(range(numIterations)):\n",
    "    networkInput, networkOutput = generateRandomHand(dominoes, numDominoes, numPlayers)\n",
    "    target[ii] = np.copy(networkOutput)\n",
    "    \n",
    "    networkInput = torch.tensor(networkInput).to(device).float()\n",
    "    networkOutput = torch.tensor(networkOutput).to(device).float()\n",
    "    \n",
    "    output = handValueNetwork(networkInput)\n",
    "    \n",
    "    loss = lossFunction(output, networkOutput)\n",
    "    loss.backward()\n",
    "    optimizer.step()\n",
    "    optimizer.zero_grad()\n",
    "    \n",
    "    storeLoss[ii] = loss.item()\n",
    "    pred[ii] = output.detach().cpu().numpy()\n",
    "    \n",
    "print(np.mean(storeLoss[-100:]))\n",
    "fig,ax = plt.subplots(1,2,figsize=(7,3))\n",
    "ax[0].plot(range(numIterations), storeLoss, linewidth=0.5)\n",
    "ax[1].plot(range(numIterations), pred[:,0]-target[:,0])"
   ]
  },
  {
   "cell_type": "code",
   "execution_count": null,
   "id": "94e4ed9f-c61e-4e19-9235-6e2ec58a5b57",
   "metadata": {},
   "outputs": [],
   "source": [
    "# Example of options list for current game (requires game.initializeHand() and game.presentGameState() to be run)\n",
    "print(f\"Line available: {game.available}, dummy available: {game.dummyAvailable}\")\n",
    "print(f\"Penny-up: {game.cantPlay}, dummy playable: {game.dummyPlayable}\")\n",
    "print(f\"Hand-size: {game.handSize}, manualHandSize: {[len(agent.myHand) for agent in game.agents]}\")\n",
    "print(\"\")\n",
    "game.agents[game.nextPlayer].gameState(game.played, game.available, game.handSize, game.cantPlay, game.didntPlay, game.turnCounter, game.dummyAvailable, game.dummyPlayable)\n",
    "lineOptions, dummyOptions = game.agents[game.nextPlayer].playOptions()\n",
    "df.printDominoeList(lineOptions, game.agents[game.nextPlayer].dominoes, name='line')\n",
    "df.printDominoeList(dummyOptions, game.agents[game.nextPlayer].dominoes, name='dummy:')\n",
    "dominoe, location = game.agents[game.nextPlayer].selectPlay()\n",
    "if dominoe is not None:\n",
    "    print(f\"~{game.agents[game.nextPlayer].agentName}~ agent played dominoe: {dominoe}: {df.dominoesString(game.dominoes[dominoe])} on location: {location}.\")\n",
    "else:\n",
    "    print(f\"~{game.agents[game.nextPlayer].agentName}~ agent could not play!\")\n",
    "game.doTurn()"
   ]
  },
  {
   "cell_type": "code",
   "execution_count": null,
   "id": "80913481-af53-4d8a-92b8-7916242d3f39",
   "metadata": {},
   "outputs": [],
   "source": []
  },
  {
   "cell_type": "code",
   "execution_count": 206,
   "id": "c947dee2-46c9-44cb-9c78-70672a46614d",
   "metadata": {},
   "outputs": [
    {
     "name": "stdout",
     "output_type": "stream",
     "text": [
      "hello\n"
     ]
    }
   ],
   "source": [
    "print(\"hello\")"
   ]
  },
  {
   "cell_type": "code",
   "execution_count": null,
   "id": "045c0d34-f13e-4694-9890-40e6b5c54b5d",
   "metadata": {},
   "outputs": [],
   "source": []
  }
 ],
 "metadata": {
  "kernelspec": {
   "display_name": "Python 3 (ipykernel)",
   "language": "python",
   "name": "python3"
  },
  "language_info": {
   "codemirror_mode": {
    "name": "ipython",
    "version": 3
   },
   "file_extension": ".py",
   "mimetype": "text/x-python",
   "name": "python",
   "nbconvert_exporter": "python",
   "pygments_lexer": "ipython3",
   "version": "3.11.6"
  }
 },
 "nbformat": 4,
 "nbformat_minor": 5
}
