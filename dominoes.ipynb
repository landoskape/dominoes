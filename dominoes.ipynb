{
 "cells": [
  {
   "cell_type": "code",
   "execution_count": 271,
   "id": "6d4d84df-c50a-4eb1-88b3-3ba6b1ef7887",
   "metadata": {},
   "outputs": [],
   "source": [
    "# some ideas just for curiosity:\n",
    "# - could train an RL model to predict what dominoes are in other agents hands based on what has been played, their line, and what is available...\n",
    "# - for hand-crafted networks, I wonder if graph theory methods can speed up the line-value estimation methods..."
   ]
  },
  {
   "cell_type": "code",
   "execution_count": 1,
   "id": "d743f019-bcc5-4c13-8aef-98e737e0747e",
   "metadata": {},
   "outputs": [
    {
     "name": "stdout",
     "output_type": "stream",
     "text": [
      "Using device: cuda\n"
     ]
    }
   ],
   "source": [
    "%reload_ext autoreload\n",
    "%autoreload 2\n",
    "\n",
    "import time\n",
    "from copy import copy\n",
    "import random\n",
    "import numpy as np\n",
    "import torch\n",
    "import torch.nn as nn\n",
    "import torch.nn.functional as F\n",
    "from tqdm import tqdm\n",
    "import matplotlib.pyplot as plt\n",
    "import dominoesGameplay as dg\n",
    "import dominoesAgents as da\n",
    "import dominoesNetworks as dn\n",
    "import dominoesFunctions as df\n",
    "import fileManagement as fm\n",
    "\n",
    "device = \"cuda\" if torch.cuda.is_available() else \"cpu\"\n",
    "print(f\"Using device: {device}\")"
   ]
  },
  {
   "cell_type": "code",
   "execution_count": 344,
   "id": "48c901ba-4294-4ff4-8d74-ae540752816a",
   "metadata": {},
   "outputs": [],
   "source": [
    "# Specific Updates to Value Agents --\n",
    "# - I don't think I need to estimate pre/post states every play. This will save so much computation time, and may even be easier for the agents to learn. \n",
    "# - !! It seems like I do need to estimate pre/post states every play. However, I think there's an alternative solution:\n",
    "#         - instead of measuring TD error between the pre & post state, I can measure TD error between the pre-state and the next agent turn's pre-state.\n",
    "#         - this way, the agent will be able to build longer-term connections, but will still only estimate value once per round of turns...\n",
    "\n",
    "# Blog Post Planning: \n",
    "# 1. Creating a system that plays dominoes\n",
    "# 2. Hand-crafted agents that play with specific rules\n",
    "# 3. Finding a way to represent the game-state in a way that can be fed to a neural network\n",
    "#    3.1 -- Simple networks can't learn how to do addition and biased subtraction...?\n",
    "# 4. Adding information to the game-state about possible line sequences for the network to use more information in deciding how to play\n",
    "#    4.1 -- comparing performance of the lineValueNetwork where it is trained against bad agents or good agents\n",
    "#    4.2 -- comparing performance of the lineValueNetwork when it uses pre-poststate updates on every turn, only it's own turn, or only on it's own turn but before/after all other agents have had their turn...\n",
    "# 5. Building a neural network that can outperform the line value networks without hand-crafted information (e.g. a Transformer)"
   ]
  },
  {
   "cell_type": "code",
   "execution_count": 5,
   "id": "e4ef58a0-7c56-44ed-a40a-5cfd94533afb",
   "metadata": {},
   "outputs": [
    {
     "name": "stderr",
     "output_type": "stream",
     "text": [
      "100%|██████████████████████████████████████████████████████████████████████████████| 500/500 [4:11:00<00:00, 30.12s/it]\n",
      "100%|██████████████████████████████████████████████████████████████████████████████████| 10/10 [01:56<00:00, 11.67s/it]\n"
     ]
    }
   ],
   "source": [
    "# initialize game, and create agents\n",
    "# train lineValue agent against greedy agents (which it can learn to beat easily)\n",
    "numPlayers = 4\n",
    "highestDominoe = 9\n",
    "game = dg.dominoeGame(highestDominoe, numPlayers=numPlayers, agents=(da.lineValueAgentSmall, da.greedyAgent, da.greedyAgent, da.greedyAgent), device=device)\n",
    "\n",
    "# run training rounds\n",
    "trainingGames = 500\n",
    "trainingRounds = 50\n",
    "trainingWinnerCount = np.zeros(numPlayers)\n",
    "trainingScoreTally = np.zeros((trainingGames,numPlayers))\n",
    "for gameIdx in tqdm(range(trainingGames)):\n",
    "    game.playGame(rounds=trainingRounds)\n",
    "    trainingWinnerCount[game.currentWinner] += 1\n",
    "    trainingScoreTally[gameIdx] += game.currentScore\n",
    "\n",
    "# measure performance\n",
    "game.agents[0].setLearning(False)\n",
    "performanceGames = 10\n",
    "performanceRounds = 50\n",
    "performanceWinnerCount = np.zeros(numPlayers)\n",
    "performanceScoreTally = np.zeros(numPlayers)\n",
    "for _ in tqdm(range(performanceGames)):\n",
    "    game.playGame(rounds=performanceRounds)\n",
    "    performanceWinnerCount[game.currentWinner] += 1 \n",
    "    performanceScoreTally += game.currentScore\n"
   ]
  },
  {
   "cell_type": "code",
   "execution_count": 21,
   "id": "ec0e78f5-a199-45ad-a414-875e3697a109",
   "metadata": {
    "tags": []
   },
   "outputs": [
    {
     "name": "stderr",
     "output_type": "stream",
     "text": [
      "[autoreload of dominoesAgents failed: Traceback (most recent call last):\n",
      "  File \"C:\\Users\\andrew\\anaconda3\\envs\\dominoes\\Lib\\site-packages\\IPython\\extensions\\autoreload.py\", line 273, in check\n",
      "    superreload(m, reload, self.old_objects)\n",
      "  File \"C:\\Users\\andrew\\anaconda3\\envs\\dominoes\\Lib\\site-packages\\IPython\\extensions\\autoreload.py\", line 496, in superreload\n",
      "    update_generic(old_obj, new_obj)\n",
      "  File \"C:\\Users\\andrew\\anaconda3\\envs\\dominoes\\Lib\\site-packages\\IPython\\extensions\\autoreload.py\", line 393, in update_generic\n",
      "    update(a, b)\n",
      "  File \"C:\\Users\\andrew\\anaconda3\\envs\\dominoes\\Lib\\site-packages\\IPython\\extensions\\autoreload.py\", line 345, in update_class\n",
      "    if update_generic(old_obj, new_obj):\n",
      "       ^^^^^^^^^^^^^^^^^^^^^^^^^^^^^^^^\n",
      "  File \"C:\\Users\\andrew\\anaconda3\\envs\\dominoes\\Lib\\site-packages\\IPython\\extensions\\autoreload.py\", line 393, in update_generic\n",
      "    update(a, b)\n",
      "  File \"C:\\Users\\andrew\\anaconda3\\envs\\dominoes\\Lib\\site-packages\\IPython\\extensions\\autoreload.py\", line 305, in update_function\n",
      "    setattr(old, name, getattr(new, name))\n",
      "ValueError: newHand() requires a code object with 0 free vars, not 2585570312193\n",
      "]\n"
     ]
    },
    {
     "name": "stdin",
     "output_type": "stream",
     "text": [
      "Describe this model briefly:  small lineValueAgent, intialized randomly and then trained against greedyAgents\n"
     ]
    }
   ],
   "source": [
    "# save intermediary agent: \n",
    "# game.getAgent(0).saveAgentParameters(fm.savePath())"
   ]
  },
  {
   "cell_type": "code",
   "execution_count": 22,
   "id": "14d02418-8f3b-4140-8af8-4cc47a7629c3",
   "metadata": {},
   "outputs": [
    {
     "name": "stdout",
     "output_type": "stream",
     "text": [
      "Games won: [10.  0.  0.  0.]\n",
      "Expected score per hand: [ 6.63  11.684 11.608 12.198]\n"
     ]
    },
    {
     "data": {
      "image/png": "[encoded data removed]",
      "text/plain": [
       "<Figure size 640x480 with 1 Axes>"
      ]
     },
     "metadata": {},
     "output_type": "display_data"
    }
   ],
   "source": [
    "# report results of training lineValueAgent against greedyAgents\n",
    "print(f\"Games won: {performanceWinnerCount}\")\n",
    "print(f\"Expected score per hand: {performanceScoreTally / performanceGames / performanceRounds}\")\n",
    "c = ['r','g','b','k']\n",
    "for i in range(4):\n",
    "    plt.plot(range(trainingGames), trainingScoreTally[:,i]/trainingRounds, c=c[i])"
   ]
  },
  {
   "cell_type": "code",
   "execution_count": null,
   "id": "dd03aec9-d354-42d8-afa9-9cfdd82a2d87",
   "metadata": {
    "tags": []
   },
   "outputs": [
    {
     "name": "stderr",
     "output_type": "stream",
     "text": [
      "  0%|▎                                                                               | 2/500 [00:27<1:52:07, 13.51s/it]"
     ]
    }
   ],
   "source": [
    "# initialize new game\n",
    "# keep lineValueAgent (load previously learned parameters from playing against greedyAgents), and have it play against bestLineAgents\n",
    "\n",
    "numPlayers = 4\n",
    "highestDominoe = 9\n",
    "game = dg.dominoeGame(highestDominoe, numPlayers=numPlayers, agents=(da.lineValueAgentSmall, da.bestLineAgent, da.bestLineAgent, da.bestLineAgent), device=device)\n",
    "\n",
    "fileName = 'lineValueAgentParameters_230808_0.npy'\n",
    "game.getAgent(0).loadAgentParameters(fm.savePath() / fileName)\n",
    "game.getAgent(0).setLearning(True)\n",
    "game.getAgent(0).alpha = 1e-5\n",
    "\n",
    "# run training rounds\n",
    "trainingGames = 500\n",
    "trainingRounds = 50\n",
    "trainingWinnerCount = np.zeros(numPlayers)\n",
    "trainingScoreTally = np.zeros((trainingGames,numPlayers))\n",
    "for gameIdx in tqdm(range(trainingGames)):\n",
    "    game.playGame(rounds=trainingRounds)\n",
    "    trainingWinnerCount[game.currentWinner] += 1\n",
    "    trainingScoreTally[gameIdx] += game.currentScore\n",
    "\n",
    "# measure performance\n",
    "game.getAgent(0).setLearning(False)\n",
    "performanceGames = 10\n",
    "performanceRounds = 50\n",
    "performanceWinnerCount = np.zeros(numPlayers)\n",
    "performanceScoreTally = np.zeros(numPlayers)\n",
    "for _ in tqdm(range(performanceGames)):\n",
    "    game.playGame(rounds=performanceRounds)\n",
    "    performanceWinnerCount[game.currentWinner] += 1 \n",
    "    performanceScoreTally += game.currentScore"
   ]
  },
  {
   "cell_type": "code",
   "execution_count": null,
   "id": "6dd3039d-9b8f-4b99-8282-fdef7f4d56e8",
   "metadata": {},
   "outputs": [],
   "source": [
    "# save final agent: \n",
    "# game.getAgent(0).saveAgentParameters(fm.savePath())"
   ]
  },
  {
   "cell_type": "code",
   "execution_count": null,
   "id": "8b6cbbcf-72c3-47b9-a560-cb145841a3b9",
   "metadata": {},
   "outputs": [],
   "source": [
    "# report results of training lineValueAgent against greedyAgents\n",
    "print(f\"Games won: {performanceWinnerCount}\")\n",
    "print(f\"Expected score per hand: {performanceScoreTally / performanceGames / performanceRounds}\")\n",
    "c = ['r','g','b','k']\n",
    "for i in range(4):\n",
    "    plt.plot(range(trainingGames), trainingScoreTally[:,i]/trainingRounds, c=c[i])"
   ]
  },
  {
   "cell_type": "code",
   "execution_count": null,
   "id": "1ec4b708-39d6-46df-a331-7a7fcba814d8",
   "metadata": {},
   "outputs": [],
   "source": []
  },
  {
   "cell_type": "code",
   "execution_count": null,
   "id": "2bbbcf04-2df5-4931-a803-7e17d53954bb",
   "metadata": {},
   "outputs": [],
   "source": []
  },
  {
   "cell_type": "code",
   "execution_count": null,
   "id": "5a10223d-0dd9-40f6-be1a-a38d2ce078e2",
   "metadata": {},
   "outputs": [],
   "source": []
  },
  {
   "cell_type": "code",
   "execution_count": 2,
   "id": "c506ca18-411b-41ad-9e5b-b62a2c12b59d",
   "metadata": {},
   "outputs": [
    {
     "name": "stderr",
     "output_type": "stream",
     "text": [
      "100%|████████████████████████████████████████████████████████████████████████████████████| 3/3 [00:03<00:00,  1.23s/it]"
     ]
    },
    {
     "name": "stdout",
     "output_type": "stream",
     "text": [
      "Games won: [3. 0. 0. 0.]\n",
      "Expected score per hand: [ 3.2        11.86666667 14.2         9.86666667]\n"
     ]
    },
    {
     "name": "stderr",
     "output_type": "stream",
     "text": [
      "\n"
     ]
    }
   ],
   "source": [
    "# initialize game, and create agents\n",
    "numPlayers = 4\n",
    "highestDominoe = 9\n",
    "\n",
    "agents=(da.lineValueAgent, da.doubleAgent, da.doubleAgent, da.doubleAgent)\n",
    "game = dg.dominoeGame(highestDominoe, numPlayers=numPlayers, agents=agents, defaultAgent=da.dominoeAgent, device=device)\n",
    "\n",
    "fileName = 'lineValueAgentParameters_230802_0.npy'\n",
    "game.agents[0].loadAgentParameters(fm.savePath() / fileName)\n",
    "game.agents[0].setLearning(False)\n",
    "\n",
    "# measure performance without learning\n",
    "performanceGames = 3\n",
    "performanceRounds = 5\n",
    "performanceWinnerCount = np.zeros(numPlayers)\n",
    "performanceScoreTally = np.zeros(numPlayers)\n",
    "for _ in tqdm(range(performanceGames)):\n",
    "    game.playGame(rounds=performanceRounds)\n",
    "    performanceWinnerCount[game.currentWinner] += 1 \n",
    "    performanceScoreTally += game.currentScore\n",
    "    \n",
    "print(f\"Games won: {performanceWinnerCount}\")\n",
    "print(f\"Expected score per hand: {performanceScoreTally / performanceGames / performanceRounds}\")"
   ]
  },
  {
   "cell_type": "code",
   "execution_count": null,
   "id": "91929c85-2453-45cc-937c-f45dc58421c8",
   "metadata": {},
   "outputs": [],
   "source": []
  },
  {
   "cell_type": "code",
   "execution_count": null,
   "id": "c226d184-d252-4fed-bd43-506985416408",
   "metadata": {},
   "outputs": [],
   "source": []
  },
  {
   "cell_type": "code",
   "execution_count": 49,
   "id": "c9d1c58c-fec0-4da5-85bd-c782d7363c43",
   "metadata": {},
   "outputs": [
    {
     "name": "stdin",
     "output_type": "stream",
     "text": [
      "Describe this model briefly:  In this model, I pretrained it to learn while playing double agents, then trained it against best line agents. \n"
     ]
    }
   ],
   "source": [
    "game.agents[0].saveAgentParameters(fm.savePath())"
   ]
  },
  {
   "cell_type": "code",
   "execution_count": null,
   "id": "b6c05474-de04-44da-b64d-25f2ead02ed5",
   "metadata": {},
   "outputs": [],
   "source": []
  },
  {
   "cell_type": "code",
   "execution_count": null,
   "id": "f40e686b-3005-4cf9-bdb0-a78dedb2050b",
   "metadata": {},
   "outputs": [],
   "source": []
  },
  {
   "cell_type": "code",
   "execution_count": null,
   "id": "a1dd5dd3-2860-42db-9967-60f237b8bac5",
   "metadata": {},
   "outputs": [],
   "source": []
  },
  {
   "cell_type": "code",
   "execution_count": null,
   "id": "2e7a2978-054b-4583-be07-59785ffa8942",
   "metadata": {},
   "outputs": [],
   "source": []
  },
  {
   "cell_type": "code",
   "execution_count": null,
   "id": "336eae52-0ca0-4dd1-8d32-5cce89164cae",
   "metadata": {},
   "outputs": [],
   "source": []
  },
  {
   "cell_type": "code",
   "execution_count": null,
   "id": "f9efffc8-f9b8-40e0-ba45-dfafcd9ecbfb",
   "metadata": {},
   "outputs": [],
   "source": []
  },
  {
   "cell_type": "code",
   "execution_count": null,
   "id": "efa60a9a-4db2-48e8-b39a-9faa9b4cec08",
   "metadata": {},
   "outputs": [],
   "source": []
  },
  {
   "cell_type": "code",
   "execution_count": null,
   "id": "3c186a7f-fc57-4bef-ab3c-760e06421fd8",
   "metadata": {},
   "outputs": [],
   "source": []
  },
  {
   "cell_type": "code",
   "execution_count": null,
   "id": "7be8beff-21d7-454a-9587-9cd068143baa",
   "metadata": {},
   "outputs": [],
   "source": []
  },
  {
   "cell_type": "code",
   "execution_count": null,
   "id": "edbaced0-f322-4ffc-808d-0c344ab0a796",
   "metadata": {},
   "outputs": [],
   "source": []
  },
  {
   "cell_type": "code",
   "execution_count": 3,
   "id": "142dbb71-ec0a-467d-88f3-bf223f779015",
   "metadata": {},
   "outputs": [
    {
     "name": "stdout",
     "output_type": "stream",
     "text": [
      "epoch: 0, Loss: 0.24199\n",
      "Acc: 100.00% (9000/9000)\n",
      "epoch: 2, Loss: 0.00185\n",
      "Acc: 100.00% (9000/9000)\n",
      "epoch: 4, Loss: 0.00092\n",
      "Acc: 100.00% (9000/9000)\n",
      "----Test result---\n",
      "Acc: 100.00% (1000/1000)\n"
     ]
    }
   ],
   "source": [
    "from torch.autograd import Variable\n",
    "\n",
    "def createData(total_size, input_seq_len):\n",
    "    input, targets = make_seq_data(total_size, input_seq_len)\n",
    "    return input, targets\n",
    "\n",
    "def prepareData(input, targets, total_size):\n",
    "    # Convert to torch tensors\n",
    "    input = to_var(torch.LongTensor(input))     # (N, L)\n",
    "    targets = to_var(torch.LongTensor(targets)) # (N, L)\n",
    "\n",
    "    data_split = (int)(total_size * 0.9)\n",
    "    train_X = input[:data_split]\n",
    "    train_Y = targets[:data_split]\n",
    "    test_X = input[data_split:]\n",
    "    test_Y = targets[data_split:]\n",
    "    \n",
    "    return input, targets, train_X, train_Y, test_X, test_Y\n",
    "\n",
    "# from pointer_network import PointerNetwork\n",
    "def train(model, X, Y, batch_size, n_epochs):\n",
    "    model.train()\n",
    "    optimizer = torch.optim.Adam(model.parameters())\n",
    "    N = X.size(0)\n",
    "    L = X.size(1)\n",
    "    # M = Y.size(1)\n",
    "    for epoch in range(n_epochs + 1):\n",
    "        # for i in range(len(train_batches))\n",
    "        for i in range(0, N-batch_size, batch_size):\n",
    "            x = X[i:i+batch_size] # (bs, L)\n",
    "            y = Y[i:i+batch_size] # (bs, M)\n",
    "\n",
    "            probs = model(x) # (bs, M, L)\n",
    "            outputs = probs.view(-1, L) # (bs*M, L)\n",
    "            # outputs = probs.view(L, -1).t().contiguous() # (bs*M, L)\n",
    "            y = y.view(-1) # (bs*M)\n",
    "            loss = F.nll_loss(outputs, y)\n",
    "\n",
    "            optimizer.zero_grad()\n",
    "            loss.backward()\n",
    "            optimizer.step()\n",
    "\n",
    "        if epoch % 2 == 0:\n",
    "            print('epoch: {}, Loss: {:.5f}'.format(epoch, loss.item()))\n",
    "            # for _ in range(2): # random showing results\n",
    "            #     pick = np.random.randint(0, batch_size)\n",
    "            #     probs = probs.contiguous().view(batch_size, M, L).transpose(2, 1) # (bs, L, M)\n",
    "            #     y = y.view(batch_size, M)\n",
    "            #     print(\"predict: \", probs.max(1)[1].data[pick][0], probs.max(1)[1].data[pick][1],\n",
    "            #           \"target  : \", y.data[pick][0], y.data[pick][1])\n",
    "            test(model, X, Y)\n",
    "\n",
    "def test(model, X, Y):\n",
    "    probs = model(X) # (bs, M, L)\n",
    "    _v, indices = torch.max(probs, 2) # (bs, M)\n",
    "    # show test examples\n",
    "    # for i in range(len(indices)):\n",
    "    #     print('-----')\n",
    "    #     print('test', [v for v in X[i].data])\n",
    "    #     print('label', [v for v in Y[i].data])\n",
    "    #     print('pred', [v for v in indices[i].data])\n",
    "    #     if torch.equal(Y[i].data, indices[i].data):\n",
    "    #         print('eq')\n",
    "    #     if i>20: break\n",
    "    correct_count = sum([1 if torch.equal(ind.data, y.data) else 0 for ind, y in zip(indices, Y)])\n",
    "    print('Acc: {:.2f}% ({}/{})'.format(correct_count/len(X)*100, correct_count, len(X)))\n",
    "    \n",
    "def generate_single_seq(length=30, min_len=5, max_len=10):\n",
    "    # https://medium.com/@devnag/pointer-networks-in-tensorflow-with-sample-code-14645063f264\n",
    "    \"\"\" Generates a sequence of numbers of random length and inserts a sub-sequence oh greater numbers at random place\n",
    "    Input:\n",
    "    length: total sequence length\n",
    "    min_len: minimum length of sequence\n",
    "    max_len: maximum length of sequence\n",
    "    Output:\n",
    "    sequence of numbers, index of the start of greater numbers subsequence\"\"\"\n",
    "    seq_before = [(random.randint(1, 5)) for x in range(random.randint(min_len, max_len))]\n",
    "    seq_during = [(random.randint(6, 10)) for x in range(random.randint(min_len, max_len))]\n",
    "    seq_after = [random.randint(1, 5) for x in range(random.randint(min_len, max_len))]\n",
    "    seq = seq_before + seq_during + seq_after\n",
    "    seq = seq + ([0] * (length - len(seq)))\n",
    "    return (seq, len(seq_before), len(seq_before) + len(seq_during)-1)\n",
    "\n",
    "def generate_set_seq(N):\n",
    "    # generate Boundary tasks\n",
    "    \"\"\"Generates a set of N sequences of fixed length\"\"\"\n",
    "    data = []\n",
    "    starts = []\n",
    "    ends = []\n",
    "    for i in range(N):\n",
    "        seq, ind_start, ind_end = generate_single_seq()\n",
    "        data.append(seq)\n",
    "        starts.append(ind_start)\n",
    "        ends.append(ind_end)\n",
    "    return data, starts, ends\n",
    "\n",
    "def make_seq_data(n_samples, seq_len):\n",
    "    # Boundary tasks\n",
    "    data, labels = [], []\n",
    "    for _ in range(n_samples):\n",
    "        input = np.random.permutation(range(seq_len)).tolist()\n",
    "        target = sorted(range(len(input)), key=lambda k: input[k])\n",
    "        data.append(input)\n",
    "        labels.append(target)\n",
    "    return data, labels\n",
    "\n",
    "def to_var(x):\n",
    "    if torch.cuda.is_available():\n",
    "        x = x.cuda()\n",
    "    return Variable(x)\n",
    "\n",
    "class PointerNetwork(nn.Module):\n",
    "    def __init__(self, input_size, emb_size, weight_size, answer_seq_len, hidden_size=512, is_GRU=True):\n",
    "        super(PointerNetwork, self).__init__()\n",
    "\n",
    "        self.hidden_size = hidden_size\n",
    "        self.input_size = input_size\n",
    "        self.answer_seq_len = answer_seq_len\n",
    "        self.weight_size = weight_size\n",
    "        self.emb_size = emb_size\n",
    "        self.is_GRU = is_GRU\n",
    "\n",
    "        self.emb = nn.Embedding(input_size, emb_size)  # embed inputs\n",
    "        if is_GRU:\n",
    "            self.enc = nn.GRU(emb_size, hidden_size, batch_first=True)\n",
    "            self.dec = nn.GRUCell(emb_size, hidden_size) # GRUCell's input is always batch first\n",
    "        else:\n",
    "            self.enc = nn.LSTM(emb_size, hidden_size, batch_first=True)\n",
    "            self.dec = nn.LSTMCell(emb_size, hidden_size) # LSTMCell's input is always batch first\n",
    "\n",
    "        self.W1 = nn.Linear(hidden_size, weight_size, bias=False) # blending encoder\n",
    "        self.W2 = nn.Linear(hidden_size, weight_size, bias=False) # blending decoder\n",
    "        self.vt = nn.Linear(weight_size, 1, bias=False) # scaling sum of enc and dec by v.T\n",
    "\n",
    "    def forward(self, input, printShapes=False):\n",
    "        if printShapes: print(f\"Input shape: {input.shape}\")\n",
    "        batch_size = input.size(0)\n",
    "        input = self.emb(input) # (bs, L, embd_size)\n",
    "        \n",
    "        if printShapes: print(f\"Embedding shape: {input.shape}\")\n",
    "        \n",
    "        # Encoding\n",
    "        encoder_states, hc = self.enc(input) # encoder_state: (bs, L, H)\n",
    "        encoder_states = encoder_states.transpose(1, 0) # (L, bs, H)\n",
    "        \n",
    "        if printShapes: print(f\"Encoder_states shape: {encoder_states.shape}\")\n",
    "        if printShapes: print(f\"hc shape: {hc.shape}\")\n",
    "        \n",
    "        # Decoding states initialization\n",
    "        decoder_input = to_var(torch.zeros(batch_size, self.emb_size)) # (bs, embd_size)\n",
    "        hidden = to_var(torch.zeros([batch_size, self.hidden_size]))   # (bs, h)\n",
    "        cell_state = encoder_states[-1]                                # (bs, h)\n",
    "        \n",
    "        if printShapes: print(f\"decoder_input shape: {decoder_input.shape}\")\n",
    "        if printShapes: print(f\"hidden shape: {hidden.shape}\")\n",
    "        if printShapes: print(f\"cell_state shape: {cell_state.shape}\")\n",
    "        if printShapes: print(f\"\\nNow at decoding layer: \\n\")\n",
    "        probs = []\n",
    "        # Decoding\n",
    "        for i in range(self.answer_seq_len): # range(M)\n",
    "            if self.is_GRU:\n",
    "                hidden = self.dec(decoder_input, hidden) # (bs, h), (bs, h)\n",
    "                if printShapes: print(f\"hidden shape: {hidden.shape}\")\n",
    "            else:\n",
    "                hidden, cell_state = self.dec(decoder_input, (hidden, cell_state)) # (bs, h), (bs, h)\n",
    "                if printShapes: print(f\"hidden shape: {hidden.shape}\")\n",
    "                if printShapes: print(f\"cell_state shape: {cell_state.shape}\")\n",
    "            \n",
    "            # Compute blended representation at each decoder time step\n",
    "            blend1 = self.W1(encoder_states)          # (L, bs, W)\n",
    "            blend2 = self.W2(hidden)                  # (bs, W)\n",
    "            blend_sum = torch.tanh(blend1 + blend2)    # (L, bs, W)\n",
    "            out = self.vt(blend_sum).squeeze()        # (L, bs)\n",
    "            out = F.log_softmax(out.transpose(0, 1).contiguous(), -1) # (bs, L)\n",
    "            probs.append(out)\n",
    "            \n",
    "            if printShapes: print(f\"blend1 shape: {blend1.shape}\")\n",
    "            if printShapes: print(f\"blend2 shape: {blend2.shape}\")\n",
    "            if printShapes: print(f\"blend_sum shape: {blend_sum.shape}\")\n",
    "            if printShapes: print(f\"out shape: {out.shape}\")\n",
    "\n",
    "        probs = torch.stack(probs, dim=1)           # (bs, M, L)\n",
    "\n",
    "        return probs\n",
    "\n",
    "total_size = 10000\n",
    "weight_size = 256\n",
    "input_seq_len = 5\n",
    "emb_size = 256\n",
    "batch_size = 250\n",
    "n_epochs = 5\n",
    "inp_size = input_seq_len\n",
    "\n",
    "input, targets = createData(total_size, input_seq_len)\n",
    "input, targets, train_X, train_Y, test_X, test_Y = prepareData(input, targets, total_size)\n",
    "model = PointerNetwork(inp_size, emb_size, weight_size, input_seq_len)\n",
    "if torch.cuda.is_available(): model.cuda()\n",
    "train(model, train_X, train_Y, batch_size, n_epochs)\n",
    "print('----Test result---')\n",
    "test(model, test_X, test_Y)"
   ]
  },
  {
   "cell_type": "code",
   "execution_count": 4,
   "id": "bad9d87f-6c57-4b59-ab00-de4f8a142f9c",
   "metadata": {},
   "outputs": [
    {
     "name": "stdout",
     "output_type": "stream",
     "text": [
      "Input shape: torch.Size([8, 5])\n",
      "Embedding shape: torch.Size([8, 5, 256])\n",
      "Encoder_states shape: torch.Size([5, 8, 512])\n",
      "hc shape: torch.Size([1, 8, 512])\n",
      "decoder_input shape: torch.Size([8, 256])\n",
      "hidden shape: torch.Size([8, 512])\n",
      "cell_state shape: torch.Size([8, 512])\n",
      "\n",
      "Now at decoding layer: \n",
      "\n",
      "hidden shape: torch.Size([8, 512])\n",
      "blend1 shape: torch.Size([5, 8, 256])\n",
      "blend2 shape: torch.Size([8, 256])\n",
      "blend_sum shape: torch.Size([5, 8, 256])\n",
      "out shape: torch.Size([8, 5])\n",
      "hidden shape: torch.Size([8, 512])\n",
      "blend1 shape: torch.Size([5, 8, 256])\n",
      "blend2 shape: torch.Size([8, 256])\n",
      "blend_sum shape: torch.Size([5, 8, 256])\n",
      "out shape: torch.Size([8, 5])\n",
      "hidden shape: torch.Size([8, 512])\n",
      "blend1 shape: torch.Size([5, 8, 256])\n",
      "blend2 shape: torch.Size([8, 256])\n",
      "blend_sum shape: torch.Size([5, 8, 256])\n",
      "out shape: torch.Size([8, 5])\n",
      "hidden shape: torch.Size([8, 512])\n",
      "blend1 shape: torch.Size([5, 8, 256])\n",
      "blend2 shape: torch.Size([8, 256])\n",
      "blend_sum shape: torch.Size([5, 8, 256])\n",
      "out shape: torch.Size([8, 5])\n",
      "hidden shape: torch.Size([8, 512])\n",
      "blend1 shape: torch.Size([5, 8, 256])\n",
      "blend2 shape: torch.Size([8, 256])\n",
      "blend_sum shape: torch.Size([5, 8, 256])\n",
      "out shape: torch.Size([8, 5])\n",
      "-----\n",
      "test:  [3 2 0 1 4]\n",
      "label: [2 3 1 0 4]\n",
      "pred:  [2 3 1 0 4]\n",
      "-----\n",
      "test:  [2 1 4 0 3]\n",
      "label: [3 1 0 4 2]\n",
      "pred:  [3 1 0 4 2]\n",
      "-----\n",
      "test:  [0 3 4 2 1]\n",
      "label: [0 4 3 1 2]\n",
      "pred:  [0 4 3 1 2]\n",
      "-----\n",
      "test:  [0 4 2 3 1]\n",
      "label: [0 4 2 3 1]\n",
      "pred:  [0 4 2 3 1]\n",
      "-----\n",
      "test:  [1 4 3 0 2]\n",
      "label: [3 0 4 2 1]\n",
      "pred:  [3 0 4 2 1]\n",
      "-----\n",
      "test:  [1 2 0 4 3]\n",
      "label: [2 0 1 4 3]\n",
      "pred:  [2 0 1 4 3]\n",
      "-----\n",
      "test:  [4 0 3 2 1]\n",
      "label: [1 4 3 2 0]\n",
      "pred:  [1 4 3 2 0]\n",
      "-----\n",
      "test:  [4 3 0 1 2]\n",
      "label: [2 3 4 1 0]\n",
      "pred:  [2 3 4 1 0]\n",
      "Acc: 0.80% (8/1000)\n"
     ]
    }
   ],
   "source": [
    "probs = model.forward(test_X[:8], printShapes=True) # (bs, M, L)\n",
    "_v, indices = torch.max(probs, 2) # (bs, M)\n",
    "# show test examples\n",
    "for i in range(len(indices)):\n",
    "    print('-----')\n",
    "    print(f'test:  {test_X[i].detach().cpu().numpy()}')\n",
    "    print(f'label: {test_Y[i].detach().cpu().numpy()}')\n",
    "    print(f'pred:  {indices[i].detach().cpu().numpy()}')\n",
    "    if i>20: break\n",
    "correct_count = sum([1 if torch.equal(ind.data, y.data) else 0 for ind, y in zip(indices, test_Y)])\n",
    "print('Acc: {:.2f}% ({}/{})'.format(correct_count/len(test_X)*100, correct_count, len(test_X)))"
   ]
  },
  {
   "cell_type": "code",
   "execution_count": null,
   "id": "718e39d1-6b61-4437-ac10-9f25702353a0",
   "metadata": {},
   "outputs": [],
   "source": []
  },
  {
   "cell_type": "code",
   "execution_count": null,
   "id": "98613f60-4fc1-4ea3-8d1e-00bd7e65a5d4",
   "metadata": {},
   "outputs": [],
   "source": []
  },
  {
   "cell_type": "code",
   "execution_count": null,
   "id": "93d1f529-5ce1-49cd-bc1e-bd3587a1ad6a",
   "metadata": {},
   "outputs": [],
   "source": []
  },
  {
   "cell_type": "code",
   "execution_count": null,
   "id": "0eb88b80-e03f-4fcd-95e6-4ab2b23fc4e2",
   "metadata": {},
   "outputs": [],
   "source": []
  },
  {
   "cell_type": "code",
   "execution_count": null,
   "id": "a5ca1e3f-0f69-466d-9d53-16185f3e8b75",
   "metadata": {},
   "outputs": [],
   "source": []
  },
  {
   "cell_type": "code",
   "execution_count": null,
   "id": "5c90df6a-0207-4b57-af72-7ab1dff07337",
   "metadata": {},
   "outputs": [],
   "source": []
  },
  {
   "cell_type": "code",
   "execution_count": null,
   "id": "b940550c-ffcc-465f-baba-bba8f45139b3",
   "metadata": {},
   "outputs": [],
   "source": []
  },
  {
   "cell_type": "code",
   "execution_count": null,
   "id": "47e35543-4db2-49f0-96fc-d36859b5ffc9",
   "metadata": {},
   "outputs": [],
   "source": []
  },
  {
   "cell_type": "code",
   "execution_count": null,
   "id": "6d15ffd9-eed0-4f39-bb1d-a710d0019cc7",
   "metadata": {},
   "outputs": [],
   "source": []
  },
  {
   "cell_type": "code",
   "execution_count": null,
   "id": "5448cd0a-e7e7-440a-8aad-79033249be9e",
   "metadata": {},
   "outputs": [],
   "source": []
  },
  {
   "cell_type": "code",
   "execution_count": null,
   "id": "919df8bb-2db7-49fc-b740-578146182059",
   "metadata": {},
   "outputs": [],
   "source": []
  },
  {
   "cell_type": "code",
   "execution_count": null,
   "id": "08e25db2-3138-4f4f-a95e-a29c74c29bf3",
   "metadata": {},
   "outputs": [],
   "source": []
  },
  {
   "cell_type": "code",
   "execution_count": null,
   "id": "79d563a8-cca3-48fa-bc78-212faaaa5515",
   "metadata": {},
   "outputs": [],
   "source": []
  },
  {
   "cell_type": "code",
   "execution_count": null,
   "id": "c396bcd2-d6a2-48fa-b730-c035d654322d",
   "metadata": {},
   "outputs": [],
   "source": []
  },
  {
   "cell_type": "code",
   "execution_count": null,
   "id": "97cdff3f-d72f-454e-ae0a-5c2d000612a3",
   "metadata": {},
   "outputs": [],
   "source": []
  },
  {
   "cell_type": "code",
   "execution_count": null,
   "id": "4fa51f02-b47d-44c5-947b-80607a4b7775",
   "metadata": {},
   "outputs": [],
   "source": []
  },
  {
   "cell_type": "code",
   "execution_count": null,
   "id": "26c3cacb-899a-4203-ba9e-58c9ae165fc1",
   "metadata": {},
   "outputs": [],
   "source": []
  },
  {
   "cell_type": "code",
   "execution_count": null,
   "id": "d1f732f3-ed54-428f-949b-48ae94b6fb58",
   "metadata": {},
   "outputs": [],
   "source": []
  },
  {
   "cell_type": "code",
   "execution_count": null,
   "id": "d055259c-d643-4be2-aaee-c768c75e3e56",
   "metadata": {},
   "outputs": [],
   "source": []
  },
  {
   "cell_type": "code",
   "execution_count": null,
   "id": "ab299726-8d74-4c3d-80fc-fe1f23b71121",
   "metadata": {},
   "outputs": [],
   "source": []
  },
  {
   "cell_type": "code",
   "execution_count": null,
   "id": "ec629c8c-8757-4e44-beac-377f8535214a",
   "metadata": {},
   "outputs": [],
   "source": []
  },
  {
   "cell_type": "code",
   "execution_count": null,
   "id": "24f67250-5053-44f1-878a-2800904070d0",
   "metadata": {},
   "outputs": [],
   "source": []
  },
  {
   "cell_type": "code",
   "execution_count": null,
   "id": "b2c1708b-c730-4896-9e83-97fa5c558414",
   "metadata": {},
   "outputs": [],
   "source": []
  },
  {
   "cell_type": "code",
   "execution_count": null,
   "id": "58281d24-80a9-4ba3-8fe0-bfad9d6d33c8",
   "metadata": {},
   "outputs": [],
   "source": []
  },
  {
   "cell_type": "code",
   "execution_count": null,
   "id": "a34394ca-afce-4130-86d8-518de762430d",
   "metadata": {},
   "outputs": [],
   "source": []
  },
  {
   "cell_type": "code",
   "execution_count": null,
   "id": "1cf91de7-6d74-4ea7-bd4c-5957126a02f9",
   "metadata": {},
   "outputs": [],
   "source": []
  },
  {
   "cell_type": "markdown",
   "id": "8ffb2790-9c12-4ed3-a650-a0163e9a3526",
   "metadata": {},
   "source": [
    "## Below this point I'm including some code blocks that make inspection of the gameplay and agent status easy... "
   ]
  },
  {
   "cell_type": "code",
   "execution_count": 159,
   "id": "ff4c26a2-a5a8-410d-9795-b88680257fd7",
   "metadata": {},
   "outputs": [
    {
     "name": "stdout",
     "output_type": "stream",
     "text": [
      "[[  0  25  57  20]\n",
      " [130  97 129 123]\n",
      " [136 104 106 135]\n",
      " [118 118 140 107]\n",
      " [ 83 136 124 142]\n",
      " [127 127 113 120]\n",
      " [133 114 120 122]\n",
      " [119 151 134  87]\n",
      " [122 132 116 123]\n",
      " [119 110 133 133]]\n",
      "[1087 1114 1172 1112]\n",
      "The winner is agent: 0 with a score of 1087!\n"
     ]
    }
   ],
   "source": [
    "numPlayers = 4\n",
    "highestDominoe = 9\n",
    "game = dg.dominoeGame(highestDominoe, agents=(da.doubleAgent, da.greedyAgent, None, da.stupidAgent))\n",
    "game.playGame()\n",
    "game.printResults()"
   ]
  },
  {
   "cell_type": "code",
   "execution_count": 153,
   "id": "6f8fa238-52ca-4b98-b287-1a9d283e1c51",
   "metadata": {},
   "outputs": [
    {
     "name": "stdout",
     "output_type": "stream",
     "text": [
      "[' 9|7 ', ' 7|7 ', ' 7|5 ', ' 5|5 ', ' 5|4 ', ' 4|0 ', ' 0|0 ']\n",
      "[' 9|5 ', ' 5|6 ', ' 6|7 ', ' 7|8 ', ' 8|4 ', ' 4|7 ', ' 7|3 ', ' 3|8 ', ' 8|2 ', ' 2|4 ']\n",
      "[' 9|8 ', ' 8|0 ', ' 0|7 ', ' 7|1 ', ' 1|1 ', ' 1|5 ', ' 5|3 ', ' 3|2 ']\n",
      "[' 9|2 ', ' 2|6 ', ' 6|3 ', ' 3|0 ', ' 0|5 ', ' 5|8 ', ' 8|1 ']\n",
      "[' 9|6 ', ' 6|0 ', ' 0|9 ', ' 9|3 ', ' 3|3 ', ' 3|4 ', ' 4|4 ', ' 4|6 ', ' 6|6 ', ' 6|1 ', ' 1|4 ', ' 4|9 ', ' 9|1 ']\n"
     ]
    }
   ],
   "source": [
    "numPlayers = 4\n",
    "highestDominoe = 9\n",
    "game = dg.dominoeGame(highestDominoe, agents=(da.doubleAgent, da.greedyAgent, None, da.stupidAgent))\n",
    "game.playHand()\n",
    "df.gameSequenceToString(game.dominoes, game.lineSequence, game.linePlayDirection, player=None, playNumber=None) #player=game.linePlayer, playNumber=game.linePlayNumber)\n",
    "df.gameSequenceToString(game.dominoes, game.dummySequence, game.dummyPlayDirection, player=None, playNumber=None) #player=game.linePlayer, playNumber=game.linePlayNumber)"
   ]
  },
  {
   "cell_type": "code",
   "execution_count": 449,
   "id": "1d0ae873-32f9-4a21-9724-741e666c36b7",
   "metadata": {},
   "outputs": [
    {
     "name": "stdout",
     "output_type": "stream",
     "text": [
      "line 0: []\n",
      "line 1: []\n",
      "line 2: []\n",
      "line 3: []\n",
      "dummy: []\n",
      "Dominoe: None, Location: None\n"
     ]
    }
   ],
   "source": [
    "# Example of options list for current game (requires game.initializeHand() and game.presentGameState() to be run)\n",
    "lineOptions, dummyOptions = game.agents[0].playOptions()\n",
    "df.printDominoeList(lineOptions, game.agents[0].dominoes, name='line')\n",
    "df.printDominoeList(dummyOptions, game.agents[0].dominoes, name='dummy:')\n",
    "dominoe, location = game.agents[0].selectPlay()\n",
    "print(f\"Dominoe: {dominoe}, Location: {location}\")"
   ]
  },
  {
   "cell_type": "code",
   "execution_count": 207,
   "id": "81fa6014-2a23-40f7-9955-d7f4ee1dc486",
   "metadata": {},
   "outputs": [
    {
     "data": {
      "text/plain": [
       "[[], [], [1], []]"
      ]
     },
     "execution_count": 207,
     "metadata": {},
     "output_type": "execute_result"
    }
   ],
   "source": [
    "# game details\n",
    "game.lineSequence"
   ]
  },
  {
   "cell_type": "code",
   "execution_count": 159,
   "id": "969bb5b6-46c8-4c45-acfd-d4dd83f1c3cd",
   "metadata": {},
   "outputs": [
    {
     "name": "stderr",
     "output_type": "stream",
     "text": [
      "100%|███████████████████████████████████████████████████████████████████████| 1000000/1000000 [24:04<00:00, 692.50it/s]\n"
     ]
    },
    {
     "name": "stdout",
     "output_type": "stream",
     "text": [
      "1.4527309322357178\n"
     ]
    },
    {
     "data": {
      "text/plain": [
       "[<matplotlib.lines.Line2D at 0x200c936a130>]"
      ]
     },
     "execution_count": 159,
     "metadata": {},
     "output_type": "execute_result"
    },
    {
     "data": {
      "image/png": "[encoded data removed]",
      "text/plain": [
       "<Figure size 700x300 with 2 Axes>"
      ]
     },
     "metadata": {},
     "output_type": "display_data"
    }
   ],
   "source": [
    "# create random game states and then train a network to predict current hand score...\n",
    "def generateRandomHand(dominoes, numDominoes, numPlayers, verboseOutput=False):\n",
    "    numInHands = np.random.randint(numDominoes+1)\n",
    "    idxInHands = np.random.choice(numDominoes,numInHands,replace=False)\n",
    "    handIdx = np.random.randint(0, numPlayers, numInHands)\n",
    "    played = np.full(numDominoes, True)\n",
    "    myHand = np.full(numDominoes, False)\n",
    "    otherHands = np.full(numDominoes, False)\n",
    "    played[idxInHands]=False\n",
    "    myHand[idxInHands[handIdx==0]] = True\n",
    "    otherHands[idxInHands[handIdx>0]] = True\n",
    "    myHandValue = np.sum(dominoes[myHand])\n",
    "    otherHandValue = np.sum(dominoes[otherHands])\n",
    "    if verboseOutput:\n",
    "        return played, myHand, otherHands, myHandValue, otherHandValue\n",
    "    networkInput = (np.concatenate((played, myHand))*1)\n",
    "    networkOutput = np.array([myHandValue, otherHandValue])\n",
    "    # networkInput = np.concatenate((np.sum(dominoes.T * played, axis=0), np.sum(dominoes.T * myHand, axis=0)))\n",
    "    return networkInput, networkOutput\n",
    "\n",
    "# played, myHand, otherHands, myHandValue, otherHandValue = generateRandomHand(dominoes, numDominoes, numPlayers, verboseOutput=True)\n",
    "networkInput, networkOutput = generateRandomHand(dominoes, numDominoes, numPlayers)\n",
    "\n",
    "numPlayers = 3\n",
    "highestDominoe = 9\n",
    "numDominoes = df.numberDominoes(highestDominoe)\n",
    "dominoes = df.listDominoes(highestDominoe)\n",
    "\n",
    "handValueNetwork = dn.handValueNetwork(numPlayers,numDominoes,highestDominoe)\n",
    "handValueNetwork.to(device)\n",
    "\n",
    "numIterations = 1000000\n",
    "target = np.zeros((numIterations, 2))\n",
    "pred = np.zeros((numIterations, 2))\n",
    "storeLoss = np.zeros(numIterations)\n",
    "\n",
    "lossFunction = nn.L1Loss()\n",
    "# optimizer = torch.optim.SGD(handValueNetwork.parameters(), lr=1e-2, momentum=0.5)\n",
    "optimizer = torch.optim.Adadelta(handValueNetwork.parameters())\n",
    "\n",
    "for ii in tqdm(range(numIterations)):\n",
    "    networkInput, networkOutput = generateRandomHand(dominoes, numDominoes, numPlayers)\n",
    "    target[ii] = np.copy(networkOutput)\n",
    "    \n",
    "    networkInput = torch.tensor(networkInput).to(device).float()\n",
    "    networkOutput = torch.tensor(networkOutput).to(device).float()\n",
    "    \n",
    "    output = handValueNetwork(networkInput)\n",
    "    \n",
    "    loss = lossFunction(output, networkOutput)\n",
    "    loss.backward()\n",
    "    optimizer.step()\n",
    "    optimizer.zero_grad()\n",
    "    \n",
    "    storeLoss[ii] = loss.item()\n",
    "    pred[ii] = output.detach().cpu().numpy()\n",
    "    \n",
    "print(np.mean(storeLoss[-100:]))\n",
    "fig,ax = plt.subplots(1,2,figsize=(7,3))\n",
    "ax[0].plot(range(numIterations), storeLoss, linewidth=0.5)\n",
    "ax[1].plot(range(numIterations), pred[:,0]-target[:,0])"
   ]
  },
  {
   "cell_type": "code",
   "execution_count": null,
   "id": "94e4ed9f-c61e-4e19-9235-6e2ec58a5b57",
   "metadata": {},
   "outputs": [],
   "source": [
    "# Example of options list for current game (requires game.initializeHand() and game.presentGameState() to be run)\n",
    "print(f\"Line available: {game.available}, dummy available: {game.dummyAvailable}\")\n",
    "print(f\"Penny-up: {game.cantPlay}, dummy playable: {game.dummyPlayable}\")\n",
    "print(f\"Hand-size: {game.handSize}, manualHandSize: {[len(agent.myHand) for agent in game.agents]}\")\n",
    "print(\"\")\n",
    "game.agents[game.nextPlayer].gameState(game.played, game.available, game.handSize, game.cantPlay, game.didntPlay, game.turnCounter, game.dummyAvailable, game.dummyPlayable)\n",
    "lineOptions, dummyOptions = game.agents[game.nextPlayer].playOptions()\n",
    "df.printDominoeList(lineOptions, game.agents[game.nextPlayer].dominoes, name='line')\n",
    "df.printDominoeList(dummyOptions, game.agents[game.nextPlayer].dominoes, name='dummy:')\n",
    "dominoe, location = game.agents[game.nextPlayer].selectPlay()\n",
    "if dominoe is not None:\n",
    "    print(f\"~{game.agents[game.nextPlayer].agentName}~ agent played dominoe: {dominoe}: {df.dominoesString(game.dominoes[dominoe])} on location: {location}.\")\n",
    "else:\n",
    "    print(f\"~{game.agents[game.nextPlayer].agentName}~ agent could not play!\")\n",
    "game.doTurn()"
   ]
  },
  {
   "cell_type": "code",
   "execution_count": null,
   "id": "80913481-af53-4d8a-92b8-7916242d3f39",
   "metadata": {},
   "outputs": [],
   "source": []
  }
 ],
 "metadata": {
  "kernelspec": {
   "display_name": "Python 3 (ipykernel)",
   "language": "python",
   "name": "python3"
  },
  "language_info": {
   "codemirror_mode": {
    "name": "ipython",
    "version": 3
   },
   "file_extension": ".py",
   "mimetype": "text/x-python",
   "name": "python",
   "nbconvert_exporter": "python",
   "pygments_lexer": "ipython3",
   "version": "3.11.4"
  }
 },
 "nbformat": 4,
 "nbformat_minor": 5
}
