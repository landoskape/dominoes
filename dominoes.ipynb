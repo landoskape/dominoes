{
 "cells": [
  {
   "cell_type": "code",
   "execution_count": 271,
   "id": "6d4d84df-c50a-4eb1-88b3-3ba6b1ef7887",
   "metadata": {},
   "outputs": [],
   "source": [
    "# some ideas just for curiosity:\n",
    "# - could train an RL model to predict what dominoes are in other agents hands based on what has been played, their line, and what is available...\n",
    "# - for hand-crafted networks, I wonder if graph theory methods can speed up the line-value estimation methods..."
   ]
  },
  {
   "cell_type": "code",
   "execution_count": 2,
   "id": "d743f019-bcc5-4c13-8aef-98e737e0747e",
   "metadata": {},
   "outputs": [
    {
     "name": "stdout",
     "output_type": "stream",
     "text": [
      "Using device: cuda\n"
     ]
    }
   ],
   "source": [
    "%reload_ext autoreload\n",
    "%autoreload 2\n",
    "\n",
    "import time\n",
    "from copy import copy\n",
    "import random\n",
    "import numpy as np\n",
    "import torch\n",
    "from tqdm import tqdm\n",
    "import matplotlib.pyplot as plt\n",
    "from dominoes import leagueManager as lm\n",
    "from dominoes import gameplay as dg\n",
    "from dominoes import agents as da\n",
    "from dominoes import functions as df\n",
    "from dominoes import fileManagement as fm\n",
    "\n",
    "device = \"cuda\" if torch.cuda.is_available() else \"cpu\"\n",
    "print(f\"Using device: {device}\")"
   ]
  },
  {
   "cell_type": "code",
   "execution_count": 179,
   "id": "48c901ba-4294-4ff4-8d74-ae540752816a",
   "metadata": {},
   "outputs": [],
   "source": [
    "# Specific Updates to Value Agents --\n",
    "# - I don't think I need to estimate pre/post states every play. This will save so much computation time, and may even be easier for the agents to learn. \n",
    "# - !! It seems like I do need to estimate pre/post states every play. However, I think there's an alternative solution:\n",
    "#         - instead of measuring TD error between the pre & post state, I can measure TD error between the pre-state and the next agent turn's pre-state.\n",
    "#         - this way, the agent will be able to build longer-term connections, but will still only estimate value once per round of turns...\n",
    "\n",
    "# Blog Post Planning: \n",
    "# 1. Creating a system that plays dominoes\n",
    "# 2. Hand-crafted agents that play with specific rules\n",
    "# 3. Finding a way to represent the game-state in a way that can be fed to a neural network\n",
    "#    3.1 -- Simple networks can't learn how to do addition and biased subtraction...?\n",
    "# 4. Adding information to the game-state about possible line sequences for the network to use more information in deciding how to play\n",
    "#    4.1 -- comparing performance of the lineValueNetwork where it is trained against bad agents or good agents\n",
    "#    4.2 -- comparing performance of the lineValueNetwork when it uses pre-poststate updates on every turn, only it's own turn, or only on it's own turn but before/after all other agents have had their turn...\n",
    "# 5. Building a neural network that can outperform the line value networks without hand-crafted information (e.g. with transformers)"
   ]
  },
  {
   "cell_type": "code",
   "execution_count": 4,
   "id": "d14506da-1a19-41e4-a30a-6dc07bfb6c66",
   "metadata": {},
   "outputs": [],
   "source": [
    "highestDominoe = 9\n",
    "numPlayers = 4\n",
    "league = lm.leagueManager(highestDominoe, numPlayers, shuffleAgents=True)"
   ]
  },
  {
   "cell_type": "code",
   "execution_count": 5,
   "id": "8c0962e3-ce1d-477d-a6da-52b9eeda5e07",
   "metadata": {},
   "outputs": [],
   "source": [
    "league.addAgentType(da.bestLineAgent)\n",
    "league.addAgentType(da.doubleAgent)\n",
    "league.addAgentType(da.greedyAgent)\n",
    "league.addAgentType(da.dominoeAgent)"
   ]
  },
  {
   "cell_type": "code",
   "execution_count": 6,
   "id": "6c38487d-07c8-4318-8fff-2503179fd3b7",
   "metadata": {},
   "outputs": [],
   "source": [
    "game, leagueIndex = league.createGame()"
   ]
  },
  {
   "cell_type": "code",
   "execution_count": 7,
   "id": "76ae876e-a8fd-4e1f-84fe-8d981dc78d68",
   "metadata": {},
   "outputs": [],
   "source": [
    "game.initializeHand()"
   ]
  },
  {
   "cell_type": "code",
   "execution_count": 8,
   "id": "13642044-6f1b-4dca-b734-beec851543a7",
   "metadata": {},
   "outputs": [
    {
     "name": "stdout",
     "output_type": "stream",
     "text": [
      "Scores for each round:\n",
      "[[ 0  0 47  1]\n",
      " [16  3 14  0]\n",
      " [16  0 39  6]]\n",
      "\n",
      "Final score:\n",
      "[ 32   3 100   7]\n",
      "\n",
      "The winner is agent: 1 with a score of 3, they went out in 2/3 rounds.\n"
     ]
    }
   ],
   "source": [
    "game.playGame(rounds=3)\n",
    "game.printResults()\n",
    "league.updateElo(leagueIndex, game.currentScore) # update ELO"
   ]
  },
  {
   "cell_type": "code",
   "execution_count": null,
   "id": "e136d8b7-b703-46cd-a76b-20158079417a",
   "metadata": {},
   "outputs": [
    {
     "name": "stderr",
     "output_type": "stream",
     "text": [
      " 40%|██████████████████████████████▉                                              | 4024/10000 [09:53<11:37,  8.56it/s]"
     ]
    }
   ],
   "source": [
    "highestDominoe = 9\n",
    "numPlayers = 4\n",
    "\n",
    "league = lm.leagueManager(highestDominoe, numPlayers, shuffleAgents=True)\n",
    "\n",
    "numEach = 4\n",
    "league.addAgentType(da.bestLineAgent, num2add=numEach)\n",
    "league.addAgentType(da.doubleAgent, num2add=numEach)\n",
    "league.addAgentType(da.greedyAgent, num2add=numEach)\n",
    "league.addAgentType(da.dominoeAgent, num2add=numEach)\n",
    "league.addAgentType(da.stupidAgent, num2add=numEach)\n",
    "\n",
    "numGames = 10000\n",
    "trackElo = np.zeros((numGames, league.numAgents))\n",
    "for gameIdx in tqdm(range(numGames)):\n",
    "    game, leagueIndex = league.createGame()\n",
    "    game.playGame()\n",
    "    league.updateElo(leagueIndex, game.currentScore) # update ELO\n",
    "    trackElo[gameIdx] = copy(league.elo)\n",
    "\n",
    "print([int(elo) for elo in league.elo])"
   ]
  },
  {
   "cell_type": "code",
   "execution_count": null,
   "id": "e60ca25c-646b-458f-b01b-abfac1c41588",
   "metadata": {},
   "outputs": [],
   "source": [
    "avgEloPerAgentType = np.mean(trackElo.T.reshape(5,numEach,numGames),axis=1)\n",
    "agentTypeNames = [agent.agentName for agent in league.agents[::numEach]]\n",
    "\n",
    "fig = plt.figure()\n",
    "for name, elo in zip(agentTypeNames, avgEloPerAgentType):\n",
    "    plt.plot(range(numGames), elo, label=name, linewidth=2)\n",
    "plt.xlabel('Number of games')\n",
    "plt.ylabel('Average ELO')\n",
    "plt.ylim(800, 2000)\n",
    "plt.legend(fontsize=10, loc='lower left')\n",
    "plt.show()"
   ]
  },
  {
   "cell_type": "code",
   "execution_count": null,
   "id": "41d16b0a-5d29-40af-9718-199dde52ff09",
   "metadata": {},
   "outputs": [],
   "source": []
  },
  {
   "cell_type": "code",
   "execution_count": 11,
   "id": "975b7ece-d430-4dc6-bfad-cfb66cd910d7",
   "metadata": {},
   "outputs": [
    {
     "name": "stdout",
     "output_type": "stream",
     "text": [
      "player 0:  [' 0|2 ', ' 2|8 ', ' 8|9 ', ' 9|6 ', ' 6|6 ', ' 6|3 ']\n",
      "player 1:  [' 0|8 ', ' 8|8 ', ' 8|7 ', ' 7|7 ', ' 7|9 ', ' 9|5 ', ' 5|7 ', ' 7|6 ']\n",
      "player 2:  [' 0|1 ', ' 1|3 ', ' 3|3 ', ' 3|7 ', ' 7|0 ', ' 0|6 ', ' 6|4 ']\n",
      "player 3:  [' 0|5 ', ' 5|5 ', ' 5|2 ', ' 2|2 ', ' 2|1 ', ' 1|4 ', ' 4|5 ', ' 5|3 ', ' 3|2 ']\n",
      "dummy:  [' 0|4 ', ' 4|3 ', ' 3|8 ', ' 8|5 ', ' 5|6 ', ' 6|2 ', ' 2|4 ', ' 4|9 ', ' 9|3 ', ' 3|0 ', ' 0|9 ', ' 9|9 ', ' 9|1 ', ' 1|1 ', ' 1|8 ']\n"
     ]
    }
   ],
   "source": [
    "df.gameSequenceToString(game.dominoes, game.lineSequence, game.linePlayDirection, player=None, playNumber=None, labelLines=True) #player=game.linePlayer, playNumber=game.linePlayNumber)\n",
    "df.gameSequenceToString(game.dominoes, game.dummySequence, game.dummyPlayDirection, player=None, playNumber=None, labelLines=True) #player=game.linePlayer, playNumber=game.linePlayNumber)"
   ]
  },
  {
   "cell_type": "code",
   "execution_count": 294,
   "id": "0f5eda75-aef7-4726-b873-13d3604dec23",
   "metadata": {},
   "outputs": [
    {
     "data": {
      "text/plain": [
       "[5, 11, 14, 18, 22, 23, 25, 27, 28, 32, 33, 34, 39, 43]"
      ]
     },
     "execution_count": 294,
     "metadata": {},
     "output_type": "execute_result"
    }
   ],
   "source": [
    "game.dummyPlayNumber"
   ]
  },
  {
   "cell_type": "code",
   "execution_count": null,
   "id": "255607cb-4233-43aa-8909-18763fa5d645",
   "metadata": {},
   "outputs": [],
   "source": []
  },
  {
   "cell_type": "code",
   "execution_count": null,
   "id": "5a82dcb8-36fe-4524-a21e-caa9eb50d0ca",
   "metadata": {},
   "outputs": [],
   "source": []
  },
  {
   "cell_type": "code",
   "execution_count": null,
   "id": "904ed9ac-0722-49e4-86b0-de486b899ef4",
   "metadata": {},
   "outputs": [],
   "source": []
  },
  {
   "cell_type": "code",
   "execution_count": null,
   "id": "a2eb0b6e-c6b8-4e10-8c0c-afc59b116866",
   "metadata": {},
   "outputs": [],
   "source": []
  },
  {
   "cell_type": "code",
   "execution_count": null,
   "id": "3d5845ea-b87d-4753-aea7-7a9b049f9c23",
   "metadata": {},
   "outputs": [],
   "source": []
  },
  {
   "cell_type": "code",
   "execution_count": null,
   "id": "4ca66cb3-928d-414e-afd6-b400efebd299",
   "metadata": {},
   "outputs": [],
   "source": []
  },
  {
   "cell_type": "code",
   "execution_count": null,
   "id": "b2247534-c946-4f64-8863-9b77fff92422",
   "metadata": {},
   "outputs": [],
   "source": []
  },
  {
   "cell_type": "code",
   "execution_count": null,
   "id": "cd41ed9f-127f-4556-b954-30a6bbf7f36c",
   "metadata": {},
   "outputs": [],
   "source": []
  },
  {
   "cell_type": "code",
   "execution_count": null,
   "id": "59d3669f-eb4e-477d-b51d-b55d5394133a",
   "metadata": {},
   "outputs": [],
   "source": []
  },
  {
   "cell_type": "code",
   "execution_count": null,
   "id": "6ba0be95-5713-488d-a630-d574fc615cc0",
   "metadata": {},
   "outputs": [],
   "source": []
  },
  {
   "cell_type": "code",
   "execution_count": null,
   "id": "92eb335f-fced-481f-9d93-b204097dc732",
   "metadata": {},
   "outputs": [],
   "source": []
  },
  {
   "cell_type": "code",
   "execution_count": null,
   "id": "b6e0ccd3-1709-4644-bee6-8efcf62bda22",
   "metadata": {},
   "outputs": [],
   "source": []
  },
  {
   "cell_type": "code",
   "execution_count": 423,
   "id": "513d1936-6e79-49c3-b7a6-a388fb04d597",
   "metadata": {},
   "outputs": [
    {
     "name": "stderr",
     "output_type": "stream",
     "text": [
      "100%|██████████████████████████████████████████████████████████████████████████████| 1000/1000 [00:17<00:00, 58.65it/s]"
     ]
    },
    {
     "name": "stdout",
     "output_type": "stream",
     "text": [
      "Scores for each round:\n",
      "[[26 10  4  9]\n",
      " [ 0  6 35 24]\n",
      " [ 0  9 14 48]\n",
      " ...\n",
      " [ 5  7  0  6]\n",
      " [ 9  9 10  8]\n",
      " [11  8  0 30]]\n",
      "\n",
      "Final score:\n",
      "[ 6307 19615 18766 18481]\n",
      "\n",
      "The winner is agent: 0 with a score of 6307, they went out in 392/1000 rounds.\n",
      "[ 6.31 19.61 18.77 18.48]\n"
     ]
    },
    {
     "name": "stderr",
     "output_type": "stream",
     "text": [
      "\n"
     ]
    }
   ],
   "source": [
    "# bestLineAgeng against randomAgent on 9s\n",
    "highestDominoe = 9\n",
    "game = dg.dominoeGame(highestDominoe, agents=(da.bestLineAgent, None, None, None), shuffleAgents=False, defaultAgent=da.dominoeAgent)\n",
    "\n",
    "numRounds = 1000\n",
    "game.playGame(rounds=numRounds, withUpdates=True)\n",
    "game.printResults()\n",
    "\n",
    "print(np.round(game.currentScore / numRounds,2))"
   ]
  },
  {
   "cell_type": "code",
   "execution_count": 424,
   "id": "5e17f8bc-440f-49a4-b992-60b73a4a8f61",
   "metadata": {},
   "outputs": [
    {
     "name": "stderr",
     "output_type": "stream",
     "text": [
      "100%|██████████████████████████████████████████████████████████████████████████████| 1000/1000 [25:22<00:00,  1.52s/it]"
     ]
    },
    {
     "name": "stdout",
     "output_type": "stream",
     "text": [
      "Scores for each round:\n",
      "[[ 0 23 62 29]\n",
      " [ 0 60 66 48]\n",
      " [20  0 43 69]\n",
      " ...\n",
      " [ 3 28 45  0]\n",
      " [17 57 17 47]\n",
      " [25  0 13  0]]\n",
      "\n",
      "Final score:\n",
      "[ 7432 26936 28108 26600]\n",
      "\n",
      "The winner is agent: 0 with a score of 7432, they went out in 481/1000 rounds.\n",
      "[ 7.43 26.94 28.11 26.6 ]\n"
     ]
    },
    {
     "name": "stderr",
     "output_type": "stream",
     "text": [
      "\n"
     ]
    }
   ],
   "source": [
    "# bestLineAgeng against randomAgent on 12s\n",
    "highestDominoe = 12\n",
    "game = dg.dominoeGame(highestDominoe, agents=(da.bestLineAgent, None, None, None), shuffleAgents=False, defaultAgent=da.dominoeAgent)\n",
    "\n",
    "numRounds = 1000\n",
    "game.playGame(rounds=numRounds, withUpdates=True)\n",
    "game.printResults()\n",
    "\n",
    "print(np.round(game.currentScore / numRounds,2))"
   ]
  },
  {
   "cell_type": "code",
   "execution_count": 420,
   "id": "38dd2a64-c661-48e0-8b67-ab3017ae8de7",
   "metadata": {},
   "outputs": [
    {
     "name": "stderr",
     "output_type": "stream",
     "text": [
      "100%|██████████████████████████████████████████████████████████████████████████████| 1000/1000 [00:18<00:00, 53.93it/s]"
     ]
    },
    {
     "name": "stdout",
     "output_type": "stream",
     "text": [
      "Scores for each round:\n",
      "[[19  0  5  9]\n",
      " [21  0  2 14]\n",
      " [13 40  0  3]\n",
      " ...\n",
      " [13 12 12  0]\n",
      " [ 0 27 13  5]\n",
      " [ 0 46 22 25]]\n",
      "\n",
      "Final score:\n",
      "[ 9498 10723 10862 10359]\n",
      "\n",
      "The winner is agent: 0 with a score of 9498, they went out in 262/1000 rounds.\n",
      "[ 9.5  10.72 10.86 10.36]\n"
     ]
    },
    {
     "name": "stderr",
     "output_type": "stream",
     "text": [
      "\n"
     ]
    }
   ],
   "source": [
    "# bestLineAgeng against doubleAgents on 9s\n",
    "highestDominoe = 9\n",
    "game = dg.dominoeGame(highestDominoe, agents=(da.bestLineAgent, None, None, None), shuffleAgents=False, defaultAgent=da.doubleAgent)\n",
    "\n",
    "numRounds = 1000\n",
    "game.playGame(rounds=numRounds, withUpdates=True)\n",
    "game.printResults()\n",
    "\n",
    "print(np.round(game.currentScore / numRounds,2))"
   ]
  },
  {
   "cell_type": "code",
   "execution_count": 419,
   "id": "126ed328-cb49-46a7-890c-3e28b41cf7d1",
   "metadata": {},
   "outputs": [
    {
     "name": "stderr",
     "output_type": "stream",
     "text": [
      "100%|██████████████████████████████████████████████████████████████████████████████| 1000/1000 [26:15<00:00,  1.58s/it]"
     ]
    },
    {
     "name": "stdout",
     "output_type": "stream",
     "text": [
      "Scores for each round:\n",
      "[[19 26  1 16]\n",
      " [ 0  6  4  2]\n",
      " [ 0 16  4 24]\n",
      " ...\n",
      " [ 0 35 26 15]\n",
      " [23  5 13  0]\n",
      " [18 13 13 14]]\n",
      "\n",
      "Final score:\n",
      "[12481 13083 12075 11709]\n",
      "\n",
      "The winner is agent: 3 with a score of 11709, they went out in 258/1000 rounds.\n",
      "[12.48 13.08 12.08 11.71]\n"
     ]
    },
    {
     "name": "stderr",
     "output_type": "stream",
     "text": [
      "\n"
     ]
    }
   ],
   "source": [
    "# bestLineAgent against doubleAgents on 12s\n",
    "highestDominoe = 12\n",
    "game = dg.dominoeGame(highestDominoe, agents=(da.bestLineAgent, None, None, None), shuffleAgents=False, defaultAgent=da.doubleAgent)\n",
    "\n",
    "numRounds = 1000\n",
    "game.playGame(rounds=numRounds, withUpdates=True)\n",
    "game.printResults()\n",
    "\n",
    "print(np.round(game.currentScore / numRounds,2))"
   ]
  },
  {
   "cell_type": "code",
   "execution_count": 425,
   "id": "eabe97b6-a25b-4c22-bcd2-fa5f8480b1d1",
   "metadata": {},
   "outputs": [
    {
     "name": "stderr",
     "output_type": "stream",
     "text": [
      "100%|██████████████████████████████████████████████████████████████████████████████| 1000/1000 [12:12<00:00,  1.36it/s]"
     ]
    },
    {
     "name": "stdout",
     "output_type": "stream",
     "text": [
      "Scores for each round:\n",
      "[[ 0 36 25  9]\n",
      " [ 0  1  4 20]\n",
      " [ 9  0 22 12]\n",
      " ...\n",
      " [ 0 16 17  6]\n",
      " [38  5 25  0]\n",
      " [ 0 54 32 39]]\n",
      "\n",
      "Final score:\n",
      "[ 6532 12606 12347 11406]\n",
      "\n",
      "The winner is agent: 0 with a score of 6532, they went out in 434/1000 rounds.\n",
      "[ 6.53 12.61 12.35 11.41]\n"
     ]
    },
    {
     "name": "stderr",
     "output_type": "stream",
     "text": [
      "\n"
     ]
    }
   ],
   "source": [
    "# lineValueAgent against doubleAgents on 9s\n",
    "prmPath = r'experimentSet_000/savedNetworks/lineValueAgentParameters_230817_1.npy'\n",
    "\n",
    "highestDominoe = 9\n",
    "game = dg.dominoeGame(highestDominoe, agents=(da.lineValueAgent, None, None, None), shuffleAgents=False, defaultAgent=da.doubleAgent)\n",
    "game.getAgent(0).loadAgentParameters(fm.codePath() / prmPath)\n",
    "                                     \n",
    "numRounds = 1000\n",
    "game.playGame(rounds=numRounds, withUpdates=True)\n",
    "game.printResults()\n",
    "\n",
    "print(np.round(game.currentScore / numRounds,2))"
   ]
  },
  {
   "cell_type": "code",
   "execution_count": 426,
   "id": "0c34b871-e83a-489d-86af-701cf95373ce",
   "metadata": {},
   "outputs": [
    {
     "data": {
      "text/plain": [
       "array([[ 0, 36, 25,  9],\n",
       "       [ 0,  1,  4, 20],\n",
       "       [ 9,  0, 22, 12],\n",
       "       ...,\n",
       "       [ 0, 16, 17,  6],\n",
       "       [38,  5, 25,  0],\n",
       "       [ 0, 54, 32, 39]])"
      ]
     },
     "execution_count": 426,
     "metadata": {},
     "output_type": "execute_result"
    }
   ],
   "source": [
    "game.score"
   ]
  },
  {
   "cell_type": "code",
   "execution_count": 34,
   "id": "5a10223d-0dd9-40f6-be1a-a38d2ce078e2",
   "metadata": {},
   "outputs": [
    {
     "name": "stderr",
     "output_type": "stream",
     "text": [
      "100%|██████████████████████████████████████████████████████████████████████████████████| 10/10 [09:44<00:00, 58.47s/it]\n",
      "100%|██████████████████████████████████████████████████████████████████████████████████| 10/10 [09:20<00:00, 56.05s/it]\n",
      "100%|██████████████████████████████████████████████████████████████████████████████████| 10/10 [10:54<00:00, 65.42s/it]\n",
      "100%|██████████████████████████████████████████████████████████████████████████████████| 10/10 [10:03<00:00, 60.39s/it]"
     ]
    },
    {
     "name": "stdout",
     "output_type": "stream",
     "text": [
      "Games won: \n",
      "[[6. 0. 2. 2.]\n",
      " [7. 1. 1. 1.]\n",
      " [6. 1. 1. 2.]\n",
      " [6. 1. 2. 1.]]\n",
      "Expected score per hand: \n",
      "[[ 9.886 12.252 11.222 11.276]\n",
      " [ 9.53  12.078 12.04  11.002]\n",
      " [10.03  12.45  12.438 11.604]\n",
      " [10.298 11.572 11.378 10.982]]\n"
     ]
    },
    {
     "name": "stderr",
     "output_type": "stream",
     "text": [
      "\n"
     ]
    }
   ],
   "source": [
    "# This block presents the results of the experiment from experimentSet000-0\n",
    "\n",
    "numPlayers = 4\n",
    "highestDominoe = 9\n",
    "game = dg.dominoeGame(highestDominoe, numPlayers=numPlayers, agents=(da.lineValueAgent, da.bestLineAgent, da.bestLineAgent, da.bestLineAgent), device=device)\n",
    "\n",
    "fileNames = [\n",
    "    r'experimentSet_000/savedNetworks/lineValueAgentParameters_230817_0.npy',\n",
    "    r'experimentSet_000/savedNetworks/lineValueAgentParameters_230817_1.npy',\n",
    "    r'savedNetworks/lineValueAgentParameters_230816_0.npy',\n",
    "    r'savednetworks/lineValueAgentParameters_230816_1.npy'\n",
    "]\n",
    "\n",
    "performanceGames = 10\n",
    "performanceRounds = 50\n",
    "\n",
    "testWinner = np.zeros((len(fileNames),numPlayers))\n",
    "testScoreTally = np.zeros((len(fileNames),numPlayers))\n",
    "\n",
    "for idx, file in enumerate(fileNames):\n",
    "    game.getAgent(0).loadAgentParameters(fm.codePath() / file)\n",
    "    game.getAgent(0).setLearning(False)\n",
    "    \n",
    "    # measure performance\n",
    "    for _ in tqdm(range(performanceGames)):\n",
    "        game.playGame(rounds=performanceRounds)\n",
    "        testWinner[idx, game.currentWinner] += 1 \n",
    "        testScoreTally[idx] += game.currentScore\n",
    "\n",
    "# report results of training lineValueAgent against greedyAgents\n",
    "print(f\"Games won: \")\n",
    "print(testWinner)\n",
    "print(f\"Expected score per hand: \")\n",
    "print(testScoreTally / performanceGames / performanceRounds)"
   ]
  },
  {
   "cell_type": "code",
   "execution_count": null,
   "id": "f5c48167-667d-4fcb-8822-2b3d951a7349",
   "metadata": {},
   "outputs": [],
   "source": []
  },
  {
   "cell_type": "code",
   "execution_count": 315,
   "id": "d7b7e909-26a9-4652-86ca-473b1e018f90",
   "metadata": {},
   "outputs": [
    {
     "name": "stdout",
     "output_type": "stream",
     "text": [
      "[2, 1, 0, 3]\n",
      "[2 1 0 3]\n"
     ]
    },
    {
     "ename": "IndexError",
     "evalue": "range object index out of range",
     "output_type": "error",
     "traceback": [
      "\u001b[1;31m---------------------------------------------------------------------------\u001b[0m",
      "\u001b[1;31mIndexError\u001b[0m                                Traceback (most recent call last)",
      "Cell \u001b[1;32mIn[315], line 13\u001b[0m\n\u001b[0;32m     10\u001b[0m \u001b[38;5;28mprint\u001b[39m(argsort(x))\n\u001b[0;32m     11\u001b[0m \u001b[38;5;28mprint\u001b[39m(np\u001b[38;5;241m.\u001b[39margsort(x))\n\u001b[1;32m---> 13\u001b[0m \u001b[38;5;28mprint\u001b[39m(\u001b[38;5;28;43msorted\u001b[39;49m\u001b[43m(\u001b[49m\u001b[43mx\u001b[49m\u001b[43m,\u001b[49m\u001b[43m \u001b[49m\u001b[43mkey\u001b[49m\u001b[38;5;241;43m=\u001b[39;49m\u001b[38;5;28;43mrange\u001b[39;49m\u001b[43m(\u001b[49m\u001b[38;5;28;43mlen\u001b[39;49m\u001b[43m(\u001b[49m\u001b[43mx\u001b[49m\u001b[43m)\u001b[49m\u001b[43m)\u001b[49m\u001b[38;5;241;43m.\u001b[39;49m\u001b[38;5;21;43m__getitem__\u001b[39;49m\u001b[43m)\u001b[49m)\n",
      "\u001b[1;31mIndexError\u001b[0m: range object index out of range"
     ]
    }
   ],
   "source": [
    "def argsort(seq):\n",
    "    # http://stackoverflow.com/questions/3071415/efficient-method-to-calculate-the-rank-vector-of-a-list-in-python\n",
    "    return sorted(range(len(seq)), key=seq.__getitem__)\n",
    "\n",
    "x = [5,2,1,10]\n",
    "\n",
    "# %timeit argsort(x)\n",
    "# %timeit np.argsort(x)\n",
    "\n",
    "print(argsort(x))\n",
    "print(np.argsort(x))\n",
    "\n",
    "print(sorted(x, key=range(len(x)).__getitem__))"
   ]
  },
  {
   "cell_type": "code",
   "execution_count": 321,
   "id": "b331d01e-b5bf-43e4-9558-8bbf5f175700",
   "metadata": {},
   "outputs": [
    {
     "name": "stdout",
     "output_type": "stream",
     "text": [
      "[1, 5, 3, 2]\n",
      "[0, 1, 18, 19]\n"
     ]
    }
   ],
   "source": [
    "leagueIndex = [1,3,5,2]\n",
    "gameResults = [0,18,1,19]\n",
    "idxScoreOrder = df.argsort(gameResults) # scores in order\n",
    "sortedLeagueIndex = [leagueIndex[i] for i in idxScoreOrder]\n",
    "sortedGameResults = [gameResults[i] for i in idxScoreOrder]\n",
    "\n",
    "print(sortedLeagueIndex)\n",
    "print(sortedGameResults)"
   ]
  },
  {
   "cell_type": "code",
   "execution_count": 325,
   "id": "d19b7fe6-4103-4b15-a3e3-2d3f54a2879a",
   "metadata": {},
   "outputs": [
    {
     "name": "stdout",
     "output_type": "stream",
     "text": [
      "861 ns ± 5.96 ns per loop (mean ± std. dev. of 7 runs, 1,000,000 loops each)\n",
      "882 ns ± 12.3 ns per loop (mean ± std. dev. of 7 runs, 1,000,000 loops each)\n",
      "[0, 1, 18, 19] [1, 5, 3, 2]\n",
      "[0, 1, 18, 19] [1, 5, 3, 2]\n"
     ]
    }
   ],
   "source": [
    "leagueIndex = [1,3,5,2]\n",
    "gameResults = [0,18,1,19]\n",
    "\n",
    "def zipMethod(list1, list2):\n",
    "    # Combine the two lists into pairs\n",
    "    combined_pairs = list(zip(list1, list2))\n",
    "    \n",
    "    # Sort the pairs based on values in list1\n",
    "    sorted_pairs = sorted(combined_pairs, key=lambda x: x[0])\n",
    "    \n",
    "    # Unpack the sorted pairs into separate lists\n",
    "    sorted_list1, sorted_list2 = zip(*sorted_pairs)\n",
    "    \n",
    "    return list(sorted_list1), list(sorted_list2)\n",
    "\n",
    "def listCompMethod(list1, list2):\n",
    "    idxOrder = df.argsort(list1)\n",
    "    return [list1[i] for i in idxOrder], [list2[i] for i in idxOrder]\n",
    "\n",
    "%timeit l1, l2 = zipMethod(gameResults, leagueIndex)\n",
    "%timeit m1, m2 = listCompMethod(gameResults, leagueIndex)\n",
    "\n",
    "print(l1, l2)\n",
    "\n",
    "print(m1, m2)"
   ]
  },
  {
   "cell_type": "code",
   "execution_count": null,
   "id": "3f26682b-fe3c-4c71-a638-32212b09676e",
   "metadata": {},
   "outputs": [],
   "source": []
  },
  {
   "cell_type": "code",
   "execution_count": null,
   "id": "65b5f937-759f-48ae-8b36-7ed666b8e81c",
   "metadata": {},
   "outputs": [],
   "source": [
    "# System for vieweing agent value function: \n",
    "# game = ()\n",
    "# game.initializeHand()\n",
    "# game.showTurn() # where showTurn acts like doTurn, but tells the agent to reveal it's choices and value functions"
   ]
  },
  {
   "cell_type": "code",
   "execution_count": null,
   "id": "f08cece5-42a2-4b23-bcfa-73ebd09b1cd7",
   "metadata": {},
   "outputs": [],
   "source": []
  },
  {
   "cell_type": "code",
   "execution_count": 35,
   "id": "9b50abd0-4d11-41d6-90df-92c667889abe",
   "metadata": {},
   "outputs": [],
   "source": [
    "numPlayers = 4\n",
    "highestDominoe = 9\n",
    "dominoes = df.listDominoes(highestDominoe)\n",
    "numDominoes = len(dominoes)\n",
    "lvAgent = da.lineValueAgent(numPlayers, highestDominoe, dominoes, numDominoes, 0)\n",
    "lvAgent.loadAgentParameters(fm.codePath() / 'experimentSet_000' / 'savedNetworks' / 'lineValueAgentParameters_230817_1.npy')"
   ]
  },
  {
   "cell_type": "code",
   "execution_count": 44,
   "id": "84aaac44-35c6-492d-a0b8-6e7caca1d6b6",
   "metadata": {},
   "outputs": [
    {
     "name": "stdout",
     "output_type": "stream",
     "text": [
      "lineRepresentationNetwork(\n",
      "  (cnn_c1): Conv1d(6, 10, kernel_size=(1,), stride=(1,))\n",
      "  (cnn_f1): Linear(in_features=550, out_features=1000, bias=True)\n",
      "  (cnn_ln): LayerNorm((1000,), eps=1e-05, elementwise_affine=True)\n",
      "  (cnnLayer): Sequential(\n",
      "    (0): Conv1d(6, 10, kernel_size=(1,), stride=(1,))\n",
      "    (1): ReLU()\n",
      "    (2): Flatten(start_dim=0, end_dim=-1)\n",
      "    (3): Linear(in_features=550, out_features=1000, bias=True)\n",
      "    (4): ReLU()\n",
      "    (5): LayerNorm((1000,), eps=1e-05, elementwise_affine=True)\n",
      "  )\n",
      "  (fc1): Linear(in_features=1177, out_features=1000, bias=True)\n",
      "  (fc2): Linear(in_features=1000, out_features=500, bias=True)\n",
      "  (fc3): Linear(in_features=500, out_features=500, bias=True)\n",
      "  (fc4): Linear(in_features=500, out_features=1, bias=True)\n",
      "  (ffLayer): Sequential(\n",
      "    (0): Linear(in_features=1177, out_features=1000, bias=True)\n",
      "    (1): ReLU()\n",
      "    (2): Linear(in_features=1000, out_features=500, bias=True)\n",
      "    (3): ReLU()\n",
      "    (4): Linear(in_features=500, out_features=500, bias=True)\n",
      "    (5): ReLU()\n",
      "    (6): Linear(in_features=500, out_features=1, bias=True)\n",
      "  )\n",
      ")\n"
     ]
    }
   ],
   "source": [
    "print(lvAgent.finalScoreNetwork)\n",
    "# Goals: \n",
    "# 1. look at Linear layer of cnnLayer, find out how similar it is across dominoes\n",
    "# 2. Same for first linear layer of ffLayer\n",
    "# 3. Initialize the game many times, look at correlation between average lineValueFeatures and final score output\n",
    "# -\n",
    "# 1. Find out how to optimize the input to the network for the best output (e.g. hand value 0)\n",
    "#    - will probably have to do this under certain constraints, e.g. with the constraint that dominoes in each hand remains high\n",
    "#    - I wonder if I can do it for just the lineRepresentation input? \n",
    "\n",
    "# I think the way I do it is this: \n",
    "# Take a sample input, run it through the network to get the value. \n",
    "# Run backward() on the output of the network\n",
    "# Update the input\n",
    "# Do again\n"
   ]
  },
  {
   "cell_type": "code",
   "execution_count": 42,
   "id": "81ab150a-5487-4b39-936e-cd3adf5d72eb",
   "metadata": {},
   "outputs": [
    {
     "data": {
      "text/plain": [
       "tensor([[ 0.1833,  0.1032, -0.0776,  0.0994,  0.0312, -0.1081],\n",
       "        [ 0.1618,  0.0069,  0.1001, -0.0982, -0.2243,  0.1485],\n",
       "        [-0.0262,  0.0719,  0.1326, -0.0475, -0.1863,  0.1184],\n",
       "        [-0.2506,  0.0444,  0.2222, -0.2975, -0.1003, -0.3702],\n",
       "        [ 0.1716, -0.2949,  0.0487,  0.2492, -0.2473, -0.0033],\n",
       "        [-0.0689,  0.0464,  1.0099, -1.0141,  0.0679,  0.1642],\n",
       "        [-0.1283, -0.0643, -0.1278, -0.2202, -0.2645, -0.1587],\n",
       "        [-0.0977, -0.0191, -0.1356,  0.1025, -0.2359, -0.2980],\n",
       "        [-0.3415, -0.0836,  0.5119, -0.0513,  0.1220, -0.2324],\n",
       "        [-0.2302, -0.2922, -0.1383,  0.2512,  0.1618,  0.1330]],\n",
       "       grad_fn=<ViewBackward0>)"
      ]
     },
     "execution_count": 42,
     "metadata": {},
     "output_type": "execute_result"
    }
   ],
   "source": [
    "# expInLineValue, expOffLineValue, expLossValue, expDominoeValue, expInLineDominoes, expOffLineDominoes\n",
    "lvAgent.finalScoreNetwork.cnn_c1.weight.view(10,6)"
   ]
  },
  {
   "cell_type": "code",
   "execution_count": null,
   "id": "64e63371-c5dc-4175-8c7e-44c8ae59f23f",
   "metadata": {},
   "outputs": [],
   "source": []
  },
  {
   "cell_type": "code",
   "execution_count": 163,
   "id": "5d11e28e-bc74-480d-a8b3-1ffc75165636",
   "metadata": {},
   "outputs": [],
   "source": [
    "numPlayers = 4\n",
    "highestDominoe = 9\n",
    "game = dg.dominoeGame(highestDominoe, numPlayers=numPlayers, agents=(da.lineValueAgent, da.bestLineAgent, da.bestLineAgent, da.bestLineAgent), device=device)\n",
    "game.getAgent(0).loadAgentParameters(fm.codePath() / 'experimentSet_000' / 'savedNetworks' / 'lineValueAgentParameters_230817_1.npy')\n",
    "game.getAgent(0).setLearning(False)\n",
    "game.initializeHand()"
   ]
  },
  {
   "cell_type": "code",
   "execution_count": 168,
   "id": "c226d184-d252-4fed-bd43-506985416408",
   "metadata": {},
   "outputs": [
    {
     "name": "stdout",
     "output_type": "stream",
     "text": [
      "Current agent: lineValueAgent\n",
      "Loading agent with game state...\n"
     ]
    }
   ],
   "source": [
    "print(f\"Current agent: {game.agents[game.nextPlayer].agentName}\")\n",
    "if game.originalAgentIndex[game.nextPlayer]==0:\n",
    "    print(f\"Loading agent with game state...\")\n",
    "    currentPlayer = copy(game.nextPlayer)\n",
    "    game.presentGameState(currentPlayer, postState=False)\n",
    "    lvInput = game.getAgent(0).valueNetworkInput[0].clone()\n",
    "    gsInput = game.getAgent(0).valueNetworkInput[1].clone()\n",
    "    lvInput.requires_grad=True\n",
    "    gsInput.requires_grad=True\n",
    "    lvInput.retain_grad()\n",
    "    gsInput.retain_grad()\n",
    "    finalScoreOutput = game.getAgent(0).finalScoreNetwork(game.getAgent(0).valueNetworkInput)\n",
    "else:\n",
    "    print(f\"Doing turn...\")\n",
    "    game.doTurn()"
   ]
  },
  {
   "cell_type": "code",
   "execution_count": 169,
   "id": "a1dd5dd3-2860-42db-9967-60f237b8bac5",
   "metadata": {},
   "outputs": [
    {
     "name": "stdout",
     "output_type": "stream",
     "text": [
      "torch.Size([6, 55]) torch.Size([177])\n",
      "True True\n",
      "tensor([7.9914], device='cuda:0', grad_fn=<AddBackward0>)\n"
     ]
    }
   ],
   "source": [
    "print(lvInput.shape, gsInput.shape)\n",
    "print(lvInput.requires_grad, gsInput.requires_grad)\n",
    "print(finalScoreOutput)"
   ]
  },
  {
   "cell_type": "code",
   "execution_count": 170,
   "id": "b88fb704-7849-433b-b12d-03ec21fec3be",
   "metadata": {},
   "outputs": [
    {
     "name": "stdout",
     "output_type": "stream",
     "text": [
      "[[67.1  1.3  3.   2.  10.   4. ]\n",
      " [67.1  1.3 10.   7.  10.   4. ]\n",
      " [67.1  1.3 13.  10.6 10.   4. ]\n",
      " [67.2  1.3  8.   5.5 10.   4. ]\n",
      " [67.1  1.3  8.   5.7 10.   4. ]\n",
      " [59.8  1.8  2.   0.  10.   4. ]\n",
      " [67.1  1.3 16.   6.9 10.   4. ]\n",
      " [53.6  2.7 10.   0.   8.9  5.1]\n",
      " [67.1  1.3 11.   8.5 10.   4. ]\n",
      " [64.6  1.5  6.   0.1 10.   4. ]\n",
      " [67.1  1.3 16.  12.4 10.   4. ]\n",
      " [67.1  1.3 12.   5.2 10.   4. ]\n",
      " [67.2  1.3  6.   3.4 10.   4. ]\n",
      " [64.4  1.5  4.   0.  10.   4. ]]\n"
     ]
    }
   ],
   "source": [
    "print(np.round(game.getAgent(0).valueNetworkInput[0].T[game.getAgent(0).myHand].clone().detach().cpu().numpy(),1))"
   ]
  },
  {
   "cell_type": "code",
   "execution_count": null,
   "id": "e4ad12fd-2915-4a45-8ace-58b4a1289a68",
   "metadata": {},
   "outputs": [],
   "source": [
    "# expInLineValue, expOffLineValue, expLossValue, expDominoeValue, expInLineDominoes, expOffLineDominoes"
   ]
  },
  {
   "cell_type": "code",
   "execution_count": 178,
   "id": "aac42b2b-33da-41be-8152-2d2b78dc52b2",
   "metadata": {},
   "outputs": [
    {
     "data": {
      "text/plain": [
       "torch.Size([6, 55])"
      ]
     },
     "execution_count": 178,
     "metadata": {},
     "output_type": "execute_result"
    }
   ],
   "source": [
    "lvInput.shape"
   ]
  },
  {
   "cell_type": "code",
   "execution_count": 171,
   "id": "336eae52-0ca0-4dd1-8d32-5cce89164cae",
   "metadata": {},
   "outputs": [
    {
     "name": "stderr",
     "output_type": "stream",
     "text": [
      "100%|██████████████████████████████████████████████████████████████████████████████| 3000/3000 [01:09<00:00, 43.08it/s]"
     ]
    },
    {
     "name": "stdout",
     "output_type": "stream",
     "text": [
      "[[67.4  1.2  3.2  1.9  9.6  4.2]\n",
      " [67.5  1.4 10.   6.9  9.7  4.1]\n",
      " [67.   1.  13.  10.7  9.9  4. ]\n",
      " [67.4  1.3  8.   5.6 10.   3.9]\n",
      " [67.2  0.8  8.2  5.9  9.6  4.1]\n",
      " [59.2  2.   2.  -0.4 10.4  4.1]\n",
      " [68.5  0.6 13.5 10.3  8.7  3.6]\n",
      " [53.8  2.6  6.1  4.   9.   4.1]\n",
      " [66.7  1.7 10.7  8.3 10.8  3.7]\n",
      " [64.3  1.1  4.6  1.7 10.   3.7]\n",
      " [66.6  1.1 15.7 12.6 10.2  4. ]\n",
      " [66.8  1.1 10.1  7.  10.1  3.7]\n",
      " [67.5  1.4  5.9  3.5 10.   3.9]\n",
      " [64.3  1.8  3.3  0.4 10.1  4. ]]\n"
     ]
    },
    {
     "name": "stderr",
     "output_type": "stream",
     "text": [
      "\n"
     ]
    }
   ],
   "source": [
    "eps = 1e-1\n",
    "numEpochs = 3000\n",
    "for epoch in tqdm(range(numEpochs)):\n",
    "    finalScoreOutput = game.getAgent(0).finalScoreNetwork((lvInput, gsInput))\n",
    "    finalScoreOutput.backward()\n",
    "    lvInput = (lvInput - eps*lvInput.grad).clone()\n",
    "    lvInput.retain_grad()\n",
    "    gsInput = (gsInput - eps*gsInput.grad).clone()\n",
    "    gsInput.retain_grad()\n",
    "\n",
    "print(np.round(lvInput.T[game.getAgent(0).myHand].clone().detach().cpu().numpy(),1))"
   ]
  },
  {
   "cell_type": "code",
   "execution_count": 172,
   "id": "35bd714b-a0bc-40b0-a51c-e5c3d2ee13d7",
   "metadata": {},
   "outputs": [
    {
     "data": {
      "text/plain": [
       "tensor([-60.1077], device='cuda:0', grad_fn=<AddBackward0>)"
      ]
     },
     "execution_count": 172,
     "metadata": {},
     "output_type": "execute_result"
    }
   ],
   "source": [
    "finalScoreOutput"
   ]
  },
  {
   "cell_type": "code",
   "execution_count": 161,
   "id": "947cfda9-bc0f-47f9-b362-85746d9351ad",
   "metadata": {},
   "outputs": [
    {
     "name": "stdout",
     "output_type": "stream",
     "text": [
      "[-0.73636436 -0.86545455 -1.829091    0.88363636 -0.3290907  -0.36727268]\n"
     ]
    }
   ],
   "source": [
    "savedOriginal = np.mean(np.round(game.getAgent(0).valueNetworkInput[0].T.clone().detach().cpu().numpy(),1),axis=0)\n",
    "savedNew = np.mean(np.round(lvInput.T.clone().detach().cpu().numpy(),1),axis=0)\n",
    "print(savedNew - savedOriginal)\n",
    "\n",
    "gsOriginal = game.getAgent(0).valueNetworkInput[1].clone().detach().cpu().numpy()\n",
    "gsNew = gsInput.clone().detach().cpu().numpy()\n",
    "\n"
   ]
  },
  {
   "cell_type": "code",
   "execution_count": null,
   "id": "8affe69e-69de-4927-aa0a-b65a9965eff1",
   "metadata": {},
   "outputs": [],
   "source": []
  },
  {
   "cell_type": "code",
   "execution_count": 177,
   "id": "c577799e-97f2-418d-893c-10e277fe78d6",
   "metadata": {},
   "outputs": [
    {
     "data": {
      "text/plain": [
       "tensor([ 0.,  0.,  1.,  0.,  1.,  0.,  1.,  0.,  0.,  0.,  0.,  1.,  0.,  0.,\n",
       "         0.,  0.,  1.,  0.,  0.,  0.,  0.,  1.,  0.,  1.,  0.,  0.,  1.,  0.,\n",
       "         0.,  0.,  0.,  1.,  0.,  0.,  0.,  0.,  1.,  0.,  1.,  1.,  0.,  0.,\n",
       "         0.,  0.,  0.,  0.,  0.,  0.,  0.,  0.,  0.,  1.,  1.,  0.,  0.,  0.,\n",
       "         0.,  0.,  0.,  0.,  0.,  0.,  0.,  0.,  1.,  0.,  0.,  0.,  0.,  0.,\n",
       "         0.,  0.,  0.,  1.,  0.,  0.,  0.,  0.,  0.,  0.,  0.,  0.,  0.,  0.,\n",
       "         0.,  0.,  0.,  0.,  0.,  0.,  0.,  0.,  0.,  0.,  0.,  0.,  0.,  0.,\n",
       "         0.,  0.,  0.,  0.,  0.,  0.,  0.,  0.,  0.,  0.,  1.,  1.,  0.,  0.,\n",
       "         0.,  0.,  0.,  0.,  0.,  0.,  0.,  1.,  1.,  0.,  0.,  0.,  0.,  0.,\n",
       "         0.,  0.,  0.,  0.,  0.,  1.,  0.,  0.,  0.,  0.,  0.,  0.,  0.,  0.,\n",
       "         0.,  0.,  0.,  0.,  0.,  0.,  0.,  0.,  1.,  0.,  0.,  0.,  0.,  0.,\n",
       "         0.,  0.,  0.,  0.,  0.,  1., 14., 11., 13., 13.,  0.,  0.,  0.,  0.,\n",
       "         0.,  0.,  0.,  0.,  0.,  1.,  2.,  3.,  0.], device='cuda:0')"
      ]
     },
     "execution_count": 177,
     "metadata": {},
     "output_type": "execute_result"
    }
   ],
   "source": [
    "torch.round(game.getAgent(0).valueNetworkInput[1], decimals=1)"
   ]
  },
  {
   "cell_type": "code",
   "execution_count": 175,
   "id": "401b48d0-b5c5-4cde-a256-4a35a67b62b9",
   "metadata": {},
   "outputs": [
    {
     "data": {
      "text/plain": [
       "tensor([ 15.6000,   8.0000,   0.6000,  -1.6000,   0.0000,  -1.3000,   0.6000,\n",
       "         -9.0000,  -0.8000,   7.2000,   0.9000,  -2.4000,  -7.6000,   4.8000,\n",
       "         -1.3000,  -0.8000, -10.6000,  12.2000, -12.9000,  -3.8000,  11.6000,\n",
       "         -1.0000,   6.4000,   9.3000, -12.1000,  -8.8000,  18.2000, -10.9000,\n",
       "          1.2000,  10.3000,  12.7000,  -6.8000, -10.1000,   2.6000,  -1.9000,\n",
       "         -4.4000,  -4.6000,   1.5000,   2.9000, -12.6000,   6.9000,  12.6000,\n",
       "          0.9000,   7.0000,   8.7000,  -5.2000, -10.9000,   0.8000,  10.2000,\n",
       "        -12.9000, -11.2000,   7.7000,  -3.8000,  -5.6000,  -4.8000,   0.4000,\n",
       "         -7.7000,  -2.3000,   3.3000,  -8.9000,  -5.1000,   1.6000,  -5.4000,\n",
       "         -2.8000,  -2.3000,   7.4000,   2.4000,  -9.9000,  -6.1000,  -6.7000,\n",
       "          0.0000,   1.0000,   5.6000,  16.0000,  -1.5000,  -0.0000,   0.8000,\n",
       "          3.2000,  -2.1000,  -1.2000,  -3.7000,   5.3000,  -9.4000,   1.4000,\n",
       "         -0.8000,   1.7000,  -5.5000,  -4.7000,  -4.6000,  -1.9000,   2.6000,\n",
       "         -9.7000,  -5.7000, -13.5000,   7.5000,   4.6000,  -1.3000,   6.9000,\n",
       "         -7.4000,  11.9000,  -0.2000,   2.2000,  -5.6000,  -9.1000,  10.0000,\n",
       "          2.8000,  -8.7000,  -8.3000,   2.8000,   5.7000,  -2.9000,  -0.5000,\n",
       "          2.3000,   7.9000,   2.7000,  -6.2000,   6.7000,   5.5000,  -1.3000,\n",
       "         -1.5000,  -0.3000,  -1.0000,  -3.3000,  -4.6000,   5.9000,   4.4000,\n",
       "         -9.4000,   0.1000,  16.4000,  -1.2000, -12.6000,   8.3000,  -0.4000,\n",
       "         11.1000,  -0.7000,  -5.9000,   1.9000,  -1.6000,  -2.7000,  13.1000,\n",
       "         -8.7000,  10.9000, -11.0000,   9.3000,  -5.4000,   5.7000,   0.6000,\n",
       "          0.4000,  -0.4000,   1.8000,  -7.3000,  -5.5000,  -5.0000,  -2.6000,\n",
       "         12.4000,  -1.6000,  -7.6000,  18.7000,   2.0000,  -2.1000, -20.1000,\n",
       "         45.9000,  32.3000,  49.3000,  -9.9000,  -4.3000,   4.5000,  -7.0000,\n",
       "        -14.7000,   8.1000,   9.2000,  -0.3000, -14.2000,   8.5000,   1.3000,\n",
       "         12.1000,  -5.3000], device='cuda:0', grad_fn=<RoundBackward1>)"
      ]
     },
     "execution_count": 175,
     "metadata": {},
     "output_type": "execute_result"
    }
   ],
   "source": [
    "torch.round(gsInput,decimals=1)"
   ]
  },
  {
   "cell_type": "code",
   "execution_count": null,
   "id": "5bbf9315-e385-47e1-9751-3cb504f3088a",
   "metadata": {},
   "outputs": [],
   "source": []
  },
  {
   "cell_type": "code",
   "execution_count": null,
   "id": "04313144-5e8a-4365-84f9-66b08c7ad242",
   "metadata": {},
   "outputs": [],
   "source": []
  },
  {
   "cell_type": "code",
   "execution_count": null,
   "id": "f9efffc8-f9b8-40e0-ba45-dfafcd9ecbfb",
   "metadata": {},
   "outputs": [],
   "source": []
  },
  {
   "cell_type": "code",
   "execution_count": 49,
   "id": "efa60a9a-4db2-48e8-b39a-9faa9b4cec08",
   "metadata": {},
   "outputs": [
    {
     "name": "stdout",
     "output_type": "stream",
     "text": [
      "torch.Size([10, 15, 24])\n",
      "torch.Size([10, 15, 24])\n",
      "torch.Size([10, 15, 24])\n"
     ]
    }
   ],
   "source": [
    "from pointerNetwork import AttentionLayer, TransformerBlock\n",
    "\n",
    "batchSize = 10\n",
    "seqLength = 15\n",
    "emb = 24\n",
    "att = AttentionLayer(emb)\n",
    "trans = TransformerBlock(emb, 4, None, seqLength)\n",
    "x = torch.normal(0,1,(batchSize, seqLength, emb))\n",
    "\n",
    "out = att(x)\n",
    "t = trans(x)\n",
    "\n",
    "print(x.shape)\n",
    "print(out.shape)\n",
    "print(t.shape)"
   ]
  },
  {
   "cell_type": "code",
   "execution_count": 47,
   "id": "7be8beff-21d7-454a-9587-9cd068143baa",
   "metadata": {},
   "outputs": [],
   "source": [
    "xx = nn.Linear(24, 50)"
   ]
  },
  {
   "cell_type": "code",
   "execution_count": 48,
   "id": "edbaced0-f322-4ffc-808d-0c344ab0a796",
   "metadata": {},
   "outputs": [
    {
     "data": {
      "text/plain": [
       "torch.Size([10, 15, 50])"
      ]
     },
     "execution_count": 48,
     "metadata": {},
     "output_type": "execute_result"
    }
   ],
   "source": [
    "xx(out).shape"
   ]
  },
  {
   "cell_type": "code",
   "execution_count": 3,
   "id": "142dbb71-ec0a-467d-88f3-bf223f779015",
   "metadata": {},
   "outputs": [
    {
     "name": "stdout",
     "output_type": "stream",
     "text": [
      "epoch: 0, Loss: 0.24199\n",
      "Acc: 100.00% (9000/9000)\n",
      "epoch: 2, Loss: 0.00185\n",
      "Acc: 100.00% (9000/9000)\n",
      "epoch: 4, Loss: 0.00092\n",
      "Acc: 100.00% (9000/9000)\n",
      "----Test result---\n",
      "Acc: 100.00% (1000/1000)\n"
     ]
    }
   ],
   "source": [
    "from torch.autograd import Variable\n",
    "\n",
    "def createData(total_size, input_seq_len):\n",
    "    input, targets = make_seq_data(total_size, input_seq_len)\n",
    "    return input, targets\n",
    "\n",
    "def prepareData(input, targets, total_size):\n",
    "    # Convert to torch tensors\n",
    "    input = to_var(torch.LongTensor(input))     # (N, L)\n",
    "    targets = to_var(torch.LongTensor(targets)) # (N, L)\n",
    "\n",
    "    data_split = (int)(total_size * 0.9)\n",
    "    train_X = input[:data_split]\n",
    "    train_Y = targets[:data_split]\n",
    "    test_X = input[data_split:]\n",
    "    test_Y = targets[data_split:]\n",
    "    \n",
    "    return input, targets, train_X, train_Y, test_X, test_Y\n",
    "\n",
    "# from pointer_network import PointerNetwork\n",
    "def train(model, X, Y, batch_size, n_epochs):\n",
    "    model.train()\n",
    "    optimizer = torch.optim.Adam(model.parameters())\n",
    "    N = X.size(0)\n",
    "    L = X.size(1)\n",
    "    # M = Y.size(1)\n",
    "    for epoch in range(n_epochs + 1):\n",
    "        # for i in range(len(train_batches))\n",
    "        for i in range(0, N-batch_size, batch_size):\n",
    "            x = X[i:i+batch_size] # (bs, L)\n",
    "            y = Y[i:i+batch_size] # (bs, M)\n",
    "\n",
    "            probs = model(x) # (bs, M, L)\n",
    "            outputs = probs.view(-1, L) # (bs*M, L)\n",
    "            # outputs = probs.view(L, -1).t().contiguous() # (bs*M, L)\n",
    "            y = y.view(-1) # (bs*M)\n",
    "            loss = F.nll_loss(outputs, y)\n",
    "\n",
    "            optimizer.zero_grad()\n",
    "            loss.backward()\n",
    "            optimizer.step()\n",
    "\n",
    "        if epoch % 2 == 0:\n",
    "            print('epoch: {}, Loss: {:.5f}'.format(epoch, loss.item()))\n",
    "            # for _ in range(2): # random showing results\n",
    "            #     pick = np.random.randint(0, batch_size)\n",
    "            #     probs = probs.contiguous().view(batch_size, M, L).transpose(2, 1) # (bs, L, M)\n",
    "            #     y = y.view(batch_size, M)\n",
    "            #     print(\"predict: \", probs.max(1)[1].data[pick][0], probs.max(1)[1].data[pick][1],\n",
    "            #           \"target  : \", y.data[pick][0], y.data[pick][1])\n",
    "            test(model, X, Y)\n",
    "\n",
    "def test(model, X, Y):\n",
    "    probs = model(X) # (bs, M, L)\n",
    "    _v, indices = torch.max(probs, 2) # (bs, M)\n",
    "    # show test examples\n",
    "    # for i in range(len(indices)):\n",
    "    #     print('-----')\n",
    "    #     print('test', [v for v in X[i].data])\n",
    "    #     print('label', [v for v in Y[i].data])\n",
    "    #     print('pred', [v for v in indices[i].data])\n",
    "    #     if torch.equal(Y[i].data, indices[i].data):\n",
    "    #         print('eq')\n",
    "    #     if i>20: break\n",
    "    correct_count = sum([1 if torch.equal(ind.data, y.data) else 0 for ind, y in zip(indices, Y)])\n",
    "    print('Acc: {:.2f}% ({}/{})'.format(correct_count/len(X)*100, correct_count, len(X)))\n",
    "    \n",
    "def generate_single_seq(length=30, min_len=5, max_len=10):\n",
    "    # https://medium.com/@devnag/pointer-networks-in-tensorflow-with-sample-code-14645063f264\n",
    "    \"\"\" Generates a sequence of numbers of random length and inserts a sub-sequence oh greater numbers at random place\n",
    "    Input:\n",
    "    length: total sequence length\n",
    "    min_len: minimum length of sequence\n",
    "    max_len: maximum length of sequence\n",
    "    Output:\n",
    "    sequence of numbers, index of the start of greater numbers subsequence\"\"\"\n",
    "    seq_before = [(random.randint(1, 5)) for x in range(random.randint(min_len, max_len))]\n",
    "    seq_during = [(random.randint(6, 10)) for x in range(random.randint(min_len, max_len))]\n",
    "    seq_after = [random.randint(1, 5) for x in range(random.randint(min_len, max_len))]\n",
    "    seq = seq_before + seq_during + seq_after\n",
    "    seq = seq + ([0] * (length - len(seq)))\n",
    "    return (seq, len(seq_before), len(seq_before) + len(seq_during)-1)\n",
    "\n",
    "def generate_set_seq(N):\n",
    "    # generate Boundary tasks\n",
    "    \"\"\"Generates a set of N sequences of fixed length\"\"\"\n",
    "    data = []\n",
    "    starts = []\n",
    "    ends = []\n",
    "    for i in range(N):\n",
    "        seq, ind_start, ind_end = generate_single_seq()\n",
    "        data.append(seq)\n",
    "        starts.append(ind_start)\n",
    "        ends.append(ind_end)\n",
    "    return data, starts, ends\n",
    "\n",
    "def make_seq_data(n_samples, seq_len):\n",
    "    # Boundary tasks\n",
    "    data, labels = [], []\n",
    "    for _ in range(n_samples):\n",
    "        input = np.random.permutation(range(seq_len)).tolist()\n",
    "        target = sorted(range(len(input)), key=lambda k: input[k])\n",
    "        data.append(input)\n",
    "        labels.append(target)\n",
    "    return data, labels\n",
    "\n",
    "def to_var(x):\n",
    "    if torch.cuda.is_available():\n",
    "        x = x.cuda()\n",
    "    return Variable(x)\n",
    "\n",
    "class PointerNetwork(nn.Module):\n",
    "    def __init__(self, input_size, emb_size, weight_size, answer_seq_len, hidden_size=512, is_GRU=True):\n",
    "        super(PointerNetwork, self).__init__()\n",
    "\n",
    "        self.hidden_size = hidden_size\n",
    "        self.input_size = input_size\n",
    "        self.answer_seq_len = answer_seq_len\n",
    "        self.weight_size = weight_size\n",
    "        self.emb_size = emb_size\n",
    "        self.is_GRU = is_GRU\n",
    "\n",
    "        self.emb = nn.Embedding(input_size, emb_size)  # embed inputs\n",
    "        if is_GRU:\n",
    "            self.enc = nn.GRU(emb_size, hidden_size, batch_first=True)\n",
    "            self.dec = nn.GRUCell(emb_size, hidden_size) # GRUCell's input is always batch first\n",
    "        else:\n",
    "            self.enc = nn.LSTM(emb_size, hidden_size, batch_first=True)\n",
    "            self.dec = nn.LSTMCell(emb_size, hidden_size) # LSTMCell's input is always batch first\n",
    "\n",
    "        self.W1 = nn.Linear(hidden_size, weight_size, bias=False) # blending encoder\n",
    "        self.W2 = nn.Linear(hidden_size, weight_size, bias=False) # blending decoder\n",
    "        self.vt = nn.Linear(weight_size, 1, bias=False) # scaling sum of enc and dec by v.T\n",
    "\n",
    "    def forward(self, input, printShapes=False):\n",
    "        if printShapes: print(f\"Input shape: {input.shape}\")\n",
    "        batch_size = input.size(0)\n",
    "        input = self.emb(input) # (bs, L, embd_size)\n",
    "        \n",
    "        if printShapes: print(f\"Embedding shape: {input.shape}\")\n",
    "        \n",
    "        # Encoding\n",
    "        encoder_states, hc = self.enc(input) # encoder_state: (bs, L, H)\n",
    "        encoder_states = encoder_states.transpose(1, 0) # (L, bs, H)\n",
    "        \n",
    "        if printShapes: print(f\"Encoder_states shape: {encoder_states.shape}\")\n",
    "        if printShapes: print(f\"hc shape: {hc.shape}\")\n",
    "        \n",
    "        # Decoding states initialization\n",
    "        decoder_input = to_var(torch.zeros(batch_size, self.emb_size)) # (bs, embd_size)\n",
    "        hidden = to_var(torch.zeros([batch_size, self.hidden_size]))   # (bs, h)\n",
    "        cell_state = encoder_states[-1]                                # (bs, h)\n",
    "        \n",
    "        if printShapes: print(f\"decoder_input shape: {decoder_input.shape}\")\n",
    "        if printShapes: print(f\"hidden shape: {hidden.shape}\")\n",
    "        if printShapes: print(f\"cell_state shape: {cell_state.shape}\")\n",
    "        if printShapes: print(f\"\\nNow at decoding layer: \\n\")\n",
    "        probs = []\n",
    "        # Decoding\n",
    "        for i in range(self.answer_seq_len): # range(M)\n",
    "            if self.is_GRU:\n",
    "                hidden = self.dec(decoder_input, hidden) # (bs, h), (bs, h)\n",
    "                if printShapes: print(f\"hidden shape: {hidden.shape}\")\n",
    "            else:\n",
    "                hidden, cell_state = self.dec(decoder_input, (hidden, cell_state)) # (bs, h), (bs, h)\n",
    "                if printShapes: print(f\"hidden shape: {hidden.shape}\")\n",
    "                if printShapes: print(f\"cell_state shape: {cell_state.shape}\")\n",
    "            \n",
    "            # Compute blended representation at each decoder time step\n",
    "            blend1 = self.W1(encoder_states)          # (L, bs, W)\n",
    "            blend2 = self.W2(hidden)                  # (bs, W)\n",
    "            blend_sum = torch.tanh(blend1 + blend2)    # (L, bs, W)\n",
    "            out = self.vt(blend_sum).squeeze()        # (L, bs)\n",
    "            out = F.log_softmax(out.transpose(0, 1).contiguous(), -1) # (bs, L)\n",
    "            probs.append(out)\n",
    "            \n",
    "            if printShapes: print(f\"blend1 shape: {blend1.shape}\")\n",
    "            if printShapes: print(f\"blend2 shape: {blend2.shape}\")\n",
    "            if printShapes: print(f\"blend_sum shape: {blend_sum.shape}\")\n",
    "            if printShapes: print(f\"out shape: {out.shape}\")\n",
    "\n",
    "        probs = torch.stack(probs, dim=1)           # (bs, M, L)\n",
    "\n",
    "        return probs\n",
    "\n",
    "total_size = 10000\n",
    "weight_size = 256\n",
    "input_seq_len = 5\n",
    "emb_size = 256\n",
    "batch_size = 250\n",
    "n_epochs = 5\n",
    "inp_size = input_seq_len\n",
    "\n",
    "input, targets = createData(total_size, input_seq_len)\n",
    "input, targets, train_X, train_Y, test_X, test_Y = prepareData(input, targets, total_size)\n",
    "model = PointerNetwork(inp_size, emb_size, weight_size, input_seq_len)\n",
    "if torch.cuda.is_available(): model.cuda()\n",
    "train(model, train_X, train_Y, batch_size, n_epochs)\n",
    "print('----Test result---')\n",
    "test(model, test_X, test_Y)"
   ]
  },
  {
   "cell_type": "code",
   "execution_count": 4,
   "id": "bad9d87f-6c57-4b59-ab00-de4f8a142f9c",
   "metadata": {},
   "outputs": [
    {
     "name": "stdout",
     "output_type": "stream",
     "text": [
      "Input shape: torch.Size([8, 5])\n",
      "Embedding shape: torch.Size([8, 5, 256])\n",
      "Encoder_states shape: torch.Size([5, 8, 512])\n",
      "hc shape: torch.Size([1, 8, 512])\n",
      "decoder_input shape: torch.Size([8, 256])\n",
      "hidden shape: torch.Size([8, 512])\n",
      "cell_state shape: torch.Size([8, 512])\n",
      "\n",
      "Now at decoding layer: \n",
      "\n",
      "hidden shape: torch.Size([8, 512])\n",
      "blend1 shape: torch.Size([5, 8, 256])\n",
      "blend2 shape: torch.Size([8, 256])\n",
      "blend_sum shape: torch.Size([5, 8, 256])\n",
      "out shape: torch.Size([8, 5])\n",
      "hidden shape: torch.Size([8, 512])\n",
      "blend1 shape: torch.Size([5, 8, 256])\n",
      "blend2 shape: torch.Size([8, 256])\n",
      "blend_sum shape: torch.Size([5, 8, 256])\n",
      "out shape: torch.Size([8, 5])\n",
      "hidden shape: torch.Size([8, 512])\n",
      "blend1 shape: torch.Size([5, 8, 256])\n",
      "blend2 shape: torch.Size([8, 256])\n",
      "blend_sum shape: torch.Size([5, 8, 256])\n",
      "out shape: torch.Size([8, 5])\n",
      "hidden shape: torch.Size([8, 512])\n",
      "blend1 shape: torch.Size([5, 8, 256])\n",
      "blend2 shape: torch.Size([8, 256])\n",
      "blend_sum shape: torch.Size([5, 8, 256])\n",
      "out shape: torch.Size([8, 5])\n",
      "hidden shape: torch.Size([8, 512])\n",
      "blend1 shape: torch.Size([5, 8, 256])\n",
      "blend2 shape: torch.Size([8, 256])\n",
      "blend_sum shape: torch.Size([5, 8, 256])\n",
      "out shape: torch.Size([8, 5])\n",
      "-----\n",
      "test:  [3 2 0 1 4]\n",
      "label: [2 3 1 0 4]\n",
      "pred:  [2 3 1 0 4]\n",
      "-----\n",
      "test:  [2 1 4 0 3]\n",
      "label: [3 1 0 4 2]\n",
      "pred:  [3 1 0 4 2]\n",
      "-----\n",
      "test:  [0 3 4 2 1]\n",
      "label: [0 4 3 1 2]\n",
      "pred:  [0 4 3 1 2]\n",
      "-----\n",
      "test:  [0 4 2 3 1]\n",
      "label: [0 4 2 3 1]\n",
      "pred:  [0 4 2 3 1]\n",
      "-----\n",
      "test:  [1 4 3 0 2]\n",
      "label: [3 0 4 2 1]\n",
      "pred:  [3 0 4 2 1]\n",
      "-----\n",
      "test:  [1 2 0 4 3]\n",
      "label: [2 0 1 4 3]\n",
      "pred:  [2 0 1 4 3]\n",
      "-----\n",
      "test:  [4 0 3 2 1]\n",
      "label: [1 4 3 2 0]\n",
      "pred:  [1 4 3 2 0]\n",
      "-----\n",
      "test:  [4 3 0 1 2]\n",
      "label: [2 3 4 1 0]\n",
      "pred:  [2 3 4 1 0]\n",
      "Acc: 0.80% (8/1000)\n"
     ]
    }
   ],
   "source": [
    "probs = model.forward(test_X[:8], printShapes=True) # (bs, M, L)\n",
    "_v, indices = torch.max(probs, 2) # (bs, M)\n",
    "# show test examples\n",
    "for i in range(len(indices)):\n",
    "    print('-----')\n",
    "    print(f'test:  {test_X[i].detach().cpu().numpy()}')\n",
    "    print(f'label: {test_Y[i].detach().cpu().numpy()}')\n",
    "    print(f'pred:  {indices[i].detach().cpu().numpy()}')\n",
    "    if i>20: break\n",
    "correct_count = sum([1 if torch.equal(ind.data, y.data) else 0 for ind, y in zip(indices, test_Y)])\n",
    "print('Acc: {:.2f}% ({}/{})'.format(correct_count/len(test_X)*100, correct_count, len(test_X)))"
   ]
  },
  {
   "cell_type": "code",
   "execution_count": null,
   "id": "718e39d1-6b61-4437-ac10-9f25702353a0",
   "metadata": {},
   "outputs": [],
   "source": []
  },
  {
   "cell_type": "code",
   "execution_count": null,
   "id": "98613f60-4fc1-4ea3-8d1e-00bd7e65a5d4",
   "metadata": {},
   "outputs": [],
   "source": []
  },
  {
   "cell_type": "code",
   "execution_count": null,
   "id": "93d1f529-5ce1-49cd-bc1e-bd3587a1ad6a",
   "metadata": {},
   "outputs": [],
   "source": []
  },
  {
   "cell_type": "code",
   "execution_count": null,
   "id": "0eb88b80-e03f-4fcd-95e6-4ab2b23fc4e2",
   "metadata": {},
   "outputs": [],
   "source": []
  },
  {
   "cell_type": "code",
   "execution_count": null,
   "id": "a5ca1e3f-0f69-466d-9d53-16185f3e8b75",
   "metadata": {},
   "outputs": [],
   "source": []
  },
  {
   "cell_type": "code",
   "execution_count": null,
   "id": "5c90df6a-0207-4b57-af72-7ab1dff07337",
   "metadata": {},
   "outputs": [],
   "source": []
  },
  {
   "cell_type": "code",
   "execution_count": null,
   "id": "b940550c-ffcc-465f-baba-bba8f45139b3",
   "metadata": {},
   "outputs": [],
   "source": []
  },
  {
   "cell_type": "code",
   "execution_count": null,
   "id": "47e35543-4db2-49f0-96fc-d36859b5ffc9",
   "metadata": {},
   "outputs": [],
   "source": []
  },
  {
   "cell_type": "code",
   "execution_count": null,
   "id": "6d15ffd9-eed0-4f39-bb1d-a710d0019cc7",
   "metadata": {},
   "outputs": [],
   "source": []
  },
  {
   "cell_type": "code",
   "execution_count": null,
   "id": "5448cd0a-e7e7-440a-8aad-79033249be9e",
   "metadata": {},
   "outputs": [],
   "source": []
  },
  {
   "cell_type": "code",
   "execution_count": null,
   "id": "919df8bb-2db7-49fc-b740-578146182059",
   "metadata": {},
   "outputs": [],
   "source": []
  },
  {
   "cell_type": "code",
   "execution_count": null,
   "id": "08e25db2-3138-4f4f-a95e-a29c74c29bf3",
   "metadata": {},
   "outputs": [],
   "source": []
  },
  {
   "cell_type": "code",
   "execution_count": null,
   "id": "79d563a8-cca3-48fa-bc78-212faaaa5515",
   "metadata": {},
   "outputs": [],
   "source": []
  },
  {
   "cell_type": "code",
   "execution_count": null,
   "id": "c396bcd2-d6a2-48fa-b730-c035d654322d",
   "metadata": {},
   "outputs": [],
   "source": []
  },
  {
   "cell_type": "code",
   "execution_count": null,
   "id": "97cdff3f-d72f-454e-ae0a-5c2d000612a3",
   "metadata": {},
   "outputs": [],
   "source": []
  },
  {
   "cell_type": "code",
   "execution_count": null,
   "id": "4fa51f02-b47d-44c5-947b-80607a4b7775",
   "metadata": {},
   "outputs": [],
   "source": []
  },
  {
   "cell_type": "code",
   "execution_count": null,
   "id": "26c3cacb-899a-4203-ba9e-58c9ae165fc1",
   "metadata": {},
   "outputs": [],
   "source": []
  },
  {
   "cell_type": "code",
   "execution_count": null,
   "id": "d1f732f3-ed54-428f-949b-48ae94b6fb58",
   "metadata": {},
   "outputs": [],
   "source": []
  },
  {
   "cell_type": "code",
   "execution_count": null,
   "id": "d055259c-d643-4be2-aaee-c768c75e3e56",
   "metadata": {},
   "outputs": [],
   "source": []
  },
  {
   "cell_type": "code",
   "execution_count": null,
   "id": "ab299726-8d74-4c3d-80fc-fe1f23b71121",
   "metadata": {},
   "outputs": [],
   "source": []
  },
  {
   "cell_type": "code",
   "execution_count": null,
   "id": "ec629c8c-8757-4e44-beac-377f8535214a",
   "metadata": {},
   "outputs": [],
   "source": []
  },
  {
   "cell_type": "code",
   "execution_count": null,
   "id": "24f67250-5053-44f1-878a-2800904070d0",
   "metadata": {},
   "outputs": [],
   "source": []
  },
  {
   "cell_type": "markdown",
   "id": "8ffb2790-9c12-4ed3-a650-a0163e9a3526",
   "metadata": {},
   "source": [
    "## Below this point I'm including some code blocks that make inspection of the gameplay and agent status easy... "
   ]
  },
  {
   "cell_type": "code",
   "execution_count": 217,
   "id": "ff4c26a2-a5a8-410d-9795-b88680257fd7",
   "metadata": {},
   "outputs": [
    {
     "name": "stdout",
     "output_type": "stream",
     "text": [
      "[[ 5  0 13  7]\n",
      " [ 5 11  0  6]\n",
      " [ 6  0 49 18]\n",
      " [ 7 39 29  0]\n",
      " [11 33 20  0]\n",
      " [ 6  2 26  0]\n",
      " [19 23 17  0]\n",
      " [ 0  3 24  7]\n",
      " [23 19  0  6]\n",
      " [ 7 24 40  0]]\n",
      "[ 89 154 218  44]\n",
      "The current winner is agent: 3 with a score of 44!\n"
     ]
    }
   ],
   "source": [
    "numPlayers = 4\n",
    "highestDominoe = 9\n",
    "game = dg.dominoeGame(highestDominoe, agents=(da.doubleAgent, da.greedyAgent, da.dominoeAgent, da.bestLineAgent))\n",
    "game.playGame()\n",
    "game.printResults()"
   ]
  },
  {
   "cell_type": "code",
   "execution_count": 213,
   "id": "6927abd1-4d39-4ad4-9a40-c33a000f8692",
   "metadata": {},
   "outputs": [
    {
     "name": "stdout",
     "output_type": "stream",
     "text": [
      "player 0:  [' 0|8 ', ' 8|4 ', ' 4|5 ', ' 5|9 ', ' 9|9 ', ' 9|4 ', ' 4|6 ', ' 6|5 ', ' 5|3 ', ' 3|4 ', ' 4|2 ']\n",
      "player 1:  [' 0|5 ', ' 5|7 ', ' 7|3 ', ' 3|3 ', ' 3|6 ', ' 6|0 ', ' 0|3 ', ' 3|2 ']\n",
      "player 2:  [' 0|9 ', ' 9|8 ', ' 8|3 ', ' 3|9 ', ' 9|7 ', ' 7|2 ', ' 2|5 ', ' 5|1 ', ' 1|0 ', ' 0|2 ', ' 2|8 ']\n",
      "player 3:  [' 0|7 ', ' 7|7 ', ' 7|8 ', ' 8|8 ', ' 8|5 ', ' 5|5 ']\n",
      "dummy:  [' 0|4 ', ' 4|4 ', ' 4|7 ', ' 7|6 ', ' 6|9 ', ' 9|2 ', ' 2|1 ', ' 1|1 ', ' 1|8 ', ' 8|6 ', ' 6|1 ', ' 1|9 ']\n"
     ]
    }
   ],
   "source": [
    "df.gameSequenceToString(game.dominoes, game.lineSequence, game.linePlayDirection, player=None, playNumber=None, labelLines=True) #player=game.linePlayer, playNumber=game.linePlayNumber)\n",
    "df.gameSequenceToString(game.dominoes, game.dummySequence, game.dummyPlayDirection, player=None, playNumber=None, labelLines=True) #player=game.linePlayer, playNumber=game.linePlayNumber)"
   ]
  },
  {
   "cell_type": "code",
   "execution_count": null,
   "id": "88659a32-48a5-4798-8fb3-ab6c7af776ef",
   "metadata": {},
   "outputs": [],
   "source": []
  },
  {
   "cell_type": "code",
   "execution_count": null,
   "id": "a967fd80-e15f-4872-bdea-365417cb5a3e",
   "metadata": {},
   "outputs": [],
   "source": []
  },
  {
   "cell_type": "code",
   "execution_count": null,
   "id": "0b1e9dce-10a7-4ba4-970e-51adf826e08f",
   "metadata": {},
   "outputs": [],
   "source": []
  },
  {
   "cell_type": "code",
   "execution_count": 195,
   "id": "6f8fa238-52ca-4b98-b287-1a9d283e1c51",
   "metadata": {},
   "outputs": [
    {
     "name": "stdout",
     "output_type": "stream",
     "text": [
      "[' 9|7 ', ' 7|8 ', ' 8|5 ', ' 5|5 ']\n",
      "[' 9|3 ', ' 3|3 ', ' 3|5 ', ' 5|7 ']\n",
      "[' 9|8 ', ' 8|0 ', ' 0|1 ', ' 1|7 ', ' 7|4 ', ' 4|6 ', ' 6|9 ', ' 9|1 ', ' 1|5 ', ' 5|4 ', ' 4|2 ', ' 2|7 ', ' 7|6 ', ' 6|8 ']\n",
      "[' 9|5 ', ' 5|6 ', ' 6|6 ', ' 6|0 ', ' 0|0 ', ' 0|9 ', ' 9|4 ', ' 4|8 ', ' 8|1 ']\n",
      "[' 9|2 ', ' 2|2 ', ' 2|0 ', ' 0|5 ', ' 5|2 ', ' 2|3 ', ' 3|8 ', ' 8|2 ', ' 2|6 ', ' 6|3 ', ' 3|4 ', ' 4|0 ', ' 0|3 ', ' 3|7 ', ' 7|7 ', ' 7|0 ']\n"
     ]
    }
   ],
   "source": [
    "numPlayers = 4\n",
    "highestDominoe = 9\n",
    "game = dg.dominoeGame(highestDominoe, agents=(da.doubleAgent, da.greedyAgent, None, da.stupidAgent))\n",
    "game.playHand()\n",
    "df.gameSequenceToString(game.dominoes, game.lineSequence, game.linePlayDirection, player=None, playNumber=None) #player=game.linePlayer, playNumber=game.linePlayNumber)\n",
    "df.gameSequenceToString(game.dominoes, game.dummySequence, game.dummyPlayDirection, player=None, playNumber=None) #player=game.linePlayer, playNumber=game.linePlayNumber)"
   ]
  },
  {
   "cell_type": "code",
   "execution_count": 449,
   "id": "1d0ae873-32f9-4a21-9724-741e666c36b7",
   "metadata": {},
   "outputs": [
    {
     "name": "stdout",
     "output_type": "stream",
     "text": [
      "line 0: []\n",
      "line 1: []\n",
      "line 2: []\n",
      "line 3: []\n",
      "dummy: []\n",
      "Dominoe: None, Location: None\n"
     ]
    }
   ],
   "source": [
    "# Example of options list for current game (requires game.initializeHand() and game.presentGameState() to be run)\n",
    "lineOptions, dummyOptions = game.agents[0].playOptions()\n",
    "df.printDominoeList(lineOptions, game.agents[0].dominoes, name='line')\n",
    "df.printDominoeList(dummyOptions, game.agents[0].dominoes, name='dummy:')\n",
    "dominoe, location = game.agents[0].selectPlay()\n",
    "print(f\"Dominoe: {dominoe}, Location: {location}\")"
   ]
  },
  {
   "cell_type": "code",
   "execution_count": 207,
   "id": "81fa6014-2a23-40f7-9955-d7f4ee1dc486",
   "metadata": {},
   "outputs": [
    {
     "data": {
      "text/plain": [
       "[[], [], [1], []]"
      ]
     },
     "execution_count": 207,
     "metadata": {},
     "output_type": "execute_result"
    }
   ],
   "source": [
    "# game details\n",
    "game.lineSequence"
   ]
  },
  {
   "cell_type": "code",
   "execution_count": 159,
   "id": "969bb5b6-46c8-4c45-acfd-d4dd83f1c3cd",
   "metadata": {},
   "outputs": [
    {
     "name": "stderr",
     "output_type": "stream",
     "text": [
      "100%|███████████████████████████████████████████████████████████████████████| 1000000/1000000 [24:04<00:00, 692.50it/s]\n"
     ]
    },
    {
     "name": "stdout",
     "output_type": "stream",
     "text": [
      "1.4527309322357178\n"
     ]
    },
    {
     "data": {
      "text/plain": [
       "[<matplotlib.lines.Line2D at 0x200c936a130>]"
      ]
     },
     "execution_count": 159,
     "metadata": {},
     "output_type": "execute_result"
    },
    {
     "data": {
      "image/png": "[encoded data removed]",
      "text/plain": [
       "<Figure size 700x300 with 2 Axes>"
      ]
     },
     "metadata": {},
     "output_type": "display_data"
    }
   ],
   "source": [
    "# create random game states and then train a network to predict current hand score...\n",
    "def generateRandomHand(dominoes, numDominoes, numPlayers, verboseOutput=False):\n",
    "    numInHands = np.random.randint(numDominoes+1)\n",
    "    idxInHands = np.random.choice(numDominoes,numInHands,replace=False)\n",
    "    handIdx = np.random.randint(0, numPlayers, numInHands)\n",
    "    played = np.full(numDominoes, True)\n",
    "    myHand = np.full(numDominoes, False)\n",
    "    otherHands = np.full(numDominoes, False)\n",
    "    played[idxInHands]=False\n",
    "    myHand[idxInHands[handIdx==0]] = True\n",
    "    otherHands[idxInHands[handIdx>0]] = True\n",
    "    myHandValue = np.sum(dominoes[myHand])\n",
    "    otherHandValue = np.sum(dominoes[otherHands])\n",
    "    if verboseOutput:\n",
    "        return played, myHand, otherHands, myHandValue, otherHandValue\n",
    "    networkInput = (np.concatenate((played, myHand))*1)\n",
    "    networkOutput = np.array([myHandValue, otherHandValue])\n",
    "    # networkInput = np.concatenate((np.sum(dominoes.T * played, axis=0), np.sum(dominoes.T * myHand, axis=0)))\n",
    "    return networkInput, networkOutput\n",
    "\n",
    "# played, myHand, otherHands, myHandValue, otherHandValue = generateRandomHand(dominoes, numDominoes, numPlayers, verboseOutput=True)\n",
    "networkInput, networkOutput = generateRandomHand(dominoes, numDominoes, numPlayers)\n",
    "\n",
    "numPlayers = 3\n",
    "highestDominoe = 9\n",
    "numDominoes = df.numberDominoes(highestDominoe)\n",
    "dominoes = df.listDominoes(highestDominoe)\n",
    "\n",
    "handValueNetwork = dn.handValueNetwork(numPlayers,numDominoes,highestDominoe)\n",
    "handValueNetwork.to(device)\n",
    "\n",
    "numIterations = 1000000\n",
    "target = np.zeros((numIterations, 2))\n",
    "pred = np.zeros((numIterations, 2))\n",
    "storeLoss = np.zeros(numIterations)\n",
    "\n",
    "lossFunction = nn.L1Loss()\n",
    "# optimizer = torch.optim.SGD(handValueNetwork.parameters(), lr=1e-2, momentum=0.5)\n",
    "optimizer = torch.optim.Adadelta(handValueNetwork.parameters())\n",
    "\n",
    "for ii in tqdm(range(numIterations)):\n",
    "    networkInput, networkOutput = generateRandomHand(dominoes, numDominoes, numPlayers)\n",
    "    target[ii] = np.copy(networkOutput)\n",
    "    \n",
    "    networkInput = torch.tensor(networkInput).to(device).float()\n",
    "    networkOutput = torch.tensor(networkOutput).to(device).float()\n",
    "    \n",
    "    output = handValueNetwork(networkInput)\n",
    "    \n",
    "    loss = lossFunction(output, networkOutput)\n",
    "    loss.backward()\n",
    "    optimizer.step()\n",
    "    optimizer.zero_grad()\n",
    "    \n",
    "    storeLoss[ii] = loss.item()\n",
    "    pred[ii] = output.detach().cpu().numpy()\n",
    "    \n",
    "print(np.mean(storeLoss[-100:]))\n",
    "fig,ax = plt.subplots(1,2,figsize=(7,3))\n",
    "ax[0].plot(range(numIterations), storeLoss, linewidth=0.5)\n",
    "ax[1].plot(range(numIterations), pred[:,0]-target[:,0])"
   ]
  },
  {
   "cell_type": "code",
   "execution_count": null,
   "id": "94e4ed9f-c61e-4e19-9235-6e2ec58a5b57",
   "metadata": {},
   "outputs": [],
   "source": [
    "# Example of options list for current game (requires game.initializeHand() and game.presentGameState() to be run)\n",
    "print(f\"Line available: {game.available}, dummy available: {game.dummyAvailable}\")\n",
    "print(f\"Penny-up: {game.cantPlay}, dummy playable: {game.dummyPlayable}\")\n",
    "print(f\"Hand-size: {game.handSize}, manualHandSize: {[len(agent.myHand) for agent in game.agents]}\")\n",
    "print(\"\")\n",
    "game.agents[game.nextPlayer].gameState(game.played, game.available, game.handSize, game.cantPlay, game.didntPlay, game.turnCounter, game.dummyAvailable, game.dummyPlayable)\n",
    "lineOptions, dummyOptions = game.agents[game.nextPlayer].playOptions()\n",
    "df.printDominoeList(lineOptions, game.agents[game.nextPlayer].dominoes, name='line')\n",
    "df.printDominoeList(dummyOptions, game.agents[game.nextPlayer].dominoes, name='dummy:')\n",
    "dominoe, location = game.agents[game.nextPlayer].selectPlay()\n",
    "if dominoe is not None:\n",
    "    print(f\"~{game.agents[game.nextPlayer].agentName}~ agent played dominoe: {dominoe}: {df.dominoesString(game.dominoes[dominoe])} on location: {location}.\")\n",
    "else:\n",
    "    print(f\"~{game.agents[game.nextPlayer].agentName}~ agent could not play!\")\n",
    "game.doTurn()"
   ]
  },
  {
   "cell_type": "code",
   "execution_count": null,
   "id": "80913481-af53-4d8a-92b8-7916242d3f39",
   "metadata": {},
   "outputs": [],
   "source": []
  },
  {
   "cell_type": "code",
   "execution_count": 206,
   "id": "c947dee2-46c9-44cb-9c78-70672a46614d",
   "metadata": {},
   "outputs": [
    {
     "name": "stdout",
     "output_type": "stream",
     "text": [
      "hello\n"
     ]
    }
   ],
   "source": [
    "print(\"hello\")"
   ]
  },
  {
   "cell_type": "code",
   "execution_count": null,
   "id": "045c0d34-f13e-4694-9890-40e6b5c54b5d",
   "metadata": {},
   "outputs": [],
   "source": []
  }
 ],
 "metadata": {
  "kernelspec": {
   "display_name": "Python 3 (ipykernel)",
   "language": "python",
   "name": "python3"
  },
  "language_info": {
   "codemirror_mode": {
    "name": "ipython",
    "version": 3
   },
   "file_extension": ".py",
   "mimetype": "text/x-python",
   "name": "python",
   "nbconvert_exporter": "python",
   "pygments_lexer": "ipython3",
   "version": "3.9.17"
  }
 },
 "nbformat": 4,
 "nbformat_minor": 5
}
