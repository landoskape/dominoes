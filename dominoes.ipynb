{
 "cells": [
  {
   "cell_type": "code",
   "execution_count": 15,
   "id": "6d4d84df-c50a-4eb1-88b3-3ba6b1ef7887",
   "metadata": {},
   "outputs": [],
   "source": [
    "# create simple system to operate a dominoes game\n",
    "\n",
    "# -- top level \"API\" for game --\n",
    "# inputs:\n",
    "# 1. number of players\n",
    "# 2. maximum number of dominoes\n",
    "# 3. rule for creating player agent, or preset list of agents\n",
    "# operation:\n",
    "# 1. distribute dominoes to each player randomly\n",
    "# 2. create turn list\n",
    "# 3. query players for their play (evaluate whether the play is valid and accept or reject it)\n",
    "# 4. identify winner, track score, initiate new round until 0/0 is finished\n",
    "\n",
    "# -- agent --\n",
    "# 1. one-hot of dominoes in hand\n",
    "# 2. one-hot of dominoes already played\n",
    "# 3. multi-length vector, one input for each other player, containing: 1) how many dominoes in their hand, 2) whether they have a penny up, 3) how many turns until they play\n",
    "# 4. number of turns until the agent plays\n",
    "# 5. one-hot of dominoes available to play on\n",
    "# 6. dominoe played on last turn? \n",
    "\n",
    "# -- simple agents --\n",
    "# 1. play random dominoe\n",
    "# 2. play highest dominoe\n",
    "# 3. play double-pair dominoe\n",
    "# 4. RL agent...\n",
    "\n",
    "# -- observation agents --\n",
    "# 1. I can train an independent RL model to predict the points at the end of each game from the current game state and run that independently. \n",
    "#    This would work by feeding in the full game state, then having the network predict the value on the next turn, and then learn from the last turn moving backwards (with uncertainty etc.)\n",
    "#    Then, I can teach this observer using games from crystallized agents, and update one agent to see how much better it performs than change. \n",
    "#    Additionally, this agent could maybe be integrated into the gameplay agents? \n",
    "# 2. Could train an RL model to predict what dominoes are in other agents hands based on what has been played, their line, and what is available..."
   ]
  },
  {
   "cell_type": "code",
   "execution_count": 1,
   "id": "d743f019-bcc5-4c13-8aef-98e737e0747e",
   "metadata": {},
   "outputs": [],
   "source": [
    "%reload_ext autoreload\n",
    "%autoreload 2\n",
    "\n",
    "import random\n",
    "import numpy as np\n",
    "import matplotlib.pyplot as plt\n",
    "import dominoesGameplay as dg\n",
    "import dominoesAgents as da\n",
    "import dominoesFunctions as df\n",
    "from tqdm import tqdm"
   ]
  },
  {
   "cell_type": "code",
   "execution_count": 104,
   "id": "104591a4-34bc-4664-86cb-6f926228b290",
   "metadata": {},
   "outputs": [],
   "source": [
    "numPlayers = 4\n",
    "highestDominoe = 9\n",
    "game = dg.dominoeGame(numPlayers, highestDominoe, agents=(da.doubleAgent, da.greedyAgent, None, None))\n",
    "game.initializeHand()\n",
    "game.doTurn()"
   ]
  },
  {
   "cell_type": "code",
   "execution_count": 131,
   "id": "06a8e42f-29d5-4a18-830b-550e311a48e0",
   "metadata": {},
   "outputs": [
    {
     "name": "stderr",
     "output_type": "stream",
     "text": [
      "100%|█████████████████████████████████████████████████████████████████████████████| 3000/3000 [00:14<00:00, 212.14it/s]"
     ]
    },
    {
     "name": "stdout",
     "output_type": "stream",
     "text": [
      "[880. 834. 616. 670.]\n"
     ]
    },
    {
     "name": "stderr",
     "output_type": "stream",
     "text": [
      "\n"
     ]
    }
   ],
   "source": [
    "numPlayers = 4\n",
    "highestDominoe = 9\n",
    "winnerCount = np.zeros(numPlayers)\n",
    "numGames = 3000\n",
    "for _ in tqdm(range(numGames)):\n",
    "    game = dg.dominoeGame(numPlayers, highestDominoe, agents=(da.doubleAgent, da.doubleAgent, da.stupidAgent, None))\n",
    "    game.playGame()\n",
    "    # game.printResults()\n",
    "    winnerCount[game.currentWinner]+=1\n",
    "print(winnerCount)"
   ]
  },
  {
   "cell_type": "code",
   "execution_count": 589,
   "id": "1cfca2fc-5bd1-463a-ade8-df46ce91c895",
   "metadata": {},
   "outputs": [
    {
     "name": "stdout",
     "output_type": "stream",
     "text": [
      "Game has already finished\n",
      "[[ 31  17  20   0]\n",
      " [ 98 155  98 128]\n",
      " [106 124 121 130]\n",
      " [127 139 108 109]\n",
      " [102 112 143 128]\n",
      " [123 103 147 114]\n",
      " [114 127 124 124]\n",
      " [130 123 110 128]\n",
      " [132 124 117 120]\n",
      " [137 125 136  97]]\n",
      "[1100 1149 1124 1078]\n",
      "The winner is agent: 3 with a score of 1078!\n"
     ]
    }
   ],
   "source": [
    "game.playHand()\n",
    "game.printResults()"
   ]
  },
  {
   "cell_type": "code",
   "execution_count": 595,
   "id": "14f99d28-e7a9-4b0a-bbea-42cb7cb2c60b",
   "metadata": {},
   "outputs": [
    {
     "data": {
      "text/plain": [
       "False"
      ]
     },
     "execution_count": 595,
     "metadata": {},
     "output_type": "execute_result"
    }
   ],
   "source": [
    "hasattr(None, 'name')"
   ]
  },
  {
   "cell_type": "code",
   "execution_count": null,
   "id": "35ed6b45-bad6-47c4-8ffd-4a748685a3b2",
   "metadata": {},
   "outputs": [],
   "source": []
  },
  {
   "cell_type": "code",
   "execution_count": null,
   "id": "370c60d6-23ba-405a-838b-9d7287e12ce1",
   "metadata": {},
   "outputs": [],
   "source": []
  },
  {
   "cell_type": "code",
   "execution_count": 493,
   "id": "13c7e794-913d-4462-9335-6c3bd2a7103a",
   "metadata": {},
   "outputs": [
    {
     "data": {
      "text/plain": [
       "[[48, 36, 28, 30, 47, 52, 32, 12, 1, 7, 46],\n",
       " [26, 20, 31, 16, 17, 53, 33, 27],\n",
       " [51, 49],\n",
       " [39, 38, 50, 37, 21, 23, 45]]"
      ]
     },
     "execution_count": 493,
     "metadata": {},
     "output_type": "execute_result"
    }
   ],
   "source": [
    "game.lineSequence"
   ]
  },
  {
   "cell_type": "code",
   "execution_count": 494,
   "id": "0ce13972-0844-4580-9940-5fe3ceb3701d",
   "metadata": {},
   "outputs": [
    {
     "data": {
      "text/plain": [
       "[[0, 0, 0, 0, 0, 2, 2, 2, 2, 3, 1],\n",
       " [1, 1, 1, 1, 1, 1, 2, 1],\n",
       " [2, 3],\n",
       " [3, 3, 3, 3, 0, 3, 3]]"
      ]
     },
     "execution_count": 494,
     "metadata": {},
     "output_type": "execute_result"
    }
   ],
   "source": [
    "game.linePlayer"
   ]
  },
  {
   "cell_type": "code",
   "execution_count": 495,
   "id": "0d1a9bfd-47e1-4b36-b334-a43ba7a570a1",
   "metadata": {},
   "outputs": [
    {
     "data": {
      "text/plain": [
       "[[1, 1, 1, 0, 0, 0, 1, 1, 1, 0, 1],\n",
       " [1, 0, 0, 1, 0, 0, 1, 0],\n",
       " [1, 0],\n",
       " [1, 0, 1, 1, 1, 0, 0]]"
      ]
     },
     "execution_count": 495,
     "metadata": {},
     "output_type": "execute_result"
    }
   ],
   "source": [
    "game.linePlayDirection"
   ]
  },
  {
   "cell_type": "code",
   "execution_count": 496,
   "id": "da288be4-2fa3-4ef6-955a-349998f21b99",
   "metadata": {},
   "outputs": [
    {
     "data": {
      "text/plain": [
       "[[1, 5, 10, 14, 19, 30, 31, 35, 39, 40, 42],\n",
       " [2, 6, 15, 24, 29, 38, 49, 52],\n",
       " [3, 45],\n",
       " [0, 4, 8, 17, 23, 36, 44]]"
      ]
     },
     "execution_count": 496,
     "metadata": {},
     "output_type": "execute_result"
    }
   ],
   "source": [
    "game.linePlayNumber"
   ]
  },
  {
   "cell_type": "code",
   "execution_count": 497,
   "id": "5d1879a5-8cff-419a-aa17-fc48a68fc51b",
   "metadata": {},
   "outputs": [
    {
     "data": {
      "text/plain": [
       "[7, 9, 11, 12, 13, 16, 18, 20, 21, 25, 26, 27, 32, 34, 37, 41]"
      ]
     },
     "execution_count": 497,
     "metadata": {},
     "output_type": "execute_result"
    }
   ],
   "source": [
    "game.dummyPlayNumber"
   ]
  },
  {
   "cell_type": "code",
   "execution_count": null,
   "id": "32e90e0c-49df-4744-9674-db3576c1b491",
   "metadata": {},
   "outputs": [],
   "source": []
  },
  {
   "cell_type": "code",
   "execution_count": 498,
   "id": "64e00033-0c00-40b2-b7fa-2bbfacd20fcc",
   "metadata": {},
   "outputs": [
    {
     "name": "stdout",
     "output_type": "stream",
     "text": [
      "[' 9|6 ', ' 6|4 ', ' 4|3 ', ' 3|6 ', ' 6|8 ', ' 8|8 ', ' 8|3 ', ' 3|1 ', ' 1|0 ', ' 0|7 ', ' 7|6 ']\n",
      "[' 9|2 ', ' 2|3 ', ' 3|7 ', ' 7|1 ', ' 1|8 ', ' 8|9 ', ' 9|3 ', ' 3|3 ']\n",
      "[' 9|7 ', ' 7|7 ']\n",
      "[' 9|4 ', ' 4|8 ', ' 8|7 ', ' 7|4 ', ' 4|2 ', ' 2|6 ', ' 6|6 ']\n"
     ]
    }
   ],
   "source": [
    "df.gameSequenceToString(game.dominoes, game.lineSequence, game.linePlayDirection, player=None, playNumber=None)"
   ]
  },
  {
   "cell_type": "code",
   "execution_count": null,
   "id": "9d95802d-1e4a-4ee1-9317-ad76b49bbf1e",
   "metadata": {},
   "outputs": [],
   "source": []
  },
  {
   "cell_type": "code",
   "execution_count": null,
   "id": "1e48a147-ff43-48d0-bf99-f8478de1d2bb",
   "metadata": {},
   "outputs": [],
   "source": []
  },
  {
   "cell_type": "code",
   "execution_count": null,
   "id": "90842e4f-da9a-4db1-ba2d-79dbe9ee6a35",
   "metadata": {},
   "outputs": [],
   "source": []
  },
  {
   "cell_type": "code",
   "execution_count": null,
   "id": "d55d06e5-c109-4313-9ad3-aebffbef7b43",
   "metadata": {},
   "outputs": [],
   "source": []
  },
  {
   "cell_type": "code",
   "execution_count": null,
   "id": "db5e1c23-13bb-43d2-96f4-d9b8d7cd91b9",
   "metadata": {},
   "outputs": [],
   "source": []
  },
  {
   "cell_type": "code",
   "execution_count": null,
   "id": "455d5185-14e4-4dfc-88ef-0d7b3525d099",
   "metadata": {},
   "outputs": [],
   "source": []
  },
  {
   "cell_type": "code",
   "execution_count": null,
   "id": "d33216c5-ea67-4dc0-b7bd-1d4f54f0a109",
   "metadata": {},
   "outputs": [],
   "source": []
  },
  {
   "cell_type": "code",
   "execution_count": null,
   "id": "a34394ca-afce-4130-86d8-518de762430d",
   "metadata": {},
   "outputs": [],
   "source": []
  },
  {
   "cell_type": "code",
   "execution_count": null,
   "id": "1cf91de7-6d74-4ea7-bd4c-5957126a02f9",
   "metadata": {},
   "outputs": [],
   "source": []
  },
  {
   "cell_type": "markdown",
   "id": "8ffb2790-9c12-4ed3-a650-a0163e9a3526",
   "metadata": {},
   "source": [
    "## Below this point I'm including some code blocks that make inspection of the gameplay and agent status easy... "
   ]
  },
  {
   "cell_type": "code",
   "execution_count": 449,
   "id": "1d0ae873-32f9-4a21-9724-741e666c36b7",
   "metadata": {},
   "outputs": [
    {
     "name": "stdout",
     "output_type": "stream",
     "text": [
      "line 0: []\n",
      "line 1: []\n",
      "line 2: []\n",
      "line 3: []\n",
      "dummy: []\n",
      "Dominoe: None, Location: None\n"
     ]
    }
   ],
   "source": [
    "# Example of options list for current game (requires game.initializeHand() and game.presentGameState() to be run)\n",
    "lineOptions, dummyOptions = game.agents[0].playOptions()\n",
    "df.printDominoeList(lineOptions, game.agents[0].dominoes, name='line')\n",
    "df.printDominoeList(dummyOptions, game.agents[0].dominoes, name='dummy:')\n",
    "dominoe, location = game.agents[0].selectPlay()\n",
    "print(f\"Dominoe: {dominoe}, Location: {location}\")"
   ]
  },
  {
   "cell_type": "code",
   "execution_count": null,
   "id": "81fa6014-2a23-40f7-9955-d7f4ee1dc486",
   "metadata": {},
   "outputs": [],
   "source": []
  },
  {
   "cell_type": "code",
   "execution_count": null,
   "id": "969bb5b6-46c8-4c45-acfd-d4dd83f1c3cd",
   "metadata": {},
   "outputs": [],
   "source": []
  },
  {
   "cell_type": "code",
   "execution_count": null,
   "id": "94e4ed9f-c61e-4e19-9235-6e2ec58a5b57",
   "metadata": {},
   "outputs": [],
   "source": []
  },
  {
   "cell_type": "code",
   "execution_count": null,
   "id": "80913481-af53-4d8a-92b8-7916242d3f39",
   "metadata": {},
   "outputs": [],
   "source": []
  }
 ],
 "metadata": {
  "kernelspec": {
   "display_name": "Python 3 (ipykernel)",
   "language": "python",
   "name": "python3"
  },
  "language_info": {
   "codemirror_mode": {
    "name": "ipython",
    "version": 3
   },
   "file_extension": ".py",
   "mimetype": "text/x-python",
   "name": "python",
   "nbconvert_exporter": "python",
   "pygments_lexer": "ipython3",
   "version": "3.9.13"
  }
 },
 "nbformat": 4,
 "nbformat_minor": 5
}
