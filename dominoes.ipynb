{
 "cells": [
  {
   "cell_type": "code",
   "execution_count": 1,
   "id": "d743f019-bcc5-4c13-8aef-98e737e0747e",
   "metadata": {
    "tags": []
   },
   "outputs": [
    {
     "name": "stdout",
     "output_type": "stream",
     "text": [
      "Using device: cuda\n"
     ]
    }
   ],
   "source": [
    "%reload_ext autoreload\n",
    "%autoreload 2\n",
    "\n",
    "# import os\n",
    "# os.environ['CUDA_LAUNCH_BLOCKING'] = \"1\"\n",
    "# os.environ['TORCH_USE_CUDA_DSA'] = \"1\"\n",
    "\n",
    "import time\n",
    "from copy import copy\n",
    "import random\n",
    "import numpy as np\n",
    "import torch\n",
    "from tqdm import tqdm\n",
    "import matplotlib.pyplot as plt\n",
    "import matplotlib as mpl\n",
    "from dominoes import leagueManager as lm\n",
    "from dominoes import gameplay as dg\n",
    "from dominoes import agents as da\n",
    "from dominoes import functions as df\n",
    "from dominoes import fileManagement as fm\n",
    "from dominoes import transformers\n",
    "from dominoes import datasets\n",
    "from dominoes import training\n",
    "from dominoes.analysis import transformer_analysis as ta\n",
    "\n",
    "device = \"cuda\" if torch.cuda.is_available() else \"cpu\"\n",
    "print(f\"Using device: {device}\")"
   ]
  },
  {
   "cell_type": "code",
   "execution_count": 4,
   "id": "48c901ba-4294-4ff4-8d74-ae540752816a",
   "metadata": {},
   "outputs": [],
   "source": [
    "# To-Do List\n",
    "# 0. Plot valueAgentELO results effectively and document it!\n",
    "# 1. Train a library of lineValueAgents on a server\n",
    "# 3. Build a policy-only agent!\n",
    "#    - It will learn with a network approximation of the value function in the same way the other ones do\n",
    "#    - But it'll process the hand and game state to generate a context embedding -----\n",
    "#    - Then use a pointer network to choose which option to play based on the option encoding and the context\n",
    "#    - The policy can then be updated with the temporal-difference of the value function, which will get more efficient over time\n",
    "\n",
    "# Experiments: \n",
    "# 1. Show that the order of the agents matter (i.e. going after a good agent makes it harder!)\n",
    "# 2. Compare lineValueNetwork trained on only it's turn vs. all turns vs. just it's turn and the next turn\n",
    "# 4. Compare value agents trained with hand-continuity of eligibility traces or resets...\n",
    "\n",
    "# Analysis Goals: \n",
    "# 1. look at Linear layer of cnnLayer, find out how similar it is across dominoes\n",
    "# 2. Same for first linear layer of ffLayer\n",
    "# 3. Initialize the game many times, look at correlation between average lineValueFeatures and final score output\n",
    "# 4. Analyze why the abrupt increases in loss happen during pointer demonstration\n",
    "#    - add the analysis of seqLength vs. loss and position-dependent error to analyze the spikes in the loss\n",
    "\n",
    "# restructure experiments so they save key data points and divide the data generation and the analysis \n",
    "# so I can run it in \"analysis\" mode where it just loads data from a prespecified filename...\n",
    "# ---- keeping the above here because I don't think it's done for all of them yet ------\n"
   ]
  },
  {
   "cell_type": "code",
   "execution_count": 266,
   "id": "d2e766be-47db-4828-a6da-9abeca5ac1ea",
   "metadata": {},
   "outputs": [],
   "source": [
    "# Immediate to-do\n",
    "# 1. Finish up transition to REINFORCE algorithm for pointer sequencing\n",
    "# 2. Then use a separate value network to force the encoding to learn how to predict the value of the pointer output.\n",
    "# 3. Switch it to generate an output based on a randomized turn schedule (e.g. possibly be cutoff from generating output and accruing value)\n",
    "#    - Predict this with a value function too. \n",
    "# 4. Divide pointer network into \"encoder\" and \"decoder\" blocks to reuse the encoder (and append value)\n",
    "# 5. Try new versions of pointer attention:\n",
    "#    - simple attention (not a transformer layer) then single (N -> 1) FF layer\n",
    "#    - dot product between decoder_context and encoded_representations then softmax over that\n",
    "# --\n",
    "# also\n",
    "# --\n",
    "# 1. Test simpler TD agents on a probability of winning based value, rather than score!\n",
    "\n",
    "\n",
    "# Good Coding Practice:\n",
    "# 1. Convert measure reward to class\n",
    "# 2. Make a class for all these methods going to the experiments (batch, pad, etc.)\n",
    "\n",
    "# Representations:\n",
    "# 1. Make clean and nicely stored system for representing outputs in hand sequencing"
   ]
  },
  {
   "cell_type": "code",
   "execution_count": 165,
   "id": "c586ede8-520b-48b2-ae03-6b2850459af7",
   "metadata": {},
   "outputs": [
    {
     "name": "stderr",
     "output_type": "stream",
     "text": [
      " 70%|██████████████████████████████████████████████████████████                         | 7/10 [00:21<00:09,  3.09s/it]\n"
     ]
    },
    {
     "ename": "KeyboardInterrupt",
     "evalue": "",
     "output_type": "error",
     "traceback": [
      "\u001b[1;31m---------------------------------------------------------------------------\u001b[0m",
      "\u001b[1;31mKeyboardInterrupt\u001b[0m                         Traceback (most recent call last)",
      "Cell \u001b[1;32mIn[165], line 19\u001b[0m\n\u001b[0;32m     17\u001b[0m trainScoreTally \u001b[38;5;241m=\u001b[39m np\u001b[38;5;241m.\u001b[39mzeros((trainGames,numPlayers))\n\u001b[0;32m     18\u001b[0m \u001b[38;5;28;01mfor\u001b[39;00m gameIdx \u001b[38;5;129;01min\u001b[39;00m tqdm(\u001b[38;5;28mrange\u001b[39m(trainGames)):\n\u001b[1;32m---> 19\u001b[0m     \u001b[43mgame\u001b[49m\u001b[38;5;241;43m.\u001b[39;49m\u001b[43mplayGame\u001b[49m\u001b[43m(\u001b[49m\u001b[43mrounds\u001b[49m\u001b[38;5;241;43m=\u001b[39;49m\u001b[43mtrainRounds\u001b[49m\u001b[43m)\u001b[49m\n\u001b[0;32m     20\u001b[0m     trainWinnerCount[game\u001b[38;5;241m.\u001b[39mcurrentWinner] \u001b[38;5;241m+\u001b[39m\u001b[38;5;241m=\u001b[39m \u001b[38;5;241m1\u001b[39m\n\u001b[0;32m     21\u001b[0m     trainHandWinnerCount[gameIdx] \u001b[38;5;241m+\u001b[39m\u001b[38;5;241m=\u001b[39m np\u001b[38;5;241m.\u001b[39msum(game\u001b[38;5;241m.\u001b[39mscore\u001b[38;5;241m==\u001b[39m\u001b[38;5;241m0\u001b[39m,axis\u001b[38;5;241m=\u001b[39m\u001b[38;5;241m0\u001b[39m)\n",
      "File \u001b[1;32m~\\Documents\\GitHub\\dominoes\\dominoes\\gameplay.py:89\u001b[0m, in \u001b[0;36mdominoeGame.playGame\u001b[1;34m(self, rounds, withUpdates)\u001b[0m\n\u001b[0;32m     87\u001b[0m     roundCounter \u001b[38;5;241m=\u001b[39m \u001b[38;5;28mrange\u001b[39m(rounds)\n\u001b[0;32m     88\u001b[0m \u001b[38;5;28;01mfor\u001b[39;00m idxRound \u001b[38;5;129;01min\u001b[39;00m roundCounter:\n\u001b[1;32m---> 89\u001b[0m     handScore \u001b[38;5;241m=\u001b[39m \u001b[38;5;28;43mself\u001b[39;49m\u001b[38;5;241;43m.\u001b[39;49m\u001b[43mplayHand\u001b[49m\u001b[43m(\u001b[49m\u001b[43mhandCounter\u001b[49m\u001b[38;5;241;43m=\u001b[39;49m\u001b[43midxRound\u001b[49m\u001b[43m)\u001b[49m\n\u001b[0;32m     90\u001b[0m     \u001b[38;5;28mself\u001b[39m\u001b[38;5;241m.\u001b[39mscore[idxRound] \u001b[38;5;241m=\u001b[39m handScore\n\u001b[0;32m     91\u001b[0m \u001b[38;5;28mself\u001b[39m\u001b[38;5;241m.\u001b[39mcurrentScore \u001b[38;5;241m=\u001b[39m np\u001b[38;5;241m.\u001b[39msum(\u001b[38;5;28mself\u001b[39m\u001b[38;5;241m.\u001b[39mscore,axis\u001b[38;5;241m=\u001b[39m\u001b[38;5;241m0\u001b[39m)\n",
      "File \u001b[1;32m~\\Documents\\GitHub\\dominoes\\dominoes\\gameplay.py:100\u001b[0m, in \u001b[0;36mdominoeGame.playHand\u001b[1;34m(self, handCounter)\u001b[0m\n\u001b[0;32m     98\u001b[0m \u001b[38;5;28mself\u001b[39m\u001b[38;5;241m.\u001b[39minitializeHand(handCounter\u001b[38;5;241m=\u001b[39mhandCounter)\n\u001b[0;32m     99\u001b[0m \u001b[38;5;28;01mwhile\u001b[39;00m \u001b[38;5;28mself\u001b[39m\u001b[38;5;241m.\u001b[39mhandActive:\n\u001b[1;32m--> 100\u001b[0m     \u001b[38;5;28;43mself\u001b[39;49m\u001b[38;5;241;43m.\u001b[39;49m\u001b[43mdoTurn\u001b[49m\u001b[43m(\u001b[49m\u001b[43m)\u001b[49m\n\u001b[0;32m    101\u001b[0m \u001b[38;5;28mself\u001b[39m\u001b[38;5;241m.\u001b[39mperformFinalScoreUpdates() \u001b[38;5;66;03m# once hand is over, do final score parameter updates for each agent\u001b[39;00m\n\u001b[0;32m    103\u001b[0m \u001b[38;5;28mself\u001b[39m\u001b[38;5;241m.\u001b[39mhandNumber \u001b[38;5;241m=\u001b[39m np\u001b[38;5;241m.\u001b[39mmod(\u001b[38;5;28mself\u001b[39m\u001b[38;5;241m.\u001b[39mhandNumber \u001b[38;5;241m-\u001b[39m \u001b[38;5;241m1\u001b[39m, \u001b[38;5;28mself\u001b[39m\u001b[38;5;241m.\u001b[39mhighestDominoe\u001b[38;5;241m+\u001b[39m\u001b[38;5;241m1\u001b[39m)\n",
      "File \u001b[1;32m~\\Documents\\GitHub\\dominoes\\dominoes\\gameplay.py:138\u001b[0m, in \u001b[0;36mdominoeGame.doTurn\u001b[1;34m(self)\u001b[0m\n\u001b[0;32m    135\u001b[0m \u001b[38;5;28;01mif\u001b[39;00m \u001b[38;5;28mself\u001b[39m\u001b[38;5;241m.\u001b[39mhandActive:\n\u001b[0;32m    136\u001b[0m     \u001b[38;5;66;03m# if hand is still active, do poststate value updates\u001b[39;00m\n\u001b[0;32m    137\u001b[0m     \u001b[38;5;28mself\u001b[39m\u001b[38;5;241m.\u001b[39mpresentGameState(currentPlayer, postState\u001b[38;5;241m=\u001b[39m\u001b[38;5;28;01mTrue\u001b[39;00m) \u001b[38;5;66;03m# present game state to every agent\u001b[39;00m\n\u001b[1;32m--> 138\u001b[0m     \u001b[38;5;28;43mself\u001b[39;49m\u001b[38;5;241;43m.\u001b[39;49m\u001b[43mperformPoststateValueUpdates\u001b[49m\u001b[43m(\u001b[49m\u001b[43mcurrentPlayer\u001b[49m\u001b[43m)\u001b[49m\n",
      "File \u001b[1;32m~\\Documents\\GitHub\\dominoes\\dominoes\\gameplay.py:312\u001b[0m, in \u001b[0;36mdominoeGame.performPoststateValueUpdates\u001b[1;34m(self, currentPlayer)\u001b[0m\n\u001b[0;32m    308\u001b[0m \u001b[38;5;28;01mdef\u001b[39;00m \u001b[38;5;21mperformPoststateValueUpdates\u001b[39m(\u001b[38;5;28mself\u001b[39m, currentPlayer):\n\u001b[0;32m    309\u001b[0m     \u001b[38;5;66;03m# tell agents to estimate poststate value and update parameters\u001b[39;00m\n\u001b[0;32m    310\u001b[0m     \u001b[38;5;66;03m# agents use currentPlayer to determine whether or not they should process or ignore the state\u001b[39;00m\n\u001b[0;32m    311\u001b[0m     \u001b[38;5;28;01mfor\u001b[39;00m agent \u001b[38;5;129;01min\u001b[39;00m \u001b[38;5;28mself\u001b[39m\u001b[38;5;241m.\u001b[39magents:\n\u001b[1;32m--> 312\u001b[0m         \u001b[43magent\u001b[49m\u001b[38;5;241;43m.\u001b[39;49m\u001b[43mupdatePoststateValue\u001b[49m\u001b[43m(\u001b[49m\u001b[43mfinalScore\u001b[49m\u001b[38;5;241;43m=\u001b[39;49m\u001b[38;5;28;43;01mNone\u001b[39;49;00m\u001b[43m,\u001b[49m\u001b[43m \u001b[49m\u001b[43mcurrentPlayer\u001b[49m\u001b[38;5;241;43m=\u001b[39;49m\u001b[43mcurrentPlayer\u001b[49m\u001b[43m)\u001b[49m\n",
      "File \u001b[1;32m~\\AppData\\Local\\miniforge3\\envs\\dominoes\\Lib\\site-packages\\torch\\utils\\_contextlib.py:115\u001b[0m, in \u001b[0;36mcontext_decorator.<locals>.decorate_context\u001b[1;34m(*args, **kwargs)\u001b[0m\n\u001b[0;32m    112\u001b[0m \u001b[38;5;129m@functools\u001b[39m\u001b[38;5;241m.\u001b[39mwraps(func)\n\u001b[0;32m    113\u001b[0m \u001b[38;5;28;01mdef\u001b[39;00m \u001b[38;5;21mdecorate_context\u001b[39m(\u001b[38;5;241m*\u001b[39margs, \u001b[38;5;241m*\u001b[39m\u001b[38;5;241m*\u001b[39mkwargs):\n\u001b[0;32m    114\u001b[0m     \u001b[38;5;28;01mwith\u001b[39;00m ctx_factory():\n\u001b[1;32m--> 115\u001b[0m         \u001b[38;5;28;01mreturn\u001b[39;00m \u001b[43mfunc\u001b[49m\u001b[43m(\u001b[49m\u001b[38;5;241;43m*\u001b[39;49m\u001b[43margs\u001b[49m\u001b[43m,\u001b[49m\u001b[43m \u001b[49m\u001b[38;5;241;43m*\u001b[39;49m\u001b[38;5;241;43m*\u001b[39;49m\u001b[43mkwargs\u001b[49m\u001b[43m)\u001b[49m\n",
      "File \u001b[1;32m~\\Documents\\GitHub\\dominoes\\dominoes\\agents\\tdAgents.py:164\u001b[0m, in \u001b[0;36mvalueAgent.updatePoststateValue\u001b[1;34m(self, finalScore, currentPlayer)\u001b[0m\n\u001b[0;32m    162\u001b[0m \u001b[38;5;28;01mfor\u001b[39;00m prmIdx,prms \u001b[38;5;129;01min\u001b[39;00m \u001b[38;5;28menumerate\u001b[39m(\u001b[38;5;28mself\u001b[39m\u001b[38;5;241m.\u001b[39mfinalScoreNetwork\u001b[38;5;241m.\u001b[39mparameters()):\n\u001b[0;32m    163\u001b[0m     \u001b[38;5;28;01massert\u001b[39;00m \u001b[38;5;28mself\u001b[39m\u001b[38;5;241m.\u001b[39mfinalScoreEligibility[idx][prmIdx]\u001b[38;5;241m.\u001b[39mshape \u001b[38;5;241m==\u001b[39m prms\u001b[38;5;241m.\u001b[39mshape, \u001b[38;5;124m\"\u001b[39m\u001b[38;5;124moops!\u001b[39m\u001b[38;5;124m\"\u001b[39m\n\u001b[1;32m--> 164\u001b[0m     prms \u001b[38;5;241m+\u001b[39m\u001b[38;5;241m=\u001b[39m \u001b[38;5;28mself\u001b[39m\u001b[38;5;241m.\u001b[39malpha \u001b[38;5;241m*\u001b[39m \u001b[38;5;28mself\u001b[39m\u001b[38;5;241m.\u001b[39mfinalScoreEligibility[idx][prmIdx] \u001b[38;5;241m*\u001b[39m td \u001b[38;5;66;03m# TD(lambda) update rule\u001b[39;00m\n\u001b[0;32m    165\u001b[0m \u001b[38;5;28;01mfor\u001b[39;00m prmIdx,prms \u001b[38;5;129;01min\u001b[39;00m \u001b[38;5;28menumerate\u001b[39m(\u001b[38;5;28mself\u001b[39m\u001b[38;5;241m.\u001b[39mextraParameters):\n\u001b[0;32m    166\u001b[0m     \u001b[38;5;28;01massert\u001b[39;00m \u001b[38;5;28mself\u001b[39m\u001b[38;5;241m.\u001b[39mextraEligibility[idx][prmIdx]\u001b[38;5;241m.\u001b[39mshape \u001b[38;5;241m==\u001b[39m prms\u001b[38;5;241m.\u001b[39mshape, \u001b[38;5;124m\"\u001b[39m\u001b[38;5;124moops!\u001b[39m\u001b[38;5;124m\"\u001b[39m\n",
      "\u001b[1;31mKeyboardInterrupt\u001b[0m: "
     ]
    }
   ],
   "source": [
    "# method for training agent\n",
    "numPlayers = 4\n",
    "highestDominoe = 9\n",
    "shuffleAgents = True\n",
    "trainGames = 10\n",
    "trainRounds = 10\n",
    "\n",
    "# open game with basic value agent playing against three default dominoe agents \n",
    "agents=(da.basicValueAgent, None, None, None)\n",
    "game = dg.dominoeGame(highestDominoe, numPlayers=numPlayers, shuffleAgents=shuffleAgents, agents=agents, defaultAgent=da.dominoeAgent, device=device)\n",
    "game.getAgent(0).setLearning(True)\n",
    "game.getAgent(0).setReplay(False)\n",
    "\n",
    "# run training rounds\n",
    "trainWinnerCount = np.zeros(numPlayers)\n",
    "trainHandWinnerCount = np.zeros((trainGames,numPlayers))\n",
    "trainScoreTally = np.zeros((trainGames,numPlayers))\n",
    "for gameIdx in tqdm(range(trainGames)):\n",
    "    game.playGame(rounds=trainRounds)\n",
    "    trainWinnerCount[game.currentWinner] += 1\n",
    "    trainHandWinnerCount[gameIdx] += np.sum(game.score==0,axis=0)\n",
    "    trainScoreTally[gameIdx] += game.currentScore\n",
    "\n",
    "results = {\n",
    "    'trainWinnerCount':trainWinnerCount, \n",
    "    'trainHandWinnerCount':trainHandWinnerCount,\n",
    "    'trainScoreTally':trainScoreTally,\n",
    "}\n",
    "\n",
    "# And plot results\n",
    "filter = lambda x : savgol_filter(x, 20, 1)\n",
    "trainRounds = args.train_rounds if args.train_rounds is not None else highestDominoe+1\n",
    "fig,ax = plt.subplots(1,2,figsize=(8,4))\n",
    "ax[0].plot(range(args.train_games), \n",
    "           filter(results['trainScoreTally'][:,0]/trainRounds), \n",
    "           c='b', label=args.value_agent)\n",
    "ax[0].plot(range(args.train_games), \n",
    "           filter(np.mean(results['trainScoreTally'][:,1:],axis=1)/trainRounds),\n",
    "           c='k', label=f\"{args.opponent}\")\n",
    "ax[0].set_ylim(0)\n",
    "ax[0].set_xlabel('Training Games')\n",
    "ax[0].set_ylabel('Training Score Per Hand')\n",
    "ax[0].legend(loc='best')\n",
    "\n",
    "ax[1].plot(range(args.train_games), \n",
    "           filter(results['trainHandWinnerCount'][:,0]), \n",
    "           c='b', label=args.value_agent)\n",
    "ax[1].plot(range(args.train_games), \n",
    "           filter(np.mean(results['trainHandWinnerCount'][:,1:],axis=1)), \n",
    "           c='k', label=f\"{args.opponent}\")\n",
    "ax[1].set_ylim(0)\n",
    "ax[1].set_xlabel('Training Games')\n",
    "ax[1].set_ylabel('Training Num Won Hands')\n",
    "ax[1].legend(loc='best')\n",
    "\n",
    "plt.show()"
   ]
  },
  {
   "cell_type": "code",
   "execution_count": null,
   "id": "27eddee9-9614-45b2-aff5-73337ef80155",
   "metadata": {},
   "outputs": [],
   "source": []
  },
  {
   "cell_type": "code",
   "execution_count": null,
   "id": "090fdf6f-9f2b-4995-bec5-ad7940270e64",
   "metadata": {},
   "outputs": [],
   "source": []
  },
  {
   "cell_type": "code",
   "execution_count": null,
   "id": "be7d60ba-67bd-433e-97b1-356e0154e258",
   "metadata": {},
   "outputs": [],
   "source": []
  },
  {
   "cell_type": "code",
   "execution_count": null,
   "id": "372e7f90-6ba8-4ccc-9897-294aec8c46eb",
   "metadata": {},
   "outputs": [],
   "source": []
  },
  {
   "cell_type": "code",
   "execution_count": 1,
   "id": "ba19df7f-6041-45be-bd05-c84838a6e6c6",
   "metadata": {},
   "outputs": [],
   "source": [
    "# order of operations:\n",
    "# 4. write documentation file explaining the experiment\n",
    "# 5. develop these analyses, focus on pointer layer because that's where the new architectures are|"
   ]
  },
  {
   "cell_type": "code",
   "execution_count": 23,
   "id": "a41e8631-16b8-450c-b8ca-10419337b67d",
   "metadata": {},
   "outputs": [],
   "source": [
    "from pathlib import Path\n",
    "pointer_methods = ['PointerStandard', 'PointerDot']\n",
    "\n",
    "resPath = Path('experiments') / 'savedResults'\n",
    "savePath = Path('.') / 'experiments' / 'savedNetworks'\n",
    "results = np.load(resPath / 'pointerArchitectureComparison.npy', allow_pickle=True).item()\n",
    "nets = []\n",
    "for pointer_method in pointer_methods:\n",
    "    name = f\"pointerArchitectureComparison_{pointer_method}.pt\"\n",
    "    nets.append(torch.load(savePath / name))\n",
    "nets = [net.to(device) for net in nets]"
   ]
  },
  {
   "cell_type": "code",
   "execution_count": 24,
   "id": "aed8b2d9-26e9-483b-a442-cb0039f4af03",
   "metadata": {},
   "outputs": [],
   "source": [
    "outs = ta.processData(nets, 2048)\n",
    "embedded, encoded, intermediate, decoder_context, decoder_input, scores, choices = outs"
   ]
  },
  {
   "cell_type": "code",
   "execution_count": null,
   "id": "5cb8f268-2ff0-4b4a-b23e-18b394bdd016",
   "metadata": {},
   "outputs": [],
   "source": []
  },
  {
   "cell_type": "code",
   "execution_count": null,
   "id": "2a55b4d6-2796-4380-84fd-5b064506f453",
   "metadata": {},
   "outputs": [],
   "source": []
  },
  {
   "cell_type": "code",
   "execution_count": null,
   "id": "e8e15805-10e5-40b1-b030-db86ea63aa07",
   "metadata": {},
   "outputs": [],
   "source": []
  },
  {
   "cell_type": "code",
   "execution_count": 72,
   "id": "bec93465-ccfb-49b2-b65c-71cfb497c20b",
   "metadata": {},
   "outputs": [],
   "source": [
    "# make dominoe x embedding array to figure out sort index for units\n",
    "emb_dim = ptr_encoded.size(2)\n",
    "scatter_index = torch.tensor(selection, dtype=torch.long).view(-1,1)\n",
    "dom_rep_encoded = torch.zeros((numDominoes, emb_dim), dtype=torch.float)\n",
    "dom_rep_counts = torch.zeros((numDominoes, 1), dtype=torch.long)\n",
    "dom_rep_encoded.scatter_add_(0, scatter_index.expand(-1, emb_dim), ptr_encoded.view(-1, emb_dim))\n",
    "dom_rep_counts.scatter_add_(0, scatter_index, torch.ones_like(scatter_index, dtype=torch.long))\n",
    "dom_rep_encoded /= dom_rep_counts # average encoding of each dominoe"
   ]
  },
  {
   "cell_type": "code",
   "execution_count": 83,
   "id": "1294b267-df13-4129-8f54-3079122d45ca",
   "metadata": {},
   "outputs": [],
   "source": [
    "# sort encoding and decodings\n",
    "proj_value = torch.tensor(dominoeValue, dtype=torch.float) @ dom_rep_encoded\n",
    "idx_dom_sort = np.argsort(dominoeValue)\n",
    "idx_enc_sort = torch.argsort(-proj_value)\n",
    "\n",
    "evals, evecs = torch.linalg.eigh(torch.cov(dom_rep_encoded.T))\n",
    "idx_evals = torch.argsort(-evals)\n",
    "evals = evals[idx_evals]\n",
    "evecs = evecs[:, idx_evals]\n",
    "idx_pca = torch.argsort(evecs[:,0])"
   ]
  },
  {
   "cell_type": "code",
   "execution_count": 74,
   "id": "5d451076-e9f7-4232-b35a-3b4039fa0360",
   "metadata": {},
   "outputs": [
    {
     "name": "stdout",
     "output_type": "stream",
     "text": [
      "(48, 1)\n"
     ]
    },
    {
     "data": {
      "image/png": "[encoded data removed]",
      "text/plain": [
       "<Figure size 1200x300 with 4 Axes>"
      ]
     },
     "metadata": {},
     "output_type": "display_data"
    }
   ],
   "source": [
    "# pick batch index and show data\n",
    "bidx = 2\n",
    "batch_dominoes = listDominoes[selection[bidx]]\n",
    "batch_value = np.sum(batch_dominoes, axis=1)\n",
    "\n",
    "combined = ptr_encoded[bidx] + ptr_decoded[bidx][:,0]\n",
    "ctrans = np.tanh(combined.T[idx_enc_sort][:,choices[bidx]].detach().numpy())\n",
    "vtrans = nets[0].pointer.pointer.vt.weight.detach().cpu().numpy()[0, idx_enc_sort].reshape(-1,1)\n",
    "print(vtrans.shape)\n",
    "\n",
    "plt.close('all')\n",
    "fig, ax = plt.subplots(1,4,figsize=(12,3))\n",
    "ax[0].imshow(ptr_encoded[bidx].T[idx_enc_sort][:,choices[bidx]].detach().numpy(), aspect='auto')\n",
    "ax[1].imshow(ptr_decoded[bidx][idx_enc_sort].detach().numpy(), aspect='auto')\n",
    "ax[2].imshow(np.hstack((vtrans, ctrans)), aspect='auto')\n",
    "ax[3].plot(range(len(batch_value)), batch_value[choices[bidx]], color='k', label='dominoe value')\n",
    "plt.show()"
   ]
  },
  {
   "cell_type": "code",
   "execution_count": 84,
   "id": "31ebfd2f-351f-4987-926c-baf81e129a48",
   "metadata": {},
   "outputs": [
    {
     "name": "stdout",
     "output_type": "stream",
     "text": [
      "torch.Size([512, 8, 48])\n",
      "torch.Size([512, 8])\n",
      "torch.Size([512, 48, 8])\n"
     ]
    },
    {
     "data": {
      "image/png": "[encoded data removed]",
      "text/plain": [
       "<Figure size 900x300 with 3 Axes>"
      ]
     },
     "metadata": {},
     "output_type": "display_data"
    }
   ],
   "source": [
    "print(ptr_encoded.shape)\n",
    "print(choices.shape)\n",
    "print(ptr_decoded.shape)\n",
    "\n",
    "srt_ptr_encoded = torch.gather(ptr_encoded, 1, choices.unsqueeze(2).expand(-1,-1,ptr_encoded.size(2)))\n",
    "\n",
    "plt.close('all')\n",
    "fig, ax = plt.subplots(1,3,figsize=(9,3))\n",
    "ax[0].imshow(torch.mean(srt_ptr_encoded, axis=0).T[idx_pca].detach().numpy(), aspect='auto')\n",
    "ax[1].imshow(torch.mean(ptr_decoded, axis=0)[idx_pca].detach().numpy(), aspect='auto')\n",
    "ax[2].plot(range(ptr_encoded.size(2)), -torch.sort(-torch.var(ptr_encoded, dim=(0,1)))[0].detach().numpy())\n",
    "plt.show()\n"
   ]
  },
  {
   "cell_type": "code",
   "execution_count": 73,
   "id": "c8e75659-f507-4a08-9365-75c3d88174be",
   "metadata": {},
   "outputs": [],
   "source": [
    "# the above is the right idea. need to write good code to:\n",
    "# -- take a full batch of data (ensuring that each dominoe is represented) and sort activations \n",
    "#             - using rastermap, PCA, basic sort projection method\n",
    "# -- show the encoding of different batches with the decoder dot representation\n",
    "# -- show the decoder update rules (study the decoder transformer) NOTE THAT THIS IS COMPLICATED!!!\n",
    "# -- show how encoding of the same dominoe changes depending on what other dominoes are present"
   ]
  },
  {
   "cell_type": "code",
   "execution_count": null,
   "id": "00c81977-01a9-46b7-b8a0-b43872537fb2",
   "metadata": {},
   "outputs": [],
   "source": [
    "# and need to update interpretability code (immediatley above and in analysis module) to include breakdown of all the pointer_method layers"
   ]
  },
  {
   "cell_type": "code",
   "execution_count": 29,
   "id": "28a133f3-b256-4f51-b005-dd79cb89e71a",
   "metadata": {},
   "outputs": [],
   "source": [
    "# experiment: \n",
    "# after training, switch the encoders between the pointerDot and pointerStandard and just train the decoder to see if the pointer layer improves\n",
    "# performance by it's effect on the encoding layer during the training phase..."
   ]
  },
  {
   "cell_type": "code",
   "execution_count": 118,
   "id": "76058942-8390-4f83-945f-8f5fc637b5b3",
   "metadata": {},
   "outputs": [],
   "source": [
    "# first add a plot showing the average encoding and decoding across the different positions\n",
    "# use above ideas and change the eigenspectrum plots to variance plots for each individual dimension"
   ]
  },
  {
   "cell_type": "code",
   "execution_count": 100,
   "id": "69f0c926-e24b-4882-a843-168e91ee452a",
   "metadata": {},
   "outputs": [],
   "source": [
    "# I also need to compare the performance with the GRU and LSTM!"
   ]
  },
  {
   "cell_type": "code",
   "execution_count": null,
   "id": "6ef59b1a-16ab-423f-a73b-8897015bb337",
   "metadata": {},
   "outputs": [],
   "source": []
  },
  {
   "cell_type": "code",
   "execution_count": null,
   "id": "59f91b20-4053-4b8e-8c29-cf6a83b74817",
   "metadata": {},
   "outputs": [],
   "source": []
  },
  {
   "cell_type": "code",
   "execution_count": null,
   "id": "ca1fbf68-6ad8-4af5-afa2-c6306aed40d3",
   "metadata": {},
   "outputs": [],
   "source": []
  },
  {
   "cell_type": "code",
   "execution_count": null,
   "id": "b940550c-ffcc-465f-baba-bba8f45139b3",
   "metadata": {},
   "outputs": [],
   "source": []
  },
  {
   "cell_type": "code",
   "execution_count": 63,
   "id": "47e35543-4db2-49f0-96fc-d36859b5ffc9",
   "metadata": {},
   "outputs": [
    {
     "name": "stdout",
     "output_type": "stream",
     "text": [
      "Training network...\n"
     ]
    },
    {
     "name": "stderr",
     "output_type": "stream",
     "text": [
      "100%|████████████████████████████████████████████████████████████████████████████████| 100/100 [00:10<00:00,  9.68it/s]\n"
     ]
    },
    {
     "name": "stdout",
     "output_type": "stream",
     "text": [
      "Testing network...\n"
     ]
    },
    {
     "name": "stderr",
     "output_type": "stream",
     "text": [
      "100%|████████████████████████████████████████████████████████████████████████████████████| 1/1 [00:00<00:00, 13.18it/s]\n"
     ]
    },
    {
     "data": {
      "image/png": "[encoded data removed]",
      "text/plain": [
       "<Figure size 800x300 with 2 Axes>"
      ]
     },
     "metadata": {},
     "output_type": "display_data"
    }
   ],
   "source": [
    "# test sequencer code\n",
    "def get_gamma_transform(gamma, N, B):\n",
    "    exponent = torch.arange(N).view(-1,1) - torch.arange(N).view(1,-1)\n",
    "    gamma_transform = (gamma ** exponent * (exponent >= 0)).unsqueeze(0).expand(B, -1, -1)\n",
    "    return gamma_transform\n",
    "    \n",
    "# get values from the argument parser\n",
    "highestDominoe = 9\n",
    "listDominoes = df.listDominoes(highestDominoe)\n",
    "\n",
    "handSize = 10\n",
    "batchSize = 512\n",
    "null_token=False\n",
    "available_token=True\n",
    "num_output = 1 #copy(handSize)\n",
    "ignore_index = -1\n",
    "\n",
    "input_dim = (2 if not(available_token) else 3)*(highestDominoe+1) + (1 if null_token else 0)\n",
    "embedding_dim = 96\n",
    "heads = 8\n",
    "expansion = 2\n",
    "encoding_layers = 2\n",
    "greedy = True\n",
    "temperature = 15.0\n",
    "contextual_encoder = True # use available token as a context\n",
    "\n",
    "gamma = 1.0\n",
    "gamma_transform = get_gamma_transform(gamma, num_output, batchSize).to(device)\n",
    "    \n",
    "trainEpochs = 100\n",
    "testEpochs = 1\n",
    "\n",
    "alpha = 1e-3\n",
    "weight_decay = 1e-5\n",
    "\n",
    "# Create a pointer network\n",
    "net = transformers.PointerNetwork(input_dim, embedding_dim, encoding_layers=encoding_layers, heads=heads, expansion=expansion, \n",
    "                                  kqnorm=True, contextual_encoder=contextual_encoder, decoder_method='transformer', \n",
    "                                  greedy=greedy, temperature=temperature, pointer_method='PointerStandard', thompson=True)\n",
    "net = net.to(device)\n",
    "\n",
    "# Create an optimizer, Adam with weight decay is pretty good\n",
    "optimizer = torch.optim.Adam(net.parameters(), lr=alpha, weight_decay=weight_decay)\n",
    "\n",
    "# Train network\n",
    "print(\"Training network...\")\n",
    "trainReward = torch.zeros(trainEpochs)\n",
    "testReward = torch.zeros(testEpochs)\n",
    "for epoch in tqdm(range(trainEpochs)):\n",
    "    # zero gradients\n",
    "    optimizer.zero_grad()\n",
    "\n",
    "    # generate input batch\n",
    "    batch = datasets.generateBatch(highestDominoe, listDominoes, batchSize, handSize, return_target=False, null_token=null_token,\n",
    "                                   available_token=available_token, ignore_index=ignore_index, return_full=True)\n",
    "\n",
    "    # unpack batch tuple\n",
    "    input, _, _, _, _, selection, available = batch\n",
    "\n",
    "    # move to correct device\n",
    "    input = input.to(device)\n",
    "    \n",
    "    # divide input into main input and context\n",
    "    x, context = input[:, :-1], input[:, [-1]]\n",
    "    input = (x, context)\n",
    "    \n",
    "    # propagate it through the network\n",
    "    out_scores, out_choices = net(input, max_output=num_output)\n",
    "    \n",
    "    # measure rewards for each sequence\n",
    "    rewards = training.measureReward_sequencer(available, listDominoes[selection], out_choices, value_method='3', normalize=False)\n",
    "    G = torch.bmm(rewards.unsqueeze(1), gamma_transform).squeeze(1)\n",
    "    logprob_policy = torch.gather(out_scores, 2, out_choices.unsqueeze(2)).squeeze(2) # log-probability for each chosen dominoe\n",
    "    \n",
    "    # do backward pass on J\n",
    "    J = -torch.sum(logprob_policy * G)\n",
    "    J.backward()\n",
    "\n",
    "    # update network\n",
    "    optimizer.step()\n",
    "\n",
    "    trainReward[epoch] = torch.mean(torch.sum(rewards, dim=1))\n",
    "\n",
    "# Test network - same thing as in testing but without updates to model\n",
    "with torch.no_grad():\n",
    "    print(\"Testing network...\")\n",
    "    net.setTemperature(1.0)\n",
    "    net.setThompson(False)\n",
    "    for epoch in tqdm(range(testEpochs)):\n",
    "        # generate input batch\n",
    "        batch = datasets.generateBatch(highestDominoe, listDominoes, batchSize, handSize, return_target=False,\n",
    "                                       null_token=null_token, available_token=available_token, ignore_index=ignore_index, return_full=True)\n",
    "\n",
    "        # unpack batch tuple\n",
    "        input, _, _, _, _, selection, available = batch\n",
    "\n",
    "        # move to correct device\n",
    "        input = input.to(device)\n",
    "        \n",
    "        # divide input into main input and context\n",
    "        x, context = input[:, :-1], input[:, [-1]]\n",
    "        input = (x, context)\n",
    "        \n",
    "        # propagate it through the network\n",
    "        out_scores, out_choices = net(input, max_output=num_output)\n",
    "        \n",
    "        # measure rewards for each sequence\n",
    "        rewards = training.measureReward_sequencer(available, listDominoes[selection], out_choices, value_method='dominoe', normalize=False)\n",
    "        \n",
    "        testReward[epoch] = torch.mean(torch.sum(rewards, dim=1))\n",
    "\n",
    "\n",
    "plt.close('all')\n",
    "fig, ax = plt.subplots(1,2,figsize=(8,3))\n",
    "ax[0].plot(range(trainEpochs), trainReward.detach().cpu().numpy())\n",
    "ax[1].plot(range(testEpochs), testReward.detach().cpu().numpy())\n",
    "plt.show()"
   ]
  },
  {
   "cell_type": "code",
   "execution_count": 64,
   "id": "919df8bb-2db7-49fc-b740-578146182059",
   "metadata": {},
   "outputs": [
    {
     "data": {
      "text/plain": [
       "tensor([-22.7722, -22.3055, -22.2269, -22.2100, -22.3130, -20.9817, -20.8811,\n",
       "        -21.5324, -20.9739, -22.0221], device='cuda:0')"
      ]
     },
     "execution_count": 64,
     "metadata": {},
     "output_type": "execute_result"
    }
   ],
   "source": [
    "torch.mean(out_scores.squeeze(1), dim=0)"
   ]
  },
  {
   "cell_type": "code",
   "execution_count": null,
   "id": "d055259c-d643-4be2-aaee-c768c75e3e56",
   "metadata": {},
   "outputs": [],
   "source": []
  },
  {
   "cell_type": "code",
   "execution_count": null,
   "id": "ab299726-8d74-4c3d-80fc-fe1f23b71121",
   "metadata": {},
   "outputs": [],
   "source": []
  },
  {
   "cell_type": "code",
   "execution_count": 133,
   "id": "ec629c8c-8757-4e44-beac-377f8535214a",
   "metadata": {},
   "outputs": [],
   "source": [
    "# Update all pointerArchitectureComparison files to do multiple runs (usually 5...)\n",
    "# Check RL implementation of the TSP problem\n",
    "input, target, xy, dists = datasets.tsp_batch(10, 5, return_full=True)\n",
    "choices = torch.randint(0,5,(10,5))"
   ]
  },
  {
   "cell_type": "code",
   "execution_count": 134,
   "id": "25483f7d-d29f-4d54-bd1b-5309c98dca40",
   "metadata": {},
   "outputs": [],
   "source": [
    "new_city, distance = training.measureReward_tsp(dists, choices)"
   ]
  },
  {
   "cell_type": "code",
   "execution_count": 128,
   "id": "c719cd76-08f2-415f-83c8-8ce03c7ee627",
   "metadata": {},
   "outputs": [
    {
     "name": "stdout",
     "output_type": "stream",
     "text": [
      "Distance:\n",
      " tensor([[0.0000, 0.7632, 0.6978, 0.4117, 0.3546],\n",
      "        [0.7632, 0.0000, 0.7558, 0.4460, 0.8187],\n",
      "        [0.6978, 0.7558, 0.0000, 0.8130, 1.0162],\n",
      "        [0.4117, 0.4460, 0.8130, 0.0000, 0.3728],\n",
      "        [0.3546, 0.8187, 1.0162, 0.3728, 0.0000]], dtype=torch.float64)\n",
      "Choices:\n",
      " tensor([2, 2, 4, 4, 2])\n",
      "New City:\n",
      " tensor([ 1., -1.,  1., -1., -1.])\n",
      "Distance Step:\n",
      " tensor([0.0000, 0.0000, 1.0162, 0.0000, 1.0162])\n",
      "Check Dist:\n",
      " tensor([0.0000, 0.0000, 1.0162, 0.0000, 1.0162])\n"
     ]
    }
   ],
   "source": [
    "ii = 1\n",
    "print(\"Distance:\\n\", dists[ii])\n",
    "print(\"Choices:\\n\", choices[ii])\n",
    "print(\"New City:\\n\", new_city[ii])\n",
    "print(\"Distance Step:\\n\", distance[ii])\n",
    "\n",
    "check_distance = torch.zeros(5)\n",
    "for i in range(1, 5):\n",
    "    check_distance[i] = dists[ii][choices[ii][i], choices[ii][i-1]]\n",
    "print(\"Check Dist:\\n\", check_distance)"
   ]
  },
  {
   "cell_type": "code",
   "execution_count": null,
   "id": "40521aad-f043-46a8-8563-c60be109dfe3",
   "metadata": {},
   "outputs": [],
   "source": []
  },
  {
   "cell_type": "code",
   "execution_count": null,
   "id": "f4b2de20-4d27-4014-9b84-f3533d815d12",
   "metadata": {},
   "outputs": [],
   "source": []
  },
  {
   "cell_type": "code",
   "execution_count": 161,
   "id": "ae613de0-7863-4a25-b31e-e5ff50c91c60",
   "metadata": {},
   "outputs": [],
   "source": [
    "# can edit this for each machine it's being used on\n",
    "resPath = Path('.') / 'experiments' / 'savedResults'\n",
    "        \n",
    "# method for returning the name of the saved network parameters (different save for each possible opponent)\n",
    "def getFileName(extra=None):\n",
    "    baseName = \"ptrArchComp_TSP_RL\"\n",
    "    if extra is not None:\n",
    "        baseName = baseName + f\"_{extra}\"\n",
    "    return baseName\n",
    "    \n",
    "results = np.load(resPath / (getFileName()+'.npy'), allow_pickle=True).item()"
   ]
  },
  {
   "cell_type": "code",
   "execution_count": 156,
   "id": "776be93d-e2dc-4c2b-9254-f6d6af7b0f8b",
   "metadata": {},
   "outputs": [
    {
     "name": "stdout",
     "output_type": "stream",
     "text": [
      "trainTourLength\n",
      "testTourLength\n",
      "trainTourComplete\n",
      "testTourComplete\n",
      "trainTourValidLength\n",
      "testTourValidLength\n",
      "trainRewardByPosition\n",
      "testRewardByPosition\n",
      "trainScoreByPosition\n",
      "testScoreByPosition\n"
     ]
    }
   ],
   "source": [
    "for k in results.keys(): print(k)"
   ]
  },
  {
   "cell_type": "code",
   "execution_count": 157,
   "id": "8b0df648-adfd-42f5-bd3d-e7c1552afc59",
   "metadata": {},
   "outputs": [
    {
     "data": {
      "text/plain": [
       "torch.Size([8000, 6, 5])"
      ]
     },
     "execution_count": 157,
     "metadata": {},
     "output_type": "execute_result"
    }
   ],
   "source": [
    "results['trainTourComplete'].shape"
   ]
  },
  {
   "cell_type": "code",
   "execution_count": 159,
   "id": "32e444fb-45ae-4a5a-a0d2-2e625bb6d7b2",
   "metadata": {},
   "outputs": [
    {
     "ename": "TypeError",
     "evalue": "~ (operator.invert) is only implemented on integer and Boolean-type tensors",
     "output_type": "error",
     "traceback": [
      "\u001b[1;31m---------------------------------------------------------------------------\u001b[0m",
      "\u001b[1;31mTypeError\u001b[0m                                 Traceback (most recent call last)",
      "Cell \u001b[1;32mIn[159], line 1\u001b[0m\n\u001b[1;32m----> 1\u001b[0m torch\u001b[38;5;241m.\u001b[39many(\u001b[38;5;241;43m~\u001b[39;49m\u001b[43mresults\u001b[49m\u001b[43m[\u001b[49m\u001b[38;5;124;43m'\u001b[39;49m\u001b[38;5;124;43mtrainTourComplete\u001b[39;49m\u001b[38;5;124;43m'\u001b[39;49m\u001b[43m]\u001b[49m)\n",
      "\u001b[1;31mTypeError\u001b[0m: ~ (operator.invert) is only implemented on integer and Boolean-type tensors"
     ]
    }
   ],
   "source": [
    "torch.any(~results['trainTourComplete'])"
   ]
  },
  {
   "cell_type": "code",
   "execution_count": 162,
   "id": "d448848b-9ed3-48b7-abb7-a57854b6f8c4",
   "metadata": {},
   "outputs": [
    {
     "data": {
      "text/plain": [
       "tensor([1.])"
      ]
     },
     "execution_count": 162,
     "metadata": {},
     "output_type": "execute_result"
    }
   ],
   "source": [
    "torch.unique(results['trainTourComplete'])"
   ]
  },
  {
   "cell_type": "code",
   "execution_count": null,
   "id": "f851ed7a-1915-4d8b-8c2b-02209b5a2be7",
   "metadata": {},
   "outputs": [],
   "source": []
  }
 ],
 "metadata": {
  "kernelspec": {
   "display_name": "Python 3 (ipykernel)",
   "language": "python",
   "name": "python3"
  },
  "language_info": {
   "codemirror_mode": {
    "name": "ipython",
    "version": 3
   },
   "file_extension": ".py",
   "mimetype": "text/x-python",
   "name": "python",
   "nbconvert_exporter": "python",
   "pygments_lexer": "ipython3",
   "version": "3.11.6"
  }
 },
 "nbformat": 4,
 "nbformat_minor": 5
}
