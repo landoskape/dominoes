{
 "cells": [
  {
   "cell_type": "code",
   "execution_count": 271,
   "id": "6d4d84df-c50a-4eb1-88b3-3ba6b1ef7887",
   "metadata": {},
   "outputs": [],
   "source": [
    "# some ideas just for curiosity:\n",
    "# - could train an RL model to predict what dominoes are in other agents hands based on what has been played, their line, and what is available...\n",
    "# - for hand-crafted networks, I wonder if graph theory methods can speed up the line-value estimation methods..."
   ]
  },
  {
   "cell_type": "code",
   "execution_count": 1,
   "id": "d743f019-bcc5-4c13-8aef-98e737e0747e",
   "metadata": {
    "tags": []
   },
   "outputs": [
    {
     "name": "stdout",
     "output_type": "stream",
     "text": [
      "Using device: cuda\n"
     ]
    }
   ],
   "source": [
    "%reload_ext autoreload\n",
    "%autoreload 2\n",
    "    \n",
    "import time\n",
    "from copy import copy\n",
    "import random\n",
    "import numpy as np\n",
    "import torch\n",
    "from tqdm import tqdm\n",
    "import matplotlib.pyplot as plt\n",
    "import matplotlib as mpl\n",
    "from dominoes import leagueManager as lm\n",
    "from dominoes import gameplay as dg\n",
    "from dominoes import agents as da\n",
    "from dominoes import functions as df\n",
    "from dominoes import fileManagement as fm\n",
    "\n",
    "device = \"cuda\" if torch.cuda.is_available() else \"cpu\"\n",
    "print(f\"Using device: {device}\")"
   ]
  },
  {
   "cell_type": "code",
   "execution_count": 5,
   "id": "48c901ba-4294-4ff4-8d74-ae540752816a",
   "metadata": {},
   "outputs": [],
   "source": [
    "# To-Do List\n",
    "# 0. Plot valueAgentELO results effectively and document it!\n",
    "# 1. Train a library of lineValueAgents on a server\n",
    "# 2. Develop pointer network code (this is a big to-do list...)\n",
    "\n",
    "# Experiments: \n",
    "# 1. Show that the order of the agents matter (i.e. going after a good agent makes it harder!)\n",
    "# 2. Compare lineValueNetwork trained on only it's turn vs. all turns vs. just it's turn and the next turn\n",
    "# 4. Compare value agents trained with hand-continuity of eligibility traces or resets...\n",
    "\n",
    "# Analysis Goals: \n",
    "# 1. look at Linear layer of cnnLayer, find out how similar it is across dominoes\n",
    "# 2. Same for first linear layer of ffLayer\n",
    "# 3. Initialize the game many times, look at correlation between average lineValueFeatures and final score output\n",
    "\n",
    "# restructure experiments so they save key data points and divide the data generation and the analysis \n",
    "# so I can run it in \"analysis\" mode where it just loads data from a prespecified filename...\n",
    "# ---- keeping the above here because I don't think it's done for all of them yet ------"
   ]
  },
  {
   "cell_type": "code",
   "execution_count": null,
   "id": "67413da1-dfe9-4cb1-8bc6-6cb0567fe53c",
   "metadata": {},
   "outputs": [],
   "source": []
  },
  {
   "cell_type": "code",
   "execution_count": null,
   "id": "52d77e10-ded6-420d-b1ce-95fa3977915d",
   "metadata": {},
   "outputs": [],
   "source": []
  },
  {
   "cell_type": "code",
   "execution_count": 151,
   "id": "8cc2cba7-0eb9-4219-8e37-405fad0407ea",
   "metadata": {},
   "outputs": [],
   "source": [
    "# TO DO:\n",
    "# - make transformer layer, replace the attention layer in the pointer network\n",
    "# - convert this little toy problem into an \"experiment\"\n",
    "# - then maybe see how a straight up transformer agent does? (No pointer pre-training)\n",
    "# - also, see if there's an explanation for why the big spikes in loss happen.\n"
   ]
  },
  {
   "cell_type": "code",
   "execution_count": null,
   "id": "c66eb80b-950e-44be-a397-8a2a3b091297",
   "metadata": {},
   "outputs": [],
   "source": []
  },
  {
   "cell_type": "code",
   "execution_count": null,
   "id": "1f2e480e-2136-4245-b624-9f87401d3295",
   "metadata": {},
   "outputs": [],
   "source": []
  },
  {
   "cell_type": "code",
   "execution_count": null,
   "id": "6dca8ad2-dd70-4430-8032-f2486880218e",
   "metadata": {},
   "outputs": [],
   "source": []
  },
  {
   "cell_type": "code",
   "execution_count": 2,
   "id": "21d41aae-4bf4-430d-aa3c-9d07cfd520a2",
   "metadata": {},
   "outputs": [
    {
     "name": "stdout",
     "output_type": "stream",
     "text": [
      "using cuda\n"
     ]
    },
    {
     "name": "stderr",
     "output_type": "stream",
     "text": [
      "100%|████████████████████████████████████████████████████████████████████████████████████| 1/1 [00:01<00:00,  1.72s/it]\n"
     ]
    },
    {
     "data": {
      "image/png": "[encoded data removed]",
      "text/plain": [
       "<Figure size 640x480 with 1 Axes>"
      ]
     },
     "metadata": {},
     "output_type": "display_data"
    }
   ],
   "source": [
    "from dominoes.transformers import PointerNetwork\n",
    "\n",
    "device = 'cuda' if torch.cuda.is_available() else 'cpu'\n",
    "print(\"using\", device)\n",
    "\n",
    "highestDominoe = 9\n",
    "listDominoes = df.listDominoes(highestDominoe)\n",
    "dominoeValue = np.sum(listDominoes, axis=1)\n",
    "\n",
    "def dominoeBatch(batchSize, seqLength, listDominoes, dominoeValue, highestDominoe):\n",
    "    numDominoes = len(listDominoes)\n",
    "    input_dim = 2*(highestDominoe+1)\n",
    "\n",
    "    # select list of seqLength dominoes\n",
    "    selection = np.stack([np.random.choice(numDominoes, seqLength, replace=False).tolist() for _ in range(batchSize)])\n",
    "    value = dominoeValue[selection]\n",
    "    sortIdx = [sorted(range(len(val)), key=lambda i : -val[i]) for val in value] # sort dominoes by value in decreasing order\n",
    "    target = torch.stack([torch.LongTensor(idx) for idx in sortIdx])\n",
    "    \n",
    "    firstValue = torch.tensor(listDominoes[selection,0], dtype=torch.int64).unsqueeze(2)\n",
    "    secondValue = torch.tensor(listDominoes[selection,1], dtype=torch.int64).unsqueeze(2) + highestDominoe+1\n",
    "\n",
    "    input = torch.zeros((batchSize, seqLength, input_dim), dtype=torch.float)\n",
    "    input.scatter_(2, firstValue, torch.ones_like(firstValue, dtype=torch.float))\n",
    "    input.scatter_(2, secondValue, torch.ones_like(secondValue, dtype=torch.float))\n",
    "\n",
    "    return input, target\n",
    "    \n",
    "\n",
    "def getBatch(batchSize, seqLength, input_dim):\n",
    "    assert input_dim >= seqLength, \"if input dim is less than seq length, some elements will be the same\"\n",
    "    \n",
    "    seqs = [np.random.choice(np.arange(0, input_dim), seqLength, replace=False).tolist() for _ in range(batchSize)]\n",
    "    labels = [sorted(range(len(seq)), key=seq.__getitem__) for seq in seqs]\n",
    "    row_col_index = [list(zip(*[(i, num) for i, num in enumerate(seq)])) for seq in seqs]\n",
    "    num_values = [len(rci[0]) for rci in row_col_index]\n",
    "\n",
    "    i = [torch.LongTensor(rci) for rci in row_col_index]\n",
    "    v = [torch.FloatTensor([1]*nv) for nv in num_values]\n",
    "    input = torch.stack([torch.sparse.FloatTensor(i, v, torch.Size([seqLength, input_dim])).to_dense() for i, v in zip(i, v)])\n",
    "    target = torch.stack([torch.LongTensor(label) for label in labels])\n",
    "    \n",
    "    return input, target\n",
    "\n",
    "def oldBatchMethod(batchSize, seqLength, input_dim, offset=1):\n",
    "    target = torch.stack([torch.randperm(seqLength) for _ in range(batchSize)])\n",
    "    input = torch.zeros((batchSize, seqLength, input_dim))\n",
    "    input[target]=target\n",
    "    input = torch.stack([torch.ones((seqLength,input_dim))*t.unsqueeze(1) for t in target])\n",
    "    return input, target\n",
    "\n",
    "\n",
    "minSeqLength = 4\n",
    "maxSeqLength = 12\n",
    "batchSize = 512\n",
    "def seqLength(): return np.random.randint(minSeqLength, maxSeqLength+1)\n",
    "input_dim = 2*(highestDominoe+1)\n",
    "embedding_dim = 48\n",
    "heads = 4\n",
    "encoding_layers = 1\n",
    "greedy = False\n",
    "numEpochs = 1\n",
    "\n",
    "# Create network\n",
    "pnet = PointerNetwork(input_dim, embedding_dim, encoding_layers=encoding_layers, heads=heads, kqnorm=True, decode_with_gru=False, greedy=True)\n",
    "pnet = pnet.to(device)\n",
    "\n",
    "# Create optimizer\n",
    "optimizer = torch.optim.Adam(pnet.parameters(), lr=1e-3, weight_decay=1e-5)\n",
    "\n",
    "# Train network\n",
    "trainSeqLength = torch.zeros(numEpochs)\n",
    "trainLoss = torch.zeros(numEpochs)\n",
    "errorByPosition = [None]*numEpochs\n",
    "for epoch in tqdm(range(numEpochs)):\n",
    "    pnet.train()\n",
    "\n",
    "    # input, target = getBatch(batchSize, seqLength, input_dim)\n",
    "    cSeqLength = seqLength()\n",
    "    input, target = dominoeBatch(batchSize, cSeqLength, listDominoes, dominoeValue, highestDominoe)\n",
    "    input, target = input.to(device), target.to(device)\n",
    "\n",
    "    optimizer.zero_grad()\n",
    "    log_scores, choices = pnet(input)\n",
    "    \n",
    "    unrolled = log_scores.view(-1, log_scores.size(-1))\n",
    "    loss = torch.nn.functional.nll_loss(unrolled, target.view(-1))\n",
    "    assert not np.isnan(loss.item()), \"model diverged :(\"\n",
    "\n",
    "    loss.backward()\n",
    "    optimizer.step()\n",
    "\n",
    "    t = torch.gather(unrolled, dim=1, index=target.view(-1).unsqueeze(-1)).cpu().detach().view(batchSize, cSeqLength)\n",
    "    m = torch.max(unrolled, dim=1)[0].cpu().detach().view(batchSize, cSeqLength)\n",
    "    errorByPosition[epoch] = torch.mean(m-t,dim=0)\n",
    "    trainLoss[epoch] = loss.item()\n",
    "    trainSeqLength[epoch] = cSeqLength\n",
    "    \n",
    "plt.close('all')\n",
    "plt.plot(range(numEpochs), trainLoss)\n",
    "plt.show()"
   ]
  },
  {
   "cell_type": "code",
   "execution_count": null,
   "id": "5b5dba2c-cc35-438e-ac68-01a958b67baa",
   "metadata": {},
   "outputs": [],
   "source": []
  },
  {
   "cell_type": "code",
   "execution_count": null,
   "id": "36019271-46e5-4367-b1f8-959038c87766",
   "metadata": {},
   "outputs": [],
   "source": []
  },
  {
   "cell_type": "code",
   "execution_count": null,
   "id": "03917358-ea85-41d8-bff6-ff12c0bff394",
   "metadata": {},
   "outputs": [],
   "source": []
  },
  {
   "cell_type": "code",
   "execution_count": null,
   "id": "0e146200-6044-42cc-9060-dc3c52402a82",
   "metadata": {},
   "outputs": [],
   "source": []
  },
  {
   "cell_type": "code",
   "execution_count": null,
   "id": "a8b9aef7-c264-4c20-8e13-e5d0d092038b",
   "metadata": {},
   "outputs": [],
   "source": []
  },
  {
   "cell_type": "code",
   "execution_count": null,
   "id": "e457d6b0-d412-4d79-bc08-e84b6f0dfc4e",
   "metadata": {},
   "outputs": [],
   "source": []
  },
  {
   "cell_type": "code",
   "execution_count": null,
   "id": "ad63045c-1955-46e1-9c3c-386fa306422c",
   "metadata": {},
   "outputs": [],
   "source": []
  },
  {
   "cell_type": "code",
   "execution_count": null,
   "id": "c266d988-d285-4377-8d4e-894126f903e3",
   "metadata": {},
   "outputs": [],
   "source": []
  },
  {
   "cell_type": "code",
   "execution_count": null,
   "id": "01b99332-bc6e-4312-927b-fee7c88df6b5",
   "metadata": {},
   "outputs": [],
   "source": []
  },
  {
   "cell_type": "code",
   "execution_count": null,
   "id": "84366927-0fc9-44a6-8f99-c18f3c77e7ba",
   "metadata": {},
   "outputs": [],
   "source": []
  },
  {
   "cell_type": "code",
   "execution_count": null,
   "id": "79956774-fef2-40cc-a366-4431b5671327",
   "metadata": {},
   "outputs": [],
   "source": []
  },
  {
   "cell_type": "code",
   "execution_count": null,
   "id": "a4d9fb12-a89a-4c87-b5ce-e3ee61738899",
   "metadata": {},
   "outputs": [],
   "source": []
  },
  {
   "cell_type": "code",
   "execution_count": null,
   "id": "5c90df6a-0207-4b57-af72-7ab1dff07337",
   "metadata": {},
   "outputs": [],
   "source": []
  },
  {
   "cell_type": "code",
   "execution_count": null,
   "id": "b940550c-ffcc-465f-baba-bba8f45139b3",
   "metadata": {},
   "outputs": [],
   "source": []
  },
  {
   "cell_type": "code",
   "execution_count": null,
   "id": "47e35543-4db2-49f0-96fc-d36859b5ffc9",
   "metadata": {},
   "outputs": [],
   "source": []
  },
  {
   "cell_type": "code",
   "execution_count": null,
   "id": "6d15ffd9-eed0-4f39-bb1d-a710d0019cc7",
   "metadata": {},
   "outputs": [],
   "source": []
  },
  {
   "cell_type": "code",
   "execution_count": null,
   "id": "5448cd0a-e7e7-440a-8aad-79033249be9e",
   "metadata": {},
   "outputs": [],
   "source": []
  },
  {
   "cell_type": "code",
   "execution_count": null,
   "id": "919df8bb-2db7-49fc-b740-578146182059",
   "metadata": {},
   "outputs": [],
   "source": []
  },
  {
   "cell_type": "code",
   "execution_count": null,
   "id": "d055259c-d643-4be2-aaee-c768c75e3e56",
   "metadata": {},
   "outputs": [],
   "source": []
  },
  {
   "cell_type": "code",
   "execution_count": null,
   "id": "ab299726-8d74-4c3d-80fc-fe1f23b71121",
   "metadata": {},
   "outputs": [],
   "source": []
  },
  {
   "cell_type": "code",
   "execution_count": null,
   "id": "ec629c8c-8757-4e44-beac-377f8535214a",
   "metadata": {},
   "outputs": [],
   "source": []
  },
  {
   "cell_type": "code",
   "execution_count": null,
   "id": "24f67250-5053-44f1-878a-2800904070d0",
   "metadata": {},
   "outputs": [],
   "source": []
  },
  {
   "cell_type": "markdown",
   "id": "8ffb2790-9c12-4ed3-a650-a0163e9a3526",
   "metadata": {},
   "source": [
    "## Below this point I'm including some code blocks that make inspection of the gameplay and agent status easy... "
   ]
  },
  {
   "cell_type": "code",
   "execution_count": 217,
   "id": "ff4c26a2-a5a8-410d-9795-b88680257fd7",
   "metadata": {},
   "outputs": [
    {
     "name": "stdout",
     "output_type": "stream",
     "text": [
      "[[ 5  0 13  7]\n",
      " [ 5 11  0  6]\n",
      " [ 6  0 49 18]\n",
      " [ 7 39 29  0]\n",
      " [11 33 20  0]\n",
      " [ 6  2 26  0]\n",
      " [19 23 17  0]\n",
      " [ 0  3 24  7]\n",
      " [23 19  0  6]\n",
      " [ 7 24 40  0]]\n",
      "[ 89 154 218  44]\n",
      "The current winner is agent: 3 with a score of 44!\n"
     ]
    }
   ],
   "source": [
    "numPlayers = 4\n",
    "highestDominoe = 9\n",
    "game = dg.dominoeGame(highestDominoe, agents=(da.doubleAgent, da.greedyAgent, da.dominoeAgent, da.bestLineAgent))\n",
    "game.playGame()\n",
    "game.printResults()"
   ]
  },
  {
   "cell_type": "code",
   "execution_count": 213,
   "id": "6927abd1-4d39-4ad4-9a40-c33a000f8692",
   "metadata": {},
   "outputs": [
    {
     "name": "stdout",
     "output_type": "stream",
     "text": [
      "player 0:  [' 0|8 ', ' 8|4 ', ' 4|5 ', ' 5|9 ', ' 9|9 ', ' 9|4 ', ' 4|6 ', ' 6|5 ', ' 5|3 ', ' 3|4 ', ' 4|2 ']\n",
      "player 1:  [' 0|5 ', ' 5|7 ', ' 7|3 ', ' 3|3 ', ' 3|6 ', ' 6|0 ', ' 0|3 ', ' 3|2 ']\n",
      "player 2:  [' 0|9 ', ' 9|8 ', ' 8|3 ', ' 3|9 ', ' 9|7 ', ' 7|2 ', ' 2|5 ', ' 5|1 ', ' 1|0 ', ' 0|2 ', ' 2|8 ']\n",
      "player 3:  [' 0|7 ', ' 7|7 ', ' 7|8 ', ' 8|8 ', ' 8|5 ', ' 5|5 ']\n",
      "dummy:  [' 0|4 ', ' 4|4 ', ' 4|7 ', ' 7|6 ', ' 6|9 ', ' 9|2 ', ' 2|1 ', ' 1|1 ', ' 1|8 ', ' 8|6 ', ' 6|1 ', ' 1|9 ']\n"
     ]
    }
   ],
   "source": [
    "df.gameSequenceToString(game.dominoes, game.lineSequence, game.linePlayDirection, player=None, playNumber=None, labelLines=True) #player=game.linePlayer, playNumber=game.linePlayNumber)\n",
    "df.gameSequenceToString(game.dominoes, game.dummySequence, game.dummyPlayDirection, player=None, playNumber=None, labelLines=True) #player=game.linePlayer, playNumber=game.linePlayNumber)"
   ]
  },
  {
   "cell_type": "code",
   "execution_count": null,
   "id": "88659a32-48a5-4798-8fb3-ab6c7af776ef",
   "metadata": {},
   "outputs": [],
   "source": []
  },
  {
   "cell_type": "code",
   "execution_count": null,
   "id": "a967fd80-e15f-4872-bdea-365417cb5a3e",
   "metadata": {},
   "outputs": [],
   "source": []
  },
  {
   "cell_type": "code",
   "execution_count": null,
   "id": "0b1e9dce-10a7-4ba4-970e-51adf826e08f",
   "metadata": {},
   "outputs": [],
   "source": []
  },
  {
   "cell_type": "code",
   "execution_count": 195,
   "id": "6f8fa238-52ca-4b98-b287-1a9d283e1c51",
   "metadata": {},
   "outputs": [
    {
     "name": "stdout",
     "output_type": "stream",
     "text": [
      "[' 9|7 ', ' 7|8 ', ' 8|5 ', ' 5|5 ']\n",
      "[' 9|3 ', ' 3|3 ', ' 3|5 ', ' 5|7 ']\n",
      "[' 9|8 ', ' 8|0 ', ' 0|1 ', ' 1|7 ', ' 7|4 ', ' 4|6 ', ' 6|9 ', ' 9|1 ', ' 1|5 ', ' 5|4 ', ' 4|2 ', ' 2|7 ', ' 7|6 ', ' 6|8 ']\n",
      "[' 9|5 ', ' 5|6 ', ' 6|6 ', ' 6|0 ', ' 0|0 ', ' 0|9 ', ' 9|4 ', ' 4|8 ', ' 8|1 ']\n",
      "[' 9|2 ', ' 2|2 ', ' 2|0 ', ' 0|5 ', ' 5|2 ', ' 2|3 ', ' 3|8 ', ' 8|2 ', ' 2|6 ', ' 6|3 ', ' 3|4 ', ' 4|0 ', ' 0|3 ', ' 3|7 ', ' 7|7 ', ' 7|0 ']\n"
     ]
    }
   ],
   "source": [
    "numPlayers = 4\n",
    "highestDominoe = 9\n",
    "game = dg.dominoeGame(highestDominoe, agents=(da.doubleAgent, da.greedyAgent, None, da.stupidAgent))\n",
    "game.playHand()\n",
    "df.gameSequenceToString(game.dominoes, game.lineSequence, game.linePlayDirection, player=None, playNumber=None) #player=game.linePlayer, playNumber=game.linePlayNumber)\n",
    "df.gameSequenceToString(game.dominoes, game.dummySequence, game.dummyPlayDirection, player=None, playNumber=None) #player=game.linePlayer, playNumber=game.linePlayNumber)"
   ]
  },
  {
   "cell_type": "code",
   "execution_count": 449,
   "id": "1d0ae873-32f9-4a21-9724-741e666c36b7",
   "metadata": {},
   "outputs": [
    {
     "name": "stdout",
     "output_type": "stream",
     "text": [
      "line 0: []\n",
      "line 1: []\n",
      "line 2: []\n",
      "line 3: []\n",
      "dummy: []\n",
      "Dominoe: None, Location: None\n"
     ]
    }
   ],
   "source": [
    "# Example of options list for current game (requires game.initializeHand() and game.presentGameState() to be run)\n",
    "lineOptions, dummyOptions = game.agents[0].playOptions()\n",
    "df.printDominoeList(lineOptions, game.agents[0].dominoes, name='line')\n",
    "df.printDominoeList(dummyOptions, game.agents[0].dominoes, name='dummy:')\n",
    "dominoe, location = game.agents[0].selectPlay()\n",
    "print(f\"Dominoe: {dominoe}, Location: {location}\")"
   ]
  },
  {
   "cell_type": "code",
   "execution_count": 207,
   "id": "81fa6014-2a23-40f7-9955-d7f4ee1dc486",
   "metadata": {},
   "outputs": [
    {
     "data": {
      "text/plain": [
       "[[], [], [1], []]"
      ]
     },
     "execution_count": 207,
     "metadata": {},
     "output_type": "execute_result"
    }
   ],
   "source": [
    "# game details\n",
    "game.lineSequence"
   ]
  },
  {
   "cell_type": "code",
   "execution_count": 159,
   "id": "969bb5b6-46c8-4c45-acfd-d4dd83f1c3cd",
   "metadata": {},
   "outputs": [
    {
     "name": "stderr",
     "output_type": "stream",
     "text": [
      "100%|███████████████████████████████████████████████████████████████████████| 1000000/1000000 [24:04<00:00, 692.50it/s]\n"
     ]
    },
    {
     "name": "stdout",
     "output_type": "stream",
     "text": [
      "1.4527309322357178\n"
     ]
    },
    {
     "data": {
      "text/plain": [
       "[<matplotlib.lines.Line2D at 0x200c936a130>]"
      ]
     },
     "execution_count": 159,
     "metadata": {},
     "output_type": "execute_result"
    },
    {
     "data": {
      "image/png": "[encoded data removed]",
      "text/plain": [
       "<Figure size 700x300 with 2 Axes>"
      ]
     },
     "metadata": {},
     "output_type": "display_data"
    }
   ],
   "source": [
    "# create random game states and then train a network to predict current hand score...\n",
    "def generateRandomHand(dominoes, numDominoes, numPlayers, verboseOutput=False):\n",
    "    numInHands = np.random.randint(numDominoes+1)\n",
    "    idxInHands = np.random.choice(numDominoes,numInHands,replace=False)\n",
    "    handIdx = np.random.randint(0, numPlayers, numInHands)\n",
    "    played = np.full(numDominoes, True)\n",
    "    myHand = np.full(numDominoes, False)\n",
    "    otherHands = np.full(numDominoes, False)\n",
    "    played[idxInHands]=False\n",
    "    myHand[idxInHands[handIdx==0]] = True\n",
    "    otherHands[idxInHands[handIdx>0]] = True\n",
    "    myHandValue = np.sum(dominoes[myHand])\n",
    "    otherHandValue = np.sum(dominoes[otherHands])\n",
    "    if verboseOutput:\n",
    "        return played, myHand, otherHands, myHandValue, otherHandValue\n",
    "    networkInput = (np.concatenate((played, myHand))*1)\n",
    "    networkOutput = np.array([myHandValue, otherHandValue])\n",
    "    # networkInput = np.concatenate((np.sum(dominoes.T * played, axis=0), np.sum(dominoes.T * myHand, axis=0)))\n",
    "    return networkInput, networkOutput\n",
    "\n",
    "# played, myHand, otherHands, myHandValue, otherHandValue = generateRandomHand(dominoes, numDominoes, numPlayers, verboseOutput=True)\n",
    "networkInput, networkOutput = generateRandomHand(dominoes, numDominoes, numPlayers)\n",
    "\n",
    "numPlayers = 3\n",
    "highestDominoe = 9\n",
    "numDominoes = df.numberDominoes(highestDominoe)\n",
    "dominoes = df.listDominoes(highestDominoe)\n",
    "\n",
    "handValueNetwork = dn.handValueNetwork(numPlayers,numDominoes,highestDominoe)\n",
    "handValueNetwork.to(device)\n",
    "\n",
    "numIterations = 1000000\n",
    "target = np.zeros((numIterations, 2))\n",
    "pred = np.zeros((numIterations, 2))\n",
    "storeLoss = np.zeros(numIterations)\n",
    "\n",
    "lossFunction = nn.L1Loss()\n",
    "# optimizer = torch.optim.SGD(handValueNetwork.parameters(), lr=1e-2, momentum=0.5)\n",
    "optimizer = torch.optim.Adadelta(handValueNetwork.parameters())\n",
    "\n",
    "for ii in tqdm(range(numIterations)):\n",
    "    networkInput, networkOutput = generateRandomHand(dominoes, numDominoes, numPlayers)\n",
    "    target[ii] = np.copy(networkOutput)\n",
    "    \n",
    "    networkInput = torch.tensor(networkInput).to(device).float()\n",
    "    networkOutput = torch.tensor(networkOutput).to(device).float()\n",
    "    \n",
    "    output = handValueNetwork(networkInput)\n",
    "    \n",
    "    loss = lossFunction(output, networkOutput)\n",
    "    loss.backward()\n",
    "    optimizer.step()\n",
    "    optimizer.zero_grad()\n",
    "    \n",
    "    storeLoss[ii] = loss.item()\n",
    "    pred[ii] = output.detach().cpu().numpy()\n",
    "    \n",
    "print(np.mean(storeLoss[-100:]))\n",
    "fig,ax = plt.subplots(1,2,figsize=(7,3))\n",
    "ax[0].plot(range(numIterations), storeLoss, linewidth=0.5)\n",
    "ax[1].plot(range(numIterations), pred[:,0]-target[:,0])"
   ]
  },
  {
   "cell_type": "code",
   "execution_count": null,
   "id": "94e4ed9f-c61e-4e19-9235-6e2ec58a5b57",
   "metadata": {},
   "outputs": [],
   "source": [
    "# Example of options list for current game (requires game.initializeHand() and game.presentGameState() to be run)\n",
    "print(f\"Line available: {game.available}, dummy available: {game.dummyAvailable}\")\n",
    "print(f\"Penny-up: {game.cantPlay}, dummy playable: {game.dummyPlayable}\")\n",
    "print(f\"Hand-size: {game.handSize}, manualHandSize: {[len(agent.myHand) for agent in game.agents]}\")\n",
    "print(\"\")\n",
    "game.agents[game.nextPlayer].gameState(game.played, game.available, game.handSize, game.cantPlay, game.didntPlay, game.turnCounter, game.dummyAvailable, game.dummyPlayable)\n",
    "lineOptions, dummyOptions = game.agents[game.nextPlayer].playOptions()\n",
    "df.printDominoeList(lineOptions, game.agents[game.nextPlayer].dominoes, name='line')\n",
    "df.printDominoeList(dummyOptions, game.agents[game.nextPlayer].dominoes, name='dummy:')\n",
    "dominoe, location = game.agents[game.nextPlayer].selectPlay()\n",
    "if dominoe is not None:\n",
    "    print(f\"~{game.agents[game.nextPlayer].agentName}~ agent played dominoe: {dominoe}: {df.dominoesString(game.dominoes[dominoe])} on location: {location}.\")\n",
    "else:\n",
    "    print(f\"~{game.agents[game.nextPlayer].agentName}~ agent could not play!\")\n",
    "game.doTurn()"
   ]
  },
  {
   "cell_type": "code",
   "execution_count": null,
   "id": "80913481-af53-4d8a-92b8-7916242d3f39",
   "metadata": {},
   "outputs": [],
   "source": []
  },
  {
   "cell_type": "code",
   "execution_count": 206,
   "id": "c947dee2-46c9-44cb-9c78-70672a46614d",
   "metadata": {},
   "outputs": [
    {
     "name": "stdout",
     "output_type": "stream",
     "text": [
      "hello\n"
     ]
    }
   ],
   "source": [
    "print(\"hello\")"
   ]
  },
  {
   "cell_type": "code",
   "execution_count": null,
   "id": "045c0d34-f13e-4694-9890-40e6b5c54b5d",
   "metadata": {},
   "outputs": [],
   "source": []
  }
 ],
 "metadata": {
  "kernelspec": {
   "display_name": "Python 3 (ipykernel)",
   "language": "python",
   "name": "python3"
  },
  "language_info": {
   "codemirror_mode": {
    "name": "ipython",
    "version": 3
   },
   "file_extension": ".py",
   "mimetype": "text/x-python",
   "name": "python",
   "nbconvert_exporter": "python",
   "pygments_lexer": "ipython3",
   "version": "3.9.17"
  }
 },
 "nbformat": 4,
 "nbformat_minor": 5
}
