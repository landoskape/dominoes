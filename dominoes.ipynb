{
 "cells": [
  {
   "cell_type": "code",
   "execution_count": 271,
   "id": "6d4d84df-c50a-4eb1-88b3-3ba6b1ef7887",
   "metadata": {},
   "outputs": [],
   "source": [
    "# some ideas just for curiosity:\n",
    "# - could train an RL model to predict what dominoes are in other agents hands based on what has been played, their line, and what is available...\n",
    "# - for hand-crafted networks, I wonder if graph theory methods can speed up the line-value estimation methods..."
   ]
  },
  {
   "cell_type": "code",
   "execution_count": 1,
   "id": "d743f019-bcc5-4c13-8aef-98e737e0747e",
   "metadata": {},
   "outputs": [
    {
     "name": "stdout",
     "output_type": "stream",
     "text": [
      "Using device: cuda\n"
     ]
    }
   ],
   "source": [
    "%reload_ext autoreload\n",
    "%autoreload 2\n",
    "\n",
    "from copy import copy\n",
    "import random\n",
    "import numpy as np\n",
    "import matplotlib.pyplot as plt\n",
    "import dominoesGameplay as dg\n",
    "import dominoesAgents as da\n",
    "import dominoesNetworks as dn\n",
    "import dominoesFunctions as df\n",
    "import fileManagement as fm\n",
    "from tqdm import tqdm\n",
    "import torch\n",
    "import torchvision.transforms as transforms\n",
    "import torch.nn as nn\n",
    "import torch.nn.functional as F\n",
    "\n",
    "device = \"cuda\" if torch.cuda.is_available() else \"cpu\"\n",
    "print(f\"Using device: {device}\")"
   ]
  },
  {
   "cell_type": "code",
   "execution_count": 347,
   "id": "48c901ba-4294-4ff4-8d74-ae540752816a",
   "metadata": {},
   "outputs": [],
   "source": [
    "# Code Reorganization:\n",
    "# - follow the DRY principle!\n",
    "# - think carefully about all the steps of running a game and make sure this is efficient\n",
    "# - create a smarter system for managing agents so it's easy to pass learned network parameters to each agent\n",
    "# - I should create a \"TD-Lambda\" agent superclass that is a subclass of dominoeAgents. Many functions are identical (for example, pre/post state value estimate & updates)\n",
    "\n",
    "# Modified Agent Idea: \n",
    "# - I also think I should also create a line value agent that can learn how to modify the ancillary parameters -- e.g. the discounting and temperature parameters. \n",
    "\n",
    "# Specific Updates to Value Agents --\n",
    "# - I don't think I need to estimate pre/post states every play. This will save so much computation time, and may even be easier for the agents to learn. \n",
    "# - However, there needs to be an additional function run at the end of each game that provides reward feedback for the final TD-Lambda step at the end of the game.\n",
    "\n",
    "\n",
    "# I think after checking that not estimating pre/post states every play works, I can start my blog post!!!\n",
    "# 1. Creating a system that plays dominoes\n",
    "# 2. Hand-crafted agents that play with specific rules\n",
    "# 3. Finding a way to represent the game-state in a way that can be fed to a neural network\n",
    "#    3.1 -- Simple networks can't learn how to do addition and biased subtraction...?\n",
    "# 4. Adding information to the game-state about possible line sequences for the network to use more information in deciding how to play\n",
    "# 5. Building a neural network that can outperform the line value networks without hand-crafted information (e.g. a Transformer)"
   ]
  },
  {
   "cell_type": "code",
   "execution_count": 165,
   "id": "4363a436-9595-43ec-9000-14d6597aa391",
   "metadata": {},
   "outputs": [
    {
     "name": "stderr",
     "output_type": "stream",
     "text": [
      "100%|██████████████████████████████████████████████████████████████████████████████| 1000/1000 [00:21<00:00, 46.92it/s]\n"
     ]
    }
   ],
   "source": [
    "numPlayers = 4\n",
    "highestDominoe = 9\n",
    "numRounds = 1000\n",
    "game = dg.dominoeGame(highestDominoe, numPlayers=numPlayers,  agents=(da.bestLineAgent, da.doubleAgent, da.greedyAgent, da.stupidAgent), device=device)\n",
    "game.playGame(rounds=numRounds,withUpdates=True)"
   ]
  },
  {
   "cell_type": "code",
   "execution_count": 166,
   "id": "e6e8c5ed-c559-4ec1-b014-93f227ecdcb1",
   "metadata": {},
   "outputs": [
    {
     "name": "stdout",
     "output_type": "stream",
     "text": [
      "0\n",
      "[ 7.297  9.658 12.239 26.239]\n"
     ]
    }
   ],
   "source": [
    "print(game.currentWinner)\n",
    "print(game.currentScore / numRounds)"
   ]
  },
  {
   "cell_type": "code",
   "execution_count": 158,
   "id": "541c580c-f2cd-4160-90eb-f41ac05ef26e",
   "metadata": {},
   "outputs": [
    {
     "name": "stdout",
     "output_type": "stream",
     "text": [
      "7.429575920104981e-05\n",
      "1.3712866938471637e-05\n",
      "3.413980128097773e-05\n",
      "9.372700797585069e-06\n"
     ]
    }
   ],
   "source": [
    "# print performance monitoring\n",
    "print(game.initHandTime[0]/game.initHandTime[1])\n",
    "print(game.presentGameStateTime[0]/game.presentGameStateTime[1])\n",
    "print(game.agentPlayTime[0]/game.agentPlayTime[1])\n",
    "print(game.processPlayTime[0]/game.processPlayTime[1])"
   ]
  },
  {
   "cell_type": "code",
   "execution_count": null,
   "id": "e4ef58a0-7c56-44ed-a40a-5cfd94533afb",
   "metadata": {},
   "outputs": [
    {
     "name": "stderr",
     "output_type": "stream",
     "text": [
      "  2%|█▋                                                                                | 2/100 [00:25<20:23, 12.48s/it]"
     ]
    }
   ],
   "source": [
    "# I'm pretty sure TD-Lambda is working now. So:\n",
    "# Start by loading up some agents, then run many many rounds\n",
    "# Let's use 1 value agent and 3 default agents\n",
    "# After many rounds (with learning), run a few more and measure performance. \n",
    "\n",
    "# initialize game, and create agents\n",
    "numPlayers = 4\n",
    "highestDominoe = 9\n",
    "game = dg.dominoeGameValueAgents(highestDominoe, numPlayers=numPlayers, agents=(da.lineValueAgent, da.greedyAgent, da.greedyAgent, da.greedyAgent), defaultAgent=da.dominoeAgent, device=device)\n",
    "\n",
    "# fileName = 'lineValueAgentParameters_230726.npy'\n",
    "# game.agents[0].loadAgentParameters(fm.savePath() / fileName)\n",
    "\n",
    "# run training rounds\n",
    "trainingGames = 100\n",
    "trainingRounds = 50\n",
    "trainingWinnerCount = np.zeros(numPlayers)\n",
    "trainingScoreTally = np.zeros((trainingGames,numPlayers))\n",
    "for gameIdx in tqdm(range(trainingGames)):\n",
    "    game.playGame(rounds=trainingRounds)\n",
    "    trainingWinnerCount[game.currentWinner] += 1\n",
    "    trainingScoreTally[gameIdx] += game.currentScore\n",
    "\n",
    "# measure performance\n",
    "performanceGames = 10\n",
    "performanceRounds = 50\n",
    "performanceWinnerCount = np.zeros(numPlayers)\n",
    "performanceScoreTally = np.zeros(numPlayers)\n",
    "for _ in tqdm(range(performanceGames)):\n",
    "    game.playGame(rounds=performanceRounds)\n",
    "    performanceWinnerCount[game.currentWinner] += 1 \n",
    "    performanceScoreTally += game.currentScore\n"
   ]
  },
  {
   "cell_type": "code",
   "execution_count": 346,
   "id": "14d02418-8f3b-4140-8af8-4cc47a7629c3",
   "metadata": {},
   "outputs": [
    {
     "name": "stdout",
     "output_type": "stream",
     "text": [
      "Games won: [10.  0.  0.  0.]\n",
      "Expected score per hand: [ 7.048 12.554 12.338 11.99 ]\n"
     ]
    },
    {
     "data": {
      "image/png": "[encoded data removed]",
      "text/plain": [
       "<Figure size 640x480 with 1 Axes>"
      ]
     },
     "metadata": {},
     "output_type": "display_data"
    }
   ],
   "source": [
    "print(f\"Games won: {performanceWinnerCount}\")\n",
    "print(f\"Expected score per hand: {performanceScoreTally / performanceGames / performanceRounds}\")\n",
    "c = ['r','g','b','k']\n",
    "for i in range(4):\n",
    "    plt.plot(range(trainingGames), trainingScoreTally[:,i]/trainingRounds, c=c[i])"
   ]
  },
  {
   "cell_type": "code",
   "execution_count": 331,
   "id": "c506ca18-411b-41ad-9e5b-b62a2c12b59d",
   "metadata": {},
   "outputs": [
    {
     "name": "stderr",
     "output_type": "stream",
     "text": [
      "100%|██████████████████████████████████████████████████████████████████████████████████| 10/10 [06:17<00:00, 37.79s/it]"
     ]
    },
    {
     "name": "stdout",
     "output_type": "stream",
     "text": [
      "Games won: [10.  0.  0.  0.]\n",
      "Expected score per hand: [ 6.94  12.822 11.996 12.03 ]\n"
     ]
    },
    {
     "name": "stderr",
     "output_type": "stream",
     "text": [
      "\n"
     ]
    }
   ],
   "source": [
    "numPlayers = 4\n",
    "highestDominoe = 9\n",
    "game2 = dg.dominoeGameValueAgents(highestDominoe, numPlayers=numPlayers, agents=(da.lineValueAgent, da.doubleAgent, da.doubleAgent, da.doubleAgent), defaultAgent=da.dominoeAgent, device=device)\n",
    "\n",
    "# load agent\n",
    "fileName = 'lineValueAgentParameters_230726.npy'\n",
    "game2.agents[0].loadAgentParameters(fm.savePath() / fileName)\n",
    "game2.agents[0].alpha = 0\n",
    "\n",
    "# measure performance\n",
    "performanceGames = 10\n",
    "performanceRounds = 50\n",
    "performanceWinnerCount = np.zeros(numPlayers)\n",
    "performanceScoreTally = np.zeros(numPlayers)\n",
    "for _ in tqdm(range(performanceGames)):\n",
    "    game2.playGame(rounds=performanceRounds)\n",
    "    performanceWinnerCount[game2.currentWinner] += 1 \n",
    "    performanceScoreTally += game2.currentScore\n",
    "\n",
    "print(f\"Games won: {performanceWinnerCount}\")\n",
    "print(f\"Expected score per hand: {performanceScoreTally / performanceGames / performanceRounds}\")"
   ]
  },
  {
   "cell_type": "code",
   "execution_count": 340,
   "id": "74d37d4a-16d9-4ec3-82f3-e1741b1f55c5",
   "metadata": {},
   "outputs": [],
   "source": [
    "game.agents[0].saveAgentParameters(fm.savePath())"
   ]
  },
  {
   "cell_type": "code",
   "execution_count": null,
   "id": "ad2d349d-26a2-42b2-932f-2fc2a05d651a",
   "metadata": {},
   "outputs": [],
   "source": []
  },
  {
   "cell_type": "code",
   "execution_count": null,
   "id": "c7fe9bb3-1fc6-40b4-b9db-1ccf0b3731d1",
   "metadata": {},
   "outputs": [],
   "source": []
  },
  {
   "cell_type": "code",
   "execution_count": 19,
   "id": "7a6095b1-753a-4e54-b275-ffce8ccccd4d",
   "metadata": {},
   "outputs": [],
   "source": [
    "numPlayers = 4\n",
    "highestDominoe = 9\n",
    "game = dg.dominoeGameValueAgents(highestDominoe, numPlayers=numPlayers,  defaultAgent=da.lineValueAgent, device=device)\n",
    "# game = dg.dominoeGameValueAgents(highestDominoe, numPlayers=numPlayers,  agents=(da.lineValueAgent, da.doubleAgent, da.greedyAgent, da.stupidAgent), device=device)\n",
    "game.initializeHand()"
   ]
  },
  {
   "cell_type": "code",
   "execution_count": null,
   "id": "0864cbb9-4386-4444-81e2-150149464ab0",
   "metadata": {},
   "outputs": [],
   "source": []
  },
  {
   "cell_type": "code",
   "execution_count": null,
   "id": "966fff65-d7b0-4d1b-9abd-00bb6dae0eb5",
   "metadata": {},
   "outputs": [],
   "source": []
  },
  {
   "cell_type": "code",
   "execution_count": null,
   "id": "ec1d5e5c-ab44-40f1-a372-305b21a7a2fa",
   "metadata": {},
   "outputs": [],
   "source": []
  },
  {
   "cell_type": "code",
   "execution_count": null,
   "id": "53e51acf-050b-40ca-933c-f3501d62d463",
   "metadata": {},
   "outputs": [],
   "source": []
  },
  {
   "cell_type": "code",
   "execution_count": null,
   "id": "2df8bed6-c877-46a1-a1fc-919648ef1b73",
   "metadata": {},
   "outputs": [],
   "source": []
  },
  {
   "cell_type": "code",
   "execution_count": null,
   "id": "47a673e6-7f82-470c-aa1d-1d0534b7f402",
   "metadata": {},
   "outputs": [],
   "source": []
  },
  {
   "cell_type": "code",
   "execution_count": null,
   "id": "c9d1c58c-fec0-4da5-85bd-c782d7363c43",
   "metadata": {},
   "outputs": [],
   "source": []
  },
  {
   "cell_type": "code",
   "execution_count": null,
   "id": "d1dfcbf7-ef10-4254-a31d-e9d82eeb62ed",
   "metadata": {},
   "outputs": [],
   "source": []
  },
  {
   "cell_type": "code",
   "execution_count": null,
   "id": "b6c05474-de04-44da-b64d-25f2ead02ed5",
   "metadata": {},
   "outputs": [],
   "source": []
  },
  {
   "cell_type": "code",
   "execution_count": null,
   "id": "ec8581d6-657d-467d-a215-e877c254b5bb",
   "metadata": {},
   "outputs": [],
   "source": []
  },
  {
   "cell_type": "code",
   "execution_count": 121,
   "id": "113c6782-1de5-44bc-b9ef-187ba9eedc0e",
   "metadata": {},
   "outputs": [
    {
     "name": "stderr",
     "output_type": "stream",
     "text": [
      "100%|████████████████████████████████████████████████████████████████████████████████| 100/100 [00:39<00:00,  2.51it/s]"
     ]
    },
    {
     "name": "stdout",
     "output_type": "stream",
     "text": [
      "[0.  0.4 0.  0.  0.6 0. ]\n",
      "[27.2 11.1 27.1 27.7 10.4 28.4]\n"
     ]
    },
    {
     "name": "stderr",
     "output_type": "stream",
     "text": [
      "\n"
     ]
    }
   ],
   "source": [
    "# test some variants of the best line agent against other agents\n",
    "numPlayers = 6\n",
    "highestDominoe = 12\n",
    "\n",
    "# agents = (da.stupidAgent, da.bestLineAgent, da.greedyAgent, da.doubleAgent, da.bestLineAgent, da.dominoeAgent)\n",
    "agents = (None, da.bestLineAgent, None, None, da.bestLineAgent, None)\n",
    "game = dg.dominoeGame(highestDominoe, numPlayers=numPlayers, agents=agents, defaultAgent=da.dominoeAgent)\n",
    "game.agents[1].inLineDiscount = 0.45\n",
    "game.agents[1].offLineDiscount = 0.7\n",
    "game.agents[4].inLineDiscount = 0.9\n",
    "game.agents[4].offLineDiscount = 0.7\n",
    "\n",
    "# measure performance\n",
    "numGames = 100\n",
    "numRounds = highestDominoe+1\n",
    "winnerCount = np.zeros(numPlayers)\n",
    "scoreTally = np.zeros(numPlayers)\n",
    "for _ in tqdm(range(numGames)):\n",
    "    game.playGame(rounds=numRounds)\n",
    "    winnerCount[game.currentWinner] += 1 \n",
    "    scoreTally += game.currentScore\n",
    "print(np.round(1000*winnerCount/numGames)/1000)\n",
    "print(np.round(10*scoreTally / numRounds / numGames)/10)"
   ]
  },
  {
   "cell_type": "code",
   "execution_count": null,
   "id": "f310c5e8-3111-4927-bec8-c0b3e6b8036d",
   "metadata": {},
   "outputs": [],
   "source": []
  },
  {
   "cell_type": "code",
   "execution_count": null,
   "id": "75301cda-befd-42db-9d7e-63ab61f3cd03",
   "metadata": {},
   "outputs": [],
   "source": []
  },
  {
   "cell_type": "code",
   "execution_count": null,
   "id": "5f23f761-cfa6-4058-a6fd-6dca23562a1d",
   "metadata": {},
   "outputs": [],
   "source": []
  },
  {
   "cell_type": "code",
   "execution_count": null,
   "id": "fea450c4-82d8-4961-a278-c634d330712b",
   "metadata": {},
   "outputs": [],
   "source": []
  },
  {
   "cell_type": "code",
   "execution_count": null,
   "id": "a319805a-a630-4f99-b4ca-699705b65dfc",
   "metadata": {},
   "outputs": [],
   "source": []
  },
  {
   "cell_type": "code",
   "execution_count": null,
   "id": "49eb08d1-67ea-417c-9e1a-c28d294803ce",
   "metadata": {},
   "outputs": [],
   "source": []
  },
  {
   "cell_type": "code",
   "execution_count": null,
   "id": "c86eea71-ae38-4115-b719-9062098cc22f",
   "metadata": {},
   "outputs": [],
   "source": []
  },
  {
   "cell_type": "code",
   "execution_count": null,
   "id": "19ee4df5-7ffe-45d8-b328-800d0bca1555",
   "metadata": {},
   "outputs": [],
   "source": []
  },
  {
   "cell_type": "code",
   "execution_count": null,
   "id": "e6184798-30b3-4d0f-9747-fb35591ef4c5",
   "metadata": {},
   "outputs": [],
   "source": []
  },
  {
   "cell_type": "code",
   "execution_count": null,
   "id": "b1256a21-bdac-4bde-a182-b63c2c2aa63a",
   "metadata": {},
   "outputs": [],
   "source": []
  },
  {
   "cell_type": "code",
   "execution_count": null,
   "id": "e1a390bb-8f4e-4d46-a343-0cf538f3c654",
   "metadata": {},
   "outputs": [],
   "source": []
  },
  {
   "cell_type": "code",
   "execution_count": null,
   "id": "6044a8b6-7f5c-4785-aa32-857f4787e437",
   "metadata": {},
   "outputs": [],
   "source": []
  },
  {
   "cell_type": "code",
   "execution_count": null,
   "id": "dc1249fe-ecd6-4359-ae1c-2e6ca21b572f",
   "metadata": {},
   "outputs": [],
   "source": []
  },
  {
   "cell_type": "code",
   "execution_count": null,
   "id": "5d0ba4f5-1c48-405a-9348-c1eed145de08",
   "metadata": {},
   "outputs": [],
   "source": []
  },
  {
   "cell_type": "code",
   "execution_count": null,
   "id": "91ec7c12-8e33-46a6-9bd5-84acde21c7ad",
   "metadata": {},
   "outputs": [],
   "source": []
  },
  {
   "cell_type": "code",
   "execution_count": null,
   "id": "0682f177-c00a-4c77-891f-51135a964fd3",
   "metadata": {},
   "outputs": [],
   "source": []
  },
  {
   "cell_type": "code",
   "execution_count": null,
   "id": "da87acaf-c55b-4df2-8a5b-344056028ec9",
   "metadata": {},
   "outputs": [],
   "source": []
  },
  {
   "cell_type": "code",
   "execution_count": null,
   "id": "745ebcdc-410a-4d5f-b04c-f2409867220c",
   "metadata": {},
   "outputs": [],
   "source": []
  },
  {
   "cell_type": "code",
   "execution_count": null,
   "id": "a0aaa65d-13ae-4eec-a60f-cc5e27ce584b",
   "metadata": {},
   "outputs": [],
   "source": []
  },
  {
   "cell_type": "code",
   "execution_count": null,
   "id": "97923485-7874-4cad-a91a-f1ca24bd89e6",
   "metadata": {},
   "outputs": [],
   "source": []
  },
  {
   "cell_type": "code",
   "execution_count": null,
   "id": "daa86cec-cd20-4347-96fb-465a5e7673dd",
   "metadata": {},
   "outputs": [],
   "source": []
  },
  {
   "cell_type": "code",
   "execution_count": null,
   "id": "db7edc2d-4d75-487f-bf4e-388f8b818f41",
   "metadata": {},
   "outputs": [],
   "source": []
  },
  {
   "cell_type": "code",
   "execution_count": null,
   "id": "b7a87758-c441-4794-8873-085b694704ab",
   "metadata": {},
   "outputs": [],
   "source": []
  },
  {
   "cell_type": "code",
   "execution_count": null,
   "id": "db5e1c23-13bb-43d2-96f4-d9b8d7cd91b9",
   "metadata": {},
   "outputs": [],
   "source": []
  },
  {
   "cell_type": "code",
   "execution_count": null,
   "id": "455d5185-14e4-4dfc-88ef-0d7b3525d099",
   "metadata": {},
   "outputs": [],
   "source": []
  },
  {
   "cell_type": "code",
   "execution_count": null,
   "id": "d33216c5-ea67-4dc0-b7bd-1d4f54f0a109",
   "metadata": {},
   "outputs": [],
   "source": []
  },
  {
   "cell_type": "code",
   "execution_count": null,
   "id": "a34394ca-afce-4130-86d8-518de762430d",
   "metadata": {},
   "outputs": [],
   "source": []
  },
  {
   "cell_type": "code",
   "execution_count": null,
   "id": "1cf91de7-6d74-4ea7-bd4c-5957126a02f9",
   "metadata": {},
   "outputs": [],
   "source": []
  },
  {
   "cell_type": "markdown",
   "id": "8ffb2790-9c12-4ed3-a650-a0163e9a3526",
   "metadata": {},
   "source": [
    "## Below this point I'm including some code blocks that make inspection of the gameplay and agent status easy... "
   ]
  },
  {
   "cell_type": "code",
   "execution_count": 159,
   "id": "ff4c26a2-a5a8-410d-9795-b88680257fd7",
   "metadata": {},
   "outputs": [
    {
     "name": "stdout",
     "output_type": "stream",
     "text": [
      "[[  0  25  57  20]\n",
      " [130  97 129 123]\n",
      " [136 104 106 135]\n",
      " [118 118 140 107]\n",
      " [ 83 136 124 142]\n",
      " [127 127 113 120]\n",
      " [133 114 120 122]\n",
      " [119 151 134  87]\n",
      " [122 132 116 123]\n",
      " [119 110 133 133]]\n",
      "[1087 1114 1172 1112]\n",
      "The winner is agent: 0 with a score of 1087!\n"
     ]
    }
   ],
   "source": [
    "numPlayers = 4\n",
    "highestDominoe = 9\n",
    "game = dg.dominoeGame(highestDominoe, agents=(da.doubleAgent, da.greedyAgent, None, da.stupidAgent))\n",
    "game.playGame()\n",
    "game.printResults()"
   ]
  },
  {
   "cell_type": "code",
   "execution_count": 153,
   "id": "6f8fa238-52ca-4b98-b287-1a9d283e1c51",
   "metadata": {},
   "outputs": [
    {
     "name": "stdout",
     "output_type": "stream",
     "text": [
      "[' 9|7 ', ' 7|7 ', ' 7|5 ', ' 5|5 ', ' 5|4 ', ' 4|0 ', ' 0|0 ']\n",
      "[' 9|5 ', ' 5|6 ', ' 6|7 ', ' 7|8 ', ' 8|4 ', ' 4|7 ', ' 7|3 ', ' 3|8 ', ' 8|2 ', ' 2|4 ']\n",
      "[' 9|8 ', ' 8|0 ', ' 0|7 ', ' 7|1 ', ' 1|1 ', ' 1|5 ', ' 5|3 ', ' 3|2 ']\n",
      "[' 9|2 ', ' 2|6 ', ' 6|3 ', ' 3|0 ', ' 0|5 ', ' 5|8 ', ' 8|1 ']\n",
      "[' 9|6 ', ' 6|0 ', ' 0|9 ', ' 9|3 ', ' 3|3 ', ' 3|4 ', ' 4|4 ', ' 4|6 ', ' 6|6 ', ' 6|1 ', ' 1|4 ', ' 4|9 ', ' 9|1 ']\n"
     ]
    }
   ],
   "source": [
    "numPlayers = 4\n",
    "highestDominoe = 9\n",
    "game = dg.dominoeGame(highestDominoe, agents=(da.doubleAgent, da.greedyAgent, None, da.stupidAgent))\n",
    "game.playHand()\n",
    "df.gameSequenceToString(game.dominoes, game.lineSequence, game.linePlayDirection, player=None, playNumber=None) #player=game.linePlayer, playNumber=game.linePlayNumber)\n",
    "df.gameSequenceToString(game.dominoes, game.dummySequence, game.dummyPlayDirection, player=None, playNumber=None) #player=game.linePlayer, playNumber=game.linePlayNumber)"
   ]
  },
  {
   "cell_type": "code",
   "execution_count": 449,
   "id": "1d0ae873-32f9-4a21-9724-741e666c36b7",
   "metadata": {},
   "outputs": [
    {
     "name": "stdout",
     "output_type": "stream",
     "text": [
      "line 0: []\n",
      "line 1: []\n",
      "line 2: []\n",
      "line 3: []\n",
      "dummy: []\n",
      "Dominoe: None, Location: None\n"
     ]
    }
   ],
   "source": [
    "# Example of options list for current game (requires game.initializeHand() and game.presentGameState() to be run)\n",
    "lineOptions, dummyOptions = game.agents[0].playOptions()\n",
    "df.printDominoeList(lineOptions, game.agents[0].dominoes, name='line')\n",
    "df.printDominoeList(dummyOptions, game.agents[0].dominoes, name='dummy:')\n",
    "dominoe, location = game.agents[0].selectPlay()\n",
    "print(f\"Dominoe: {dominoe}, Location: {location}\")"
   ]
  },
  {
   "cell_type": "code",
   "execution_count": 207,
   "id": "81fa6014-2a23-40f7-9955-d7f4ee1dc486",
   "metadata": {},
   "outputs": [
    {
     "data": {
      "text/plain": [
       "[[], [], [1], []]"
      ]
     },
     "execution_count": 207,
     "metadata": {},
     "output_type": "execute_result"
    }
   ],
   "source": [
    "# game details\n",
    "game.lineSequence"
   ]
  },
  {
   "cell_type": "code",
   "execution_count": 159,
   "id": "969bb5b6-46c8-4c45-acfd-d4dd83f1c3cd",
   "metadata": {},
   "outputs": [
    {
     "name": "stderr",
     "output_type": "stream",
     "text": [
      "100%|███████████████████████████████████████████████████████████████████████| 1000000/1000000 [24:04<00:00, 692.50it/s]\n"
     ]
    },
    {
     "name": "stdout",
     "output_type": "stream",
     "text": [
      "1.4527309322357178\n"
     ]
    },
    {
     "data": {
      "text/plain": [
       "[<matplotlib.lines.Line2D at 0x200c936a130>]"
      ]
     },
     "execution_count": 159,
     "metadata": {},
     "output_type": "execute_result"
    },
    {
     "data": {
      "image/png": "[encoded data removed]",
      "text/plain": [
       "<Figure size 700x300 with 2 Axes>"
      ]
     },
     "metadata": {},
     "output_type": "display_data"
    }
   ],
   "source": [
    "# create random game states and then train a network to predict current hand score...\n",
    "def generateRandomHand(dominoes, numDominoes, numPlayers, verboseOutput=False):\n",
    "    numInHands = np.random.randint(numDominoes+1)\n",
    "    idxInHands = np.random.choice(numDominoes,numInHands,replace=False)\n",
    "    handIdx = np.random.randint(0, numPlayers, numInHands)\n",
    "    played = np.full(numDominoes, True)\n",
    "    myHand = np.full(numDominoes, False)\n",
    "    otherHands = np.full(numDominoes, False)\n",
    "    played[idxInHands]=False\n",
    "    myHand[idxInHands[handIdx==0]] = True\n",
    "    otherHands[idxInHands[handIdx>0]] = True\n",
    "    myHandValue = np.sum(dominoes[myHand])\n",
    "    otherHandValue = np.sum(dominoes[otherHands])\n",
    "    if verboseOutput:\n",
    "        return played, myHand, otherHands, myHandValue, otherHandValue\n",
    "    networkInput = (np.concatenate((played, myHand))*1)\n",
    "    networkOutput = np.array([myHandValue, otherHandValue])\n",
    "    # networkInput = np.concatenate((np.sum(dominoes.T * played, axis=0), np.sum(dominoes.T * myHand, axis=0)))\n",
    "    return networkInput, networkOutput\n",
    "\n",
    "# played, myHand, otherHands, myHandValue, otherHandValue = generateRandomHand(dominoes, numDominoes, numPlayers, verboseOutput=True)\n",
    "networkInput, networkOutput = generateRandomHand(dominoes, numDominoes, numPlayers)\n",
    "\n",
    "numPlayers = 3\n",
    "highestDominoe = 9\n",
    "numDominoes = df.numberDominoes(highestDominoe)\n",
    "dominoes = df.listDominoes(highestDominoe)\n",
    "\n",
    "handValueNetwork = dn.handValueNetwork(numPlayers,numDominoes,highestDominoe)\n",
    "handValueNetwork.to(device)\n",
    "\n",
    "numIterations = 1000000\n",
    "target = np.zeros((numIterations, 2))\n",
    "pred = np.zeros((numIterations, 2))\n",
    "storeLoss = np.zeros(numIterations)\n",
    "\n",
    "lossFunction = nn.L1Loss()\n",
    "# optimizer = torch.optim.SGD(handValueNetwork.parameters(), lr=1e-2, momentum=0.5)\n",
    "optimizer = torch.optim.Adadelta(handValueNetwork.parameters())\n",
    "\n",
    "for ii in tqdm(range(numIterations)):\n",
    "    networkInput, networkOutput = generateRandomHand(dominoes, numDominoes, numPlayers)\n",
    "    target[ii] = np.copy(networkOutput)\n",
    "    \n",
    "    networkInput = torch.tensor(networkInput).to(device).float()\n",
    "    networkOutput = torch.tensor(networkOutput).to(device).float()\n",
    "    \n",
    "    output = handValueNetwork(networkInput)\n",
    "    \n",
    "    loss = lossFunction(output, networkOutput)\n",
    "    loss.backward()\n",
    "    optimizer.step()\n",
    "    optimizer.zero_grad()\n",
    "    \n",
    "    storeLoss[ii] = loss.item()\n",
    "    pred[ii] = output.detach().cpu().numpy()\n",
    "    \n",
    "print(np.mean(storeLoss[-100:]))\n",
    "fig,ax = plt.subplots(1,2,figsize=(7,3))\n",
    "ax[0].plot(range(numIterations), storeLoss, linewidth=0.5)\n",
    "ax[1].plot(range(numIterations), pred[:,0]-target[:,0])"
   ]
  },
  {
   "cell_type": "code",
   "execution_count": null,
   "id": "94e4ed9f-c61e-4e19-9235-6e2ec58a5b57",
   "metadata": {},
   "outputs": [],
   "source": [
    "# Example of options list for current game (requires game.initializeHand() and game.presentGameState() to be run)\n",
    "print(f\"Line available: {game.available}, dummy available: {game.dummyAvailable}\")\n",
    "print(f\"Penny-up: {game.cantPlay}, dummy playable: {game.dummyPlayable}\")\n",
    "print(f\"Hand-size: {game.handSize}, manualHandSize: {[len(agent.myHand) for agent in game.agents]}\")\n",
    "print(\"\")\n",
    "game.agents[game.nextPlayer].gameState(game.played, game.available, game.handSize, game.cantPlay, game.didntPlay, game.turnCounter, game.dummyAvailable, game.dummyPlayable)\n",
    "lineOptions, dummyOptions = game.agents[game.nextPlayer].playOptions()\n",
    "df.printDominoeList(lineOptions, game.agents[game.nextPlayer].dominoes, name='line')\n",
    "df.printDominoeList(dummyOptions, game.agents[game.nextPlayer].dominoes, name='dummy:')\n",
    "dominoe, location = game.agents[game.nextPlayer].selectPlay()\n",
    "if dominoe is not None:\n",
    "    print(f\"~{game.agents[game.nextPlayer].agentName}~ agent played dominoe: {dominoe}: {df.dominoesString(game.dominoes[dominoe])} on location: {location}.\")\n",
    "else:\n",
    "    print(f\"~{game.agents[game.nextPlayer].agentName}~ agent could not play!\")\n",
    "game.doTurn()"
   ]
  },
  {
   "cell_type": "code",
   "execution_count": null,
   "id": "80913481-af53-4d8a-92b8-7916242d3f39",
   "metadata": {},
   "outputs": [],
   "source": []
  }
 ],
 "metadata": {
  "kernelspec": {
   "display_name": "Python 3 (ipykernel)",
   "language": "python",
   "name": "python3"
  },
  "language_info": {
   "codemirror_mode": {
    "name": "ipython",
    "version": 3
   },
   "file_extension": ".py",
   "mimetype": "text/x-python",
   "name": "python",
   "nbconvert_exporter": "python",
   "pygments_lexer": "ipython3",
   "version": "3.9.13"
  }
 },
 "nbformat": 4,
 "nbformat_minor": 5
}
